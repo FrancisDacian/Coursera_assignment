{
 "cells": [
  {
   "cell_type": "markdown",
   "metadata": {},
   "source": [
    "# Launch Turi Create"
   ]
  },
  {
   "cell_type": "code",
   "execution_count": 1,
   "metadata": {},
   "outputs": [],
   "source": [
    "import turicreate"
   ]
  },
  {
   "cell_type": "markdown",
   "metadata": {},
   "source": [
    "# Load house sales data"
   ]
  },
  {
   "cell_type": "code",
   "execution_count": 2,
   "metadata": {},
   "outputs": [],
   "source": [
    "sales = turicreate.SFrame('home_data.sframe')"
   ]
  },
  {
   "cell_type": "code",
   "execution_count": 3,
   "metadata": {},
   "outputs": [
    {
     "data": {
      "text/html": [
       "<div style=\"max-height:1000px;max-width:1500px;overflow:auto;\"><table frame=\"box\" rules=\"cols\">\n",
       "    <tr>\n",
       "        <th style=\"padding-left: 1em; padding-right: 1em; text-align: center\">id</th>\n",
       "        <th style=\"padding-left: 1em; padding-right: 1em; text-align: center\">date</th>\n",
       "        <th style=\"padding-left: 1em; padding-right: 1em; text-align: center\">price</th>\n",
       "        <th style=\"padding-left: 1em; padding-right: 1em; text-align: center\">bedrooms</th>\n",
       "        <th style=\"padding-left: 1em; padding-right: 1em; text-align: center\">bathrooms</th>\n",
       "        <th style=\"padding-left: 1em; padding-right: 1em; text-align: center\">sqft_living</th>\n",
       "        <th style=\"padding-left: 1em; padding-right: 1em; text-align: center\">sqft_lot</th>\n",
       "        <th style=\"padding-left: 1em; padding-right: 1em; text-align: center\">floors</th>\n",
       "        <th style=\"padding-left: 1em; padding-right: 1em; text-align: center\">waterfront</th>\n",
       "    </tr>\n",
       "    <tr>\n",
       "        <td style=\"padding-left: 1em; padding-right: 1em; text-align: center; vertical-align: top\">7129300520</td>\n",
       "        <td style=\"padding-left: 1em; padding-right: 1em; text-align: center; vertical-align: top\">2014-10-13 00:00:00+00:00</td>\n",
       "        <td style=\"padding-left: 1em; padding-right: 1em; text-align: center; vertical-align: top\">221900.0</td>\n",
       "        <td style=\"padding-left: 1em; padding-right: 1em; text-align: center; vertical-align: top\">3.0</td>\n",
       "        <td style=\"padding-left: 1em; padding-right: 1em; text-align: center; vertical-align: top\">1.0</td>\n",
       "        <td style=\"padding-left: 1em; padding-right: 1em; text-align: center; vertical-align: top\">1180.0</td>\n",
       "        <td style=\"padding-left: 1em; padding-right: 1em; text-align: center; vertical-align: top\">5650.0</td>\n",
       "        <td style=\"padding-left: 1em; padding-right: 1em; text-align: center; vertical-align: top\">1.0</td>\n",
       "        <td style=\"padding-left: 1em; padding-right: 1em; text-align: center; vertical-align: top\">0</td>\n",
       "    </tr>\n",
       "    <tr>\n",
       "        <td style=\"padding-left: 1em; padding-right: 1em; text-align: center; vertical-align: top\">6414100192</td>\n",
       "        <td style=\"padding-left: 1em; padding-right: 1em; text-align: center; vertical-align: top\">2014-12-09 00:00:00+00:00</td>\n",
       "        <td style=\"padding-left: 1em; padding-right: 1em; text-align: center; vertical-align: top\">538000.0</td>\n",
       "        <td style=\"padding-left: 1em; padding-right: 1em; text-align: center; vertical-align: top\">3.0</td>\n",
       "        <td style=\"padding-left: 1em; padding-right: 1em; text-align: center; vertical-align: top\">2.25</td>\n",
       "        <td style=\"padding-left: 1em; padding-right: 1em; text-align: center; vertical-align: top\">2570.0</td>\n",
       "        <td style=\"padding-left: 1em; padding-right: 1em; text-align: center; vertical-align: top\">7242.0</td>\n",
       "        <td style=\"padding-left: 1em; padding-right: 1em; text-align: center; vertical-align: top\">2.0</td>\n",
       "        <td style=\"padding-left: 1em; padding-right: 1em; text-align: center; vertical-align: top\">0</td>\n",
       "    </tr>\n",
       "    <tr>\n",
       "        <td style=\"padding-left: 1em; padding-right: 1em; text-align: center; vertical-align: top\">5631500400</td>\n",
       "        <td style=\"padding-left: 1em; padding-right: 1em; text-align: center; vertical-align: top\">2015-02-25 00:00:00+00:00</td>\n",
       "        <td style=\"padding-left: 1em; padding-right: 1em; text-align: center; vertical-align: top\">180000.0</td>\n",
       "        <td style=\"padding-left: 1em; padding-right: 1em; text-align: center; vertical-align: top\">2.0</td>\n",
       "        <td style=\"padding-left: 1em; padding-right: 1em; text-align: center; vertical-align: top\">1.0</td>\n",
       "        <td style=\"padding-left: 1em; padding-right: 1em; text-align: center; vertical-align: top\">770.0</td>\n",
       "        <td style=\"padding-left: 1em; padding-right: 1em; text-align: center; vertical-align: top\">10000.0</td>\n",
       "        <td style=\"padding-left: 1em; padding-right: 1em; text-align: center; vertical-align: top\">1.0</td>\n",
       "        <td style=\"padding-left: 1em; padding-right: 1em; text-align: center; vertical-align: top\">0</td>\n",
       "    </tr>\n",
       "    <tr>\n",
       "        <td style=\"padding-left: 1em; padding-right: 1em; text-align: center; vertical-align: top\">2487200875</td>\n",
       "        <td style=\"padding-left: 1em; padding-right: 1em; text-align: center; vertical-align: top\">2014-12-09 00:00:00+00:00</td>\n",
       "        <td style=\"padding-left: 1em; padding-right: 1em; text-align: center; vertical-align: top\">604000.0</td>\n",
       "        <td style=\"padding-left: 1em; padding-right: 1em; text-align: center; vertical-align: top\">4.0</td>\n",
       "        <td style=\"padding-left: 1em; padding-right: 1em; text-align: center; vertical-align: top\">3.0</td>\n",
       "        <td style=\"padding-left: 1em; padding-right: 1em; text-align: center; vertical-align: top\">1960.0</td>\n",
       "        <td style=\"padding-left: 1em; padding-right: 1em; text-align: center; vertical-align: top\">5000.0</td>\n",
       "        <td style=\"padding-left: 1em; padding-right: 1em; text-align: center; vertical-align: top\">1.0</td>\n",
       "        <td style=\"padding-left: 1em; padding-right: 1em; text-align: center; vertical-align: top\">0</td>\n",
       "    </tr>\n",
       "    <tr>\n",
       "        <td style=\"padding-left: 1em; padding-right: 1em; text-align: center; vertical-align: top\">1954400510</td>\n",
       "        <td style=\"padding-left: 1em; padding-right: 1em; text-align: center; vertical-align: top\">2015-02-18 00:00:00+00:00</td>\n",
       "        <td style=\"padding-left: 1em; padding-right: 1em; text-align: center; vertical-align: top\">510000.0</td>\n",
       "        <td style=\"padding-left: 1em; padding-right: 1em; text-align: center; vertical-align: top\">3.0</td>\n",
       "        <td style=\"padding-left: 1em; padding-right: 1em; text-align: center; vertical-align: top\">2.0</td>\n",
       "        <td style=\"padding-left: 1em; padding-right: 1em; text-align: center; vertical-align: top\">1680.0</td>\n",
       "        <td style=\"padding-left: 1em; padding-right: 1em; text-align: center; vertical-align: top\">8080.0</td>\n",
       "        <td style=\"padding-left: 1em; padding-right: 1em; text-align: center; vertical-align: top\">1.0</td>\n",
       "        <td style=\"padding-left: 1em; padding-right: 1em; text-align: center; vertical-align: top\">0</td>\n",
       "    </tr>\n",
       "    <tr>\n",
       "        <td style=\"padding-left: 1em; padding-right: 1em; text-align: center; vertical-align: top\">7237550310</td>\n",
       "        <td style=\"padding-left: 1em; padding-right: 1em; text-align: center; vertical-align: top\">2014-05-12 00:00:00+00:00</td>\n",
       "        <td style=\"padding-left: 1em; padding-right: 1em; text-align: center; vertical-align: top\">1225000.0</td>\n",
       "        <td style=\"padding-left: 1em; padding-right: 1em; text-align: center; vertical-align: top\">4.0</td>\n",
       "        <td style=\"padding-left: 1em; padding-right: 1em; text-align: center; vertical-align: top\">4.5</td>\n",
       "        <td style=\"padding-left: 1em; padding-right: 1em; text-align: center; vertical-align: top\">5420.0</td>\n",
       "        <td style=\"padding-left: 1em; padding-right: 1em; text-align: center; vertical-align: top\">101930.0</td>\n",
       "        <td style=\"padding-left: 1em; padding-right: 1em; text-align: center; vertical-align: top\">1.0</td>\n",
       "        <td style=\"padding-left: 1em; padding-right: 1em; text-align: center; vertical-align: top\">0</td>\n",
       "    </tr>\n",
       "    <tr>\n",
       "        <td style=\"padding-left: 1em; padding-right: 1em; text-align: center; vertical-align: top\">1321400060</td>\n",
       "        <td style=\"padding-left: 1em; padding-right: 1em; text-align: center; vertical-align: top\">2014-06-27 00:00:00+00:00</td>\n",
       "        <td style=\"padding-left: 1em; padding-right: 1em; text-align: center; vertical-align: top\">257500.0</td>\n",
       "        <td style=\"padding-left: 1em; padding-right: 1em; text-align: center; vertical-align: top\">3.0</td>\n",
       "        <td style=\"padding-left: 1em; padding-right: 1em; text-align: center; vertical-align: top\">2.25</td>\n",
       "        <td style=\"padding-left: 1em; padding-right: 1em; text-align: center; vertical-align: top\">1715.0</td>\n",
       "        <td style=\"padding-left: 1em; padding-right: 1em; text-align: center; vertical-align: top\">6819.0</td>\n",
       "        <td style=\"padding-left: 1em; padding-right: 1em; text-align: center; vertical-align: top\">2.0</td>\n",
       "        <td style=\"padding-left: 1em; padding-right: 1em; text-align: center; vertical-align: top\">0</td>\n",
       "    </tr>\n",
       "    <tr>\n",
       "        <td style=\"padding-left: 1em; padding-right: 1em; text-align: center; vertical-align: top\">2008000270</td>\n",
       "        <td style=\"padding-left: 1em; padding-right: 1em; text-align: center; vertical-align: top\">2015-01-15 00:00:00+00:00</td>\n",
       "        <td style=\"padding-left: 1em; padding-right: 1em; text-align: center; vertical-align: top\">291850.0</td>\n",
       "        <td style=\"padding-left: 1em; padding-right: 1em; text-align: center; vertical-align: top\">3.0</td>\n",
       "        <td style=\"padding-left: 1em; padding-right: 1em; text-align: center; vertical-align: top\">1.5</td>\n",
       "        <td style=\"padding-left: 1em; padding-right: 1em; text-align: center; vertical-align: top\">1060.0</td>\n",
       "        <td style=\"padding-left: 1em; padding-right: 1em; text-align: center; vertical-align: top\">9711.0</td>\n",
       "        <td style=\"padding-left: 1em; padding-right: 1em; text-align: center; vertical-align: top\">1.0</td>\n",
       "        <td style=\"padding-left: 1em; padding-right: 1em; text-align: center; vertical-align: top\">0</td>\n",
       "    </tr>\n",
       "    <tr>\n",
       "        <td style=\"padding-left: 1em; padding-right: 1em; text-align: center; vertical-align: top\">2414600126</td>\n",
       "        <td style=\"padding-left: 1em; padding-right: 1em; text-align: center; vertical-align: top\">2015-04-15 00:00:00+00:00</td>\n",
       "        <td style=\"padding-left: 1em; padding-right: 1em; text-align: center; vertical-align: top\">229500.0</td>\n",
       "        <td style=\"padding-left: 1em; padding-right: 1em; text-align: center; vertical-align: top\">3.0</td>\n",
       "        <td style=\"padding-left: 1em; padding-right: 1em; text-align: center; vertical-align: top\">1.0</td>\n",
       "        <td style=\"padding-left: 1em; padding-right: 1em; text-align: center; vertical-align: top\">1780.0</td>\n",
       "        <td style=\"padding-left: 1em; padding-right: 1em; text-align: center; vertical-align: top\">7470.0</td>\n",
       "        <td style=\"padding-left: 1em; padding-right: 1em; text-align: center; vertical-align: top\">1.0</td>\n",
       "        <td style=\"padding-left: 1em; padding-right: 1em; text-align: center; vertical-align: top\">0</td>\n",
       "    </tr>\n",
       "    <tr>\n",
       "        <td style=\"padding-left: 1em; padding-right: 1em; text-align: center; vertical-align: top\">3793500160</td>\n",
       "        <td style=\"padding-left: 1em; padding-right: 1em; text-align: center; vertical-align: top\">2015-03-12 00:00:00+00:00</td>\n",
       "        <td style=\"padding-left: 1em; padding-right: 1em; text-align: center; vertical-align: top\">323000.0</td>\n",
       "        <td style=\"padding-left: 1em; padding-right: 1em; text-align: center; vertical-align: top\">3.0</td>\n",
       "        <td style=\"padding-left: 1em; padding-right: 1em; text-align: center; vertical-align: top\">2.5</td>\n",
       "        <td style=\"padding-left: 1em; padding-right: 1em; text-align: center; vertical-align: top\">1890.0</td>\n",
       "        <td style=\"padding-left: 1em; padding-right: 1em; text-align: center; vertical-align: top\">6560.0</td>\n",
       "        <td style=\"padding-left: 1em; padding-right: 1em; text-align: center; vertical-align: top\">2.0</td>\n",
       "        <td style=\"padding-left: 1em; padding-right: 1em; text-align: center; vertical-align: top\">0</td>\n",
       "    </tr>\n",
       "</table>\n",
       "<table frame=\"box\" rules=\"cols\">\n",
       "    <tr>\n",
       "        <th style=\"padding-left: 1em; padding-right: 1em; text-align: center\">view</th>\n",
       "        <th style=\"padding-left: 1em; padding-right: 1em; text-align: center\">condition</th>\n",
       "        <th style=\"padding-left: 1em; padding-right: 1em; text-align: center\">grade</th>\n",
       "        <th style=\"padding-left: 1em; padding-right: 1em; text-align: center\">sqft_above</th>\n",
       "        <th style=\"padding-left: 1em; padding-right: 1em; text-align: center\">sqft_basement</th>\n",
       "        <th style=\"padding-left: 1em; padding-right: 1em; text-align: center\">yr_built</th>\n",
       "        <th style=\"padding-left: 1em; padding-right: 1em; text-align: center\">yr_renovated</th>\n",
       "        <th style=\"padding-left: 1em; padding-right: 1em; text-align: center\">zipcode</th>\n",
       "        <th style=\"padding-left: 1em; padding-right: 1em; text-align: center\">lat</th>\n",
       "    </tr>\n",
       "    <tr>\n",
       "        <td style=\"padding-left: 1em; padding-right: 1em; text-align: center; vertical-align: top\">0</td>\n",
       "        <td style=\"padding-left: 1em; padding-right: 1em; text-align: center; vertical-align: top\">3</td>\n",
       "        <td style=\"padding-left: 1em; padding-right: 1em; text-align: center; vertical-align: top\">7.0</td>\n",
       "        <td style=\"padding-left: 1em; padding-right: 1em; text-align: center; vertical-align: top\">1180.0</td>\n",
       "        <td style=\"padding-left: 1em; padding-right: 1em; text-align: center; vertical-align: top\">0.0</td>\n",
       "        <td style=\"padding-left: 1em; padding-right: 1em; text-align: center; vertical-align: top\">1955.0</td>\n",
       "        <td style=\"padding-left: 1em; padding-right: 1em; text-align: center; vertical-align: top\">0.0</td>\n",
       "        <td style=\"padding-left: 1em; padding-right: 1em; text-align: center; vertical-align: top\">98178</td>\n",
       "        <td style=\"padding-left: 1em; padding-right: 1em; text-align: center; vertical-align: top\">47.51123398</td>\n",
       "    </tr>\n",
       "    <tr>\n",
       "        <td style=\"padding-left: 1em; padding-right: 1em; text-align: center; vertical-align: top\">0</td>\n",
       "        <td style=\"padding-left: 1em; padding-right: 1em; text-align: center; vertical-align: top\">3</td>\n",
       "        <td style=\"padding-left: 1em; padding-right: 1em; text-align: center; vertical-align: top\">7.0</td>\n",
       "        <td style=\"padding-left: 1em; padding-right: 1em; text-align: center; vertical-align: top\">2170.0</td>\n",
       "        <td style=\"padding-left: 1em; padding-right: 1em; text-align: center; vertical-align: top\">400.0</td>\n",
       "        <td style=\"padding-left: 1em; padding-right: 1em; text-align: center; vertical-align: top\">1951.0</td>\n",
       "        <td style=\"padding-left: 1em; padding-right: 1em; text-align: center; vertical-align: top\">1991.0</td>\n",
       "        <td style=\"padding-left: 1em; padding-right: 1em; text-align: center; vertical-align: top\">98125</td>\n",
       "        <td style=\"padding-left: 1em; padding-right: 1em; text-align: center; vertical-align: top\">47.72102274</td>\n",
       "    </tr>\n",
       "    <tr>\n",
       "        <td style=\"padding-left: 1em; padding-right: 1em; text-align: center; vertical-align: top\">0</td>\n",
       "        <td style=\"padding-left: 1em; padding-right: 1em; text-align: center; vertical-align: top\">3</td>\n",
       "        <td style=\"padding-left: 1em; padding-right: 1em; text-align: center; vertical-align: top\">6.0</td>\n",
       "        <td style=\"padding-left: 1em; padding-right: 1em; text-align: center; vertical-align: top\">770.0</td>\n",
       "        <td style=\"padding-left: 1em; padding-right: 1em; text-align: center; vertical-align: top\">0.0</td>\n",
       "        <td style=\"padding-left: 1em; padding-right: 1em; text-align: center; vertical-align: top\">1933.0</td>\n",
       "        <td style=\"padding-left: 1em; padding-right: 1em; text-align: center; vertical-align: top\">0.0</td>\n",
       "        <td style=\"padding-left: 1em; padding-right: 1em; text-align: center; vertical-align: top\">98028</td>\n",
       "        <td style=\"padding-left: 1em; padding-right: 1em; text-align: center; vertical-align: top\">47.73792661</td>\n",
       "    </tr>\n",
       "    <tr>\n",
       "        <td style=\"padding-left: 1em; padding-right: 1em; text-align: center; vertical-align: top\">0</td>\n",
       "        <td style=\"padding-left: 1em; padding-right: 1em; text-align: center; vertical-align: top\">5</td>\n",
       "        <td style=\"padding-left: 1em; padding-right: 1em; text-align: center; vertical-align: top\">7.0</td>\n",
       "        <td style=\"padding-left: 1em; padding-right: 1em; text-align: center; vertical-align: top\">1050.0</td>\n",
       "        <td style=\"padding-left: 1em; padding-right: 1em; text-align: center; vertical-align: top\">910.0</td>\n",
       "        <td style=\"padding-left: 1em; padding-right: 1em; text-align: center; vertical-align: top\">1965.0</td>\n",
       "        <td style=\"padding-left: 1em; padding-right: 1em; text-align: center; vertical-align: top\">0.0</td>\n",
       "        <td style=\"padding-left: 1em; padding-right: 1em; text-align: center; vertical-align: top\">98136</td>\n",
       "        <td style=\"padding-left: 1em; padding-right: 1em; text-align: center; vertical-align: top\">47.52082</td>\n",
       "    </tr>\n",
       "    <tr>\n",
       "        <td style=\"padding-left: 1em; padding-right: 1em; text-align: center; vertical-align: top\">0</td>\n",
       "        <td style=\"padding-left: 1em; padding-right: 1em; text-align: center; vertical-align: top\">3</td>\n",
       "        <td style=\"padding-left: 1em; padding-right: 1em; text-align: center; vertical-align: top\">8.0</td>\n",
       "        <td style=\"padding-left: 1em; padding-right: 1em; text-align: center; vertical-align: top\">1680.0</td>\n",
       "        <td style=\"padding-left: 1em; padding-right: 1em; text-align: center; vertical-align: top\">0.0</td>\n",
       "        <td style=\"padding-left: 1em; padding-right: 1em; text-align: center; vertical-align: top\">1987.0</td>\n",
       "        <td style=\"padding-left: 1em; padding-right: 1em; text-align: center; vertical-align: top\">0.0</td>\n",
       "        <td style=\"padding-left: 1em; padding-right: 1em; text-align: center; vertical-align: top\">98074</td>\n",
       "        <td style=\"padding-left: 1em; padding-right: 1em; text-align: center; vertical-align: top\">47.61681228</td>\n",
       "    </tr>\n",
       "    <tr>\n",
       "        <td style=\"padding-left: 1em; padding-right: 1em; text-align: center; vertical-align: top\">0</td>\n",
       "        <td style=\"padding-left: 1em; padding-right: 1em; text-align: center; vertical-align: top\">3</td>\n",
       "        <td style=\"padding-left: 1em; padding-right: 1em; text-align: center; vertical-align: top\">11.0</td>\n",
       "        <td style=\"padding-left: 1em; padding-right: 1em; text-align: center; vertical-align: top\">3890.0</td>\n",
       "        <td style=\"padding-left: 1em; padding-right: 1em; text-align: center; vertical-align: top\">1530.0</td>\n",
       "        <td style=\"padding-left: 1em; padding-right: 1em; text-align: center; vertical-align: top\">2001.0</td>\n",
       "        <td style=\"padding-left: 1em; padding-right: 1em; text-align: center; vertical-align: top\">0.0</td>\n",
       "        <td style=\"padding-left: 1em; padding-right: 1em; text-align: center; vertical-align: top\">98053</td>\n",
       "        <td style=\"padding-left: 1em; padding-right: 1em; text-align: center; vertical-align: top\">47.65611835</td>\n",
       "    </tr>\n",
       "    <tr>\n",
       "        <td style=\"padding-left: 1em; padding-right: 1em; text-align: center; vertical-align: top\">0</td>\n",
       "        <td style=\"padding-left: 1em; padding-right: 1em; text-align: center; vertical-align: top\">3</td>\n",
       "        <td style=\"padding-left: 1em; padding-right: 1em; text-align: center; vertical-align: top\">7.0</td>\n",
       "        <td style=\"padding-left: 1em; padding-right: 1em; text-align: center; vertical-align: top\">1715.0</td>\n",
       "        <td style=\"padding-left: 1em; padding-right: 1em; text-align: center; vertical-align: top\">0.0</td>\n",
       "        <td style=\"padding-left: 1em; padding-right: 1em; text-align: center; vertical-align: top\">1995.0</td>\n",
       "        <td style=\"padding-left: 1em; padding-right: 1em; text-align: center; vertical-align: top\">0.0</td>\n",
       "        <td style=\"padding-left: 1em; padding-right: 1em; text-align: center; vertical-align: top\">98003</td>\n",
       "        <td style=\"padding-left: 1em; padding-right: 1em; text-align: center; vertical-align: top\">47.30972002</td>\n",
       "    </tr>\n",
       "    <tr>\n",
       "        <td style=\"padding-left: 1em; padding-right: 1em; text-align: center; vertical-align: top\">0</td>\n",
       "        <td style=\"padding-left: 1em; padding-right: 1em; text-align: center; vertical-align: top\">3</td>\n",
       "        <td style=\"padding-left: 1em; padding-right: 1em; text-align: center; vertical-align: top\">7.0</td>\n",
       "        <td style=\"padding-left: 1em; padding-right: 1em; text-align: center; vertical-align: top\">1060.0</td>\n",
       "        <td style=\"padding-left: 1em; padding-right: 1em; text-align: center; vertical-align: top\">0.0</td>\n",
       "        <td style=\"padding-left: 1em; padding-right: 1em; text-align: center; vertical-align: top\">1963.0</td>\n",
       "        <td style=\"padding-left: 1em; padding-right: 1em; text-align: center; vertical-align: top\">0.0</td>\n",
       "        <td style=\"padding-left: 1em; padding-right: 1em; text-align: center; vertical-align: top\">98198</td>\n",
       "        <td style=\"padding-left: 1em; padding-right: 1em; text-align: center; vertical-align: top\">47.40949984</td>\n",
       "    </tr>\n",
       "    <tr>\n",
       "        <td style=\"padding-left: 1em; padding-right: 1em; text-align: center; vertical-align: top\">0</td>\n",
       "        <td style=\"padding-left: 1em; padding-right: 1em; text-align: center; vertical-align: top\">3</td>\n",
       "        <td style=\"padding-left: 1em; padding-right: 1em; text-align: center; vertical-align: top\">7.0</td>\n",
       "        <td style=\"padding-left: 1em; padding-right: 1em; text-align: center; vertical-align: top\">1050.0</td>\n",
       "        <td style=\"padding-left: 1em; padding-right: 1em; text-align: center; vertical-align: top\">730.0</td>\n",
       "        <td style=\"padding-left: 1em; padding-right: 1em; text-align: center; vertical-align: top\">1960.0</td>\n",
       "        <td style=\"padding-left: 1em; padding-right: 1em; text-align: center; vertical-align: top\">0.0</td>\n",
       "        <td style=\"padding-left: 1em; padding-right: 1em; text-align: center; vertical-align: top\">98146</td>\n",
       "        <td style=\"padding-left: 1em; padding-right: 1em; text-align: center; vertical-align: top\">47.51229381</td>\n",
       "    </tr>\n",
       "    <tr>\n",
       "        <td style=\"padding-left: 1em; padding-right: 1em; text-align: center; vertical-align: top\">0</td>\n",
       "        <td style=\"padding-left: 1em; padding-right: 1em; text-align: center; vertical-align: top\">3</td>\n",
       "        <td style=\"padding-left: 1em; padding-right: 1em; text-align: center; vertical-align: top\">7.0</td>\n",
       "        <td style=\"padding-left: 1em; padding-right: 1em; text-align: center; vertical-align: top\">1890.0</td>\n",
       "        <td style=\"padding-left: 1em; padding-right: 1em; text-align: center; vertical-align: top\">0.0</td>\n",
       "        <td style=\"padding-left: 1em; padding-right: 1em; text-align: center; vertical-align: top\">2003.0</td>\n",
       "        <td style=\"padding-left: 1em; padding-right: 1em; text-align: center; vertical-align: top\">0.0</td>\n",
       "        <td style=\"padding-left: 1em; padding-right: 1em; text-align: center; vertical-align: top\">98038</td>\n",
       "        <td style=\"padding-left: 1em; padding-right: 1em; text-align: center; vertical-align: top\">47.36840673</td>\n",
       "    </tr>\n",
       "</table>\n",
       "<table frame=\"box\" rules=\"cols\">\n",
       "    <tr>\n",
       "        <th style=\"padding-left: 1em; padding-right: 1em; text-align: center\">long</th>\n",
       "        <th style=\"padding-left: 1em; padding-right: 1em; text-align: center\">sqft_living15</th>\n",
       "        <th style=\"padding-left: 1em; padding-right: 1em; text-align: center\">sqft_lot15</th>\n",
       "    </tr>\n",
       "    <tr>\n",
       "        <td style=\"padding-left: 1em; padding-right: 1em; text-align: center; vertical-align: top\">-122.25677536</td>\n",
       "        <td style=\"padding-left: 1em; padding-right: 1em; text-align: center; vertical-align: top\">1340.0</td>\n",
       "        <td style=\"padding-left: 1em; padding-right: 1em; text-align: center; vertical-align: top\">5650.0</td>\n",
       "    </tr>\n",
       "    <tr>\n",
       "        <td style=\"padding-left: 1em; padding-right: 1em; text-align: center; vertical-align: top\">-122.3188624</td>\n",
       "        <td style=\"padding-left: 1em; padding-right: 1em; text-align: center; vertical-align: top\">1690.0</td>\n",
       "        <td style=\"padding-left: 1em; padding-right: 1em; text-align: center; vertical-align: top\">7639.0</td>\n",
       "    </tr>\n",
       "    <tr>\n",
       "        <td style=\"padding-left: 1em; padding-right: 1em; text-align: center; vertical-align: top\">-122.23319601</td>\n",
       "        <td style=\"padding-left: 1em; padding-right: 1em; text-align: center; vertical-align: top\">2720.0</td>\n",
       "        <td style=\"padding-left: 1em; padding-right: 1em; text-align: center; vertical-align: top\">8062.0</td>\n",
       "    </tr>\n",
       "    <tr>\n",
       "        <td style=\"padding-left: 1em; padding-right: 1em; text-align: center; vertical-align: top\">-122.39318505</td>\n",
       "        <td style=\"padding-left: 1em; padding-right: 1em; text-align: center; vertical-align: top\">1360.0</td>\n",
       "        <td style=\"padding-left: 1em; padding-right: 1em; text-align: center; vertical-align: top\">5000.0</td>\n",
       "    </tr>\n",
       "    <tr>\n",
       "        <td style=\"padding-left: 1em; padding-right: 1em; text-align: center; vertical-align: top\">-122.04490059</td>\n",
       "        <td style=\"padding-left: 1em; padding-right: 1em; text-align: center; vertical-align: top\">1800.0</td>\n",
       "        <td style=\"padding-left: 1em; padding-right: 1em; text-align: center; vertical-align: top\">7503.0</td>\n",
       "    </tr>\n",
       "    <tr>\n",
       "        <td style=\"padding-left: 1em; padding-right: 1em; text-align: center; vertical-align: top\">-122.00528655</td>\n",
       "        <td style=\"padding-left: 1em; padding-right: 1em; text-align: center; vertical-align: top\">4760.0</td>\n",
       "        <td style=\"padding-left: 1em; padding-right: 1em; text-align: center; vertical-align: top\">101930.0</td>\n",
       "    </tr>\n",
       "    <tr>\n",
       "        <td style=\"padding-left: 1em; padding-right: 1em; text-align: center; vertical-align: top\">-122.32704857</td>\n",
       "        <td style=\"padding-left: 1em; padding-right: 1em; text-align: center; vertical-align: top\">2238.0</td>\n",
       "        <td style=\"padding-left: 1em; padding-right: 1em; text-align: center; vertical-align: top\">6819.0</td>\n",
       "    </tr>\n",
       "    <tr>\n",
       "        <td style=\"padding-left: 1em; padding-right: 1em; text-align: center; vertical-align: top\">-122.31457273</td>\n",
       "        <td style=\"padding-left: 1em; padding-right: 1em; text-align: center; vertical-align: top\">1650.0</td>\n",
       "        <td style=\"padding-left: 1em; padding-right: 1em; text-align: center; vertical-align: top\">9711.0</td>\n",
       "    </tr>\n",
       "    <tr>\n",
       "        <td style=\"padding-left: 1em; padding-right: 1em; text-align: center; vertical-align: top\">-122.33659507</td>\n",
       "        <td style=\"padding-left: 1em; padding-right: 1em; text-align: center; vertical-align: top\">1780.0</td>\n",
       "        <td style=\"padding-left: 1em; padding-right: 1em; text-align: center; vertical-align: top\">8113.0</td>\n",
       "    </tr>\n",
       "    <tr>\n",
       "        <td style=\"padding-left: 1em; padding-right: 1em; text-align: center; vertical-align: top\">-122.0308176</td>\n",
       "        <td style=\"padding-left: 1em; padding-right: 1em; text-align: center; vertical-align: top\">2390.0</td>\n",
       "        <td style=\"padding-left: 1em; padding-right: 1em; text-align: center; vertical-align: top\">7570.0</td>\n",
       "    </tr>\n",
       "</table>\n",
       "[21613 rows x 21 columns]<br/>Note: Only the head of the SFrame is printed.<br/>You can use print_rows(num_rows=m, num_columns=n) to print more rows and columns.\n",
       "</div>"
      ],
      "text/plain": [
       "Columns:\n",
       "\tid\tstr\n",
       "\tdate\tdatetime\n",
       "\tprice\tfloat\n",
       "\tbedrooms\tfloat\n",
       "\tbathrooms\tfloat\n",
       "\tsqft_living\tfloat\n",
       "\tsqft_lot\tfloat\n",
       "\tfloors\tfloat\n",
       "\twaterfront\tint\n",
       "\tview\tint\n",
       "\tcondition\tint\n",
       "\tgrade\tfloat\n",
       "\tsqft_above\tfloat\n",
       "\tsqft_basement\tfloat\n",
       "\tyr_built\tfloat\n",
       "\tyr_renovated\tfloat\n",
       "\tzipcode\tstr\n",
       "\tlat\tfloat\n",
       "\tlong\tfloat\n",
       "\tsqft_living15\tfloat\n",
       "\tsqft_lot15\tfloat\n",
       "\n",
       "Rows: 21613\n",
       "\n",
       "Data:\n",
       "+------------+---------------------------+-----------+----------+-----------+\n",
       "|     id     |            date           |   price   | bedrooms | bathrooms |\n",
       "+------------+---------------------------+-----------+----------+-----------+\n",
       "| 7129300520 | 2014-10-13 00:00:00+00:00 |  221900.0 |   3.0    |    1.0    |\n",
       "| 6414100192 | 2014-12-09 00:00:00+00:00 |  538000.0 |   3.0    |    2.25   |\n",
       "| 5631500400 | 2015-02-25 00:00:00+00:00 |  180000.0 |   2.0    |    1.0    |\n",
       "| 2487200875 | 2014-12-09 00:00:00+00:00 |  604000.0 |   4.0    |    3.0    |\n",
       "| 1954400510 | 2015-02-18 00:00:00+00:00 |  510000.0 |   3.0    |    2.0    |\n",
       "| 7237550310 | 2014-05-12 00:00:00+00:00 | 1225000.0 |   4.0    |    4.5    |\n",
       "| 1321400060 | 2014-06-27 00:00:00+00:00 |  257500.0 |   3.0    |    2.25   |\n",
       "| 2008000270 | 2015-01-15 00:00:00+00:00 |  291850.0 |   3.0    |    1.5    |\n",
       "| 2414600126 | 2015-04-15 00:00:00+00:00 |  229500.0 |   3.0    |    1.0    |\n",
       "| 3793500160 | 2015-03-12 00:00:00+00:00 |  323000.0 |   3.0    |    2.5    |\n",
       "+------------+---------------------------+-----------+----------+-----------+\n",
       "+-------------+----------+--------+------------+------+-----------+-------+\n",
       "| sqft_living | sqft_lot | floors | waterfront | view | condition | grade |\n",
       "+-------------+----------+--------+------------+------+-----------+-------+\n",
       "|    1180.0   |  5650.0  |  1.0   |     0      |  0   |     3     |  7.0  |\n",
       "|    2570.0   |  7242.0  |  2.0   |     0      |  0   |     3     |  7.0  |\n",
       "|    770.0    | 10000.0  |  1.0   |     0      |  0   |     3     |  6.0  |\n",
       "|    1960.0   |  5000.0  |  1.0   |     0      |  0   |     5     |  7.0  |\n",
       "|    1680.0   |  8080.0  |  1.0   |     0      |  0   |     3     |  8.0  |\n",
       "|    5420.0   | 101930.0 |  1.0   |     0      |  0   |     3     |  11.0 |\n",
       "|    1715.0   |  6819.0  |  2.0   |     0      |  0   |     3     |  7.0  |\n",
       "|    1060.0   |  9711.0  |  1.0   |     0      |  0   |     3     |  7.0  |\n",
       "|    1780.0   |  7470.0  |  1.0   |     0      |  0   |     3     |  7.0  |\n",
       "|    1890.0   |  6560.0  |  2.0   |     0      |  0   |     3     |  7.0  |\n",
       "+-------------+----------+--------+------------+------+-----------+-------+\n",
       "+------------+---------------+----------+--------------+---------+-------------+\n",
       "| sqft_above | sqft_basement | yr_built | yr_renovated | zipcode |     lat     |\n",
       "+------------+---------------+----------+--------------+---------+-------------+\n",
       "|   1180.0   |      0.0      |  1955.0  |     0.0      |  98178  | 47.51123398 |\n",
       "|   2170.0   |     400.0     |  1951.0  |    1991.0    |  98125  | 47.72102274 |\n",
       "|   770.0    |      0.0      |  1933.0  |     0.0      |  98028  | 47.73792661 |\n",
       "|   1050.0   |     910.0     |  1965.0  |     0.0      |  98136  |   47.52082  |\n",
       "|   1680.0   |      0.0      |  1987.0  |     0.0      |  98074  | 47.61681228 |\n",
       "|   3890.0   |     1530.0    |  2001.0  |     0.0      |  98053  | 47.65611835 |\n",
       "|   1715.0   |      0.0      |  1995.0  |     0.0      |  98003  | 47.30972002 |\n",
       "|   1060.0   |      0.0      |  1963.0  |     0.0      |  98198  | 47.40949984 |\n",
       "|   1050.0   |     730.0     |  1960.0  |     0.0      |  98146  | 47.51229381 |\n",
       "|   1890.0   |      0.0      |  2003.0  |     0.0      |  98038  | 47.36840673 |\n",
       "+------------+---------------+----------+--------------+---------+-------------+\n",
       "+---------------+---------------+-----+\n",
       "|      long     | sqft_living15 | ... |\n",
       "+---------------+---------------+-----+\n",
       "| -122.25677536 |     1340.0    | ... |\n",
       "|  -122.3188624 |     1690.0    | ... |\n",
       "| -122.23319601 |     2720.0    | ... |\n",
       "| -122.39318505 |     1360.0    | ... |\n",
       "| -122.04490059 |     1800.0    | ... |\n",
       "| -122.00528655 |     4760.0    | ... |\n",
       "| -122.32704857 |     2238.0    | ... |\n",
       "| -122.31457273 |     1650.0    | ... |\n",
       "| -122.33659507 |     1780.0    | ... |\n",
       "|  -122.0308176 |     2390.0    | ... |\n",
       "+---------------+---------------+-----+\n",
       "[21613 rows x 21 columns]\n",
       "Note: Only the head of the SFrame is printed.\n",
       "You can use print_rows(num_rows=m, num_columns=n) to print more rows and columns."
      ]
     },
     "execution_count": 3,
     "metadata": {},
     "output_type": "execute_result"
    }
   ],
   "source": [
    "sales"
   ]
  },
  {
   "cell_type": "markdown",
   "metadata": {},
   "source": [
    "# Explore"
   ]
  },
  {
   "cell_type": "code",
   "execution_count": 4,
   "metadata": {
    "scrolled": false
   },
   "outputs": [],
   "source": [
    "#sales.show()"
   ]
  },
  {
   "cell_type": "code",
   "execution_count": 5,
   "metadata": {},
   "outputs": [
    {
     "data": {
      "text/html": [
       "<pre>Materializing X axis SArray</pre>"
      ],
      "text/plain": [
       "Materializing X axis SArray"
      ]
     },
     "metadata": {},
     "output_type": "display_data"
    },
    {
     "data": {
      "text/html": [
       "<pre>Materializing Y axis SArray</pre>"
      ],
      "text/plain": [
       "Materializing Y axis SArray"
      ]
     },
     "metadata": {},
     "output_type": "display_data"
    },
    {
     "data": {
      "text/html": [
       "<html>                 <body>                     <iframe style=\"border:0;margin:0\" width=\"920\" height=\"770\" srcdoc='<html lang=\"en\">                         <head>                             <script src=\"https://cdnjs.cloudflare.com/ajax/libs/vega/5.4.0/vega.js\"></script>                             <script src=\"https://cdnjs.cloudflare.com/ajax/libs/vega-embed/4.0.0/vega-embed.js\"></script>                             <script src=\"https://cdnjs.cloudflare.com/ajax/libs/vega-tooltip/0.5.1/vega-tooltip.min.js\"></script>                             <link rel=\"stylesheet\" type=\"text/css\" href=\"https://cdnjs.cloudflare.com/ajax/libs/vega-tooltip/0.5.1/vega-tooltip.min.css\">                             <style>                             .vega-actions > a{                                 color:white;                                 text-decoration: none;                                 font-family: \"Arial\";                                 cursor:pointer;                                 padding:5px;                                 background:#AAAAAA;                                 border-radius:4px;                                 padding-left:10px;                                 padding-right:10px;                                 margin-right:5px;                             }                             .vega-actions{                                 margin-top:20px;                                 text-align:center                             }                            .vega-actions > a{                                 background:#999999;                            }                             </style>                         </head>                         <body>                             <div id=\"vis\">                             </div>                             <script>                                 var vega_json = \"{\\\"$schema\\\": \\\"https://vega.github.io/schema/vega/v4.json\\\", \\\"marks\\\": [{\\\"from\\\": {\\\"data\\\": \\\"source_2\\\"}, \\\"name\\\": \\\"marks\\\", \\\"encode\\\": {\\\"update\\\": {\\\"opacity\\\": {\\\"value\\\": 0.7}, \\\"y\\\": {\\\"scale\\\": \\\"y\\\", \\\"field\\\": \\\"y\\\", \\\"title\\\": \\\"Miles per Gallon\\\"}, \\\"fill\\\": {\\\"value\\\": \\\"#108EE9\\\"}, \\\"shape\\\": {\\\"value\\\": \\\"circle\\\"}, \\\"x\\\": {\\\"scale\\\": \\\"x\\\", \\\"field\\\": \\\"x\\\"}}, \\\"hover\\\": {\\\"fill\\\": {\\\"value\\\": \\\"#7EC2F3\\\"}}}, \\\"type\\\": \\\"symbol\\\", \\\"style\\\": [\\\"circle\\\"]}], \\\"config\\\": {\\\"axisY\\\": {\\\"minExtent\\\": 30}, \\\"axis\\\": {\\\"titleFontWeight\\\": \\\"normal\\\", \\\"tickColor\\\": \\\"rgb(136,136,136)\\\", \\\"labelFont\\\": \\\"\\\\\\\"San Francisco\\\\\\\", HelveticaNeue, Arial\\\", \\\"titlePadding\\\": 20, \\\"labelPadding\\\": 10, \\\"labelColor\\\": \\\"rgba(0,0,0,0.847)\\\", \\\"titleFontSize\\\": 14, \\\"titleColor\\\": \\\"rgba(0,0,0,0.847)\\\", \\\"titleFont\\\": \\\"\\\\\\\"San Francisco\\\\\\\", HelveticaNeue, Arial\\\", \\\"gridColor\\\": \\\"rgba(204,204,204,1.0)\\\", \\\"labelFontSize\\\": 12}, \\\"legend\\\": {\\\"labelFont\\\": \\\"\\\\\\\"San Francisco\\\\\\\", HelveticaNeue, Arial\\\", \\\"gradientLength\\\": 608, \\\"titleFont\\\": \\\"\\\\\\\"San Francisco\\\\\\\", HelveticaNeue, Arial\\\", \\\"labelColor\\\": \\\"rgba(0,0,0,0.847)\\\", \\\"titleColor\\\": \\\"rgba(0,0,0,0.847)\\\", \\\"cornerRadius\\\": 30}, \\\"title\\\": {\\\"fontSize\\\": 18, \\\"color\\\": \\\"rgba(0,0,0,0.847)\\\", \\\"font\\\": \\\"\\\\\\\"San Francisco\\\\\\\", HelveticaNeue, Arial\\\", \\\"offset\\\": 30, \\\"fontWeight\\\": \\\"normal\\\"}, \\\"range\\\": {\\\"heatmap\\\": {\\\"scheme\\\": \\\"greenblue\\\"}}, \\\"style\\\": {\\\"cell\\\": {\\\"stroke\\\": \\\"transparent\\\"}, \\\"group-title\\\": {\\\"font\\\": \\\"HelveticaNeue, Arial\\\", \\\"fill\\\": \\\"rgba(0,0,0,0.65)\\\", \\\"fontSize\\\": 29, \\\"fontWeight\\\": \\\"normal\\\"}, \\\"rect\\\": {\\\"stroke\\\": \\\"rgba(200, 200, 200, 0.5)\\\"}}}, \\\"data\\\": [{\\\"name\\\": \\\"source_2\\\", \\\"values\\\": [{\\\"y\\\": 538000.0, \\\"x\\\": 2570.0}, {\\\"y\\\": 180000.0, \\\"x\\\": 770.0}, {\\\"y\\\": 604000.0, \\\"x\\\": 1960.0}, {\\\"y\\\": 510000.0, \\\"x\\\": 1680.0}, {\\\"y\\\": 1225000.0, \\\"x\\\": 5420.0}, {\\\"y\\\": 257500.0, \\\"x\\\": 1715.0}, {\\\"y\\\": 291850.0, \\\"x\\\": 1060.0}, {\\\"y\\\": 229500.0, \\\"x\\\": 1780.0}, {\\\"y\\\": 323000.0, \\\"x\\\": 1890.0}, {\\\"y\\\": 662500.0, \\\"x\\\": 3560.0}, {\\\"y\\\": 468000.0, \\\"x\\\": 1160.0}, {\\\"y\\\": 310000.0, \\\"x\\\": 1430.0}, {\\\"y\\\": 400000.0, \\\"x\\\": 1370.0}, {\\\"y\\\": 530000.0, \\\"x\\\": 1810.0}, {\\\"y\\\": 650000.0, \\\"x\\\": 2950.0}, {\\\"y\\\": 395000.0, \\\"x\\\": 1890.0}, {\\\"y\\\": 485000.0, \\\"x\\\": 1600.0}, {\\\"y\\\": 189000.0, \\\"x\\\": 1200.0}, {\\\"y\\\": 230000.0, \\\"x\\\": 1250.0}, {\\\"y\\\": 385000.0, \\\"x\\\": 1620.0}, {\\\"y\\\": 2000000.0, \\\"x\\\": 3050.0}, {\\\"y\\\": 285000.0, \\\"x\\\": 2270.0}, {\\\"y\\\": 252700.0, \\\"x\\\": 1070.0}, {\\\"y\\\": 329000.0, \\\"x\\\": 2450.0}, {\\\"y\\\": 233000.0, \\\"x\\\": 1710.0}, {\\\"y\\\": 937000.0, \\\"x\\\": 2450.0}, {\\\"y\\\": 667000.0, \\\"x\\\": 1400.0}, {\\\"y\\\": 438000.0, \\\"x\\\": 1520.0}, {\\\"y\\\": 719000.0, \\\"x\\\": 2570.0}, {\\\"y\\\": 580500.0, \\\"x\\\": 2320.0}, {\\\"y\\\": 280000.0, \\\"x\\\": 1190.0}, {\\\"y\\\": 687500.0, \\\"x\\\": 2330.0}, {\\\"y\\\": 535000.0, \\\"x\\\": 1090.0}, {\\\"y\\\": 322500.0, \\\"x\\\": 2060.0}, {\\\"y\\\": 696000.0, \\\"x\\\": 2300.0}, {\\\"y\\\": 550000.0, \\\"x\\\": 1660.0}, {\\\"y\\\": 640000.0, \\\"x\\\": 2360.0}, {\\\"y\\\": 240000.0, \\\"x\\\": 1220.0}, {\\\"y\\\": 605000.0, \\\"x\\\": 2620.0}, {\\\"y\\\": 625000.0, \\\"x\\\": 2570.0}, {\\\"y\\\": 775000.0, \\\"x\\\": 4220.0}, {\\\"y\\\": 861990.0, \\\"x\\\": 3595.0}, {\\\"y\\\": 685000.0, \\\"x\\\": 1570.0}, {\\\"y\\\": 309000.0, \\\"x\\\": 1280.0}, {\\\"y\\\": 488000.0, \\\"x\\\": 3160.0}, {\\\"y\\\": 210490.0, \\\"x\\\": 990.0}, {\\\"y\\\": 785000.0, \\\"x\\\": 2290.0}, {\\\"y\\\": 450000.0, \\\"x\\\": 1250.0}, {\\\"y\\\": 1350000.0, \\\"x\\\": 2753.0}, {\\\"y\\\": 228000.0, \\\"x\\\": 1190.0}, {\\\"y\\\": 345000.0, \\\"x\\\": 3150.0}, {\\\"y\\\": 600000.0, \\\"x\\\": 1410.0}, {\\\"y\\\": 585000.0, \\\"x\\\": 1980.0}, {\\\"y\\\": 920000.0, \\\"x\\\": 2730.0}, {\\\"y\\\": 885000.0, \\\"x\\\": 2830.0}, {\\\"y\\\": 292500.0, \\\"x\\\": 2250.0}, {\\\"y\\\": 301000.0, \\\"x\\\": 2420.0}, {\\\"y\\\": 951000.0, \\\"x\\\": 3250.0}, {\\\"y\\\": 430000.0, \\\"x\\\": 1850.0}, {\\\"y\\\": 650000.0, \\\"x\\\": 2150.0}, {\\\"y\\\": 289000.0, \\\"x\\\": 1260.0}, {\\\"y\\\": 505000.0, \\\"x\\\": 2519.0}, {\\\"y\\\": 549000.0, \\\"x\\\": 1540.0}, {\\\"y\\\": 425000.0, \\\"x\\\": 1660.0}, {\\\"y\\\": 317625.0, \\\"x\\\": 2770.0}, {\\\"y\\\": 975000.0, \\\"x\\\": 2720.0}, {\\\"y\\\": 287000.0, \\\"x\\\": 2240.0}, {\\\"y\\\": 204000.0, \\\"x\\\": 1000.0}, {\\\"y\\\": 1325000.0, \\\"x\\\": 3200.0}, {\\\"y\\\": 1040000.0, \\\"x\\\": 4770.0}, {\\\"y\\\": 325000.0, \\\"x\\\": 1260.0}, {\\\"y\\\": 571000.0, \\\"x\\\": 2750.0}, {\\\"y\\\": 360000.0, \\\"x\\\": 2380.0}, {\\\"y\\\": 349000.0, \\\"x\\\": 1790.0}, {\\\"y\\\": 832500.0, \\\"x\\\": 3430.0}, {\\\"y\\\": 380000.0, \\\"x\\\": 1760.0}, {\\\"y\\\": 480000.0, \\\"x\\\": 1040.0}, {\\\"y\\\": 410000.0, \\\"x\\\": 1410.0}, {\\\"y\\\": 720000.0, \\\"x\\\": 3450.0}, {\\\"y\\\": 390000.0, \\\"x\\\": 2350.0}, {\\\"y\\\": 360000.0, \\\"x\\\": 1900.0}, {\\\"y\\\": 355000.0, \\\"x\\\": 2020.0}, {\\\"y\\\": 356000.0, \\\"x\\\": 1680.0}, {\\\"y\\\": 315000.0, \\\"x\\\": 960.0}, {\\\"y\\\": 940000.0, \\\"x\\\": 2140.0}, {\\\"y\\\": 305000.0, \\\"x\\\": 2660.0}, {\\\"y\\\": 461000.0, \\\"x\\\": 2770.0}, {\\\"y\\\": 215000.0, \\\"x\\\": 1610.0}, {\\\"y\\\": 335000.0, \\\"x\\\": 1030.0}, {\\\"y\\\": 243500.0, \\\"x\\\": 1980.0}, {\\\"y\\\": 1099880.0, \\\"x\\\": 3520.0}, {\\\"y\\\": 153000.0, \\\"x\\\": 1200.0}, {\\\"y\\\": 430000.0, \\\"x\\\": 1580.0}, {\\\"y\\\": 700000.0, \\\"x\\\": 1580.0}, {\\\"y\\\": 905000.0, \\\"x\\\": 3300.0}, {\\\"y\\\": 247500.0, \\\"x\\\": 1960.0}, {\\\"y\\\": 199000.0, \\\"x\\\": 1160.0}, {\\\"y\\\": 314000.0, \\\"x\\\": 1810.0}, {\\\"y\\\": 437500.0, \\\"x\\\": 2320.0}, {\\\"y\\\": 850830.0, \\\"x\\\": 2070.0}, {\\\"y\\\": 555000.0, \\\"x\\\": 1980.0}, {\\\"y\\\": 699950.0, \\\"x\\\": 2190.0}, {\\\"y\\\": 1088000.0, \\\"x\\\": 2920.0}, {\\\"y\\\": 290000.0, \\\"x\\\": 1210.0}, {\\\"y\\\": 375000.0, \\\"x\\\": 2340.0}, {\\\"y\\\": 460000.0, \\\"x\\\": 1670.0}, {\\\"y\\\": 188500.0, \\\"x\\\": 1240.0}, {\\\"y\\\": 680000.0, \\\"x\\\": 3140.0}, {\\\"y\\\": 470000.0, \\\"x\\\": 2030.0}, {\\\"y\\\": 597750.0, \\\"x\\\": 2310.0}, {\\\"y\\\": 570000.0, \\\"x\\\": 1260.0}, {\\\"y\\\": 272500.0, \\\"x\\\": 1540.0}, {\\\"y\\\": 329950.0, \\\"x\\\": 2080.0}, {\\\"y\\\": 480000.0, \\\"x\\\": 3230.0}, {\\\"y\\\": 740500.0, \\\"x\\\": 4380.0}, {\\\"y\\\": 518500.0, \\\"x\\\": 1590.0}, {\\\"y\\\": 205425.0, \\\"x\\\": 880.0}, {\\\"y\\\": 171800.0, \\\"x\\\": 1570.0}, {\\\"y\\\": 535000.0, \\\"x\\\": 1610.0}, {\\\"y\\\": 660000.0, \\\"x\\\": 2400.0}, {\\\"y\\\": 391500.0, \\\"x\\\": 1450.0}, {\\\"y\\\": 395000.0, \\\"x\\\": 770.0}, {\\\"y\\\": 445000.0, \\\"x\\\": 2100.0}, {\\\"y\\\": 770000.0, \\\"x\\\": 2910.0}, {\\\"y\\\": 1450000.0, \\\"x\\\": 2750.0}, {\\\"y\\\": 445000.0, \\\"x\\\": 2100.0}, {\\\"y\\\": 260000.0, \\\"x\\\": 2160.0}, {\\\"y\\\": 822500.0, \\\"x\\\": 2320.0}, {\\\"y\\\": 430000.0, \\\"x\\\": 2070.0}, {\\\"y\\\": 212000.0, \\\"x\\\": 1060.0}, {\\\"y\\\": 660500.0, \\\"x\\\": 2010.0}, {\\\"y\\\": 784000.0, \\\"x\\\": 3950.0}, {\\\"y\\\": 453246.0, \\\"x\\\": 2010.0}, {\\\"y\\\": 675000.0, \\\"x\\\": 2140.0}, {\\\"y\\\": 199000.0, \\\"x\\\": 1320.0}, {\\\"y\\\": 220000.0, \\\"x\\\": 2020.0}, {\\\"y\\\": 452000.0, \\\"x\\\": 2590.0}, {\\\"y\\\": 382500.0, \\\"x\\\": 1190.0}, {\\\"y\\\": 519950.0, \\\"x\\\": 1170.0}, {\\\"y\\\": 665000.0, \\\"x\\\": 1110.0}, {\\\"y\\\": 527700.0, \\\"x\\\": 2820.0}, {\\\"y\\\": 205000.0, \\\"x\\\": 1610.0}, {\\\"y\\\": 420000.0, \\\"x\\\": 1060.0}, {\\\"y\\\": 500000.0, \\\"x\\\": 2030.0}, {\\\"y\\\": 921500.0, \\\"x\\\": 3670.0}, {\\\"y\\\": 890000.0, \\\"x\\\": 2550.0}, {\\\"y\\\": 430000.0, \\\"x\\\": 2420.0}, {\\\"y\\\": 258000.0, \\\"x\\\": 2260.0}, {\\\"y\\\": 511000.0, \\\"x\\\": 1430.0}, {\\\"y\\\": 532170.0, \\\"x\\\": 1360.0}, {\\\"y\\\": 560000.0, \\\"x\\\": 1110.0}, {\\\"y\\\": 282950.0, \\\"x\\\": 1250.0}, {\\\"y\\\": 2250000.0, \\\"x\\\": 5180.0}, {\\\"y\\\": 350000.0, \\\"x\\\": 700.0}, {\\\"y\\\": 215000.0, \\\"x\\\": 1180.0}, {\\\"y\\\": 650000.0, \\\"x\\\": 3960.0}, {\\\"y\\\": 320000.0, \\\"x\\\": 2640.0}, {\\\"y\\\": 247000.0, \\\"x\\\": 1270.0}, {\\\"y\\\": 320000.0, \\\"x\\\": 1760.0}, {\\\"y\\\": 255000.0, \\\"x\\\": 2060.0}, {\\\"y\\\": 438000.0, \\\"x\\\": 1780.0}, {\\\"y\\\": 900000.0, \\\"x\\\": 3400.0}, {\\\"y\\\": 441000.0, \\\"x\\\": 1910.0}, {\\\"y\\\": 420000.0, \\\"x\\\": 2020.0}, {\\\"y\\\": 370000.0, \\\"x\\\": 1580.0}, {\\\"y\\\": 269950.0, \\\"x\\\": 1340.0}, {\\\"y\\\": 807100.0, \\\"x\\\": 2680.0}, {\\\"y\\\": 653000.0, \\\"x\\\": 2680.0}, {\\\"y\\\": 371500.0, \\\"x\\\": 1370.0}, {\\\"y\\\": 284000.0, \\\"x\\\": 1560.0}, {\\\"y\\\": 272000.0, \\\"x\\\": 2160.0}, {\\\"y\\\": 313000.0, \\\"x\\\": 1340.0}, {\\\"y\\\": 917500.0, \\\"x\\\": 3880.0}, {\\\"y\\\": 673000.0, \\\"x\\\": 2590.0}, {\\\"y\\\": 425000.0, \\\"x\\\": 1120.0}, {\\\"y\\\": 399950.0, \\\"x\\\": 1970.0}, {\\\"y\\\": 385000.0, \\\"x\\\": 1220.0}, {\\\"y\\\": 269950.0, \\\"x\\\": 1950.0}, {\\\"y\\\": 330000.0, \\\"x\\\": 1350.0}, {\\\"y\\\": 260000.0, \\\"x\\\": 1670.0}, {\\\"y\\\": 470000.0, \\\"x\\\": 2380.0}, {\\\"y\\\": 589000.0, \\\"x\\\": 2440.0}, {\\\"y\\\": 163500.0, \\\"x\\\": 1050.0}, {\\\"y\\\": 835000.0, \\\"x\\\": 3130.0}, {\\\"y\\\": 1095000.0, \\\"x\\\": 4090.0}, {\\\"y\\\": 269000.0, \\\"x\\\": 1490.0}, {\\\"y\\\": 560000.0, \\\"x\\\": 1900.0}, {\\\"y\\\": 615000.0, \\\"x\\\": 1330.0}, {\\\"y\\\": 585188.0, \\\"x\\\": 2230.0}, {\\\"y\\\": 305000.0, \\\"x\\\": 1650.0}, {\\\"y\\\": 166950.0, \\\"x\\\": 1190.0}, {\\\"y\\\": 799000.0, \\\"x\\\": 2140.0}, {\\\"y\\\": 400000.0, \\\"x\\\": 2180.0}, {\\\"y\\\": 230000.0, \\\"x\\\": 1060.0}, {\\\"y\\\": 256883.0, \\\"x\\\": 1690.0}, {\\\"y\\\": 423000.0, \\\"x\\\": 1970.0}, {\\\"y\\\": 465000.0, \\\"x\\\": 2150.0}, {\\\"y\\\": 440000.0, \\\"x\\\": 1910.0}, {\\\"y\\\": 385000.0, \\\"x\\\": 1350.0}, {\\\"y\\\": 210000.0, \\\"x\\\": 860.0}, {\\\"y\\\": 297000.0, \\\"x\\\": 1940.0}, {\\\"y\\\": 470000.0, \\\"x\\\": 1010.0}, {\\\"y\\\": 226500.0, \\\"x\\\": 1300.0}, {\\\"y\\\": 274250.0, \\\"x\\\": 910.0}, {\\\"y\\\": 840000.0, \\\"x\\\": 2480.0}, {\\\"y\\\": 677900.0, \\\"x\\\": 2440.0}, {\\\"y\\\": 425000.0, \\\"x\\\": 1010.0}, {\\\"y\\\": 180250.0, \\\"x\\\": 900.0}, {\\\"y\\\": 464000.0, \\\"x\\\": 2300.0}, {\\\"y\\\": 320000.0, \\\"x\\\": 1550.0}, {\\\"y\\\": 625504.0, \\\"x\\\": 1270.0}, {\\\"y\\\": 592500.0, \\\"x\\\": 2240.0}, {\\\"y\\\": 465000.0, \\\"x\\\": 2714.0}, {\\\"y\\\": 477000.0, \\\"x\\\": 1720.0}, {\\\"y\\\": 280000.0, \\\"x\\\": 850.0}, {\\\"y\\\": 1505000.0, \\\"x\\\": 3300.0}, {\\\"y\\\": 445838.0, \\\"x\\\": 2250.0}, {\\\"y\\\": 1072000.0, \\\"x\\\": 3900.0}, {\\\"y\\\": 467000.0, \\\"x\\\": 1320.0}, {\\\"y\\\": 686000.0, \\\"x\\\": 2760.0}, {\\\"y\\\": 279950.0, \\\"x\\\": 1750.0}, {\\\"y\\\": 527000.0, \\\"x\\\": 2330.0}, {\\\"y\\\": 325000.0, \\\"x\\\": 2220.0}, {\\\"y\\\": 328000.0, \\\"x\\\": 2020.0}, {\\\"y\\\": 390000.0, \\\"x\\\": 1250.0}, {\\\"y\\\": 479950.0, \\\"x\\\": 1510.0}, {\\\"y\\\": 264950.0, \\\"x\\\": 1720.0}, {\\\"y\\\": 235000.0, \\\"x\\\": 1430.0}, {\\\"y\\\": 516500.0, \\\"x\\\": 1480.0}, {\\\"y\\\": 655000.0, \\\"x\\\": 1450.0}, {\\\"y\\\": 500000.0, \\\"x\\\": 2280.0}, {\\\"y\\\": 315000.0, \\\"x\\\": 2940.0}, {\\\"y\\\": 213000.0, \\\"x\\\": 1000.0}, {\\\"y\\\": 475000.0, \\\"x\\\": 2480.0}, {\\\"y\\\": 1025000.0, \\\"x\\\": 3760.0}, {\\\"y\\\": 416000.0, \\\"x\\\": 2220.0}, {\\\"y\\\": 410000.0, \\\"x\\\": 1970.0}, {\\\"y\\\": 800000.0, \\\"x\\\": 3830.0}, {\\\"y\\\": 472000.0, \\\"x\\\": 4410.0}, {\\\"y\\\": 225000.0, \\\"x\\\": 1430.0}, {\\\"y\\\": 210000.0, \\\"x\\\": 830.0}, {\\\"y\\\": 455000.0, \\\"x\\\": 1430.0}, {\\\"y\\\": 225000.0, \\\"x\\\": 1300.0}, {\\\"y\\\": 480000.0, \\\"x\\\": 1030.0}, {\\\"y\\\": 363000.0, \\\"x\\\": 2740.0}, {\\\"y\\\": 2400000.0, \\\"x\\\": 3650.0}, {\\\"y\\\": 181000.0, \\\"x\\\": 720.0}, {\\\"y\\\": 250000.0, \\\"x\\\": 2010.0}, {\\\"y\\\": 481000.0, \\\"x\\\": 1560.0}, {\\\"y\\\": 260000.0, \\\"x\\\": 1810.0}, {\\\"y\\\": 455000.0, \\\"x\\\": 3360.0}, {\\\"y\\\": 415000.0, \\\"x\\\": 1510.0}, {\\\"y\\\": 349500.0, \\\"x\\\": 1400.0}, {\\\"y\\\": 245000.0, \\\"x\\\": 1730.0}, {\\\"y\\\": 592500.0, \\\"x\\\": 1420.0}, {\\\"y\\\": 385000.0, \\\"x\\\": 2360.0}, {\\\"y\\\": 315000.0, \\\"x\\\": 1580.0}, {\\\"y\\\": 255000.0, \\\"x\\\": 1230.0}, {\\\"y\\\": 693000.0, \\\"x\\\": 2460.0}, {\\\"y\\\": 780000.0, \\\"x\\\": 1660.0}, {\\\"y\\\": 237000.0, \\\"x\\\": 1270.0}, {\\\"y\\\": 525000.0, \\\"x\\\": 2100.0}, {\\\"y\\\": 425000.0, \\\"x\\\": 770.0}, {\\\"y\\\": 369900.0, \\\"x\\\": 760.0}, {\\\"y\\\": 290000.0, \\\"x\\\": 1700.0}, {\\\"y\\\": 285000.0, \\\"x\\\": 1120.0}, {\\\"y\\\": 415000.0, \\\"x\\\": 1070.0}, {\\\"y\\\": 272500.0, \\\"x\\\": 2070.0}, {\\\"y\\\": 2900000.0, \\\"x\\\": 5050.0}, {\\\"y\\\": 1365000.0, \\\"x\\\": 5310.0}, {\\\"y\\\": 436000.0, \\\"x\\\": 1040.0}, {\\\"y\\\": 210000.0, \\\"x\\\": 1700.0}, {\\\"y\\\": 236000.0, \\\"x\\\": 1300.0}, {\\\"y\\\": 331000.0, \\\"x\\\": 1080.0}, {\\\"y\\\": 365000.0, \\\"x\\\": 2653.0}, {\\\"y\\\": 450000.0, \\\"x\\\": 2290.0}, {\\\"y\\\": 770000.0, \\\"x\\\": 3820.0}, {\\\"y\\\": 455000.0, \\\"x\\\": 2210.0}, {\\\"y\\\": 405000.0, \\\"x\\\": 2390.0}, {\\\"y\\\": 304900.0, \\\"x\\\": 2600.0}, {\\\"y\\\": 170000.0, \\\"x\\\": 860.0}, {\\\"y\\\": 2050000.0, \\\"x\\\": 3830.0}, {\\\"y\\\": 780000.0, \\\"x\\\": 3500.0}, {\\\"y\\\": 330000.0, \\\"x\\\": 2420.0}, {\\\"y\\\": 370000.0, \\\"x\\\": 2720.0}, {\\\"y\\\": 467000.0, \\\"x\\\": 2500.0}, {\\\"y\\\": 405000.0, \\\"x\\\": 1670.0}, {\\\"y\\\": 675000.0, \\\"x\\\": 2900.0}, {\\\"y\\\": 500000.0, \\\"x\\\": 1640.0}, {\\\"y\\\": 389999.0, \\\"x\\\": 1890.0}, {\\\"y\\\": 630000.0, \\\"x\\\": 2950.0}, {\\\"y\\\": 360000.0, \\\"x\\\": 2160.0}, {\\\"y\\\": 580000.0, \\\"x\\\": 3280.0}, {\\\"y\\\": 550000.0, \\\"x\\\": 1970.0}, {\\\"y\\\": 879000.0, \\\"x\\\": 3360.0}, {\\\"y\\\": 265000.0, \\\"x\\\": 1320.0}, {\\\"y\\\": 446500.0, \\\"x\\\": 2650.0}, {\\\"y\\\": 404000.0, \\\"x\\\": 2030.0}, {\\\"y\\\": 267500.0, \\\"x\\\": 1590.0}, {\\\"y\\\": 3075000.0, \\\"x\\\": 4550.0}, {\\\"y\\\": 335000.0, \\\"x\\\": 2440.0}, {\\\"y\\\": 576000.0, \\\"x\\\": 1940.0}, {\\\"y\\\": 208633.0, \\\"x\\\": 2040.0}, {\\\"y\\\": 315000.0, \\\"x\\\": 2200.0}, {\\\"y\\\": 725000.0, \\\"x\\\": 1920.0}, {\\\"y\\\": 550000.0, \\\"x\\\": 1800.0}, {\\\"y\\\": 610750.0, \\\"x\\\": 2180.0}, {\\\"y\\\": 550700.0, \\\"x\\\": 1010.0}, {\\\"y\\\": 665000.0, \\\"x\\\": 3320.0}, {\\\"y\\\": 834000.0, \\\"x\\\": 2370.0}, {\\\"y\\\": 201000.0, \\\"x\\\": 1660.0}, {\\\"y\\\": 2384000.0, \\\"x\\\": 3650.0}, {\\\"y\\\": 1384000.0, \\\"x\\\": 4290.0}, {\\\"y\\\": 1400000.0, \\\"x\\\": 4290.0}, {\\\"y\\\": 305000.0, \\\"x\\\": 1950.0}, {\\\"y\\\": 487000.0, \\\"x\\\": 2590.0}, {\\\"y\\\": 390000.0, \\\"x\\\": 1930.0}, {\\\"y\\\": 548000.0, \\\"x\\\": 1470.0}, {\\\"y\\\": 268750.0, \\\"x\\\": 800.0}, {\\\"y\\\": 819900.0, \\\"x\\\": 3150.0}, {\\\"y\\\": 520000.0, \\\"x\\\": 2030.0}, {\\\"y\\\": 230000.0, \\\"x\\\": 1450.0}, {\\\"y\\\": 240000.0, \\\"x\\\": 1510.0}, {\\\"y\\\": 232000.0, \\\"x\\\": 1240.0}, {\\\"y\\\": 240500.0, \\\"x\\\": 1240.0}, {\\\"y\\\": 274975.0, \\\"x\\\": 3030.0}, {\\\"y\\\": 740000.0, \\\"x\\\": 2050.0}, {\\\"y\\\": 186375.0, \\\"x\\\": 1000.0}, {\\\"y\\\": 790000.0, \\\"x\\\": 2370.0}, {\\\"y\\\": 880000.0, \\\"x\\\": 2800.0}, {\\\"y\\\": 279000.0, \\\"x\\\": 2240.0}, {\\\"y\\\": 295000.0, \\\"x\\\": 1810.0}, {\\\"y\\\": 640000.0, \\\"x\\\": 1070.0}, {\\\"y\\\": 940000.0, \\\"x\\\": 2490.0}, {\\\"y\\\": 260000.0, \\\"x\\\": 1960.0}, {\\\"y\\\": 559900.0, \\\"x\\\": 2930.0}, {\\\"y\\\": 791500.0, \\\"x\\\": 1510.0}, {\\\"y\\\": 265000.0, \\\"x\\\": 1420.0}, {\\\"y\\\": 245000.0, \\\"x\\\": 1740.0}, {\\\"y\\\": 485000.0, \\\"x\\\": 2560.0}, {\\\"y\\\": 684000.0, \\\"x\\\": 3040.0}, {\\\"y\\\": 425000.0, \\\"x\\\": 2500.0}, {\\\"y\\\": 309600.0, \\\"x\\\": 1275.0}, {\\\"y\\\": 552250.0, \\\"x\\\": 2580.0}, {\\\"y\\\": 165000.0, \\\"x\\\": 1000.0}, {\\\"y\\\": 239900.0, \\\"x\\\": 1000.0}, {\\\"y\\\": 320000.0, \\\"x\\\": 1070.0}, {\\\"y\\\": 206600.0, \\\"x\\\": 1390.0}, {\\\"y\\\": 387000.0, \\\"x\\\": 2500.0}, {\\\"y\\\": 299000.0, \\\"x\\\": 560.0}, {\\\"y\\\": 855000.0, \\\"x\\\": 2270.0}, {\\\"y\\\": 315000.0, \\\"x\\\": 1900.0}, {\\\"y\\\": 437500.0, \\\"x\\\": 990.0}, {\\\"y\\\": 252000.0, \\\"x\\\": 1550.0}, {\\\"y\\\": 375000.0, \\\"x\\\": 2200.0}, {\\\"y\\\": 300000.0, \\\"x\\\": 1910.0}, {\\\"y\\\": 420000.0, \\\"x\\\": 1750.0}, {\\\"y\\\": 900000.0, \\\"x\\\": 1330.0}, {\\\"y\\\": 679900.0, \\\"x\\\": 2440.0}, {\\\"y\\\": 463000.0, \\\"x\\\": 1640.0}, {\\\"y\\\": 380000.0, \\\"x\\\": 2760.0}, {\\\"y\\\": 329500.0, \\\"x\\\": 1820.0}, {\\\"y\\\": 604950.0, \\\"x\\\": 2110.0}, {\\\"y\\\": 795000.0, \\\"x\\\": 3040.0}, {\\\"y\\\": 465000.0, \\\"x\\\": 1840.0}, {\\\"y\\\": 673000.0, \\\"x\\\": 2990.0}, {\\\"y\\\": 810000.0, \\\"x\\\": 3520.0}, {\\\"y\\\": 785000.0, \\\"x\\\": 2440.0}, {\\\"y\\\": 338000.0, \\\"x\\\": 2090.0}, {\\\"y\\\": 280000.0, \\\"x\\\": 1430.0}, {\\\"y\\\": 315000.0, \\\"x\\\": 2180.0}, {\\\"y\\\": 530000.0, \\\"x\\\": 2180.0}, {\\\"y\\\": 380000.0, \\\"x\\\": 3450.0}, {\\\"y\\\": 297000.0, \\\"x\\\": 1450.0}, {\\\"y\\\": 730000.0, \\\"x\\\": 3230.0}, {\\\"y\\\": 450000.0, \\\"x\\\": 1640.0}, {\\\"y\\\": 275000.0, \\\"x\\\": 1590.0}, {\\\"y\\\": 595000.0, \\\"x\\\": 2020.0}, {\\\"y\\\": 435000.0, \\\"x\\\": 1300.0}, {\\\"y\\\": 270000.0, \\\"x\\\": 1380.0}, {\\\"y\\\": 950000.0, \\\"x\\\": 4040.0}, {\\\"y\\\": 389000.0, \\\"x\\\": 2130.0}, {\\\"y\\\": 560000.0, \\\"x\\\": 2550.0}, {\\\"y\\\": 1350000.0, \\\"x\\\": 4800.0}, {\\\"y\\\": 799000.0, \\\"x\\\": 2510.0}, {\\\"y\\\": 365500.0, \\\"x\\\": 1410.0}, {\\\"y\\\": 252350.0, \\\"x\\\": 1650.0}, {\\\"y\\\": 403950.0, \\\"x\\\": 2120.0}, {\\\"y\\\": 385000.0, \\\"x\\\": 2040.0}, {\\\"y\\\": 345000.0, \\\"x\\\": 1550.0}, {\\\"y\\\": 490000.0, \\\"x\\\": 1980.0}, {\\\"y\\\": 330000.0, \\\"x\\\": 1600.0}, {\\\"y\\\": 927000.0, \\\"x\\\": 3300.0}, {\\\"y\\\": 1118000.0, \\\"x\\\": 3840.0}, {\\\"y\\\": 330000.0, \\\"x\\\": 1220.0}, {\\\"y\\\": 530000.0, \\\"x\\\": 2720.0}, {\\\"y\\\": 365000.0, \\\"x\\\": 1940.0}, {\\\"y\\\": 378750.0, \\\"x\\\": 2160.0}, {\\\"y\\\": 269900.0, \\\"x\\\": 1530.0}, {\\\"y\\\": 557000.0, \\\"x\\\": 1710.0}, {\\\"y\\\": 360000.0, \\\"x\\\": 3730.0}, {\\\"y\\\": 352000.0, \\\"x\\\": 940.0}, {\\\"y\\\": 437000.0, \\\"x\\\": 1750.0}, {\\\"y\\\": 322500.0, \\\"x\\\": 1820.0}, {\\\"y\\\": 650000.0, \\\"x\\\": 1510.0}, {\\\"y\\\": 450000.0, \\\"x\\\": 1290.0}, {\\\"y\\\": 278500.0, \\\"x\\\": 1570.0}, {\\\"y\\\": 364950.0, \\\"x\\\": 1930.0}, {\\\"y\\\": 840000.0, \\\"x\\\": 2840.0}, {\\\"y\\\": 268000.0, \\\"x\\\": 1550.0}, {\\\"y\\\": 517534.0, \\\"x\\\": 833.0}, {\\\"y\\\": 632925.0, \\\"x\\\": 2990.0}, {\\\"y\\\": 577500.0, \\\"x\\\": 2000.0}, {\\\"y\\\": 339000.0, \\\"x\\\": 2390.0}, {\\\"y\\\": 570000.0, \\\"x\\\": 2910.0}, {\\\"y\\\": 563500.0, \\\"x\\\": 2085.0}, {\\\"y\\\": 423000.0, \\\"x\\\": 2200.0}, {\\\"y\\\": 355000.0, \\\"x\\\": 1860.0}, {\\\"y\\\": 1550000.0, \\\"x\\\": 6070.0}, {\\\"y\\\": 482000.0, \\\"x\\\": 950.0}, {\\\"y\\\": 625000.0, \\\"x\\\": 1600.0}, {\\\"y\\\": 538000.0, \\\"x\\\": 2250.0}, {\\\"y\\\": 380000.0, \\\"x\\\": 2280.0}, {\\\"y\\\": 375000.0, \\\"x\\\": 940.0}, {\\\"y\\\": 245000.0, \\\"x\\\": 1530.0}, {\\\"y\\\": 310000.0, \\\"x\\\": 2190.0}, {\\\"y\\\": 1300000.0, \\\"x\\\": 2350.0}, {\\\"y\\\": 397000.0, \\\"x\\\": 1440.0}, {\\\"y\\\": 365000.0, \\\"x\\\": 2200.0}, {\\\"y\\\": 328500.0, \\\"x\\\": 2290.0}, {\\\"y\\\": 988000.0, \\\"x\\\": 4040.0}, {\\\"y\\\": 1000000.0, \\\"x\\\": 2610.0}, {\\\"y\\\": 237000.0, \\\"x\\\": 1490.0}, {\\\"y\\\": 525000.0, \\\"x\\\": 2450.0}, {\\\"y\\\": 749000.0, \\\"x\\\": 1710.0}, {\\\"y\\\": 722500.0, \\\"x\\\": 4870.0}, {\\\"y\\\": 843000.0, \\\"x\\\": 3130.0}, {\\\"y\\\": 438000.0, \\\"x\\\": 1270.0}, {\\\"y\\\": 578000.0, \\\"x\\\": 2120.0}, {\\\"y\\\": 227950.0, \\\"x\\\": 1670.0}, {\\\"y\\\": 196000.0, \\\"x\\\": 2070.0}, {\\\"y\\\": 641000.0, \\\"x\\\": 1420.0}, {\\\"y\\\": 350000.0, \\\"x\\\": 1250.0}, {\\\"y\\\": 205000.0, \\\"x\\\": 940.0}, {\\\"y\\\": 400000.0, \\\"x\\\": 1920.0}, {\\\"y\\\": 1030000.0, \\\"x\\\": 3545.0}, {\\\"y\\\": 505000.0, \\\"x\\\": 1260.0}, {\\\"y\\\": 475000.0, \\\"x\\\": 2340.0}, {\\\"y\\\": 520000.0, \\\"x\\\": 2590.0}, {\\\"y\\\": 1450000.0, \\\"x\\\": 3970.0}, {\\\"y\\\": 333500.0, \\\"x\\\": 1220.0}, {\\\"y\\\": 232000.0, \\\"x\\\": 1400.0}, {\\\"y\\\": 691100.0, \\\"x\\\": 2360.0}, {\\\"y\\\": 811000.0, \\\"x\\\": 1870.0}, {\\\"y\\\": 551000.0, \\\"x\\\": 2830.0}, {\\\"y\\\": 496500.0, \\\"x\\\": 2260.0}, {\\\"y\\\": 705000.0, \\\"x\\\": 1970.0}, {\\\"y\\\": 578000.0, \\\"x\\\": 3140.0}, {\\\"y\\\": 255000.0, \\\"x\\\": 1240.0}, {\\\"y\\\": 1050000.0, \\\"x\\\": 3450.0}, {\\\"y\\\": 348000.0, \\\"x\\\": 2570.0}, {\\\"y\\\": 230000.0, \\\"x\\\": 1510.0}, {\\\"y\\\": 359500.0, \\\"x\\\": 2390.0}, {\\\"y\\\": 330000.0, \\\"x\\\": 980.0}, {\\\"y\\\": 80000.0, \\\"x\\\": 430.0}, {\\\"y\\\": 465000.0, \\\"x\\\": 1480.0}, {\\\"y\\\": 325000.0, \\\"x\\\": 1850.0}, {\\\"y\\\": 340500.0, \\\"x\\\": 2270.0}, {\\\"y\\\": 342500.0, \\\"x\\\": 1810.0}, {\\\"y\\\": 290900.0, \\\"x\\\": 1610.0}, {\\\"y\\\": 868700.0, \\\"x\\\": 3840.0}, {\\\"y\\\": 1199000.0, \\\"x\\\": 4110.0}, {\\\"y\\\": 1150000.0, \\\"x\\\": 4190.0}, {\\\"y\\\": 859900.0, \\\"x\\\": 3390.0}, {\\\"y\\\": 520000.0, \\\"x\\\": 1890.0}, {\\\"y\\\": 460000.0, \\\"x\\\": 1610.0}, {\\\"y\\\": 438924.0, \\\"x\\\": 1050.0}, {\\\"y\\\": 315000.0, \\\"x\\\": 630.0}, {\\\"y\\\": 590000.0, \\\"x\\\": 2910.0}, {\\\"y\\\": 378500.0, \\\"x\\\": 1700.0}, {\\\"y\\\": 328500.0, \\\"x\\\": 1950.0}, {\\\"y\\\": 849950.0, \\\"x\\\": 2990.0}, {\\\"y\\\": 525000.0, \\\"x\\\": 1350.0}, {\\\"y\\\": 1385000.0, \\\"x\\\": 4860.0}, {\\\"y\\\": 295000.0, \\\"x\\\": 2160.0}, {\\\"y\\\": 1067000.0, \\\"x\\\": 4860.0}, {\\\"y\\\": 207950.0, \\\"x\\\": 890.0}, {\\\"y\\\": 699900.0, \\\"x\\\": 2810.0}, {\\\"y\\\": 1280000.0, \\\"x\\\": 3400.0}, {\\\"y\\\": 452000.0, \\\"x\\\": 1580.0}, {\\\"y\\\": 370000.0, \\\"x\\\": 1680.0}, {\\\"y\\\": 232000.0, \\\"x\\\": 1300.0}, {\\\"y\\\": 669950.0, \\\"x\\\": 2820.0}, {\\\"y\\\": 397500.0, \\\"x\\\": 1510.0}, {\\\"y\\\": 490000.0, \\\"x\\\": 1230.0}, {\\\"y\\\": 725000.0, \\\"x\\\": 2110.0}, {\\\"y\\\": 299000.0, \\\"x\\\": 3080.0}, {\\\"y\\\": 625000.0, \\\"x\\\": 1490.0}, {\\\"y\\\": 437500.0, \\\"x\\\": 2120.0}, {\\\"y\\\": 650000.0, \\\"x\\\": 3180.0}, {\\\"y\\\": 475000.0, \\\"x\\\": 1490.0}, {\\\"y\\\": 342000.0, \\\"x\\\": 1930.0}, {\\\"y\\\": 1197354.0, \\\"x\\\": 2770.0}, {\\\"y\\\": 280000.0, \\\"x\\\": 1670.0}, {\\\"y\\\": 240000.0, \\\"x\\\": 1330.0}, {\\\"y\\\": 529000.0, \\\"x\\\": 1210.0}, {\\\"y\\\": 442000.0, \\\"x\\\": 1190.0}, {\\\"y\\\": 615000.0, \\\"x\\\": 1540.0}, {\\\"y\\\": 1485000.0, \\\"x\\\": 4030.0}, {\\\"y\\\": 585000.0, \\\"x\\\": 2430.0}, {\\\"y\\\": 480000.0, \\\"x\\\": 2600.0}, {\\\"y\\\": 1095000.0, \\\"x\\\": 4410.0}, {\\\"y\\\": 290000.0, \\\"x\\\": 1330.0}, {\\\"y\\\": 615000.0, \\\"x\\\": 1900.0}, {\\\"y\\\": 300000.0, \\\"x\\\": 1100.0}, {\\\"y\\\": 308000.0, \\\"x\\\": 1980.0}, {\\\"y\\\": 750000.0, \\\"x\\\": 2400.0}, {\\\"y\\\": 2250000.0, \\\"x\\\": 4760.0}, {\\\"y\\\": 890000.0, \\\"x\\\": 3180.0}, {\\\"y\\\": 288000.0, \\\"x\\\": 1190.0}, {\\\"y\\\": 190000.0, \\\"x\\\": 630.0}, {\\\"y\\\": 515000.0, \\\"x\\\": 2530.0}, {\\\"y\\\": 235000.0, \\\"x\\\": 1690.0}, {\\\"y\\\": 275000.0, \\\"x\\\": 940.0}, {\\\"y\\\": 727500.0, \\\"x\\\": 1240.0}, {\\\"y\\\": 650000.0, \\\"x\\\": 3040.0}, {\\\"y\\\": 1600000.0, \\\"x\\\": 6050.0}, {\\\"y\\\": 365000.0, \\\"x\\\": 1590.0}, {\\\"y\\\": 662000.0, \\\"x\\\": 2500.0}, {\\\"y\\\": 270500.0, \\\"x\\\": 1780.0}, {\\\"y\\\": 200000.0, \\\"x\\\": 1360.0}, {\\\"y\\\": 970000.0, \\\"x\\\": 4740.0}, {\\\"y\\\": 160000.0, \\\"x\\\": 1010.0}, {\\\"y\\\": 204000.0, \\\"x\\\": 1040.0}, {\\\"y\\\": 358000.0, \\\"x\\\": 1610.0}, {\\\"y\\\": 452000.0, \\\"x\\\": 1570.0}, {\\\"y\\\": 595000.0, \\\"x\\\": 1510.0}, {\\\"y\\\": 249000.0, \\\"x\\\": 1360.0}, {\\\"y\\\": 346900.0, \\\"x\\\": 1970.0}, {\\\"y\\\": 2125000.0, \\\"x\\\": 5403.0}, {\\\"y\\\": 280000.0, \\\"x\\\": 1560.0}, {\\\"y\\\": 318888.0, \\\"x\\\": 2320.0}, {\\\"y\\\": 530000.0, \\\"x\\\": 2120.0}, {\\\"y\\\": 375000.0, \\\"x\\\": 2120.0}, {\\\"y\\\": 910000.0, \\\"x\\\": 3350.0}, {\\\"y\\\": 782000.0, \\\"x\\\": 2380.0}, {\\\"y\\\": 259950.0, \\\"x\\\": 1070.0}, {\\\"y\\\": 315000.0, \\\"x\\\": 2300.0}, {\\\"y\\\": 215000.0, \\\"x\\\": 1320.0}, {\\\"y\\\": 705000.0, \\\"x\\\": 2180.0}, {\\\"y\\\": 1450000.0, \\\"x\\\": 4380.0}, {\\\"y\\\": 451000.0, \\\"x\\\": 1790.0}, {\\\"y\\\": 261000.0, \\\"x\\\": 750.0}, {\\\"y\\\": 396000.0, \\\"x\\\": 1300.0}, {\\\"y\\\": 725000.0, \\\"x\\\": 2990.0}, {\\\"y\\\": 1950000.0, \\\"x\\\": 4640.0}, {\\\"y\\\": 238000.0, \\\"x\\\": 1400.0}, {\\\"y\\\": 750000.0, \\\"x\\\": 2750.0}, {\\\"y\\\": 331500.0, \\\"x\\\": 2050.0}, {\\\"y\\\": 460000.0, \\\"x\\\": 2230.0}, {\\\"y\\\": 404950.0, \\\"x\\\": 2340.0}, {\\\"y\\\": 880000.0, \\\"x\\\": 2870.0}, {\\\"y\\\": 863000.0, \\\"x\\\": 4120.0}, {\\\"y\\\": 638700.0, \\\"x\\\": 2080.0}, {\\\"y\\\": 435000.0, \\\"x\\\": 1840.0}, {\\\"y\\\": 260000.0, \\\"x\\\": 1180.0}, {\\\"y\\\": 671500.0, \\\"x\\\": 2160.0}, {\\\"y\\\": 610000.0, \\\"x\\\": 1180.0}, {\\\"y\\\": 405000.0, \\\"x\\\": 1160.0}, {\\\"y\\\": 338900.0, \\\"x\\\": 1830.0}, {\\\"y\\\": 720000.0, \\\"x\\\": 3200.0}, {\\\"y\\\": 442000.0, \\\"x\\\": 2560.0}, {\\\"y\\\": 650000.0, \\\"x\\\": 2550.0}, {\\\"y\\\": 263500.0, \\\"x\\\": 1330.0}, {\\\"y\\\": 300000.0, \\\"x\\\": 1220.0}, {\\\"y\\\": 266000.0, \\\"x\\\": 1805.0}, {\\\"y\\\": 930000.0, \\\"x\\\": 6050.0}, {\\\"y\\\": 530000.0, \\\"x\\\": 2320.0}, {\\\"y\\\": 180000.0, \\\"x\\\": 1384.0}, {\\\"y\\\": 619000.0, \\\"x\\\": 2720.0}, {\\\"y\\\": 264000.0, \\\"x\\\": 1820.0}, {\\\"y\\\": 730000.0, \\\"x\\\": 2130.0}, {\\\"y\\\": 439000.0, \\\"x\\\": 2060.0}, {\\\"y\\\": 268500.0, \\\"x\\\": 1420.0}, {\\\"y\\\": 330000.0, \\\"x\\\": 1510.0}, {\\\"y\\\": 640000.0, \\\"x\\\": 2160.0}, {\\\"y\\\": 900000.0, \\\"x\\\": 3180.0}, {\\\"y\\\": 370000.0, \\\"x\\\": 2110.0}, {\\\"y\\\": 685000.0, \\\"x\\\": 2060.0}, {\\\"y\\\": 505000.0, \\\"x\\\": 1830.0}, {\\\"y\\\": 265000.0, \\\"x\\\": 1820.0}, {\\\"y\\\": 290000.0, \\\"x\\\": 1610.0}, {\\\"y\\\": 296000.0, \\\"x\\\": 1780.0}, {\\\"y\\\": 360000.0, \\\"x\\\": 1840.0}, {\\\"y\\\": 240500.0, \\\"x\\\": 1460.0}, {\\\"y\\\": 372500.0, \\\"x\\\": 1400.0}, {\\\"y\\\": 595000.0, \\\"x\\\": 3370.0}, {\\\"y\\\": 515000.0, \\\"x\\\": 3590.0}, {\\\"y\\\": 1220000.0, \\\"x\\\": 3200.0}, {\\\"y\\\": 507000.0, \\\"x\\\": 1670.0}, {\\\"y\\\": 399950.0, \\\"x\\\": 2420.0}, {\\\"y\\\": 185000.0, \\\"x\\\": 1430.0}, {\\\"y\\\": 460000.0, \\\"x\\\": 1440.0}, {\\\"y\\\": 435500.0, \\\"x\\\": 1450.0}, {\\\"y\\\": 469000.0, \\\"x\\\": 3550.0}, {\\\"y\\\": 531000.0, \\\"x\\\": 1270.0}, {\\\"y\\\": 443500.0, \\\"x\\\": 940.0}, {\\\"y\\\": 223000.0, \\\"x\\\": 1670.0}, {\\\"y\\\": 590000.0, \\\"x\\\": 3100.0}, {\\\"y\\\": 340000.0, \\\"x\\\": 1100.0}, {\\\"y\\\": 650000.0, \\\"x\\\": 1870.0}, {\\\"y\\\": 533600.0, \\\"x\\\": 1930.0}, {\\\"y\\\": 695000.0, \\\"x\\\": 2540.0}, {\\\"y\\\": 242000.0, \\\"x\\\": 1280.0}, {\\\"y\\\": 425000.0, \\\"x\\\": 1820.0}, {\\\"y\\\": 525000.0, \\\"x\\\": 1490.0}, {\\\"y\\\": 485000.0, \\\"x\\\": 1880.0}, {\\\"y\\\": 175000.0, \\\"x\\\": 1250.0}, {\\\"y\\\": 210000.0, \\\"x\\\": 1440.0}, {\\\"y\\\": 260000.0, \\\"x\\\": 1920.0}, {\\\"y\\\": 577000.0, \\\"x\\\": 2060.0}, {\\\"y\\\": 200000.0, \\\"x\\\": 1210.0}, {\\\"y\\\": 605000.0, \\\"x\\\": 1760.0}, {\\\"y\\\": 325000.0, \\\"x\\\": 990.0}, {\\\"y\\\": 289500.0, \\\"x\\\": 960.0}, {\\\"y\\\": 559950.0, \\\"x\\\": 1660.0}, {\\\"y\\\": 1042500.0, \\\"x\\\": 1900.0}, {\\\"y\\\": 543500.0, \\\"x\\\": 1270.0}, {\\\"y\\\": 480000.0, \\\"x\\\": 3250.0}, {\\\"y\\\": 218000.0, \\\"x\\\": 960.0}, {\\\"y\\\": 565000.0, \\\"x\\\": 1330.0}, {\\\"y\\\": 426700.0, \\\"x\\\": 2080.0}, {\\\"y\\\": 650000.0, \\\"x\\\": 2690.0}, {\\\"y\\\": 542000.0, \\\"x\\\": 890.0}, {\\\"y\\\": 415000.0, \\\"x\\\": 1070.0}, {\\\"y\\\": 214000.0, \\\"x\\\": 1200.0}, {\\\"y\\\": 245000.0, \\\"x\\\": 1360.0}, {\\\"y\\\": 314500.0, \\\"x\\\": 2050.0}, {\\\"y\\\": 1120000.0, \\\"x\\\": 3000.0}, {\\\"y\\\": 378000.0, \\\"x\\\": 1300.0}, {\\\"y\\\": 305000.0, \\\"x\\\": 2250.0}, {\\\"y\\\": 595000.0, \\\"x\\\": 3740.0}, {\\\"y\\\": 729500.0, \\\"x\\\": 1660.0}, {\\\"y\\\": 430000.0, \\\"x\\\": 2360.0}, {\\\"y\\\": 240000.0, \\\"x\\\": 1760.0}, {\\\"y\\\": 545000.0, \\\"x\\\": 1680.0}, {\\\"y\\\": 530000.0, \\\"x\\\": 1320.0}, {\\\"y\\\": 157000.0, \\\"x\\\": 870.0}, {\\\"y\\\": 425000.0, \\\"x\\\": 1260.0}, {\\\"y\\\": 220000.0, \\\"x\\\": 1000.0}, {\\\"y\\\": 521000.0, \\\"x\\\": 2020.0}, {\\\"y\\\": 325000.0, \\\"x\\\": 1920.0}, {\\\"y\\\": 597500.0, \\\"x\\\": 2150.0}, {\\\"y\\\": 337000.0, \\\"x\\\": 1470.0}, {\\\"y\\\": 1000000.0, \\\"x\\\": 3180.0}, {\\\"y\\\": 3070000.0, \\\"x\\\": 3930.0}, {\\\"y\\\": 495000.0, \\\"x\\\": 990.0}, {\\\"y\\\": 748000.0, \\\"x\\\": 2770.0}, {\\\"y\\\": 888000.0, \\\"x\\\": 1250.0}, {\\\"y\\\": 269900.0, \\\"x\\\": 1140.0}, {\\\"y\\\": 496500.0, \\\"x\\\": 2250.0}, {\\\"y\\\": 475000.0, \\\"x\\\": 1640.0}, {\\\"y\\\": 312000.0, \\\"x\\\": 1255.0}, {\\\"y\\\": 323000.0, \\\"x\\\": 1290.0}, {\\\"y\\\": 331000.0, \\\"x\\\": 1300.0}, {\\\"y\\\": 306000.0, \\\"x\\\": 1220.0}, {\\\"y\\\": 655000.0, \\\"x\\\": 2630.0}, {\\\"y\\\": 290000.0, \\\"x\\\": 1950.0}, {\\\"y\\\": 1250000.0, \\\"x\\\": 3160.0}, {\\\"y\\\": 460000.0, \\\"x\\\": 1550.0}, {\\\"y\\\": 435000.0, \\\"x\\\": 1700.0}, {\\\"y\\\": 664000.0, \\\"x\\\": 2510.0}, {\\\"y\\\": 865000.0, \\\"x\\\": 1800.0}, {\\\"y\\\": 385000.0, \\\"x\\\": 1800.0}, {\\\"y\\\": 497000.0, \\\"x\\\": 1870.0}, {\\\"y\\\": 280000.0, \\\"x\\\": 1010.0}, {\\\"y\\\": 188000.0, \\\"x\\\": 1120.0}, {\\\"y\\\": 478500.0, \\\"x\\\": 2090.0}, {\\\"y\\\": 1145000.0, \\\"x\\\": 4370.0}, {\\\"y\\\": 222000.0, \\\"x\\\": 1440.0}, {\\\"y\\\": 799000.0, \\\"x\\\": 2580.0}, {\\\"y\\\": 609900.0, \\\"x\\\": 3190.0}, {\\\"y\\\": 413000.0, \\\"x\\\": 2380.0}, {\\\"y\\\": 400000.0, \\\"x\\\": 1420.0}, {\\\"y\\\": 802541.0, \\\"x\\\": 2990.0}, {\\\"y\\\": 320000.0, \\\"x\\\": 2680.0}, {\\\"y\\\": 507000.0, \\\"x\\\": 2730.0}, {\\\"y\\\": 387500.0, \\\"x\\\": 1220.0}, {\\\"y\\\": 396000.0, \\\"x\\\": 1500.0}, {\\\"y\\\": 373000.0, \\\"x\\\": 1830.0}, {\\\"y\\\": 1484900.0, \\\"x\\\": 4570.0}, {\\\"y\\\": 359900.0, \\\"x\\\": 2470.0}, {\\\"y\\\": 410000.0, \\\"x\\\": 800.0}, {\\\"y\\\": 690000.0, \\\"x\\\": 2900.0}, {\\\"y\\\": 245000.0, \\\"x\\\": 1410.0}, {\\\"y\\\": 700000.0, \\\"x\\\": 2830.0}, {\\\"y\\\": 268000.0, \\\"x\\\": 1680.0}, {\\\"y\\\": 225000.0, \\\"x\\\": 1760.0}, {\\\"y\\\": 980000.0, \\\"x\\\": 2240.0}, {\\\"y\\\": 795000.0, \\\"x\\\": 1380.0}, {\\\"y\\\": 195000.0, \\\"x\\\": 820.0}, {\\\"y\\\": 480000.0, \\\"x\\\": 2180.0}, {\\\"y\\\": 485000.0, \\\"x\\\": 1400.0}, {\\\"y\\\": 130000.0, \\\"x\\\": 880.0}, {\\\"y\\\": 325000.0, \\\"x\\\": 1060.0}, {\\\"y\\\": 440000.0, \\\"x\\\": 1530.0}, {\\\"y\\\": 550000.0, \\\"x\\\": 2480.0}, {\\\"y\\\": 310000.0, \\\"x\\\": 1490.0}, {\\\"y\\\": 530000.0, \\\"x\\\": 3660.0}, {\\\"y\\\": 390000.0, \\\"x\\\": 2340.0}, {\\\"y\\\": 243000.0, \\\"x\\\": 1450.0}, {\\\"y\\\": 639000.0, \\\"x\\\": 2210.0}, {\\\"y\\\": 215000.0, \\\"x\\\": 1130.0}, {\\\"y\\\": 405000.0, \\\"x\\\": 1550.0}, {\\\"y\\\": 250000.0, \\\"x\\\": 1710.0}, {\\\"y\\\": 405500.0, \\\"x\\\": 1010.0}, {\\\"y\\\": 452000.0, \\\"x\\\": 2660.0}, {\\\"y\\\": 730000.0, \\\"x\\\": 2660.0}, {\\\"y\\\": 267000.0, \\\"x\\\": 1300.0}, {\\\"y\\\": 289950.0, \\\"x\\\": 1670.0}, {\\\"y\\\": 565000.0, \\\"x\\\": 960.0}, {\\\"y\\\": 1578000.0, \\\"x\\\": 4670.0}, {\\\"y\\\": 636000.0, \\\"x\\\": 2140.0}, {\\\"y\\\": 350000.0, \\\"x\\\": 2520.0}, {\\\"y\\\": 320000.0, \\\"x\\\": 1650.0}, {\\\"y\\\": 210000.0, \\\"x\\\": 1440.0}, {\\\"y\\\": 245000.0, \\\"x\\\": 1050.0}, {\\\"y\\\": 328000.0, \\\"x\\\": 1470.0}, {\\\"y\\\": 985000.0, \\\"x\\\": 4230.0}, {\\\"y\\\": 501000.0, \\\"x\\\": 1970.0}, {\\\"y\\\": 315000.0, \\\"x\\\": 1540.0}, {\\\"y\\\": 403000.0, \\\"x\\\": 2090.0}, {\\\"y\\\": 550000.0, \\\"x\\\": 2380.0}, {\\\"y\\\": 347500.0, \\\"x\\\": 2156.0}, {\\\"y\\\": 365000.0, \\\"x\\\": 2070.0}, {\\\"y\\\": 588000.0, \\\"x\\\": 1910.0}, {\\\"y\\\": 605000.0, \\\"x\\\": 1920.0}, {\\\"y\\\": 1300000.0, \\\"x\\\": 3400.0}, {\\\"y\\\": 233000.0, \\\"x\\\": 1400.0}, {\\\"y\\\": 360000.0, \\\"x\\\": 2210.0}, {\\\"y\\\": 459000.0, \\\"x\\\": 1170.0}, {\\\"y\\\": 740000.0, \\\"x\\\": 2100.0}, {\\\"y\\\": 305000.0, \\\"x\\\": 1160.0}, {\\\"y\\\": 395000.0, \\\"x\\\": 1500.0}, {\\\"y\\\": 560000.0, \\\"x\\\": 2940.0}, {\\\"y\\\": 650000.0, \\\"x\\\": 2010.0}, {\\\"y\\\": 449950.0, \\\"x\\\": 2170.0}, {\\\"y\\\": 517500.0, \\\"x\\\": 1430.0}, {\\\"y\\\": 435000.0, \\\"x\\\": 1510.0}, {\\\"y\\\": 329999.0, \\\"x\\\": 1150.0}, {\\\"y\\\": 950000.0, \\\"x\\\": 2150.0}, {\\\"y\\\": 447000.0, \\\"x\\\": 1370.0}, {\\\"y\\\": 699800.0, \\\"x\\\": 2380.0}, {\\\"y\\\": 850000.0, \\\"x\\\": 1370.0}, {\\\"y\\\": 316500.0, \\\"x\\\": 1600.0}, {\\\"y\\\": 942500.0, \\\"x\\\": 3750.0}, {\\\"y\\\": 1310000.0, \\\"x\\\": 3950.0}, {\\\"y\\\": 856600.0, \\\"x\\\": 2400.0}, {\\\"y\\\": 405600.0, \\\"x\\\": 2830.0}, {\\\"y\\\": 565000.0, \\\"x\\\": 2440.0}, {\\\"y\\\": 400000.0, \\\"x\\\": 1190.0}, {\\\"y\\\": 330000.0, \\\"x\\\": 1400.0}, {\\\"y\\\": 374950.0, \\\"x\\\": 2730.0}, {\\\"y\\\": 405300.0, \\\"x\\\": 2390.0}, {\\\"y\\\": 560000.0, \\\"x\\\": 2060.0}, {\\\"y\\\": 824000.0, \\\"x\\\": 2490.0}, {\\\"y\\\": 260000.0, \\\"x\\\": 1100.0}, {\\\"y\\\": 760000.0, \\\"x\\\": 2430.0}, {\\\"y\\\": 405000.0, \\\"x\\\": 3170.0}, {\\\"y\\\": 429900.0, \\\"x\\\": 2640.0}, {\\\"y\\\": 341500.0, \\\"x\\\": 1130.0}, {\\\"y\\\": 465250.0, \\\"x\\\": 1940.0}, {\\\"y\\\": 450000.0, \\\"x\\\": 1100.0}, {\\\"y\\\": 390000.0, \\\"x\\\": 1200.0}, {\\\"y\\\": 420000.0, \\\"x\\\": 2000.0}, {\\\"y\\\": 269950.0, \\\"x\\\": 1890.0}, {\\\"y\\\": 493000.0, \\\"x\\\": 1910.0}, {\\\"y\\\": 370000.0, \\\"x\\\": 2710.0}, {\\\"y\\\": 2250000.0, \\\"x\\\": 4860.0}, {\\\"y\\\": 305000.0, \\\"x\\\": 1250.0}, {\\\"y\\\": 400000.0, \\\"x\\\": 1590.0}, {\\\"y\\\": 320000.0, \\\"x\\\": 1240.0}, {\\\"y\\\": 715000.0, \\\"x\\\": 2000.0}, {\\\"y\\\": 650000.0, \\\"x\\\": 3610.0}, {\\\"y\\\": 218000.0, \\\"x\\\": 1930.0}, {\\\"y\\\": 500000.0, \\\"x\\\": 1280.0}, {\\\"y\\\": 460000.0, \\\"x\\\": 2090.0}, {\\\"y\\\": 232500.0, \\\"x\\\": 1940.0}, {\\\"y\\\": 408200.0, \\\"x\\\": 1800.0}, {\\\"y\\\": 522000.0, \\\"x\\\": 1730.0}, {\\\"y\\\": 675000.0, \\\"x\\\": 2810.0}, {\\\"y\\\": 1355000.0, \\\"x\\\": 3550.0}, {\\\"y\\\": 249950.0, \\\"x\\\": 1330.0}, {\\\"y\\\": 210000.0, \\\"x\\\": 750.0}, {\\\"y\\\": 429950.0, \\\"x\\\": 1760.0}, {\\\"y\\\": 737500.0, \\\"x\\\": 3200.0}, {\\\"y\\\": 710000.0, \\\"x\\\": 1740.0}, {\\\"y\\\": 470000.0, \\\"x\\\": 2100.0}, {\\\"y\\\": 1100000.0, \\\"x\\\": 4270.0}, {\\\"y\\\": 650000.0, \\\"x\\\": 1340.0}, {\\\"y\\\": 1216000.0, \\\"x\\\": 3190.0}, {\\\"y\\\": 422120.0, \\\"x\\\": 1630.0}, {\\\"y\\\": 625000.0, \\\"x\\\": 2990.0}, {\\\"y\\\": 385200.0, \\\"x\\\": 1550.0}, {\\\"y\\\": 500000.0, \\\"x\\\": 1690.0}, {\\\"y\\\": 308000.0, \\\"x\\\": 1960.0}, {\\\"y\\\": 565000.0, \\\"x\\\": 2390.0}, {\\\"y\\\": 581000.0, \\\"x\\\": 2600.0}, {\\\"y\\\": 361000.0, \\\"x\\\": 1950.0}, {\\\"y\\\": 345000.0, \\\"x\\\": 1250.0}, {\\\"y\\\": 419000.0, \\\"x\\\": 1180.0}, {\\\"y\\\": 347000.0, \\\"x\\\": 1680.0}, {\\\"y\\\": 625000.0, \\\"x\\\": 2220.0}, {\\\"y\\\": 2400000.0, \\\"x\\\": 4890.0}, {\\\"y\\\": 379000.0, \\\"x\\\": 2660.0}, {\\\"y\\\": 310000.0, \\\"x\\\": 1150.0}, {\\\"y\\\": 250000.0, \\\"x\\\": 1130.0}, {\\\"y\\\": 682000.0, \\\"x\\\": 2760.0}, {\\\"y\\\": 246500.0, \\\"x\\\": 1430.0}, {\\\"y\\\": 325000.0, \\\"x\\\": 1490.0}, {\\\"y\\\": 310950.0, \\\"x\\\": 2030.0}, {\\\"y\\\": 1100000.0, \\\"x\\\": 3010.0}, {\\\"y\\\": 287500.0, \\\"x\\\": 1810.0}, {\\\"y\\\": 431000.0, \\\"x\\\": 1810.0}, {\\\"y\\\": 226000.0, \\\"x\\\": 970.0}, {\\\"y\\\": 825000.0, \\\"x\\\": 2010.0}, {\\\"y\\\": 175000.0, \\\"x\\\": 1300.0}, {\\\"y\\\": 465750.0, \\\"x\\\": 1260.0}, {\\\"y\\\": 659000.0, \\\"x\\\": 2610.0}, {\\\"y\\\": 595000.0, \\\"x\\\": 1910.0}, {\\\"y\\\": 350000.0, \\\"x\\\": 1780.0}, {\\\"y\\\": 270000.0, \\\"x\\\": 1900.0}, {\\\"y\\\": 662500.0, \\\"x\\\": 2450.0}, {\\\"y\\\": 249900.0, \\\"x\\\": 1380.0}, {\\\"y\\\": 324500.0, \\\"x\\\": 1920.0}, {\\\"y\\\": 430000.0, \\\"x\\\": 1350.0}, {\\\"y\\\": 419950.0, \\\"x\\\": 1350.0}, {\\\"y\\\": 285000.0, \\\"x\\\": 2510.0}, {\\\"y\\\": 332000.0, \\\"x\\\": 2470.0}, {\\\"y\\\": 282000.0, \\\"x\\\": 1660.0}, {\\\"y\\\": 320000.0, \\\"x\\\": 1340.0}, {\\\"y\\\": 428750.0, \\\"x\\\": 1620.0}, {\\\"y\\\": 330000.0, \\\"x\\\": 2300.0}, {\\\"y\\\": 456500.0, \\\"x\\\": 2000.0}, {\\\"y\\\": 352000.0, \\\"x\\\": 1640.0}, {\\\"y\\\": 664000.0, \\\"x\\\": 1530.0}, {\\\"y\\\": 628000.0, \\\"x\\\": 4000.0}, {\\\"y\\\": 512000.0, \\\"x\\\": 1610.0}, {\\\"y\\\": 254000.0, \\\"x\\\": 2070.0}, {\\\"y\\\": 535800.0, \\\"x\\\": 1900.0}, {\\\"y\\\": 287653.0, \\\"x\\\": 1050.0}, {\\\"y\\\": 438000.0, \\\"x\\\": 1520.0}, {\\\"y\\\": 450000.0, \\\"x\\\": 2390.0}, {\\\"y\\\": 327000.0, \\\"x\\\": 2400.0}, {\\\"y\\\": 370500.0, \\\"x\\\": 1790.0}, {\\\"y\\\": 265000.0, \\\"x\\\": 1720.0}, {\\\"y\\\": 450000.0, \\\"x\\\": 2980.0}, {\\\"y\\\": 425000.0, \\\"x\\\": 1520.0}, {\\\"y\\\": 166600.0, \\\"x\\\": 1150.0}, {\\\"y\\\": 245000.0, \\\"x\\\": 380.0}, {\\\"y\\\": 565000.0, \\\"x\\\": 910.0}, {\\\"y\\\": 539900.0, \\\"x\\\": 1650.0}, {\\\"y\\\": 910000.0, \\\"x\\\": 2480.0}, {\\\"y\\\": 280000.0, \\\"x\\\": 2050.0}, {\\\"y\\\": 275000.0, \\\"x\\\": 1420.0}, {\\\"y\\\": 467000.0, \\\"x\\\": 3460.0}, {\\\"y\\\": 457500.0, \\\"x\\\": 1500.0}, {\\\"y\\\": 381156.0, \\\"x\\\": 1320.0}, {\\\"y\\\": 289999.0, \\\"x\\\": 2180.0}, {\\\"y\\\": 642450.0, \\\"x\\\": 1830.0}, {\\\"y\\\": 469950.0, \\\"x\\\": 1620.0}, {\\\"y\\\": 795000.0, \\\"x\\\": 2920.0}, {\\\"y\\\": 785000.0, \\\"x\\\": 3300.0}, {\\\"y\\\": 860000.0, \\\"x\\\": 3060.0}, {\\\"y\\\": 1095000.0, \\\"x\\\": 3064.0}, {\\\"y\\\": 147500.0, \\\"x\\\": 1530.0}, {\\\"y\\\": 390000.0, \\\"x\\\": 1910.0}, {\\\"y\\\": 229000.0, \\\"x\\\": 1020.0}, {\\\"y\\\": 185000.0, \\\"x\\\": 1150.0}, {\\\"y\\\": 414900.0, \\\"x\\\": 1260.0}, {\\\"y\\\": 200000.0, \\\"x\\\": 1920.0}, {\\\"y\\\": 225000.0, \\\"x\\\": 1800.0}, {\\\"y\\\": 720000.0, \\\"x\\\": 2040.0}, {\\\"y\\\": 930000.0, \\\"x\\\": 2200.0}, {\\\"y\\\": 1270000.0, \\\"x\\\": 3200.0}, {\\\"y\\\": 700000.0, \\\"x\\\": 2400.0}, {\\\"y\\\": 466000.0, \\\"x\\\": 1140.0}, {\\\"y\\\": 374000.0, \\\"x\\\": 1330.0}, {\\\"y\\\": 480000.0, \\\"x\\\": 1940.0}, {\\\"y\\\": 740000.0, \\\"x\\\": 3000.0}, {\\\"y\\\": 1010000.0, \\\"x\\\": 1820.0}, {\\\"y\\\": 395000.0, \\\"x\\\": 2910.0}, {\\\"y\\\": 340000.0, \\\"x\\\": 1090.0}, {\\\"y\\\": 209000.0, \\\"x\\\": 1230.0}, {\\\"y\\\": 431650.0, \\\"x\\\": 1710.0}, {\\\"y\\\": 980000.0, \\\"x\\\": 3160.0}, {\\\"y\\\": 660000.0, \\\"x\\\": 2680.0}, {\\\"y\\\": 730000.0, \\\"x\\\": 2190.0}, {\\\"y\\\": 291500.0, \\\"x\\\": 1260.0}, {\\\"y\\\": 905000.0, \\\"x\\\": 2970.0}, {\\\"y\\\": 800000.0, \\\"x\\\": 2570.0}, {\\\"y\\\": 839900.0, \\\"x\\\": 3810.0}, {\\\"y\\\": 200000.0, \\\"x\\\": 1010.0}, {\\\"y\\\": 300000.0, \\\"x\\\": 1480.0}, {\\\"y\\\": 530000.0, \\\"x\\\": 1250.0}, {\\\"y\\\": 314950.0, \\\"x\\\": 1654.0}, {\\\"y\\\": 255000.0, \\\"x\\\": 1410.0}, {\\\"y\\\": 550000.0, \\\"x\\\": 2160.0}, {\\\"y\\\": 435000.0, \\\"x\\\": 1400.0}, {\\\"y\\\": 234000.0, \\\"x\\\": 1420.0}, {\\\"y\\\": 615000.0, \\\"x\\\": 2500.0}, {\\\"y\\\": 205000.0, \\\"x\\\": 1410.0}, {\\\"y\\\": 384000.0, \\\"x\\\": 2100.0}, {\\\"y\\\": 324000.0, \\\"x\\\": 1750.0}, {\\\"y\\\": 645000.0, \\\"x\\\": 2070.0}, {\\\"y\\\": 570000.0, \\\"x\\\": 1570.0}, {\\\"y\\\": 324000.0, \\\"x\\\": 1920.0}, {\\\"y\\\": 270000.0, \\\"x\\\": 1000.0}, {\\\"y\\\": 290000.0, \\\"x\\\": 2120.0}, {\\\"y\\\": 250000.0, \\\"x\\\": 1440.0}, {\\\"y\\\": 342000.0, \\\"x\\\": 1660.0}, {\\\"y\\\": 255000.0, \\\"x\\\": 1340.0}, {\\\"y\\\": 800000.0, \\\"x\\\": 2380.0}, {\\\"y\\\": 451000.0, \\\"x\\\": 1560.0}, {\\\"y\\\": 990000.0, \\\"x\\\": 2780.0}, {\\\"y\\\": 288400.0, \\\"x\\\": 1860.0}, {\\\"y\\\": 420000.0, \\\"x\\\": 2390.0}, {\\\"y\\\": 359000.0, \\\"x\\\": 1370.0}, {\\\"y\\\": 390000.0, \\\"x\\\": 2570.0}, {\\\"y\\\": 300000.0, \\\"x\\\": 1320.0}, {\\\"y\\\": 545000.0, \\\"x\\\": 2520.0}, {\\\"y\\\": 288349.0, \\\"x\\\": 1250.0}, {\\\"y\\\": 299900.0, \\\"x\\\": 1560.0}, {\\\"y\\\": 891000.0, \\\"x\\\": 2330.0}, {\\\"y\\\": 1200000.0, \\\"x\\\": 3660.0}, {\\\"y\\\": 378000.0, \\\"x\\\": 2790.0}, {\\\"y\\\": 299995.0, \\\"x\\\": 1060.0}, {\\\"y\\\": 253000.0, \\\"x\\\": 2020.0}, {\\\"y\\\": 350000.0, \\\"x\\\": 1580.0}, {\\\"y\\\": 565000.0, \\\"x\\\": 2020.0}, {\\\"y\\\": 315000.0, \\\"x\\\": 970.0}, {\\\"y\\\": 570000.0, \\\"x\\\": 1490.0}, {\\\"y\\\": 971000.0, \\\"x\\\": 4390.0}, {\\\"y\\\": 915000.0, \\\"x\\\": 2750.0}, {\\\"y\\\": 419000.0, \\\"x\\\": 2150.0}, {\\\"y\\\": 260000.0, \\\"x\\\": 1810.0}, {\\\"y\\\": 1321500.0, \\\"x\\\": 2230.0}, {\\\"y\\\": 369950.0, \\\"x\\\": 2430.0}, {\\\"y\\\": 1029900.0, \\\"x\\\": 3680.0}, {\\\"y\\\": 435000.0, \\\"x\\\": 1410.0}, {\\\"y\\\": 601000.0, \\\"x\\\": 1330.0}, {\\\"y\\\": 460500.0, \\\"x\\\": 1490.0}, {\\\"y\\\": 720000.0, \\\"x\\\": 2020.0}, {\\\"y\\\": 851000.0, \\\"x\\\": 3130.0}, {\\\"y\\\": 550000.0, \\\"x\\\": 2670.0}, {\\\"y\\\": 700000.0, \\\"x\\\": 1980.0}, {\\\"y\\\": 323000.0, \\\"x\\\": 2100.0}, {\\\"y\\\": 345500.0, \\\"x\\\": 1350.0}, {\\\"y\\\": 378000.0, \\\"x\\\": 2140.0}, {\\\"y\\\": 650000.0, \\\"x\\\": 2208.0}, {\\\"y\\\": 385000.0, \\\"x\\\": 1010.0}, {\\\"y\\\": 425000.0, \\\"x\\\": 970.0}, {\\\"y\\\": 210000.0, \\\"x\\\": 1520.0}, {\\\"y\\\": 630000.0, \\\"x\\\": 2740.0}, {\\\"y\\\": 335000.0, \\\"x\\\": 1570.0}, {\\\"y\\\": 196500.0, \\\"x\\\": 1320.0}, {\\\"y\\\": 582800.0, \\\"x\\\": 2550.0}, {\\\"y\\\": 440000.0, \\\"x\\\": 1560.0}, {\\\"y\\\": 752500.0, \\\"x\\\": 2360.0}, {\\\"y\\\": 532500.0, \\\"x\\\": 1330.0}, {\\\"y\\\": 265000.0, \\\"x\\\": 1070.0}, {\\\"y\\\": 397500.0, \\\"x\\\": 1510.0}, {\\\"y\\\": 524250.0, \\\"x\\\": 1710.0}, {\\\"y\\\": 765000.0, \\\"x\\\": 2790.0}, {\\\"y\\\": 648000.0, \\\"x\\\": 2620.0}, {\\\"y\\\": 469500.0, \\\"x\\\": 2970.0}, {\\\"y\\\": 237500.0, \\\"x\\\": 1050.0}, {\\\"y\\\": 216000.0, \\\"x\\\": 1280.0}, {\\\"y\\\": 427200.0, \\\"x\\\": 1030.0}, {\\\"y\\\": 280000.0, \\\"x\\\": 1900.0}, {\\\"y\\\": 718000.0, \\\"x\\\": 3070.0}, {\\\"y\\\": 420000.0, \\\"x\\\": 1760.0}, {\\\"y\\\": 379000.0, \\\"x\\\": 930.0}, {\\\"y\\\": 326100.0, \\\"x\\\": 880.0}, {\\\"y\\\": 535000.0, \\\"x\\\": 1360.0}, {\\\"y\\\": 283000.0, \\\"x\\\": 2130.0}, {\\\"y\\\": 260000.0, \\\"x\\\": 1480.0}, {\\\"y\\\": 399000.0, \\\"x\\\": 1500.0}, {\\\"y\\\": 484950.0, \\\"x\\\": 1670.0}, {\\\"y\\\": 640000.0, \\\"x\\\": 2060.0}, {\\\"y\\\": 585000.0, \\\"x\\\": 2160.0}, {\\\"y\\\": 645000.0, \\\"x\\\": 2780.0}, {\\\"y\\\": 253000.0, \\\"x\\\": 1490.0}, {\\\"y\\\": 178500.0, \\\"x\\\": 740.0}, {\\\"y\\\": 291000.0, \\\"x\\\": 1860.0}, {\\\"y\\\": 199950.0, \\\"x\\\": 1590.0}, {\\\"y\\\": 553500.0, \\\"x\\\": 850.0}, {\\\"y\\\": 189950.0, \\\"x\\\": 1030.0}, {\\\"y\\\": 289000.0, \\\"x\\\": 1850.0}, {\\\"y\\\": 700000.0, \\\"x\\\": 1830.0}, {\\\"y\\\": 270000.0, \\\"x\\\": 1560.0}, {\\\"y\\\": 258000.0, \\\"x\\\": 1730.0}, {\\\"y\\\": 530000.0, \\\"x\\\": 1930.0}, {\\\"y\\\": 245000.0, \\\"x\\\": 1422.0}, {\\\"y\\\": 563000.0, \\\"x\\\": 1380.0}, {\\\"y\\\": 515000.0, \\\"x\\\": 2430.0}, {\\\"y\\\": 325000.0, \\\"x\\\": 2610.0}, {\\\"y\\\": 540000.0, \\\"x\\\": 2000.0}, {\\\"y\\\": 280300.0, \\\"x\\\": 920.0}, {\\\"y\\\": 460000.0, \\\"x\\\": 1750.0}, {\\\"y\\\": 475000.0, \\\"x\\\": 2020.0}, {\\\"y\\\": 900000.0, \\\"x\\\": 2460.0}, {\\\"y\\\": 538200.0, \\\"x\\\": 1780.0}, {\\\"y\\\": 429000.0, \\\"x\\\": 1080.0}, {\\\"y\\\": 164808.0, \\\"x\\\": 1250.0}, {\\\"y\\\": 520000.0, \\\"x\\\": 1870.0}, {\\\"y\\\": 475000.0, \\\"x\\\": 1700.0}, {\\\"y\\\": 283000.0, \\\"x\\\": 1480.0}, {\\\"y\\\": 321500.0, \\\"x\\\": 1930.0}, {\\\"y\\\": 840000.0, \\\"x\\\": 3130.0}, {\\\"y\\\": 287000.0, \\\"x\\\": 1370.0}, {\\\"y\\\": 375000.0, \\\"x\\\": 960.0}, {\\\"y\\\": 349500.0, \\\"x\\\": 1260.0}, {\\\"y\\\": 446450.0, \\\"x\\\": 1480.0}, {\\\"y\\\": 315000.0, \\\"x\\\": 1930.0}, {\\\"y\\\": 271310.0, \\\"x\\\": 870.0}, {\\\"y\\\": 315000.0, \\\"x\\\": 1300.0}, {\\\"y\\\": 245000.0, \\\"x\\\": 1490.0}, {\\\"y\\\": 543115.0, \\\"x\\\": 1380.0}, {\\\"y\\\": 900000.0, \\\"x\\\": 1190.0}, {\\\"y\\\": 2450000.0, \\\"x\\\": 4250.0}, {\\\"y\\\": 554000.0, \\\"x\\\": 1920.0}, {\\\"y\\\": 249900.0, \\\"x\\\": 2080.0}, {\\\"y\\\": 768000.0, \\\"x\\\": 3220.0}, {\\\"y\\\": 980000.0, \\\"x\\\": 3680.0}, {\\\"y\\\": 395000.0, \\\"x\\\": 2070.0}, {\\\"y\\\": 415000.0, \\\"x\\\": 1480.0}, {\\\"y\\\": 380000.0, \\\"x\\\": 2000.0}, {\\\"y\\\": 566000.0, \\\"x\\\": 1560.0}, {\\\"y\\\": 218500.0, \\\"x\\\": 1600.0}, {\\\"y\\\": 550000.0, \\\"x\\\": 1940.0}, {\\\"y\\\": 512031.0, \\\"x\\\": 1540.0}, {\\\"y\\\": 197500.0, \\\"x\\\": 820.0}, {\\\"y\\\": 470000.0, \\\"x\\\": 1780.0}, {\\\"y\\\": 590000.0, \\\"x\\\": 1560.0}, {\\\"y\\\": 465000.0, \\\"x\\\": 2210.0}, {\\\"y\\\": 499000.0, \\\"x\\\": 2040.0}, {\\\"y\\\": 515000.0, \\\"x\\\": 1920.0}, {\\\"y\\\": 716500.0, \\\"x\\\": 1930.0}, {\\\"y\\\": 410000.0, \\\"x\\\": 1700.0}, {\\\"y\\\": 850000.0, \\\"x\\\": 3450.0}, {\\\"y\\\": 1050000.0, \\\"x\\\": 3440.0}, {\\\"y\\\": 648000.0, \\\"x\\\": 2380.0}, {\\\"y\\\": 620000.0, \\\"x\\\": 2400.0}, {\\\"y\\\": 935000.0, \\\"x\\\": 5670.0}, {\\\"y\\\": 379000.0, \\\"x\\\": 1140.0}, {\\\"y\\\": 699000.0, \\\"x\\\": 1670.0}, {\\\"y\\\": 528000.0, \\\"x\\\": 1910.0}, {\\\"y\\\": 425000.0, \\\"x\\\": 1560.0}, {\\\"y\\\": 249500.0, \\\"x\\\": 1500.0}, {\\\"y\\\": 1035480.0, \\\"x\\\": 4475.0}, {\\\"y\\\": 790000.0, \\\"x\\\": 2840.0}, {\\\"y\\\": 399950.0, \\\"x\\\": 1020.0}, {\\\"y\\\": 275000.0, \\\"x\\\": 1410.0}, {\\\"y\\\": 550000.0, \\\"x\\\": 1520.0}, {\\\"y\\\": 140000.0, \\\"x\\\": 730.0}, {\\\"y\\\": 250000.0, \\\"x\\\": 1190.0}, {\\\"y\\\": 318000.0, \\\"x\\\": 1410.0}, {\\\"y\\\": 505000.0, \\\"x\\\": 1240.0}, {\\\"y\\\": 470500.0, \\\"x\\\": 2500.0}, {\\\"y\\\": 360000.0, \\\"x\\\": 1050.0}, {\\\"y\\\": 1242500.0, \\\"x\\\": 2680.0}, {\\\"y\\\": 986000.0, \\\"x\\\": 2380.0}, {\\\"y\\\": 515000.0, \\\"x\\\": 1060.0}, {\\\"y\\\": 320000.0, \\\"x\\\": 2300.0}, {\\\"y\\\": 310000.0, \\\"x\\\": 2010.0}, {\\\"y\\\": 356700.0, \\\"x\\\": 1090.0}, {\\\"y\\\": 775000.0, \\\"x\\\": 2320.0}, {\\\"y\\\": 325000.0, \\\"x\\\": 1040.0}, {\\\"y\\\": 208000.0, \\\"x\\\": 1810.0}, {\\\"y\\\": 825000.0, \\\"x\\\": 1150.0}, {\\\"y\\\": 515000.0, \\\"x\\\": 2360.0}, {\\\"y\\\": 490000.0, \\\"x\\\": 1970.0}, {\\\"y\\\": 675000.0, \\\"x\\\": 2690.0}, {\\\"y\\\": 360000.0, \\\"x\\\": 2080.0}, {\\\"y\\\": 550000.0, \\\"x\\\": 2080.0}, {\\\"y\\\": 225000.0, \\\"x\\\": 1370.0}, {\\\"y\\\": 500000.0, \\\"x\\\": 3410.0}, {\\\"y\\\": 385000.0, \\\"x\\\": 1850.0}, {\\\"y\\\": 837700.0, \\\"x\\\": 3010.0}, {\\\"y\\\": 448000.0, \\\"x\\\": 1530.0}, {\\\"y\\\": 730000.0, \\\"x\\\": 2690.0}, {\\\"y\\\": 575000.0, \\\"x\\\": 2810.0}, {\\\"y\\\": 430000.0, \\\"x\\\": 1810.0}, {\\\"y\\\": 435000.0, \\\"x\\\": 1560.0}, {\\\"y\\\": 241000.0, \\\"x\\\": 1010.0}, {\\\"y\\\": 453500.0, \\\"x\\\": 1000.0}, {\\\"y\\\": 285000.0, \\\"x\\\": 990.0}, {\\\"y\\\": 151000.0, \\\"x\\\": 720.0}, {\\\"y\\\": 1570000.0, \\\"x\\\": 6070.0}, {\\\"y\\\": 631000.0, \\\"x\\\": 2270.0}, {\\\"y\\\": 285000.0, \\\"x\\\": 1380.0}, {\\\"y\\\": 195000.0, \\\"x\\\": 1260.0}, {\\\"y\\\": 817500.0, \\\"x\\\": 2910.0}, {\\\"y\\\": 550000.0, \\\"x\\\": 1810.0}, {\\\"y\\\": 1127000.0, \\\"x\\\": 3160.0}, {\\\"y\\\": 609850.0, \\\"x\\\": 1910.0}, {\\\"y\\\": 200000.0, \\\"x\\\": 1230.0}, {\\\"y\\\": 367000.0, \\\"x\\\": 2960.0}, {\\\"y\\\": 285167.0, \\\"x\\\": 2200.0}, {\\\"y\\\": 275000.0, \\\"x\\\": 1270.0}, {\\\"y\\\": 350900.0, \\\"x\\\": 2540.0}, {\\\"y\\\": 660000.0, \\\"x\\\": 3030.0}, {\\\"y\\\": 525000.0, \\\"x\\\": 1520.0}, {\\\"y\\\": 262000.0, \\\"x\\\": 1560.0}, {\\\"y\\\": 690000.0, \\\"x\\\": 970.0}, {\\\"y\\\": 624000.0, \\\"x\\\": 3570.0}, {\\\"y\\\": 353000.0, \\\"x\\\": 1350.0}, {\\\"y\\\": 552500.0, \\\"x\\\": 3710.0}, {\\\"y\\\": 224500.0, \\\"x\\\": 1430.0}, {\\\"y\\\": 239000.0, \\\"x\\\": 940.0}, {\\\"y\\\": 975000.0, \\\"x\\\": 4300.0}, {\\\"y\\\": 1200000.0, \\\"x\\\": 3990.0}, {\\\"y\\\": 505000.0, \\\"x\\\": 1380.0}, {\\\"y\\\": 302000.0, \\\"x\\\": 2020.0}, {\\\"y\\\": 170000.0, \\\"x\\\": 1480.0}, {\\\"y\\\": 195000.0, \\\"x\\\": 1190.0}, {\\\"y\\\": 272000.0, \\\"x\\\": 2550.0}, {\\\"y\\\": 369000.0, \\\"x\\\": 2550.0}, {\\\"y\\\": 332500.0, \\\"x\\\": 1500.0}, {\\\"y\\\": 515000.0, \\\"x\\\": 3000.0}, {\\\"y\\\": 269000.0, \\\"x\\\": 1690.0}, {\\\"y\\\": 1278000.0, \\\"x\\\": 4390.0}, {\\\"y\\\": 303000.0, \\\"x\\\": 1560.0}, {\\\"y\\\": 420000.0, \\\"x\\\": 2940.0}, {\\\"y\\\": 400000.0, \\\"x\\\": 1130.0}, {\\\"y\\\": 225000.0, \\\"x\\\": 1020.0}, {\\\"y\\\": 219000.0, \\\"x\\\": 1310.0}, {\\\"y\\\": 605000.0, \\\"x\\\": 2570.0}, {\\\"y\\\": 625000.0, \\\"x\\\": 2020.0}, {\\\"y\\\": 380000.0, \\\"x\\\": 1680.0}, {\\\"y\\\": 620000.0, \\\"x\\\": 1770.0}, {\\\"y\\\": 687500.0, \\\"x\\\": 3190.0}, {\\\"y\\\": 225500.0, \\\"x\\\": 1440.0}, {\\\"y\\\": 252500.0, \\\"x\\\": 1150.0}, {\\\"y\\\": 510000.0, \\\"x\\\": 1860.0}, {\\\"y\\\": 510000.0, \\\"x\\\": 2430.0}, {\\\"y\\\": 725000.0, \\\"x\\\": 1940.0}, {\\\"y\\\": 75000.0, \\\"x\\\": 670.0}, {\\\"y\\\": 492000.0, \\\"x\\\": 880.0}, {\\\"y\\\": 425000.0, \\\"x\\\": 1930.0}, {\\\"y\\\": 1955000.0, \\\"x\\\": 3120.0}, {\\\"y\\\": 298900.0, \\\"x\\\": 1830.0}, {\\\"y\\\": 699000.0, \\\"x\\\": 3230.0}, {\\\"y\\\": 310000.0, \\\"x\\\": 700.0}, {\\\"y\\\": 350000.0, \\\"x\\\": 1010.0}, {\\\"y\\\": 790000.0, \\\"x\\\": 2460.0}, {\\\"y\\\": 305000.0, \\\"x\\\": 2230.0}, {\\\"y\\\": 315000.0, \\\"x\\\": 1570.0}, {\\\"y\\\": 267500.0, \\\"x\\\": 2390.0}, {\\\"y\\\": 1750000.0, \\\"x\\\": 3460.0}, {\\\"y\\\": 435000.0, \\\"x\\\": 2400.0}, {\\\"y\\\": 482500.0, \\\"x\\\": 2940.0}, {\\\"y\\\": 5110800.0, \\\"x\\\": 8010.0}, {\\\"y\\\": 439995.0, \\\"x\\\": 1570.0}, {\\\"y\\\": 460000.0, \\\"x\\\": 1520.0}, {\\\"y\\\": 194000.0, \\\"x\\\": 1070.0}, {\\\"y\\\": 290000.0, \\\"x\\\": 440.0}, {\\\"y\\\": 274700.0, \\\"x\\\": 2440.0}, {\\\"y\\\": 900000.0, \\\"x\\\": 2660.0}, {\\\"y\\\": 1150000.0, \\\"x\\\": 4460.0}, {\\\"y\\\": 605000.0, \\\"x\\\": 2010.0}, {\\\"y\\\": 359000.0, \\\"x\\\": 1450.0}, {\\\"y\\\": 850000.0, \\\"x\\\": 1400.0}, {\\\"y\\\": 505000.0, \\\"x\\\": 1500.0}, {\\\"y\\\": 565000.0, \\\"x\\\": 2500.0}, {\\\"y\\\": 585000.0, \\\"x\\\": 1280.0}, {\\\"y\\\": 328000.0, \\\"x\\\": 3380.0}, {\\\"y\\\": 749950.0, \\\"x\\\": 2910.0}, {\\\"y\\\": 826000.0, \\\"x\\\": 3060.0}, {\\\"y\\\": 535000.0, \\\"x\\\": 1330.0}, {\\\"y\\\": 925000.0, \\\"x\\\": 3300.0}, {\\\"y\\\": 875000.0, \\\"x\\\": 3250.0}, {\\\"y\\\": 902000.0, \\\"x\\\": 2530.0}, {\\\"y\\\": 423000.0, \\\"x\\\": 1830.0}, {\\\"y\\\": 235000.0, \\\"x\\\": 1170.0}, {\\\"y\\\": 545000.0, \\\"x\\\": 2930.0}, {\\\"y\\\": 343000.0, \\\"x\\\": 1230.0}, {\\\"y\\\": 334950.0, \\\"x\\\": 1620.0}, {\\\"y\\\": 405000.0, \\\"x\\\": 1760.0}, {\\\"y\\\": 220000.0, \\\"x\\\": 1440.0}, {\\\"y\\\": 173000.0, \\\"x\\\": 1740.0}, {\\\"y\\\": 655000.0, \\\"x\\\": 1270.0}, {\\\"y\\\": 406000.0, \\\"x\\\": 880.0}, {\\\"y\\\": 632000.0, \\\"x\\\": 2560.0}, {\\\"y\\\": 357000.0, \\\"x\\\": 1540.0}, {\\\"y\\\": 361000.0, \\\"x\\\": 1150.0}, {\\\"y\\\": 277000.0, \\\"x\\\": 770.0}, {\\\"y\\\": 630000.0, \\\"x\\\": 4610.0}, {\\\"y\\\": 254000.0, \\\"x\\\": 1850.0}, {\\\"y\\\": 472800.0, \\\"x\\\": 1840.0}, {\\\"y\\\": 263000.0, \\\"x\\\": 1490.0}, {\\\"y\\\": 510000.0, \\\"x\\\": 1490.0}, {\\\"y\\\": 179950.0, \\\"x\\\": 960.0}, {\\\"y\\\": 525000.0, \\\"x\\\": 1580.0}, {\\\"y\\\": 479000.0, \\\"x\\\": 1260.0}, {\\\"y\\\": 651000.0, \\\"x\\\": 1940.0}, {\\\"y\\\": 949000.0, \\\"x\\\": 2490.0}, {\\\"y\\\": 392400.0, \\\"x\\\": 2520.0}, {\\\"y\\\": 585000.0, \\\"x\\\": 1760.0}, {\\\"y\\\": 460000.0, \\\"x\\\": 4190.0}, {\\\"y\\\": 470000.0, \\\"x\\\": 1170.0}, {\\\"y\\\": 245000.0, \\\"x\\\": 1600.0}, {\\\"y\\\": 500000.0, \\\"x\\\": 2760.0}, {\\\"y\\\": 455000.0, \\\"x\\\": 2090.0}, {\\\"y\\\": 485500.0, \\\"x\\\": 2320.0}, {\\\"y\\\": 1875000.0, \\\"x\\\": 4110.0}, {\\\"y\\\": 100000.0, \\\"x\\\": 770.0}, {\\\"y\\\": 307000.0, \\\"x\\\": 1410.0}, {\\\"y\\\": 475000.0, \\\"x\\\": 3660.0}, {\\\"y\\\": 330000.0, \\\"x\\\": 2180.0}, {\\\"y\\\": 130000.0, \\\"x\\\": 1110.0}, {\\\"y\\\": 320000.0, \\\"x\\\": 2280.0}, {\\\"y\\\": 735000.0, \\\"x\\\": 2820.0}, {\\\"y\\\": 365000.0, \\\"x\\\": 1570.0}, {\\\"y\\\": 234000.0, \\\"x\\\": 1200.0}, {\\\"y\\\": 211000.0, \\\"x\\\": 1710.0}, {\\\"y\\\": 680000.0, \\\"x\\\": 3000.0}, {\\\"y\\\": 457000.0, \\\"x\\\": 2800.0}, {\\\"y\\\": 349000.0, \\\"x\\\": 1640.0}, {\\\"y\\\": 360000.0, \\\"x\\\": 2030.0}, {\\\"y\\\": 350000.0, \\\"x\\\": 2530.0}, {\\\"y\\\": 208000.0, \\\"x\\\": 990.0}, {\\\"y\\\": 250275.0, \\\"x\\\": 790.0}, {\\\"y\\\": 435000.0, \\\"x\\\": 790.0}, {\\\"y\\\": 270000.0, \\\"x\\\": 1800.0}, {\\\"y\\\": 438000.0, \\\"x\\\": 1650.0}, {\\\"y\\\": 659000.0, \\\"x\\\": 1980.0}, {\\\"y\\\": 645000.0, \\\"x\\\": 2340.0}, {\\\"y\\\": 685100.0, \\\"x\\\": 2790.0}, {\\\"y\\\": 350000.0, \\\"x\\\": 2800.0}, {\\\"y\\\": 375000.0, \\\"x\\\": 1840.0}, {\\\"y\\\": 170000.0, \\\"x\\\": 1350.0}, {\\\"y\\\": 880000.0, \\\"x\\\": 3030.0}, {\\\"y\\\": 410500.0, \\\"x\\\": 1980.0}, {\\\"y\\\": 780000.0, \\\"x\\\": 3690.0}, {\\\"y\\\": 1225000.0, \\\"x\\\": 3732.0}, {\\\"y\\\": 449000.0, \\\"x\\\": 1510.0}, {\\\"y\\\": 546000.0, \\\"x\\\": 2000.0}, {\\\"y\\\": 317000.0, \\\"x\\\": 1760.0}, {\\\"y\\\": 276900.0, \\\"x\\\": 1270.0}, {\\\"y\\\": 399000.0, \\\"x\\\": 2620.0}, {\\\"y\\\": 495000.0, \\\"x\\\": 2630.0}, {\\\"y\\\": 258000.0, \\\"x\\\": 2270.0}, {\\\"y\\\": 600000.0, \\\"x\\\": 2410.0}, {\\\"y\\\": 265000.0, \\\"x\\\": 1120.0}, {\\\"y\\\": 321000.0, \\\"x\\\": 3030.0}, {\\\"y\\\": 682000.0, \\\"x\\\": 2120.0}, {\\\"y\\\": 295700.0, \\\"x\\\": 1720.0}, {\\\"y\\\": 609000.0, \\\"x\\\": 2150.0}, {\\\"y\\\": 995000.0, \\\"x\\\": 4380.0}, {\\\"y\\\": 530000.0, \\\"x\\\": 2010.0}, {\\\"y\\\": 614000.0, \\\"x\\\": 3150.0}, {\\\"y\\\": 390000.0, \\\"x\\\": 2500.0}, {\\\"y\\\": 467000.0, \\\"x\\\": 1690.0}, {\\\"y\\\": 484000.0, \\\"x\\\": 3300.0}, {\\\"y\\\": 340000.0, \\\"x\\\": 1240.0}, {\\\"y\\\": 302495.0, \\\"x\\\": 2200.0}, {\\\"y\\\": 532500.0, \\\"x\\\": 1620.0}, {\\\"y\\\": 441500.0, \\\"x\\\": 2420.0}, {\\\"y\\\": 470000.0, \\\"x\\\": 2680.0}, {\\\"y\\\": 2300000.0, \\\"x\\\": 4250.0}, {\\\"y\\\": 590000.0, \\\"x\\\": 2400.0}, {\\\"y\\\": 320000.0, \\\"x\\\": 2300.0}, {\\\"y\\\": 363000.0, \\\"x\\\": 920.0}, {\\\"y\\\": 747500.0, \\\"x\\\": 2350.0}, {\\\"y\\\": 750000.0, \\\"x\\\": 2630.0}, {\\\"y\\\": 831000.0, \\\"x\\\": 2170.0}, {\\\"y\\\": 403000.0, \\\"x\\\": 1700.0}, {\\\"y\\\": 445000.0, \\\"x\\\": 2470.0}, {\\\"y\\\": 345000.0, \\\"x\\\": 1250.0}, {\\\"y\\\": 2260000.0, \\\"x\\\": 3110.0}, {\\\"y\\\": 371025.0, \\\"x\\\": 1530.0}, {\\\"y\\\": 355000.0, \\\"x\\\": 960.0}, {\\\"y\\\": 270000.0, \\\"x\\\": 1240.0}, {\\\"y\\\": 425000.0, \\\"x\\\": 2440.0}, {\\\"y\\\": 364808.0, \\\"x\\\": 2320.0}, {\\\"y\\\": 320000.0, \\\"x\\\": 1580.0}, {\\\"y\\\": 325000.0, \\\"x\\\": 2963.0}, {\\\"y\\\": 350000.0, \\\"x\\\": 2470.0}, {\\\"y\\\": 170000.0, \\\"x\\\": 1370.0}, {\\\"y\\\": 255000.0, \\\"x\\\": 960.0}, {\\\"y\\\": 550000.0, \\\"x\\\": 1130.0}, {\\\"y\\\": 835000.0, \\\"x\\\": 4930.0}, {\\\"y\\\": 420000.0, \\\"x\\\": 1150.0}, {\\\"y\\\": 925000.0, \\\"x\\\": 2190.0}, {\\\"y\\\": 389250.0, \\\"x\\\": 1490.0}, {\\\"y\\\": 748000.0, \\\"x\\\": 2600.0}, {\\\"y\\\": 284000.0, \\\"x\\\": 1530.0}, {\\\"y\\\": 588000.0, \\\"x\\\": 1680.0}, {\\\"y\\\": 372500.0, \\\"x\\\": 1680.0}, {\\\"y\\\": 285000.0, \\\"x\\\": 1900.0}, {\\\"y\\\": 360000.0, \\\"x\\\": 1570.0}, {\\\"y\\\": 275000.0, \\\"x\\\": 1370.0}, {\\\"y\\\": 428000.0, \\\"x\\\": 1350.0}, {\\\"y\\\": 847000.0, \\\"x\\\": 3010.0}, {\\\"y\\\": 316000.0, \\\"x\\\": 1010.0}, {\\\"y\\\": 375000.0, \\\"x\\\": 2050.0}, {\\\"y\\\": 533000.0, \\\"x\\\": 1670.0}, {\\\"y\\\": 556000.0, \\\"x\\\": 3840.0}, {\\\"y\\\": 225000.0, \\\"x\\\": 2220.0}, {\\\"y\\\": 537250.0, \\\"x\\\": 2590.0}, {\\\"y\\\": 255000.0, \\\"x\\\": 1180.0}, {\\\"y\\\": 530000.0, \\\"x\\\": 2950.0}, {\\\"y\\\": 5300000.0, \\\"x\\\": 7390.0}, {\\\"y\\\": 595000.0, \\\"x\\\": 2150.0}, {\\\"y\\\": 548000.0, \\\"x\\\": 2100.0}, {\\\"y\\\": 234975.0, \\\"x\\\": 1650.0}, {\\\"y\\\": 600000.0, \\\"x\\\": 1620.0}, {\\\"y\\\": 432000.0, \\\"x\\\": 1750.0}, {\\\"y\\\": 455000.0, \\\"x\\\": 1380.0}, {\\\"y\\\": 279950.0, \\\"x\\\": 1510.0}, {\\\"y\\\": 267500.0, \\\"x\\\": 1600.0}, {\\\"y\\\": 620000.0, \\\"x\\\": 1840.0}, {\\\"y\\\": 110000.0, \\\"x\\\": 830.0}, {\\\"y\\\": 625000.0, \\\"x\\\": 1810.0}, {\\\"y\\\": 389000.0, \\\"x\\\": 910.0}, {\\\"y\\\": 1200000.0, \\\"x\\\": 2120.0}, {\\\"y\\\": 788500.0, \\\"x\\\": 2510.0}, {\\\"y\\\": 567000.0, \\\"x\\\": 2100.0}, {\\\"y\\\": 515000.0, \\\"x\\\": 2690.0}, {\\\"y\\\": 605000.0, \\\"x\\\": 2430.0}, {\\\"y\\\": 430000.0, \\\"x\\\": 2452.0}, {\\\"y\\\": 805000.0, \\\"x\\\": 1550.0}, {\\\"y\\\": 567500.0, \\\"x\\\": 2080.0}, {\\\"y\\\": 647500.0, \\\"x\\\": 1290.0}, {\\\"y\\\": 495000.0, \\\"x\\\": 1850.0}, {\\\"y\\\": 825000.0, \\\"x\\\": 3370.0}, {\\\"y\\\": 435000.0, \\\"x\\\": 2730.0}, {\\\"y\\\": 445950.0, \\\"x\\\": 1300.0}, {\\\"y\\\": 960000.0, \\\"x\\\": 3040.0}, {\\\"y\\\": 780000.0, \\\"x\\\": 2440.0}, {\\\"y\\\": 274500.0, \\\"x\\\": 1720.0}, {\\\"y\\\": 729953.0, \\\"x\\\": 3230.0}, {\\\"y\\\": 464950.0, \\\"x\\\": 1200.0}, {\\\"y\\\": 620000.0, \\\"x\\\": 2350.0}, {\\\"y\\\": 735000.0, \\\"x\\\": 3100.0}, {\\\"y\\\": 450000.0, \\\"x\\\": 2040.0}, {\\\"y\\\": 450000.0, \\\"x\\\": 2000.0}, {\\\"y\\\": 842500.0, \\\"x\\\": 2160.0}, {\\\"y\\\": 360000.0, \\\"x\\\": 1970.0}, {\\\"y\\\": 585000.0, \\\"x\\\": 2270.0}, {\\\"y\\\": 461000.0, \\\"x\\\": 1850.0}, {\\\"y\\\": 345000.0, \\\"x\\\": 1350.0}, {\\\"y\\\": 1075000.0, \\\"x\\\": 3280.0}, {\\\"y\\\": 643000.0, \\\"x\\\": 2270.0}, {\\\"y\\\": 690000.0, \\\"x\\\": 2820.0}, {\\\"y\\\": 282000.0, \\\"x\\\": 1200.0}, {\\\"y\\\": 549000.0, \\\"x\\\": 2000.0}, {\\\"y\\\": 815000.0, \\\"x\\\": 2310.0}, {\\\"y\\\": 2200000.0, \\\"x\\\": 4640.0}, {\\\"y\\\": 700000.0, \\\"x\\\": 2330.0}, {\\\"y\\\": 933399.0, \\\"x\\\": 3940.0}, {\\\"y\\\": 290000.0, \\\"x\\\": 1440.0}, {\\\"y\\\": 372000.0, \\\"x\\\": 1960.0}, {\\\"y\\\": 450000.0, \\\"x\\\": 1250.0}, {\\\"y\\\": 303700.0, \\\"x\\\": 1981.0}, {\\\"y\\\": 672000.0, \\\"x\\\": 2440.0}, {\\\"y\\\": 334000.0, \\\"x\\\": 1150.0}, {\\\"y\\\": 260000.0, \\\"x\\\": 1120.0}, {\\\"y\\\": 749950.0, \\\"x\\\": 1800.0}, {\\\"y\\\": 330000.0, \\\"x\\\": 2380.0}, {\\\"y\\\": 830000.0, \\\"x\\\": 2920.0}, {\\\"y\\\": 1131000.0, \\\"x\\\": 2790.0}, {\\\"y\\\": 320000.0, \\\"x\\\": 1560.0}, {\\\"y\\\": 260000.0, \\\"x\\\": 1550.0}, {\\\"y\\\": 225000.0, \\\"x\\\": 1700.0}, {\\\"y\\\": 279200.0, \\\"x\\\": 640.0}, {\\\"y\\\": 520000.0, \\\"x\\\": 2680.0}, {\\\"y\\\": 505000.0, \\\"x\\\": 1860.0}, {\\\"y\\\": 234000.0, \\\"x\\\": 1490.0}, {\\\"y\\\": 503000.0, \\\"x\\\": 2470.0}, {\\\"y\\\": 606000.0, \\\"x\\\": 2390.0}, {\\\"y\\\": 433500.0, \\\"x\\\": 1230.0}, {\\\"y\\\": 250000.0, \\\"x\\\": 2840.0}, {\\\"y\\\": 719000.0, \\\"x\\\": 2120.0}, {\\\"y\\\": 381000.0, \\\"x\\\": 1770.0}, {\\\"y\\\": 267000.0, \\\"x\\\": 2495.0}, {\\\"y\\\": 275000.0, \\\"x\\\": 1170.0}, {\\\"y\\\": 651000.0, \\\"x\\\": 2740.0}, {\\\"y\\\": 439000.0, \\\"x\\\": 1050.0}, {\\\"y\\\": 325000.0, \\\"x\\\": 1130.0}, {\\\"y\\\": 490000.0, \\\"x\\\": 880.0}, {\\\"y\\\": 519900.0, \\\"x\\\": 2403.0}, {\\\"y\\\": 545000.0, \\\"x\\\": 3410.0}, {\\\"y\\\": 1062500.0, \\\"x\\\": 5320.0}, {\\\"y\\\": 542000.0, \\\"x\\\": 1900.0}, {\\\"y\\\": 465000.0, \\\"x\\\": 1810.0}, {\\\"y\\\": 408000.0, \\\"x\\\": 1200.0}, {\\\"y\\\": 292000.0, \\\"x\\\": 2060.0}, {\\\"y\\\": 253000.0, \\\"x\\\": 1250.0}, {\\\"y\\\": 280000.0, \\\"x\\\": 910.0}, {\\\"y\\\": 658588.0, \\\"x\\\": 2560.0}, {\\\"y\\\": 635000.0, \\\"x\\\": 1920.0}, {\\\"y\\\": 439000.0, \\\"x\\\": 2240.0}, {\\\"y\\\": 300000.0, \\\"x\\\": 1260.0}, {\\\"y\\\": 345000.0, \\\"x\\\": 1360.0}, {\\\"y\\\": 283500.0, \\\"x\\\": 2100.0}, {\\\"y\\\": 425000.0, \\\"x\\\": 2110.0}, {\\\"y\\\": 685000.0, \\\"x\\\": 2210.0}, {\\\"y\\\": 750000.0, \\\"x\\\": 2360.0}, {\\\"y\\\": 245000.0, \\\"x\\\": 1280.0}, {\\\"y\\\": 585444.0, \\\"x\\\": 2740.0}, {\\\"y\\\": 706000.0, \\\"x\\\": 2740.0}, {\\\"y\\\": 445000.0, \\\"x\\\": 2630.0}, {\\\"y\\\": 241000.0, \\\"x\\\": 1650.0}, {\\\"y\\\": 1175000.0, \\\"x\\\": 1770.0}, {\\\"y\\\": 530000.0, \\\"x\\\": 1500.0}, {\\\"y\\\": 350000.0, \\\"x\\\": 1430.0}, {\\\"y\\\": 1700000.0, \\\"x\\\": 3190.0}, {\\\"y\\\": 389000.0, \\\"x\\\": 1280.0}, {\\\"y\\\": 799000.0, \\\"x\\\": 2390.0}, {\\\"y\\\": 1400000.0, \\\"x\\\": 4040.0}, {\\\"y\\\": 340895.0, \\\"x\\\": 920.0}, {\\\"y\\\": 780000.0, \\\"x\\\": 2730.0}, {\\\"y\\\": 350000.0, \\\"x\\\": 1320.0}, {\\\"y\\\": 470000.0, \\\"x\\\": 2620.0}, {\\\"y\\\": 914600.0, \\\"x\\\": 3180.0}, {\\\"y\\\": 354000.0, \\\"x\\\": 2900.0}, {\\\"y\\\": 470000.0, \\\"x\\\": 1900.0}, {\\\"y\\\": 715000.0, \\\"x\\\": 1760.0}, {\\\"y\\\": 265000.0, \\\"x\\\": 760.0}, {\\\"y\\\": 2537000.0, \\\"x\\\": 3710.0}, {\\\"y\\\": 640000.0, \\\"x\\\": 1530.0}, {\\\"y\\\": 290000.0, \\\"x\\\": 1990.0}, {\\\"y\\\": 480000.0, \\\"x\\\": 3830.0}, {\\\"y\\\": 535000.0, \\\"x\\\": 2040.0}, {\\\"y\\\": 907000.0, \\\"x\\\": 2170.0}, {\\\"y\\\": 459000.0, \\\"x\\\": 1620.0}, {\\\"y\\\": 1355000.0, \\\"x\\\": 3600.0}, {\\\"y\\\": 264950.0, \\\"x\\\": 1470.0}, {\\\"y\\\": 352950.0, \\\"x\\\": 1760.0}, {\\\"y\\\": 491500.0, \\\"x\\\": 2230.0}, {\\\"y\\\": 1229000.0, \\\"x\\\": 3770.0}, {\\\"y\\\": 369500.0, \\\"x\\\": 1200.0}, {\\\"y\\\": 566000.0, \\\"x\\\": 2090.0}, {\\\"y\\\": 290000.0, \\\"x\\\": 1500.0}, {\\\"y\\\": 5350000.0, \\\"x\\\": 8000.0}, {\\\"y\\\": 180000.0, \\\"x\\\": 870.0}, {\\\"y\\\": 215000.0, \\\"x\\\": 1010.0}, {\\\"y\\\": 302000.0, \\\"x\\\": 1010.0}, {\\\"y\\\": 352500.0, \\\"x\\\": 1860.0}, {\\\"y\\\": 235867.0, \\\"x\\\": 1330.0}, {\\\"y\\\": 500000.0, \\\"x\\\": 1760.0}, {\\\"y\\\": 382000.0, \\\"x\\\": 1800.0}, {\\\"y\\\": 515000.0, \\\"x\\\": 1690.0}, {\\\"y\\\": 250000.0, \\\"x\\\": 660.0}, {\\\"y\\\": 672500.0, \\\"x\\\": 2400.0}, {\\\"y\\\": 755000.0, \\\"x\\\": 3020.0}, {\\\"y\\\": 707500.0, \\\"x\\\": 1500.0}, {\\\"y\\\": 459000.0, \\\"x\\\": 1560.0}, {\\\"y\\\": 140000.0, \\\"x\\\": 1090.0}, {\\\"y\\\": 495000.0, \\\"x\\\": 970.0}, {\\\"y\\\": 757000.0, \\\"x\\\": 3190.0}, {\\\"y\\\": 765000.0, \\\"x\\\": 3190.0}, {\\\"y\\\": 359000.0, \\\"x\\\": 1890.0}, {\\\"y\\\": 440000.0, \\\"x\\\": 1050.0}, {\\\"y\\\": 400000.0, \\\"x\\\": 1390.0}, {\\\"y\\\": 652000.0, \\\"x\\\": 1700.0}, {\\\"y\\\": 260000.0, \\\"x\\\": 1050.0}, {\\\"y\\\": 1328000.0, \\\"x\\\": 3340.0}, {\\\"y\\\": 519500.0, \\\"x\\\": 1540.0}, {\\\"y\\\": 650000.0, \\\"x\\\": 1710.0}, {\\\"y\\\": 280000.0, \\\"x\\\": 2100.0}, {\\\"y\\\": 515000.0, \\\"x\\\": 1730.0}, {\\\"y\\\": 400000.0, \\\"x\\\": 1500.0}, {\\\"y\\\": 652100.0, \\\"x\\\": 2380.0}, {\\\"y\\\": 235000.0, \\\"x\\\": 2180.0}, {\\\"y\\\": 701000.0, \\\"x\\\": 1840.0}, {\\\"y\\\": 640000.0, \\\"x\\\": 2341.0}, {\\\"y\\\": 455800.0, \\\"x\\\": 1690.0}, {\\\"y\\\": 504750.0, \\\"x\\\": 2490.0}, {\\\"y\\\": 483000.0, \\\"x\\\": 2440.0}, {\\\"y\\\": 530000.0, \\\"x\\\": 920.0}, {\\\"y\\\": 250000.0, \\\"x\\\": 1030.0}, {\\\"y\\\": 229950.0, \\\"x\\\": 2000.0}, {\\\"y\\\": 884744.0, \\\"x\\\": 4210.0}, {\\\"y\\\": 514000.0, \\\"x\\\": 1610.0}, {\\\"y\\\": 532000.0, \\\"x\\\": 1910.0}, {\\\"y\\\": 423000.0, \\\"x\\\": 2660.0}, {\\\"y\\\": 420000.0, \\\"x\\\": 820.0}, {\\\"y\\\": 521000.0, \\\"x\\\": 1730.0}, {\\\"y\\\": 577000.0, \\\"x\\\": 2360.0}, {\\\"y\\\": 425000.0, \\\"x\\\": 970.0}, {\\\"y\\\": 495000.0, \\\"x\\\": 2460.0}, {\\\"y\\\": 340000.0, \\\"x\\\": 2690.0}, {\\\"y\\\": 499950.0, \\\"x\\\": 1820.0}, {\\\"y\\\": 1218000.0, \\\"x\\\": 3470.0}, {\\\"y\\\": 720000.0, \\\"x\\\": 3370.0}, {\\\"y\\\": 249000.0, \\\"x\\\": 1700.0}, {\\\"y\\\": 206135.0, \\\"x\\\": 1340.0}, {\\\"y\\\": 300000.0, \\\"x\\\": 2000.0}, {\\\"y\\\": 612000.0, \\\"x\\\": 3840.0}, {\\\"y\\\": 1102030.0, \\\"x\\\": 3890.0}, {\\\"y\\\": 230000.0, \\\"x\\\": 1220.0}, {\\\"y\\\": 850000.0, \\\"x\\\": 2280.0}, {\\\"y\\\": 355000.0, \\\"x\\\": 2770.0}, {\\\"y\\\": 442000.0, \\\"x\\\": 2520.0}, {\\\"y\\\": 399000.0, \\\"x\\\": 3060.0}, {\\\"y\\\": 360000.0, \\\"x\\\": 2390.0}, {\\\"y\\\": 390000.0, \\\"x\\\": 1320.0}, {\\\"y\\\": 413000.0, \\\"x\\\": 2900.0}, {\\\"y\\\": 190000.0, \\\"x\\\": 700.0}, {\\\"y\\\": 432900.0, \\\"x\\\": 2210.0}, {\\\"y\\\": 621138.0, \\\"x\\\": 2180.0}, {\\\"y\\\": 270000.0, \\\"x\\\": 2080.0}, {\\\"y\\\": 610000.0, \\\"x\\\": 2090.0}, {\\\"y\\\": 500000.0, \\\"x\\\": 1720.0}, {\\\"y\\\": 715000.0, \\\"x\\\": 2460.0}, {\\\"y\\\": 264000.0, \\\"x\\\": 1470.0}, {\\\"y\\\": 550000.0, \\\"x\\\": 1650.0}, {\\\"y\\\": 337000.0, \\\"x\\\": 1690.0}, {\\\"y\\\": 170000.0, \\\"x\\\": 970.0}, {\\\"y\\\": 405000.0, \\\"x\\\": 2030.0}, {\\\"y\\\": 775000.0, \\\"x\\\": 2540.0}, {\\\"y\\\": 425000.0, \\\"x\\\": 1570.0}, {\\\"y\\\": 713000.0, \\\"x\\\": 2580.0}, {\\\"y\\\": 555000.0, \\\"x\\\": 2090.0}, {\\\"y\\\": 810000.0, \\\"x\\\": 3260.0}, {\\\"y\\\": 1250000.0, \\\"x\\\": 3830.0}, {\\\"y\\\": 819000.0, \\\"x\\\": 2130.0}, {\\\"y\\\": 409900.0, \\\"x\\\": 1690.0}, {\\\"y\\\": 935000.0, \\\"x\\\": 1780.0}, {\\\"y\\\": 657500.0, \\\"x\\\": 1620.0}, {\\\"y\\\": 900000.0, \\\"x\\\": 4210.0}, {\\\"y\\\": 932800.0, \\\"x\\\": 2980.0}, {\\\"y\\\": 391000.0, \\\"x\\\": 1490.0}, {\\\"y\\\": 420000.0, \\\"x\\\": 2110.0}, {\\\"y\\\": 1300000.0, \\\"x\\\": 6563.0}, {\\\"y\\\": 415000.0, \\\"x\\\": 1510.0}, {\\\"y\\\": 350000.0, \\\"x\\\": 1830.0}, {\\\"y\\\": 375000.0, \\\"x\\\": 1230.0}, {\\\"y\\\": 860000.0, \\\"x\\\": 2180.0}, {\\\"y\\\": 495000.0, \\\"x\\\": 2220.0}, {\\\"y\\\": 250000.0, \\\"x\\\": 1730.0}, {\\\"y\\\": 365000.0, \\\"x\\\": 1990.0}, {\\\"y\\\": 503000.0, \\\"x\\\": 1540.0}, {\\\"y\\\": 150000.0, \\\"x\\\": 1100.0}, {\\\"y\\\": 450000.0, \\\"x\\\": 1640.0}, {\\\"y\\\": 355000.0, \\\"x\\\": 2590.0}, {\\\"y\\\": 245000.0, \\\"x\\\": 1450.0}, {\\\"y\\\": 265900.0, \\\"x\\\": 1180.0}, {\\\"y\\\": 299000.0, \\\"x\\\": 1820.0}, {\\\"y\\\": 957500.0, \\\"x\\\": 2360.0}, {\\\"y\\\": 343000.0, \\\"x\\\": 1120.0}, {\\\"y\\\": 307500.0, \\\"x\\\": 1646.0}, {\\\"y\\\": 937500.0, \\\"x\\\": 4210.0}, {\\\"y\\\": 610000.0, \\\"x\\\": 2480.0}, {\\\"y\\\": 720000.0, \\\"x\\\": 1590.0}, {\\\"y\\\": 610000.0, \\\"x\\\": 2130.0}, {\\\"y\\\": 434500.0, \\\"x\\\": 1650.0}, {\\\"y\\\": 602500.0, \\\"x\\\": 3090.0}, {\\\"y\\\": 607010.0, \\\"x\\\": 2180.0}, {\\\"y\\\": 610000.0, \\\"x\\\": 1800.0}, {\\\"y\\\": 828500.0, \\\"x\\\": 3720.0}, {\\\"y\\\": 199990.0, \\\"x\\\": 1100.0}, {\\\"y\\\": 294000.0, \\\"x\\\": 1530.0}, {\\\"y\\\": 789500.0, \\\"x\\\": 3010.0}, {\\\"y\\\": 797000.0, \\\"x\\\": 3500.0}, {\\\"y\\\": 539950.0, \\\"x\\\": 3100.0}, {\\\"y\\\": 284950.0, \\\"x\\\": 2000.0}, {\\\"y\\\": 776500.0, \\\"x\\\": 2290.0}, {\\\"y\\\": 525000.0, \\\"x\\\": 2400.0}, {\\\"y\\\": 303000.0, \\\"x\\\": 1850.0}, {\\\"y\\\": 722080.0, \\\"x\\\": 3680.0}, {\\\"y\\\": 140000.0, \\\"x\\\": 1060.0}, {\\\"y\\\": 235000.0, \\\"x\\\": 1060.0}, {\\\"y\\\": 440000.0, \\\"x\\\": 1610.0}, {\\\"y\\\": 605000.0, \\\"x\\\": 2330.0}, {\\\"y\\\": 380000.0, \\\"x\\\": 1210.0}, {\\\"y\\\": 352000.0, \\\"x\\\": 1530.0}, {\\\"y\\\": 420000.0, \\\"x\\\": 2270.0}, {\\\"y\\\": 1175000.0, \\\"x\\\": 2590.0}, {\\\"y\\\": 1375000.0, \\\"x\\\": 1850.0}, {\\\"y\\\": 300000.0, \\\"x\\\": 1500.0}, {\\\"y\\\": 1150000.0, \\\"x\\\": 4740.0}, {\\\"y\\\": 453500.0, \\\"x\\\": 1710.0}, {\\\"y\\\": 443500.0, \\\"x\\\": 1920.0}, {\\\"y\\\": 332000.0, \\\"x\\\": 1150.0}, {\\\"y\\\": 655000.0, \\\"x\\\": 2320.0}, {\\\"y\\\": 475000.0, \\\"x\\\": 1420.0}, {\\\"y\\\": 372500.0, \\\"x\\\": 1550.0}, {\\\"y\\\": 1050000.0, \\\"x\\\": 2920.0}, {\\\"y\\\": 500000.0, \\\"x\\\": 1620.0}, {\\\"y\\\": 900000.0, \\\"x\\\": 2300.0}, {\\\"y\\\": 327500.0, \\\"x\\\": 1070.0}, {\\\"y\\\": 390000.0, \\\"x\\\": 1790.0}, {\\\"y\\\": 451101.0, \\\"x\\\": 1510.0}, {\\\"y\\\": 455000.0, \\\"x\\\": 1340.0}, {\\\"y\\\": 650000.0, \\\"x\\\": 3350.0}, {\\\"y\\\": 895000.0, \\\"x\\\": 2500.0}, {\\\"y\\\": 800000.0, \\\"x\\\": 2350.0}, {\\\"y\\\": 703770.0, \\\"x\\\": 2550.0}, {\\\"y\\\": 249950.0, \\\"x\\\": 1320.0}, {\\\"y\\\": 512000.0, \\\"x\\\": 1270.0}, {\\\"y\\\": 780000.0, \\\"x\\\": 3480.0}, {\\\"y\\\": 336000.0, \\\"x\\\": 2820.0}, {\\\"y\\\": 285000.0, \\\"x\\\": 2110.0}, {\\\"y\\\": 229900.0, \\\"x\\\": 1100.0}, {\\\"y\\\": 667500.0, \\\"x\\\": 1920.0}, {\\\"y\\\": 378000.0, \\\"x\\\": 1890.0}, {\\\"y\\\": 454000.0, \\\"x\\\": 2530.0}, {\\\"y\\\": 537500.0, \\\"x\\\": 2550.0}, {\\\"y\\\": 425000.0, \\\"x\\\": 1550.0}, {\\\"y\\\": 290000.0, \\\"x\\\": 1760.0}, {\\\"y\\\": 349500.0, \\\"x\\\": 1270.0}, {\\\"y\\\": 370000.0, \\\"x\\\": 1250.0}, {\\\"y\\\": 549500.0, \\\"x\\\": 1620.0}, {\\\"y\\\": 245000.0, \\\"x\\\": 710.0}, {\\\"y\\\": 208000.0, \\\"x\\\": 1070.0}, {\\\"y\\\": 248000.0, \\\"x\\\": 2320.0}, {\\\"y\\\": 610000.0, \\\"x\\\": 5450.0}, {\\\"y\\\": 550000.0, \\\"x\\\": 1670.0}, {\\\"y\\\": 750000.0, \\\"x\\\": 3010.0}, {\\\"y\\\": 192000.0, \\\"x\\\": 1340.0}, {\\\"y\\\": 169317.0, \\\"x\\\": 790.0}, {\\\"y\\\": 1198000.0, \\\"x\\\": 3400.0}, {\\\"y\\\": 880000.0, \\\"x\\\": 1530.0}, {\\\"y\\\": 210000.0, \\\"x\\\": 930.0}, {\\\"y\\\": 180500.0, \\\"x\\\": 1540.0}, {\\\"y\\\": 540000.0, \\\"x\\\": 1990.0}, {\\\"y\\\": 520000.0, \\\"x\\\": 2300.0}, {\\\"y\\\": 177500.0, \\\"x\\\": 1220.0}, {\\\"y\\\": 415000.0, \\\"x\\\": 2380.0}, {\\\"y\\\": 495000.0, \\\"x\\\": 2020.0}, {\\\"y\\\": 325000.0, \\\"x\\\": 1890.0}, {\\\"y\\\": 440000.0, \\\"x\\\": 1330.0}, {\\\"y\\\": 411000.0, \\\"x\\\": 1490.0}, {\\\"y\\\": 810000.0, \\\"x\\\": 3550.0}, {\\\"y\\\": 561750.0, \\\"x\\\": 2040.0}, {\\\"y\\\": 835100.0, \\\"x\\\": 2380.0}, {\\\"y\\\": 450000.0, \\\"x\\\": 1780.0}, {\\\"y\\\": 238000.0, \\\"x\\\": 1650.0}, {\\\"y\\\": 299000.0, \\\"x\\\": 1510.0}, {\\\"y\\\": 570000.0, \\\"x\\\": 1100.0}, {\\\"y\\\": 340000.0, \\\"x\\\": 2190.0}, {\\\"y\\\": 450000.0, \\\"x\\\": 1760.0}, {\\\"y\\\": 272750.0, \\\"x\\\": 1800.0}, {\\\"y\\\": 520000.0, \\\"x\\\": 2000.0}, {\\\"y\\\": 284950.0, \\\"x\\\": 990.0}, {\\\"y\\\": 255000.0, \\\"x\\\": 1480.0}, {\\\"y\\\": 231500.0, \\\"x\\\": 1200.0}, {\\\"y\\\": 415000.0, \\\"x\\\": 3000.0}, {\\\"y\\\": 330000.0, \\\"x\\\": 3504.0}, {\\\"y\\\": 365000.0, \\\"x\\\": 1300.0}, {\\\"y\\\": 425000.0, \\\"x\\\": 1330.0}, {\\\"y\\\": 400000.0, \\\"x\\\": 1850.0}, {\\\"y\\\": 335000.0, \\\"x\\\": 2240.0}, {\\\"y\\\": 342000.0, \\\"x\\\": 1260.0}, {\\\"y\\\": 490000.0, \\\"x\\\": 2800.0}, {\\\"y\\\": 331500.0, \\\"x\\\": 1820.0}, {\\\"y\\\": 960000.0, \\\"x\\\": 1730.0}, {\\\"y\\\": 720500.0, \\\"x\\\": 3350.0}, {\\\"y\\\": 830000.0, \\\"x\\\": 3370.0}, {\\\"y\\\": 662990.0, \\\"x\\\": 1240.0}, {\\\"y\\\": 220000.0, \\\"x\\\": 2340.0}, {\\\"y\\\": 349950.0, \\\"x\\\": 1880.0}, {\\\"y\\\": 550000.0, \\\"x\\\": 1810.0}, {\\\"y\\\": 396000.0, \\\"x\\\": 2340.0}, {\\\"y\\\": 635000.0, \\\"x\\\": 2820.0}, {\\\"y\\\": 293000.0, \\\"x\\\": 1020.0}, {\\\"y\\\": 339000.0, \\\"x\\\": 2090.0}, {\\\"y\\\": 285000.0, \\\"x\\\": 1830.0}, {\\\"y\\\": 775000.0, \\\"x\\\": 2980.0}, {\\\"y\\\": 224000.0, \\\"x\\\": 1600.0}, {\\\"y\\\": 2250000.0, \\\"x\\\": 4440.0}, {\\\"y\\\": 165050.0, \\\"x\\\": 1200.0}, {\\\"y\\\": 275000.0, \\\"x\\\": 1230.0}, {\\\"y\\\": 445000.0, \\\"x\\\": 2930.0}, {\\\"y\\\": 510000.0, \\\"x\\\": 2370.0}, {\\\"y\\\": 1230000.0, \\\"x\\\": 3040.0}, {\\\"y\\\": 390000.0, \\\"x\\\": 1610.0}, {\\\"y\\\": 460000.0, \\\"x\\\": 2350.0}, {\\\"y\\\": 700000.0, \\\"x\\\": 2000.0}, {\\\"y\\\": 874150.0, \\\"x\\\": 3530.0}, {\\\"y\\\": 470000.0, \\\"x\\\": 2220.0}, {\\\"y\\\": 374000.0, \\\"x\\\": 2000.0}, {\\\"y\\\": 510000.0, \\\"x\\\": 1210.0}, {\\\"y\\\": 467000.0, \\\"x\\\": 1140.0}, {\\\"y\\\": 576000.0, \\\"x\\\": 2440.0}, {\\\"y\\\": 196440.0, \\\"x\\\": 1560.0}, {\\\"y\\\": 825000.0, \\\"x\\\": 3210.0}, {\\\"y\\\": 281000.0, \\\"x\\\": 930.0}, {\\\"y\\\": 326000.0, \\\"x\\\": 1782.0}, {\\\"y\\\": 340000.0, \\\"x\\\": 1740.0}, {\\\"y\\\": 440000.0, \\\"x\\\": 3690.0}, {\\\"y\\\": 749000.0, \\\"x\\\": 2930.0}, {\\\"y\\\": 340000.0, \\\"x\\\": 1230.0}, {\\\"y\\\": 561000.0, \\\"x\\\": 2000.0}, {\\\"y\\\": 270000.0, \\\"x\\\": 1520.0}, {\\\"y\\\": 600000.0, \\\"x\\\": 1040.0}, {\\\"y\\\": 219900.0, \\\"x\\\": 1120.0}, {\\\"y\\\": 617000.0, \\\"x\\\": 3020.0}, {\\\"y\\\": 469000.0, \\\"x\\\": 1820.0}, {\\\"y\\\": 229000.0, \\\"x\\\": 1370.0}, {\\\"y\\\": 1265000.0, \\\"x\\\": 3130.0}, {\\\"y\\\": 365000.0, \\\"x\\\": 1640.0}, {\\\"y\\\": 429000.0, \\\"x\\\": 2650.0}, {\\\"y\\\": 550000.0, \\\"x\\\": 2850.0}, {\\\"y\\\": 453000.0, \\\"x\\\": 1820.0}, {\\\"y\\\": 187500.0, \\\"x\\\": 1180.0}, {\\\"y\\\": 520500.0, \\\"x\\\": 1880.0}, {\\\"y\\\": 300000.0, \\\"x\\\": 1280.0}, {\\\"y\\\": 799000.0, \\\"x\\\": 3120.0}, {\\\"y\\\": 338000.0, \\\"x\\\": 2470.0}, {\\\"y\\\": 800000.0, \\\"x\\\": 1700.0}, {\\\"y\\\": 360000.0, \\\"x\\\": 1180.0}, {\\\"y\\\": 442500.0, \\\"x\\\": 2800.0}, {\\\"y\\\": 700000.0, \\\"x\\\": 1300.0}, {\\\"y\\\": 830000.0, \\\"x\\\": 3040.0}, {\\\"y\\\": 360400.0, \\\"x\\\": 1630.0}, {\\\"y\\\": 345000.0, \\\"x\\\": 1340.0}, {\\\"y\\\": 300000.0, \\\"x\\\": 1830.0}, {\\\"y\\\": 350000.0, \\\"x\\\": 1240.0}, {\\\"y\\\": 368000.0, \\\"x\\\": 2500.0}, {\\\"y\\\": 264000.0, \\\"x\\\": 1760.0}, {\\\"y\\\": 435000.0, \\\"x\\\": 2660.0}, {\\\"y\\\": 200000.0, \\\"x\\\": 2060.0}, {\\\"y\\\": 620000.0, \\\"x\\\": 2540.0}, {\\\"y\\\": 1679000.0, \\\"x\\\": 4830.0}, {\\\"y\\\": 337000.0, \\\"x\\\": 1400.0}, {\\\"y\\\": 1928000.0, \\\"x\\\": 4280.0}, {\\\"y\\\": 544500.0, \\\"x\\\": 2230.0}, {\\\"y\\\": 252000.0, \\\"x\\\": 680.0}, {\\\"y\\\": 445000.0, \\\"x\\\": 2340.0}, {\\\"y\\\": 379500.0, \\\"x\\\": 2070.0}, {\\\"y\\\": 189950.0, \\\"x\\\": 1910.0}, {\\\"y\\\": 469000.0, \\\"x\\\": 950.0}, {\\\"y\\\": 600000.0, \\\"x\\\": 2910.0}, {\\\"y\\\": 785000.0, \\\"x\\\": 2930.0}, {\\\"y\\\": 372000.0, \\\"x\\\": 2610.0}, {\\\"y\\\": 445000.0, \\\"x\\\": 3880.0}, {\\\"y\\\": 508000.0, \\\"x\\\": 3320.0}, {\\\"y\\\": 780000.0, \\\"x\\\": 1940.0}, {\\\"y\\\": 541100.0, \\\"x\\\": 2510.0}, {\\\"y\\\": 729000.0, \\\"x\\\": 2660.0}, {\\\"y\\\": 397000.0, \\\"x\\\": 1710.0}, {\\\"y\\\": 451555.0, \\\"x\\\": 1320.0}, {\\\"y\\\": 300000.0, \\\"x\\\": 960.0}, {\\\"y\\\": 416000.0, \\\"x\\\": 1790.0}, {\\\"y\\\": 490000.0, \\\"x\\\": 950.0}, {\\\"y\\\": 480000.0, \\\"x\\\": 2940.0}, {\\\"y\\\": 368000.0, \\\"x\\\": 930.0}, {\\\"y\\\": 1038000.0, \\\"x\\\": 4570.0}, {\\\"y\\\": 545000.0, \\\"x\\\": 2370.0}, {\\\"y\\\": 850000.0, \\\"x\\\": 3430.0}, {\\\"y\\\": 550000.0, \\\"x\\\": 3540.0}, {\\\"y\\\": 600000.0, \\\"x\\\": 2240.0}, {\\\"y\\\": 535000.0, \\\"x\\\": 2710.0}, {\\\"y\\\": 599950.0, \\\"x\\\": 2660.0}, {\\\"y\\\": 531000.0, \\\"x\\\": 2540.0}, {\\\"y\\\": 530000.0, \\\"x\\\": 2210.0}, {\\\"y\\\": 597326.0, \\\"x\\\": 3570.0}, {\\\"y\\\": 805000.0, \\\"x\\\": 3450.0}, {\\\"y\\\": 390000.0, \\\"x\\\": 2330.0}, {\\\"y\\\": 487250.0, \\\"x\\\": 1690.0}, {\\\"y\\\": 301000.0, \\\"x\\\": 1030.0}, {\\\"y\\\": 1175000.0, \\\"x\\\": 2560.0}, {\\\"y\\\": 299000.0, \\\"x\\\": 1950.0}, {\\\"y\\\": 2350000.0, \\\"x\\\": 4370.0}, {\\\"y\\\": 400000.0, \\\"x\\\": 2350.0}, {\\\"y\\\": 467500.0, \\\"x\\\": 3160.0}, {\\\"y\\\": 305000.0, \\\"x\\\": 2430.0}, {\\\"y\\\": 210000.0, \\\"x\\\": 1340.0}, {\\\"y\\\": 300000.0, \\\"x\\\": 1010.0}, {\\\"y\\\": 327500.0, \\\"x\\\": 1770.0}, {\\\"y\\\": 269000.0, \\\"x\\\": 1210.0}, {\\\"y\\\": 975000.0, \\\"x\\\": 3330.0}, {\\\"y\\\": 355000.0, \\\"x\\\": 1240.0}, {\\\"y\\\": 712000.0, \\\"x\\\": 1250.0}, {\\\"y\\\": 883000.0, \\\"x\\\": 2960.0}, {\\\"y\\\": 190000.0, \\\"x\\\": 840.0}, {\\\"y\\\": 443000.0, \\\"x\\\": 1530.0}, {\\\"y\\\": 920000.0, \\\"x\\\": 3750.0}, {\\\"y\\\": 285000.0, \\\"x\\\": 2150.0}, {\\\"y\\\": 901000.0, \\\"x\\\": 1560.0}, {\\\"y\\\": 552500.0, \\\"x\\\": 2040.0}, {\\\"y\\\": 256000.0, \\\"x\\\": 860.0}, {\\\"y\\\": 341000.0, \\\"x\\\": 1720.0}, {\\\"y\\\": 279000.0, \\\"x\\\": 2090.0}, {\\\"y\\\": 686000.0, \\\"x\\\": 2130.0}, {\\\"y\\\": 225000.0, \\\"x\\\": 1300.0}, {\\\"y\\\": 215500.0, \\\"x\\\": 1220.0}, {\\\"y\\\": 950000.0, \\\"x\\\": 2420.0}, {\\\"y\\\": 503000.0, \\\"x\\\": 2940.0}, {\\\"y\\\": 780000.0, \\\"x\\\": 2610.0}, {\\\"y\\\": 212000.0, \\\"x\\\": 1880.0}, {\\\"y\\\": 580000.0, \\\"x\\\": 2330.0}, {\\\"y\\\": 465000.0, \\\"x\\\": 2200.0}, {\\\"y\\\": 206000.0, \\\"x\\\": 1720.0}, {\\\"y\\\": 615000.0, \\\"x\\\": 2250.0}, {\\\"y\\\": 519000.0, \\\"x\\\": 1640.0}, {\\\"y\\\": 1135000.0, \\\"x\\\": 4130.0}, {\\\"y\\\": 330000.0, \\\"x\\\": 2600.0}, {\\\"y\\\": 240000.0, \\\"x\\\": 1920.0}, {\\\"y\\\": 574000.0, \\\"x\\\": 2060.0}, {\\\"y\\\": 930000.0, \\\"x\\\": 5710.0}, {\\\"y\\\": 850000.0, \\\"x\\\": 2720.0}, {\\\"y\\\": 415000.0, \\\"x\\\": 1490.0}, {\\\"y\\\": 480000.0, \\\"x\\\": 2360.0}, {\\\"y\\\": 300000.0, \\\"x\\\": 1940.0}, {\\\"y\\\": 439000.0, \\\"x\\\": 2570.0}, {\\\"y\\\": 450000.0, \\\"x\\\": 1160.0}, {\\\"y\\\": 589000.0, \\\"x\\\": 2660.0}, {\\\"y\\\": 477000.0, \\\"x\\\": 1260.0}, {\\\"y\\\": 587500.0, \\\"x\\\": 1780.0}, {\\\"y\\\": 1315000.0, \\\"x\\\": 3180.0}, {\\\"y\\\": 1430000.0, \\\"x\\\": 3380.0}, {\\\"y\\\": 700000.0, \\\"x\\\": 2690.0}, {\\\"y\\\": 275000.0, \\\"x\\\": 1180.0}, {\\\"y\\\": 367500.0, \\\"x\\\": 1660.0}, {\\\"y\\\": 453250.0, \\\"x\\\": 2260.0}, {\\\"y\\\": 607000.0, \\\"x\\\": 1910.0}, {\\\"y\\\": 255000.0, \\\"x\\\": 2430.0}, {\\\"y\\\": 501000.0, \\\"x\\\": 1300.0}, {\\\"y\\\": 450000.0, \\\"x\\\": 1060.0}, {\\\"y\\\": 360000.0, \\\"x\\\": 2200.0}, {\\\"y\\\": 460000.0, \\\"x\\\": 1720.0}, {\\\"y\\\": 753000.0, \\\"x\\\": 2360.0}, {\\\"y\\\": 389950.0, \\\"x\\\": 820.0}, {\\\"y\\\": 469000.0, \\\"x\\\": 1030.0}, {\\\"y\\\": 550000.0, \\\"x\\\": 2030.0}, {\\\"y\\\": 565000.0, \\\"x\\\": 2700.0}, {\\\"y\\\": 189650.0, \\\"x\\\": 1100.0}, {\\\"y\\\": 1525000.0, \\\"x\\\": 3620.0}, {\\\"y\\\": 260000.0, \\\"x\\\": 1340.0}, {\\\"y\\\": 243000.0, \\\"x\\\": 1790.0}, {\\\"y\\\": 1100000.0, \\\"x\\\": 3830.0}, {\\\"y\\\": 249000.0, \\\"x\\\": 1580.0}, {\\\"y\\\": 720000.0, \\\"x\\\": 2020.0}, {\\\"y\\\": 905000.0, \\\"x\\\": 3330.0}, {\\\"y\\\": 824500.0, \\\"x\\\": 2610.0}, {\\\"y\\\": 762500.0, \\\"x\\\": 2610.0}, {\\\"y\\\": 580000.0, \\\"x\\\": 1740.0}, {\\\"y\\\": 380000.0, \\\"x\\\": 1840.0}, {\\\"y\\\": 805000.0, \\\"x\\\": 1080.0}, {\\\"y\\\": 520000.0, \\\"x\\\": 1240.0}, {\\\"y\\\": 1569500.0, \\\"x\\\": 5620.0}, {\\\"y\\\": 175000.0, \\\"x\\\": 1170.0}, {\\\"y\\\": 353500.0, \\\"x\\\": 1760.0}, {\\\"y\\\": 500000.0, \\\"x\\\": 2230.0}, {\\\"y\\\": 386500.0, \\\"x\\\": 1520.0}, {\\\"y\\\": 210000.0, \\\"x\\\": 1450.0}, {\\\"y\\\": 439500.0, \\\"x\\\": 1600.0}, {\\\"y\\\": 315000.0, \\\"x\\\": 3220.0}, {\\\"y\\\": 339000.0, \\\"x\\\": 1830.0}, {\\\"y\\\": 655000.0, \\\"x\\\": 2200.0}, {\\\"y\\\": 740000.0, \\\"x\\\": 2170.0}, {\\\"y\\\": 685000.0, \\\"x\\\": 1900.0}, {\\\"y\\\": 550000.0, \\\"x\\\": 2960.0}, {\\\"y\\\": 405000.0, \\\"x\\\": 1710.0}, {\\\"y\\\": 765000.0, \\\"x\\\": 2620.0}, {\\\"y\\\": 625000.0, \\\"x\\\": 2140.0}, {\\\"y\\\": 207000.0, \\\"x\\\": 2100.0}, {\\\"y\\\": 370000.0, \\\"x\\\": 2100.0}, {\\\"y\\\": 475000.0, \\\"x\\\": 1460.0}, {\\\"y\\\": 365000.0, \\\"x\\\": 990.0}, {\\\"y\\\": 411800.0, \\\"x\\\": 2190.0}, {\\\"y\\\": 668000.0, \\\"x\\\": 3990.0}, {\\\"y\\\": 618000.0, \\\"x\\\": 2340.0}, {\\\"y\\\": 247500.0, \\\"x\\\": 2460.0}, {\\\"y\\\": 345000.0, \\\"x\\\": 2080.0}, {\\\"y\\\": 616300.0, \\\"x\\\": 1700.0}, {\\\"y\\\": 348000.0, \\\"x\\\": 1330.0}, {\\\"y\\\": 425000.0, \\\"x\\\": 1630.0}, {\\\"y\\\": 850000.0, \\\"x\\\": 2920.0}, {\\\"y\\\": 820000.0, \\\"x\\\": 2830.0}, {\\\"y\\\": 832000.0, \\\"x\\\": 3190.0}, {\\\"y\\\": 835000.0, \\\"x\\\": 1490.0}, {\\\"y\\\": 350000.0, \\\"x\\\": 1630.0}, {\\\"y\\\": 349000.0, \\\"x\\\": 2280.0}, {\\\"y\\\": 1125000.0, \\\"x\\\": 3010.0}, {\\\"y\\\": 320000.0, \\\"x\\\": 1590.0}, {\\\"y\\\": 150000.0, \\\"x\\\": 1250.0}, {\\\"y\\\": 340000.0, \\\"x\\\": 1710.0}, {\\\"y\\\": 785500.0, \\\"x\\\": 3280.0}, {\\\"y\\\": 410500.0, \\\"x\\\": 3362.0}, {\\\"y\\\": 580000.0, \\\"x\\\": 2200.0}, {\\\"y\\\": 345000.0, \\\"x\\\": 830.0}, {\\\"y\\\": 550000.0, \\\"x\\\": 2160.0}, {\\\"y\\\": 449500.0, \\\"x\\\": 2580.0}, {\\\"y\\\": 300000.0, \\\"x\\\": 2150.0}, {\\\"y\\\": 915000.0, \\\"x\\\": 3510.0}, {\\\"y\\\": 1575000.0, \\\"x\\\": 3810.0}, {\\\"y\\\": 599000.0, \\\"x\\\": 2020.0}, {\\\"y\\\": 755000.0, \\\"x\\\": 2120.0}, {\\\"y\\\": 400000.0, \\\"x\\\": 1250.0}, {\\\"y\\\": 133000.0, \\\"x\\\": 980.0}, {\\\"y\\\": 330000.0, \\\"x\\\": 1250.0}, {\\\"y\\\": 330000.0, \\\"x\\\": 1100.0}, {\\\"y\\\": 375000.0, \\\"x\\\": 1330.0}, {\\\"y\\\": 485000.0, \\\"x\\\": 2560.0}, {\\\"y\\\": 470000.0, \\\"x\\\": 1850.0}, {\\\"y\\\": 1045000.0, \\\"x\\\": 2790.0}, {\\\"y\\\": 548800.0, \\\"x\\\": 1660.0}, {\\\"y\\\": 315000.0, \\\"x\\\": 1080.0}, {\\\"y\\\": 590000.0, \\\"x\\\": 3030.0}, {\\\"y\\\": 439950.0, \\\"x\\\": 2380.0}, {\\\"y\\\": 325000.0, \\\"x\\\": 2250.0}, {\\\"y\\\": 400000.0, \\\"x\\\": 880.0}, {\\\"y\\\": 685000.0, \\\"x\\\": 2770.0}, {\\\"y\\\": 339950.0, \\\"x\\\": 1340.0}, {\\\"y\\\": 315000.0, \\\"x\\\": 1660.0}, {\\\"y\\\": 411753.0, \\\"x\\\": 1710.0}, {\\\"y\\\": 577000.0, \\\"x\\\": 1620.0}, {\\\"y\\\": 500000.0, \\\"x\\\": 1530.0}, {\\\"y\\\": 210000.0, \\\"x\\\": 1440.0}, {\\\"y\\\": 640000.0, \\\"x\\\": 2020.0}, {\\\"y\\\": 460000.0, \\\"x\\\": 1870.0}, {\\\"y\\\": 265000.0, \\\"x\\\": 620.0}, {\\\"y\\\": 740000.0, \\\"x\\\": 5774.0}, {\\\"y\\\": 230000.0, \\\"x\\\": 1240.0}, {\\\"y\\\": 315000.0, \\\"x\\\": 1890.0}, {\\\"y\\\": 432000.0, \\\"x\\\": 2410.0}, {\\\"y\\\": 467000.0, \\\"x\\\": 1530.0}, {\\\"y\\\": 255000.0, \\\"x\\\": 2800.0}, {\\\"y\\\": 316500.0, \\\"x\\\": 1460.0}, {\\\"y\\\": 190000.0, \\\"x\\\": 1580.0}, {\\\"y\\\": 490000.0, \\\"x\\\": 1450.0}, {\\\"y\\\": 378000.0, \\\"x\\\": 1990.0}, {\\\"y\\\": 598800.0, \\\"x\\\": 4470.0}, {\\\"y\\\": 333800.0, \\\"x\\\": 1980.0}, {\\\"y\\\": 690000.0, \\\"x\\\": 2920.0}, {\\\"y\\\": 320000.0, \\\"x\\\": 1660.0}, {\\\"y\\\": 1249000.0, \\\"x\\\": 3190.0}, {\\\"y\\\": 335000.0, \\\"x\\\": 1560.0}, {\\\"y\\\": 840000.0, \\\"x\\\": 3050.0}, {\\\"y\\\": 608250.0, \\\"x\\\": 3030.0}, {\\\"y\\\": 550000.0, \\\"x\\\": 2260.0}, {\\\"y\\\": 240000.0, \\\"x\\\": 1260.0}, {\\\"y\\\": 998000.0, \\\"x\\\": 3370.0}, {\\\"y\\\": 275000.0, \\\"x\\\": 1490.0}, {\\\"y\\\": 284200.0, \\\"x\\\": 1570.0}, {\\\"y\\\": 1715000.0, \\\"x\\\": 4490.0}, {\\\"y\\\": 2400000.0, \\\"x\\\": 4090.0}, {\\\"y\\\": 930800.0, \\\"x\\\": 4150.0}, {\\\"y\\\": 930000.0, \\\"x\\\": 2900.0}, {\\\"y\\\": 215000.0, \\\"x\\\": 1430.0}, {\\\"y\\\": 480000.0, \\\"x\\\": 1008.0}, {\\\"y\\\": 483945.0, \\\"x\\\": 1480.0}, {\\\"y\\\": 347000.0, \\\"x\\\": 1240.0}, {\\\"y\\\": 232500.0, \\\"x\\\": 1370.0}, {\\\"y\\\": 390000.0, \\\"x\\\": 1770.0}, {\\\"y\\\": 550000.0, \\\"x\\\": 2160.0}, {\\\"y\\\": 590000.0, \\\"x\\\": 2340.0}, {\\\"y\\\": 420850.0, \\\"x\\\": 960.0}, {\\\"y\\\": 345000.0, \\\"x\\\": 2280.0}, {\\\"y\\\": 429800.0, \\\"x\\\": 1970.0}, {\\\"y\\\": 302000.0, \\\"x\\\": 1530.0}, {\\\"y\\\": 800000.0, \\\"x\\\": 1790.0}, {\\\"y\\\": 250000.0, \\\"x\\\": 1700.0}, {\\\"y\\\": 605000.0, \\\"x\\\": 2660.0}, {\\\"y\\\": 412000.0, \\\"x\\\": 1950.0}, {\\\"y\\\": 252000.0, \\\"x\\\": 1340.0}, {\\\"y\\\": 375000.0, \\\"x\\\": 1130.0}, {\\\"y\\\": 725000.0, \\\"x\\\": 1950.0}, {\\\"y\\\": 471750.0, \\\"x\\\": 3790.0}, {\\\"y\\\": 490000.0, \\\"x\\\": 2020.0}, {\\\"y\\\": 439000.0, \\\"x\\\": 800.0}, {\\\"y\\\": 355000.0, \\\"x\\\": 1770.0}, {\\\"y\\\": 250000.0, \\\"x\\\": 940.0}, {\\\"y\\\": 780000.0, \\\"x\\\": 2260.0}, {\\\"y\\\": 409000.0, \\\"x\\\": 890.0}, {\\\"y\\\": 420000.0, \\\"x\\\": 860.0}, {\\\"y\\\": 200000.0, \\\"x\\\": 680.0}, {\\\"y\\\": 830000.0, \\\"x\\\": 2130.0}, {\\\"y\\\": 695000.0, \\\"x\\\": 2390.0}, {\\\"y\\\": 815000.0, \\\"x\\\": 3488.0}, {\\\"y\\\": 210000.0, \\\"x\\\": 1260.0}, {\\\"y\\\": 635000.0, \\\"x\\\": 2940.0}, {\\\"y\\\": 562500.0, \\\"x\\\": 2440.0}, {\\\"y\\\": 402500.0, \\\"x\\\": 2600.0}, {\\\"y\\\": 555000.0, \\\"x\\\": 2080.0}, {\\\"y\\\": 310000.0, \\\"x\\\": 1990.0}, {\\\"y\\\": 500000.0, \\\"x\\\": 2840.0}, {\\\"y\\\": 430000.0, \\\"x\\\": 2630.0}, {\\\"y\\\": 1600000.0, \\\"x\\\": 2820.0}, {\\\"y\\\": 627500.0, \\\"x\\\": 1560.0}, {\\\"y\\\": 335000.0, \\\"x\\\": 2330.0}, {\\\"y\\\": 962000.0, \\\"x\\\": 3320.0}, {\\\"y\\\": 299000.0, \\\"x\\\": 1730.0}, {\\\"y\\\": 399950.0, \\\"x\\\": 3110.0}, {\\\"y\\\": 322000.0, \\\"x\\\": 1230.0}, {\\\"y\\\": 430000.0, \\\"x\\\": 950.0}, {\\\"y\\\": 307000.0, \\\"x\\\": 1890.0}, {\\\"y\\\": 194000.0, \\\"x\\\": 1010.0}, {\\\"y\\\": 180000.0, \\\"x\\\": 1010.0}, {\\\"y\\\": 465000.0, \\\"x\\\": 2340.0}, {\\\"y\\\": 722500.0, \\\"x\\\": 2460.0}, {\\\"y\\\": 470450.0, \\\"x\\\": 1010.0}, {\\\"y\\\": 280000.0, \\\"x\\\": 1650.0}, {\\\"y\\\": 176250.0, \\\"x\\\": 1440.0}, {\\\"y\\\": 560000.0, \\\"x\\\": 1710.0}, {\\\"y\\\": 830000.0, \\\"x\\\": 2760.0}, {\\\"y\\\": 276900.0, \\\"x\\\": 1350.0}, {\\\"y\\\": 625000.0, \\\"x\\\": 1660.0}, {\\\"y\\\": 1015000.0, \\\"x\\\": 2960.0}, {\\\"y\\\": 463500.0, \\\"x\\\": 1090.0}, {\\\"y\\\": 485000.0, \\\"x\\\": 3110.0}, {\\\"y\\\": 272000.0, \\\"x\\\": 1380.0}, {\\\"y\\\": 305000.0, \\\"x\\\": 1290.0}, {\\\"y\\\": 760000.0, \\\"x\\\": 1980.0}, {\\\"y\\\": 387500.0, \\\"x\\\": 870.0}, {\\\"y\\\": 352000.0, \\\"x\\\": 2470.0}, {\\\"y\\\": 507000.0, \\\"x\\\": 2140.0}, {\\\"y\\\": 156000.0, \\\"x\\\": 770.0}, {\\\"y\\\": 580000.0, \\\"x\\\": 1490.0}, {\\\"y\\\": 630000.0, \\\"x\\\": 2510.0}, {\\\"y\\\": 275000.0, \\\"x\\\": 1950.0}, {\\\"y\\\": 835000.0, \\\"x\\\": 3600.0}, {\\\"y\\\": 340000.0, \\\"x\\\": 2380.0}, {\\\"y\\\": 329350.0, \\\"x\\\": 720.0}, {\\\"y\\\": 1480000.0, \\\"x\\\": 4070.0}, {\\\"y\\\": 475000.0, \\\"x\\\": 1250.0}, {\\\"y\\\": 719950.0, \\\"x\\\": 2190.0}, {\\\"y\\\": 235000.0, \\\"x\\\": 810.0}, {\\\"y\\\": 875000.0, \\\"x\\\": 2440.0}, {\\\"y\\\": 380000.0, \\\"x\\\": 1740.0}, {\\\"y\\\": 325000.0, \\\"x\\\": 1480.0}, {\\\"y\\\": 475000.0, \\\"x\\\": 2120.0}, {\\\"y\\\": 152900.0, \\\"x\\\": 900.0}, {\\\"y\\\": 210000.0, \\\"x\\\": 1190.0}, {\\\"y\\\": 350000.0, \\\"x\\\": 1010.0}, {\\\"y\\\": 505000.0, \\\"x\\\": 2100.0}, {\\\"y\\\": 464900.0, \\\"x\\\": 2020.0}, {\\\"y\\\": 650000.0, \\\"x\\\": 2520.0}, {\\\"y\\\": 369950.0, \\\"x\\\": 1370.0}, {\\\"y\\\": 250000.0, \\\"x\\\": 1530.0}, {\\\"y\\\": 320000.0, \\\"x\\\": 1530.0}, {\\\"y\\\": 2532000.0, \\\"x\\\": 5040.0}, {\\\"y\\\": 340000.0, \\\"x\\\": 2530.0}, {\\\"y\\\": 440000.0, \\\"x\\\": 1010.0}, {\\\"y\\\": 219950.0, \\\"x\\\": 1200.0}, {\\\"y\\\": 940000.0, \\\"x\\\": 2720.0}, {\\\"y\\\": 399950.0, \\\"x\\\": 1850.0}, {\\\"y\\\": 1568000.0, \\\"x\\\": 2340.0}, {\\\"y\\\": 528000.0, \\\"x\\\": 1860.0}, {\\\"y\\\": 545000.0, \\\"x\\\": 1940.0}, {\\\"y\\\": 575000.0, \\\"x\\\": 1680.0}, {\\\"y\\\": 235000.0, \\\"x\\\": 1770.0}, {\\\"y\\\": 272000.0, \\\"x\\\": 1790.0}, {\\\"y\\\": 380000.0, \\\"x\\\": 1720.0}, {\\\"y\\\": 195000.0, \\\"x\\\": 1280.0}, {\\\"y\\\": 297000.0, \\\"x\\\": 1690.0}, {\\\"y\\\": 349000.0, \\\"x\\\": 2190.0}, {\\\"y\\\": 320000.0, \\\"x\\\": 710.0}, {\\\"y\\\": 319990.0, \\\"x\\\": 1890.0}, {\\\"y\\\": 439900.0, \\\"x\\\": 1410.0}, {\\\"y\\\": 429000.0, \\\"x\\\": 2210.0}, {\\\"y\\\": 272500.0, \\\"x\\\": 1540.0}, {\\\"y\\\": 400000.0, \\\"x\\\": 1350.0}, {\\\"y\\\": 462000.0, \\\"x\\\": 1380.0}, {\\\"y\\\": 510000.0, \\\"x\\\": 890.0}, {\\\"y\\\": 550000.0, \\\"x\\\": 1900.0}, {\\\"y\\\": 150000.0, \\\"x\\\": 1240.0}, {\\\"y\\\": 460000.0, \\\"x\\\": 1730.0}, {\\\"y\\\": 632500.0, \\\"x\\\": 2090.0}, {\\\"y\\\": 361000.0, \\\"x\\\": 1650.0}, {\\\"y\\\": 437000.0, \\\"x\\\": 1130.0}, {\\\"y\\\": 370000.0, \\\"x\\\": 3240.0}, {\\\"y\\\": 884250.0, \\\"x\\\": 3840.0}, {\\\"y\\\": 225000.0, \\\"x\\\": 1200.0}, {\\\"y\\\": 235000.0, \\\"x\\\": 870.0}, {\\\"y\\\": 767500.0, \\\"x\\\": 2410.0}, {\\\"y\\\": 1200000.0, \\\"x\\\": 1560.0}, {\\\"y\\\": 715000.0, \\\"x\\\": 2410.0}, {\\\"y\\\": 417000.0, \\\"x\\\": 2300.0}, {\\\"y\\\": 199000.0, \\\"x\\\": 1390.0}, {\\\"y\\\": 875000.0, \\\"x\\\": 2920.0}, {\\\"y\\\": 545000.0, \\\"x\\\": 1370.0}, {\\\"y\\\": 192500.0, \\\"x\\\": 950.0}, {\\\"y\\\": 822500.0, \\\"x\\\": 3090.0}, {\\\"y\\\": 800000.0, \\\"x\\\": 2390.0}, {\\\"y\\\": 1250000.0, \\\"x\\\": 2070.0}, {\\\"y\\\": 3850000.0, \\\"x\\\": 5770.0}, {\\\"y\\\": 295000.0, \\\"x\\\": 1460.0}, {\\\"y\\\": 419000.0, \\\"x\\\": 1510.0}, {\\\"y\\\": 1195000.0, \\\"x\\\": 5180.0}, {\\\"y\\\": 750000.0, \\\"x\\\": 3430.0}, {\\\"y\\\": 502000.0, \\\"x\\\": 1700.0}, {\\\"y\\\": 1025000.0, \\\"x\\\": 2640.0}, {\\\"y\\\": 398500.0, \\\"x\\\": 1200.0}, {\\\"y\\\": 700000.0, \\\"x\\\": 1850.0}, {\\\"y\\\": 248000.0, \\\"x\\\": 1510.0}, {\\\"y\\\": 800000.0, \\\"x\\\": 2130.0}, {\\\"y\\\": 383000.0, \\\"x\\\": 2640.0}, {\\\"y\\\": 688000.0, \\\"x\\\": 3000.0}, {\\\"y\\\": 521000.0, \\\"x\\\": 1870.0}, {\\\"y\\\": 365000.0, \\\"x\\\": 990.0}, {\\\"y\\\": 491000.0, \\\"x\\\": 2005.0}, {\\\"y\\\": 643000.0, \\\"x\\\": 2030.0}, {\\\"y\\\": 279000.0, \\\"x\\\": 1500.0}, {\\\"y\\\": 583500.0, \\\"x\\\": 1530.0}, {\\\"y\\\": 310000.0, \\\"x\\\": 1990.0}, {\\\"y\\\": 310000.0, \\\"x\\\": 1420.0}, {\\\"y\\\": 280000.0, \\\"x\\\": 1400.0}, {\\\"y\\\": 272000.0, \\\"x\\\": 1870.0}, {\\\"y\\\": 870000.0, \\\"x\\\": 3040.0}, {\\\"y\\\": 307000.0, \\\"x\\\": 1790.0}, {\\\"y\\\": 490000.0, \\\"x\\\": 1590.0}, {\\\"y\\\": 399950.0, \\\"x\\\": 2050.0}, {\\\"y\\\": 1635000.0, \\\"x\\\": 4220.0}, {\\\"y\\\": 989000.0, \\\"x\\\": 4030.0}, {\\\"y\\\": 264950.0, \\\"x\\\": 1770.0}, {\\\"y\\\": 491500.0, \\\"x\\\": 2100.0}, {\\\"y\\\": 345000.0, \\\"x\\\": 2120.0}, {\\\"y\\\": 339900.0, \\\"x\\\": 2600.0}, {\\\"y\\\": 852000.0, \\\"x\\\": 2400.0}, {\\\"y\\\": 585000.0, \\\"x\\\": 3180.0}, {\\\"y\\\": 723000.0, \\\"x\\\": 2790.0}, {\\\"y\\\": 594000.0, \\\"x\\\": 2080.0}, {\\\"y\\\": 405000.0, \\\"x\\\": 1370.0}, {\\\"y\\\": 725500.0, \\\"x\\\": 2790.0}, {\\\"y\\\": 800000.0, \\\"x\\\": 1740.0}, {\\\"y\\\": 1325000.0, \\\"x\\\": 6400.0}, {\\\"y\\\": 180500.0, \\\"x\\\": 1800.0}, {\\\"y\\\": 325000.0, \\\"x\\\": 1800.0}, {\\\"y\\\": 235000.0, \\\"x\\\": 1190.0}, {\\\"y\\\": 330000.0, \\\"x\\\": 860.0}, {\\\"y\\\": 678500.0, \\\"x\\\": 2460.0}, {\\\"y\\\": 463000.0, \\\"x\\\": 1980.0}, {\\\"y\\\": 250000.0, \\\"x\\\": 670.0}, {\\\"y\\\": 655000.0, \\\"x\\\": 1410.0}, {\\\"y\\\": 239900.0, \\\"x\\\": 1860.0}, {\\\"y\\\": 185000.0, \\\"x\\\": 980.0}, {\\\"y\\\": 1735000.0, \\\"x\\\": 3040.0}, {\\\"y\\\": 251700.0, \\\"x\\\": 1810.0}, {\\\"y\\\": 400000.0, \\\"x\\\": 1560.0}, {\\\"y\\\": 735000.0, \\\"x\\\": 2100.0}, {\\\"y\\\": 1700000.0, \\\"x\\\": 2500.0}, {\\\"y\\\": 82500.0, \\\"x\\\": 520.0}, {\\\"y\\\": 765000.0, \\\"x\\\": 3010.0}, {\\\"y\\\": 292500.0, \\\"x\\\": 2140.0}, {\\\"y\\\": 270000.0, \\\"x\\\": 2390.0}, {\\\"y\\\": 415000.0, \\\"x\\\": 1510.0}, {\\\"y\\\": 950000.0, \\\"x\\\": 2210.0}, {\\\"y\\\": 353000.0, \\\"x\\\": 2170.0}, {\\\"y\\\": 670950.0, \\\"x\\\": 1790.0}, {\\\"y\\\": 280950.0, \\\"x\\\": 1390.0}, {\\\"y\\\": 585000.0, \\\"x\\\": 1850.0}, {\\\"y\\\": 525000.0, \\\"x\\\": 1480.0}, {\\\"y\\\": 605000.0, \\\"x\\\": 1850.0}, {\\\"y\\\": 1010000.0, \\\"x\\\": 3350.0}, {\\\"y\\\": 245990.0, \\\"x\\\": 1040.0}, {\\\"y\\\": 535000.0, \\\"x\\\": 2810.0}, {\\\"y\\\": 410000.0, \\\"x\\\": 1010.0}, {\\\"y\\\": 550000.0, \\\"x\\\": 2250.0}, {\\\"y\\\": 665000.0, \\\"x\\\": 1800.0}, {\\\"y\\\": 455000.0, \\\"x\\\": 2400.0}, {\\\"y\\\": 440000.0, \\\"x\\\": 1780.0}, {\\\"y\\\": 332000.0, \\\"x\\\": 2120.0}, {\\\"y\\\": 280000.0, \\\"x\\\": 1860.0}, {\\\"y\\\": 570000.0, \\\"x\\\": 1460.0}, {\\\"y\\\": 250000.0, \\\"x\\\": 1230.0}, {\\\"y\\\": 238000.0, \\\"x\\\": 1088.0}, {\\\"y\\\": 265000.0, \\\"x\\\": 800.0}, {\\\"y\\\": 306000.0, \\\"x\\\": 1190.0}, {\\\"y\\\": 345000.0, \\\"x\\\": 1940.0}, {\\\"y\\\": 765000.0, \\\"x\\\": 3300.0}, {\\\"y\\\": 346300.0, \\\"x\\\": 2590.0}, {\\\"y\\\": 342500.0, \\\"x\\\": 2080.0}, {\\\"y\\\": 501000.0, \\\"x\\\": 2680.0}, {\\\"y\\\": 270000.0, \\\"x\\\": 1670.0}, {\\\"y\\\": 638000.0, \\\"x\\\": 1830.0}, {\\\"y\\\": 460000.0, \\\"x\\\": 1400.0}, {\\\"y\\\": 760000.0, \\\"x\\\": 2770.0}, {\\\"y\\\": 1085000.0, \\\"x\\\": 3630.0}, {\\\"y\\\": 234000.0, \\\"x\\\": 1040.0}, {\\\"y\\\": 1650000.0, \\\"x\\\": 2690.0}, {\\\"y\\\": 488000.0, \\\"x\\\": 2020.0}, {\\\"y\\\": 1550000.0, \\\"x\\\": 2450.0}, {\\\"y\\\": 499000.0, \\\"x\\\": 2030.0}, {\\\"y\\\": 150000.0, \\\"x\\\": 1450.0}, {\\\"y\\\": 333000.0, \\\"x\\\": 2400.0}, {\\\"y\\\": 700000.0, \\\"x\\\": 2870.0}, {\\\"y\\\": 275000.0, \\\"x\\\": 1340.0}, {\\\"y\\\": 330000.0, \\\"x\\\": 1680.0}, {\\\"y\\\": 360000.0, \\\"x\\\": 1850.0}, {\\\"y\\\": 467000.0, \\\"x\\\": 1220.0}, {\\\"y\\\": 568000.0, \\\"x\\\": 2320.0}, {\\\"y\\\": 605000.0, \\\"x\\\": 3220.0}, {\\\"y\\\": 750000.0, \\\"x\\\": 3190.0}, {\\\"y\\\": 760000.0, \\\"x\\\": 3530.0}, {\\\"y\\\": 265000.0, \\\"x\\\": 2050.0}, {\\\"y\\\": 490000.0, \\\"x\\\": 1720.0}, {\\\"y\\\": 360000.0, \\\"x\\\": 2850.0}, {\\\"y\\\": 311750.0, \\\"x\\\": 2270.0}, {\\\"y\\\": 399000.0, \\\"x\\\": 1880.0}, {\\\"y\\\": 347000.0, \\\"x\\\": 2770.0}, {\\\"y\\\": 1680000.0, \\\"x\\\": 4490.0}, {\\\"y\\\": 585000.0, \\\"x\\\": 3110.0}, {\\\"y\\\": 340000.0, \\\"x\\\": 2360.0}, {\\\"y\\\": 612000.0, \\\"x\\\": 2180.0}, {\\\"y\\\": 230000.0, \\\"x\\\": 1910.0}, {\\\"y\\\": 604000.0, \\\"x\\\": 2260.0}, {\\\"y\\\": 250000.0, \\\"x\\\": 1770.0}, {\\\"y\\\": 258500.0, \\\"x\\\": 1460.0}, {\\\"y\\\": 783000.0, \\\"x\\\": 2080.0}, {\\\"y\\\": 1050000.0, \\\"x\\\": 2960.0}, {\\\"y\\\": 760000.0, \\\"x\\\": 3220.0}, {\\\"y\\\": 276000.0, \\\"x\\\": 1140.0}, {\\\"y\\\": 550000.0, \\\"x\\\": 1660.0}, {\\\"y\\\": 398000.0, \\\"x\\\": 1430.0}, {\\\"y\\\": 775000.0, \\\"x\\\": 1820.0}, {\\\"y\\\": 1027500.0, \\\"x\\\": 3540.0}, {\\\"y\\\": 327000.0, \\\"x\\\": 1620.0}, {\\\"y\\\": 564500.0, \\\"x\\\": 3100.0}, {\\\"y\\\": 782000.0, \\\"x\\\": 1500.0}, {\\\"y\\\": 398000.0, \\\"x\\\": 2820.0}, {\\\"y\\\": 257000.0, \\\"x\\\": 1850.0}, {\\\"y\\\": 235000.0, \\\"x\\\": 1570.0}, {\\\"y\\\": 453000.0, \\\"x\\\": 2300.0}, {\\\"y\\\": 535000.0, \\\"x\\\": 920.0}, {\\\"y\\\": 275000.0, \\\"x\\\": 1600.0}, {\\\"y\\\": 665000.0, \\\"x\\\": 2630.0}, {\\\"y\\\": 670000.0, \\\"x\\\": 3020.0}, {\\\"y\\\": 465000.0, \\\"x\\\": 1490.0}, {\\\"y\\\": 210000.0, \\\"x\\\": 1160.0}, {\\\"y\\\": 265000.0, \\\"x\\\": 2040.0}, {\\\"y\\\": 426000.0, \\\"x\\\": 1550.0}, {\\\"y\\\": 529219.0, \\\"x\\\": 1990.0}, {\\\"y\\\": 600000.0, \\\"x\\\": 1900.0}, {\\\"y\\\": 875000.0, \\\"x\\\": 3840.0}, {\\\"y\\\": 608000.0, \\\"x\\\": 2400.0}, {\\\"y\\\": 220000.0, \\\"x\\\": 1660.0}, {\\\"y\\\": 1760000.0, \\\"x\\\": 6055.0}, {\\\"y\\\": 295450.0, \\\"x\\\": 2030.0}, {\\\"y\\\": 315000.0, \\\"x\\\": 840.0}, {\\\"y\\\": 205000.0, \\\"x\\\": 1450.0}, {\\\"y\\\": 310000.0, \\\"x\\\": 1460.0}, {\\\"y\\\": 1000000.0, \\\"x\\\": 2010.0}, {\\\"y\\\": 525000.0, \\\"x\\\": 2910.0}, {\\\"y\\\": 284000.0, \\\"x\\\": 1880.0}, {\\\"y\\\": 510000.0, \\\"x\\\": 2170.0}, {\\\"y\\\": 405000.0, \\\"x\\\": 1260.0}, {\\\"y\\\": 509950.0, \\\"x\\\": 1970.0}, {\\\"y\\\": 600000.0, \\\"x\\\": 2090.0}, {\\\"y\\\": 990000.0, \\\"x\\\": 3450.0}, {\\\"y\\\": 280005.0, \\\"x\\\": 1130.0}, {\\\"y\\\": 700000.0, \\\"x\\\": 2600.0}, {\\\"y\\\": 330000.0, \\\"x\\\": 1030.0}, {\\\"y\\\": 340000.0, \\\"x\\\": 1700.0}, {\\\"y\\\": 468000.0, \\\"x\\\": 1480.0}, {\\\"y\\\": 1339000.0, \\\"x\\\": 4250.0}, {\\\"y\\\": 515000.0, \\\"x\\\": 1600.0}, {\\\"y\\\": 245000.0, \\\"x\\\": 1870.0}, {\\\"y\\\": 265000.0, \\\"x\\\": 1440.0}, {\\\"y\\\": 372400.0, \\\"x\\\": 2720.0}, {\\\"y\\\": 390000.0, \\\"x\\\": 1240.0}, {\\\"y\\\": 208000.0, \\\"x\\\": 1020.0}, {\\\"y\\\": 273000.0, \\\"x\\\": 1180.0}, {\\\"y\\\": 455000.0, \\\"x\\\": 3080.0}, {\\\"y\\\": 270000.0, \\\"x\\\": 1750.0}, {\\\"y\\\": 618000.0, \\\"x\\\": 2530.0}, {\\\"y\\\": 213550.0, \\\"x\\\": 1580.0}, {\\\"y\\\": 210000.0, \\\"x\\\": 2340.0}, {\\\"y\\\": 2750000.0, \\\"x\\\": 6300.0}, {\\\"y\\\": 403500.0, \\\"x\\\": 2400.0}, {\\\"y\\\": 235000.0, \\\"x\\\": 1300.0}, {\\\"y\\\": 287500.0, \\\"x\\\": 1760.0}, {\\\"y\\\": 546800.0, \\\"x\\\": 1520.0}, {\\\"y\\\": 183000.0, \\\"x\\\": 1070.0}, {\\\"y\\\": 560000.0, \\\"x\\\": 2560.0}, {\\\"y\\\": 299500.0, \\\"x\\\": 1280.0}, {\\\"y\\\": 610000.0, \\\"x\\\": 1660.0}, {\\\"y\\\": 288350.0, \\\"x\\\": 1860.0}, {\\\"y\\\": 500000.0, \\\"x\\\": 950.0}, {\\\"y\\\": 625000.0, \\\"x\\\": 2140.0}, {\\\"y\\\": 418000.0, \\\"x\\\": 1480.0}, {\\\"y\\\": 660000.0, \\\"x\\\": 2260.0}, {\\\"y\\\": 775000.0, \\\"x\\\": 2300.0}, {\\\"y\\\": 429500.0, \\\"x\\\": 1650.0}, {\\\"y\\\": 569000.0, \\\"x\\\": 1990.0}, {\\\"y\\\": 250000.0, \\\"x\\\": 1960.0}, {\\\"y\\\": 225000.0, \\\"x\\\": 1310.0}, {\\\"y\\\": 530000.0, \\\"x\\\": 2450.0}, {\\\"y\\\": 306000.0, \\\"x\\\": 910.0}, {\\\"y\\\": 517100.0, \\\"x\\\": 1580.0}, {\\\"y\\\": 354950.0, \\\"x\\\": 1780.0}, {\\\"y\\\": 348000.0, \\\"x\\\": 1040.0}, {\\\"y\\\": 522250.0, \\\"x\\\": 2340.0}, {\\\"y\\\": 275000.0, \\\"x\\\": 1720.0}, {\\\"y\\\": 390000.0, \\\"x\\\": 1600.0}, {\\\"y\\\": 260000.0, \\\"x\\\": 1320.0}, {\\\"y\\\": 585000.0, \\\"x\\\": 2350.0}, {\\\"y\\\": 605000.0, \\\"x\\\": 2740.0}, {\\\"y\\\": 342000.0, \\\"x\\\": 2300.0}, {\\\"y\\\": 900000.0, \\\"x\\\": 4350.0}, {\\\"y\\\": 252000.0, \\\"x\\\": 1430.0}, {\\\"y\\\": 357000.0, \\\"x\\\": 2400.0}, {\\\"y\\\": 370000.0, \\\"x\\\": 940.0}, {\\\"y\\\": 322500.0, \\\"x\\\": 1020.0}, {\\\"y\\\": 210000.0, \\\"x\\\": 1680.0}, {\\\"y\\\": 290000.0, \\\"x\\\": 1340.0}, {\\\"y\\\": 860000.0, \\\"x\\\": 3960.0}, {\\\"y\\\": 302000.0, \\\"x\\\": 2650.0}, {\\\"y\\\": 369160.0, \\\"x\\\": 2120.0}, {\\\"y\\\": 1185000.0, \\\"x\\\": 2850.0}, {\\\"y\\\": 993000.0, \\\"x\\\": 2850.0}, {\\\"y\\\": 380000.0, \\\"x\\\": 1870.0}, {\\\"y\\\": 635000.0, \\\"x\\\": 2660.0}, {\\\"y\\\": 260000.0, \\\"x\\\": 1190.0}, {\\\"y\\\": 243000.0, \\\"x\\\": 1770.0}, {\\\"y\\\": 1400000.0, \\\"x\\\": 2770.0}, {\\\"y\\\": 665000.0, \\\"x\\\": 2080.0}, {\\\"y\\\": 898000.0, \\\"x\\\": 2700.0}, {\\\"y\\\": 583000.0, \\\"x\\\": 2200.0}, {\\\"y\\\": 429000.0, \\\"x\\\": 2160.0}, {\\\"y\\\": 471000.0, \\\"x\\\": 2010.0}, {\\\"y\\\": 1810000.0, \\\"x\\\": 3780.0}, {\\\"y\\\": 739500.0, \\\"x\\\": 4460.0}, {\\\"y\\\": 450000.0, \\\"x\\\": 1770.0}, {\\\"y\\\": 552500.0, \\\"x\\\": 1430.0}, {\\\"y\\\": 437000.0, \\\"x\\\": 1700.0}, {\\\"y\\\": 270000.0, \\\"x\\\": 1830.0}, {\\\"y\\\": 226740.0, \\\"x\\\": 1410.0}, {\\\"y\\\": 446500.0, \\\"x\\\": 3060.0}, {\\\"y\\\": 283000.0, \\\"x\\\": 1820.0}, {\\\"y\\\": 445000.0, \\\"x\\\": 2430.0}, {\\\"y\\\": 250000.0, \\\"x\\\": 740.0}, {\\\"y\\\": 307000.0, \\\"x\\\": 770.0}, {\\\"y\\\": 315000.0, \\\"x\\\": 2200.0}, {\\\"y\\\": 555000.0, \\\"x\\\": 2920.0}, {\\\"y\\\": 264900.0, \\\"x\\\": 2040.0}, {\\\"y\\\": 510000.0, \\\"x\\\": 1600.0}, {\\\"y\\\": 328000.0, \\\"x\\\": 1990.0}, {\\\"y\\\": 358000.0, \\\"x\\\": 1830.0}, {\\\"y\\\": 325000.0, \\\"x\\\": 2540.0}, {\\\"y\\\": 1365000.0, \\\"x\\\": 2700.0}, {\\\"y\\\": 230000.0, \\\"x\\\": 1440.0}, {\\\"y\\\": 545000.0, \\\"x\\\": 1550.0}, {\\\"y\\\": 705380.0, \\\"x\\\": 2490.0}, {\\\"y\\\": 459000.0, \\\"x\\\": 2650.0}, {\\\"y\\\": 815000.0, \\\"x\\\": 2000.0}, {\\\"y\\\": 495000.0, \\\"x\\\": 3440.0}, {\\\"y\\\": 520000.0, \\\"x\\\": 2280.0}, {\\\"y\\\": 430000.0, \\\"x\\\": 1320.0}, {\\\"y\\\": 255000.0, \\\"x\\\": 2070.0}, {\\\"y\\\": 588000.0, \\\"x\\\": 1860.0}, {\\\"y\\\": 350000.0, \\\"x\\\": 940.0}, {\\\"y\\\": 625000.0, \\\"x\\\": 2290.0}, {\\\"y\\\": 172500.0, \\\"x\\\": 1510.0}, {\\\"y\\\": 554000.0, \\\"x\\\": 1830.0}, {\\\"y\\\": 775000.0, \\\"x\\\": 3090.0}, {\\\"y\\\": 1187500.0, \\\"x\\\": 4340.0}, {\\\"y\\\": 618000.0, \\\"x\\\": 3200.0}, {\\\"y\\\": 305000.0, \\\"x\\\": 1560.0}, {\\\"y\\\": 232000.0, \\\"x\\\": 1280.0}, {\\\"y\\\": 262000.0, \\\"x\\\": 2020.0}, {\\\"y\\\": 234000.0, \\\"x\\\": 1040.0}, {\\\"y\\\": 500000.0, \\\"x\\\": 2260.0}, {\\\"y\\\": 278000.0, \\\"x\\\": 860.0}, {\\\"y\\\": 230000.0, \\\"x\\\": 1920.0}, {\\\"y\\\": 500000.0, \\\"x\\\": 2290.0}, {\\\"y\\\": 366500.0, \\\"x\\\": 2070.0}, {\\\"y\\\": 665000.0, \\\"x\\\": 4250.0}, {\\\"y\\\": 1101000.0, \\\"x\\\": 2220.0}, {\\\"y\\\": 575000.0, \\\"x\\\": 1840.0}, {\\\"y\\\": 674750.0, \\\"x\\\": 2590.0}, {\\\"y\\\": 719000.0, \\\"x\\\": 3110.0}, {\\\"y\\\": 482000.0, \\\"x\\\": 2600.0}, {\\\"y\\\": 254000.0, \\\"x\\\": 1060.0}, {\\\"y\\\": 443725.0, \\\"x\\\": 1250.0}, {\\\"y\\\": 575000.0, \\\"x\\\": 2520.0}, {\\\"y\\\": 469000.0, \\\"x\\\": 2070.0}, {\\\"y\\\": 175000.0, \\\"x\\\": 1300.0}, {\\\"y\\\": 437000.0, \\\"x\\\": 2190.0}, {\\\"y\\\": 550000.0, \\\"x\\\": 2760.0}, {\\\"y\\\": 172040.0, \\\"x\\\": 1710.0}, {\\\"y\\\": 363000.0, \\\"x\\\": 1750.0}, {\\\"y\\\": 282000.0, \\\"x\\\": 1552.0}, {\\\"y\\\": 400000.0, \\\"x\\\": 2350.0}, {\\\"y\\\": 650000.0, \\\"x\\\": 5110.0}, {\\\"y\\\": 365000.0, \\\"x\\\": 1720.0}, {\\\"y\\\": 269950.0, \\\"x\\\": 1960.0}, {\\\"y\\\": 260000.0, \\\"x\\\": 1270.0}, {\\\"y\\\": 193000.0, \\\"x\\\": 1180.0}, {\\\"y\\\": 340000.0, \\\"x\\\": 2230.0}, {\\\"y\\\": 900000.0, \\\"x\\\": 4700.0}, {\\\"y\\\": 371000.0, \\\"x\\\": 2150.0}, {\\\"y\\\": 592000.0, \\\"x\\\": 2400.0}, {\\\"y\\\": 300000.0, \\\"x\\\": 1830.0}, {\\\"y\\\": 449950.0, \\\"x\\\": 2800.0}, {\\\"y\\\": 299500.0, \\\"x\\\": 2090.0}, {\\\"y\\\": 995000.0, \\\"x\\\": 2340.0}, {\\\"y\\\": 335000.0, \\\"x\\\": 1670.0}, {\\\"y\\\": 280000.0, \\\"x\\\": 1990.0}, {\\\"y\\\": 446000.0, \\\"x\\\": 2270.0}, {\\\"y\\\": 1544500.0, \\\"x\\\": 4910.0}, {\\\"y\\\": 325000.0, \\\"x\\\": 950.0}, {\\\"y\\\": 450000.0, \\\"x\\\": 1610.0}, {\\\"y\\\": 322500.0, \\\"x\\\": 1940.0}, {\\\"y\\\": 453000.0, \\\"x\\\": 1210.0}, {\\\"y\\\": 655000.0, \\\"x\\\": 2570.0}, {\\\"y\\\": 603000.0, \\\"x\\\": 1700.0}, {\\\"y\\\": 235000.0, \\\"x\\\": 1610.0}, {\\\"y\\\": 968933.0, \\\"x\\\": 4120.0}, {\\\"y\\\": 1015000.0, \\\"x\\\": 2880.0}, {\\\"y\\\": 435000.0, \\\"x\\\": 1990.0}, {\\\"y\\\": 242000.0, \\\"x\\\": 1260.0}, {\\\"y\\\": 487000.0, \\\"x\\\": 4750.0}, {\\\"y\\\": 810000.0, \\\"x\\\": 3010.0}, {\\\"y\\\": 625000.0, \\\"x\\\": 2410.0}, {\\\"y\\\": 165000.0, \\\"x\\\": 1280.0}, {\\\"y\\\": 335000.0, \\\"x\\\": 2320.0}, {\\\"y\\\": 286700.0, \\\"x\\\": 1220.0}, {\\\"y\\\": 699000.0, \\\"x\\\": 1400.0}, {\\\"y\\\": 280000.0, \\\"x\\\": 1590.0}, {\\\"y\\\": 580000.0, \\\"x\\\": 2220.0}, {\\\"y\\\": 754800.0, \\\"x\\\": 2770.0}, {\\\"y\\\": 525000.0, \\\"x\\\": 2303.0}, {\\\"y\\\": 562000.0, \\\"x\\\": 1600.0}, {\\\"y\\\": 575000.0, \\\"x\\\": 1280.0}, {\\\"y\\\": 808900.0, \\\"x\\\": 2900.0}, {\\\"y\\\": 992000.0, \\\"x\\\": 2950.0}, {\\\"y\\\": 335000.0, \\\"x\\\": 1700.0}, {\\\"y\\\": 473000.0, \\\"x\\\": 1050.0}, {\\\"y\\\": 350000.0, \\\"x\\\": 2990.0}, {\\\"y\\\": 1600000.0, \\\"x\\\": 3100.0}, {\\\"y\\\": 305500.0, \\\"x\\\": 1240.0}, {\\\"y\\\": 306000.0, \\\"x\\\": 780.0}, {\\\"y\\\": 233000.0, \\\"x\\\": 850.0}, {\\\"y\\\": 490000.0, \\\"x\\\": 1540.0}, {\\\"y\\\": 445000.0, \\\"x\\\": 2280.0}, {\\\"y\\\": 355000.0, \\\"x\\\": 2550.0}, {\\\"y\\\": 360000.0, \\\"x\\\": 1770.0}, {\\\"y\\\": 737500.0, \\\"x\\\": 2320.0}, {\\\"y\\\": 985000.0, \\\"x\\\": 2600.0}, {\\\"y\\\": 349950.0, \\\"x\\\": 1570.0}, {\\\"y\\\": 520000.0, \\\"x\\\": 3060.0}, {\\\"y\\\": 355950.0, \\\"x\\\": 1960.0}, {\\\"y\\\": 485000.0, \\\"x\\\": 3270.0}, {\\\"y\\\": 143000.0, \\\"x\\\": 1090.0}, {\\\"y\\\": 3278000.0, \\\"x\\\": 6840.0}, {\\\"y\\\": 355000.0, \\\"x\\\": 940.0}, {\\\"y\\\": 1126000.0, \\\"x\\\": 3880.0}, {\\\"y\\\": 200000.0, \\\"x\\\": 1770.0}, {\\\"y\\\": 913000.0, \\\"x\\\": 3640.0}, {\\\"y\\\": 1600000.0, \\\"x\\\": 3160.0}, {\\\"y\\\": 409900.0, \\\"x\\\": 1590.0}, {\\\"y\\\": 265000.0, \\\"x\\\": 1290.0}, {\\\"y\\\": 740000.0, \\\"x\\\": 3655.0}, {\\\"y\\\": 306000.0, \\\"x\\\": 2490.0}, {\\\"y\\\": 381000.0, \\\"x\\\": 1470.0}, {\\\"y\\\": 1220000.0, \\\"x\\\": 3960.0}, {\\\"y\\\": 1050000.0, \\\"x\\\": 3190.0}, {\\\"y\\\": 408000.0, \\\"x\\\": 810.0}, {\\\"y\\\": 739900.0, \\\"x\\\": 2980.0}, {\\\"y\\\": 674250.0, \\\"x\\\": 2780.0}, {\\\"y\\\": 438400.0, \\\"x\\\": 1340.0}, {\\\"y\\\": 1700000.0, \\\"x\\\": 4930.0}, {\\\"y\\\": 703000.0, \\\"x\\\": 1360.0}, {\\\"y\\\": 262000.0, \\\"x\\\": 1320.0}, {\\\"y\\\": 353000.0, \\\"x\\\": 1210.0}, {\\\"y\\\": 500000.0, \\\"x\\\": 1940.0}, {\\\"y\\\": 1280000.0, \\\"x\\\": 3160.0}, {\\\"y\\\": 332000.0, \\\"x\\\": 1980.0}, {\\\"y\\\": 824000.0, \\\"x\\\": 2320.0}, {\\\"y\\\": 290000.0, \\\"x\\\": 1660.0}, {\\\"y\\\": 700000.0, \\\"x\\\": 1660.0}, {\\\"y\\\": 550000.0, \\\"x\\\": 1080.0}, {\\\"y\\\": 549000.0, \\\"x\\\": 1510.0}, {\\\"y\\\": 1865000.0, \\\"x\\\": 2950.0}, {\\\"y\\\": 858000.0, \\\"x\\\": 3070.0}, {\\\"y\\\": 345000.0, \\\"x\\\": 970.0}, {\\\"y\\\": 340000.0, \\\"x\\\": 2140.0}, {\\\"y\\\": 1215000.0, \\\"x\\\": 2570.0}, {\\\"y\\\": 275000.0, \\\"x\\\": 1260.0}, {\\\"y\\\": 405000.0, \\\"x\\\": 1220.0}, {\\\"y\\\": 432500.0, \\\"x\\\": 1720.0}, {\\\"y\\\": 236500.0, \\\"x\\\": 2140.0}, {\\\"y\\\": 679000.0, \\\"x\\\": 1420.0}, {\\\"y\\\": 543000.0, \\\"x\\\": 2060.0}, {\\\"y\\\": 294000.0, \\\"x\\\": 1320.0}, {\\\"y\\\": 340500.0, \\\"x\\\": 1810.0}, {\\\"y\\\": 1012000.0, \\\"x\\\": 2980.0}, {\\\"y\\\": 335000.0, \\\"x\\\": 1350.0}, {\\\"y\\\": 425000.0, \\\"x\\\": 1540.0}, {\\\"y\\\": 353000.0, \\\"x\\\": 2510.0}, {\\\"y\\\": 540000.0, \\\"x\\\": 1670.0}, {\\\"y\\\": 640000.0, \\\"x\\\": 3690.0}, {\\\"y\\\": 339950.0, \\\"x\\\": 1320.0}, {\\\"y\\\": 195000.0, \\\"x\\\": 1510.0}, {\\\"y\\\": 322000.0, \\\"x\\\": 1510.0}, {\\\"y\\\": 660000.0, \\\"x\\\": 1870.0}, {\\\"y\\\": 280000.0, \\\"x\\\": 2400.0}, {\\\"y\\\": 300000.0, \\\"x\\\": 2400.0}, {\\\"y\\\": 207500.0, \\\"x\\\": 1170.0}, {\\\"y\\\": 195000.0, \\\"x\\\": 1190.0}, {\\\"y\\\": 700000.0, \\\"x\\\": 2080.0}, {\\\"y\\\": 560000.0, \\\"x\\\": 2150.0}, {\\\"y\\\": 260000.0, \\\"x\\\": 1580.0}, {\\\"y\\\": 575000.0, \\\"x\\\": 1580.0}, {\\\"y\\\": 475000.0, \\\"x\\\": 2370.0}, {\\\"y\\\": 285000.0, \\\"x\\\": 1840.0}, {\\\"y\\\": 753888.0, \\\"x\\\": 2660.0}, {\\\"y\\\": 650000.0, \\\"x\\\": 2190.0}, {\\\"y\\\": 620000.0, \\\"x\\\": 1660.0}, {\\\"y\\\": 526000.0, \\\"x\\\": 1780.0}, {\\\"y\\\": 155000.0, \\\"x\\\": 700.0}, {\\\"y\\\": 342000.0, \\\"x\\\": 1570.0}, {\\\"y\\\": 390000.0, \\\"x\\\": 1220.0}, {\\\"y\\\": 685000.0, \\\"x\\\": 3150.0}, {\\\"y\\\": 608000.0, \\\"x\\\": 2690.0}, {\\\"y\\\": 179900.0, \\\"x\\\": 680.0}, {\\\"y\\\": 1245000.0, \\\"x\\\": 3750.0}, {\\\"y\\\": 166000.0, \\\"x\\\": 1010.0}, {\\\"y\\\": 462000.0, \\\"x\\\": 1710.0}, {\\\"y\\\": 545000.0, \\\"x\\\": 2090.0}, {\\\"y\\\": 415000.0, \\\"x\\\": 1560.0}, {\\\"y\\\": 269000.0, \\\"x\\\": 1560.0}, {\\\"y\\\": 356500.0, \\\"x\\\": 2570.0}, {\\\"y\\\": 225000.0, \\\"x\\\": 1010.0}, {\\\"y\\\": 175000.0, \\\"x\\\": 1020.0}, {\\\"y\\\": 549000.0, \\\"x\\\": 1710.0}, {\\\"y\\\": 535000.0, \\\"x\\\": 2300.0}, {\\\"y\\\": 627000.0, \\\"x\\\": 1990.0}, {\\\"y\\\": 565000.0, \\\"x\\\": 2730.0}, {\\\"y\\\": 392450.0, \\\"x\\\": 2195.0}, {\\\"y\\\": 509000.0, \\\"x\\\": 1560.0}, {\\\"y\\\": 340000.0, \\\"x\\\": 1400.0}, {\\\"y\\\": 537000.0, \\\"x\\\": 1400.0}, {\\\"y\\\": 865000.0, \\\"x\\\": 3690.0}, {\\\"y\\\": 358000.0, \\\"x\\\": 1140.0}, {\\\"y\\\": 595000.0, \\\"x\\\": 1920.0}, {\\\"y\\\": 661000.0, \\\"x\\\": 2496.0}, {\\\"y\\\": 419950.0, \\\"x\\\": 2280.0}, {\\\"y\\\": 490000.0, \\\"x\\\": 3200.0}, {\\\"y\\\": 525000.0, \\\"x\\\": 880.0}, {\\\"y\\\": 350000.0, \\\"x\\\": 1320.0}, {\\\"y\\\": 552500.0, \\\"x\\\": 2450.0}, {\\\"y\\\": 210000.0, \\\"x\\\": 1040.0}, {\\\"y\\\": 390000.0, \\\"x\\\": 2480.0}, {\\\"y\\\": 336800.0, \\\"x\\\": 1830.0}, {\\\"y\\\": 465000.0, \\\"x\\\": 1440.0}, {\\\"y\\\": 299900.0, \\\"x\\\": 1580.0}, {\\\"y\\\": 715000.0, \\\"x\\\": 3230.0}, {\\\"y\\\": 235000.0, \\\"x\\\": 1810.0}, {\\\"y\\\": 276000.0, \\\"x\\\": 2495.0}, {\\\"y\\\": 265000.0, \\\"x\\\": 1740.0}, {\\\"y\\\": 425000.0, \\\"x\\\": 1680.0}, {\\\"y\\\": 313000.0, \\\"x\\\": 2460.0}, {\\\"y\\\": 715000.0, \\\"x\\\": 3050.0}, {\\\"y\\\": 265000.0, \\\"x\\\": 1630.0}, {\\\"y\\\": 646000.0, \\\"x\\\": 2460.0}, {\\\"y\\\": 175000.0, \\\"x\\\": 1030.0}, {\\\"y\\\": 649000.0, \\\"x\\\": 3410.0}, {\\\"y\\\": 785000.0, \\\"x\\\": 2310.0}, {\\\"y\\\": 890000.0, \\\"x\\\": 2610.0}, {\\\"y\\\": 612000.0, \\\"x\\\": 2330.0}, {\\\"y\\\": 330000.0, \\\"x\\\": 2980.0}, {\\\"y\\\": 493000.0, \\\"x\\\": 1790.0}, {\\\"y\\\": 1600000.0, \\\"x\\\": 2940.0}, {\\\"y\\\": 1619999.0, \\\"x\\\": 3900.0}, {\\\"y\\\": 1650000.0, \\\"x\\\": 3900.0}, {\\\"y\\\": 499000.0, \\\"x\\\": 1750.0}, {\\\"y\\\": 603500.0, \\\"x\\\": 2660.0}, {\\\"y\\\": 530000.0, \\\"x\\\": 1580.0}, {\\\"y\\\": 895000.0, \\\"x\\\": 2350.0}, {\\\"y\\\": 267345.0, \\\"x\\\": 2510.0}, {\\\"y\\\": 275000.0, \\\"x\\\": 1480.0}, {\\\"y\\\": 439950.0, \\\"x\\\": 1720.0}, {\\\"y\\\": 455000.0, \\\"x\\\": 1470.0}, {\\\"y\\\": 630000.0, \\\"x\\\": 1540.0}, {\\\"y\\\": 690000.0, \\\"x\\\": 2820.0}, {\\\"y\\\": 212000.0, \\\"x\\\": 1250.0}, {\\\"y\\\": 231500.0, \\\"x\\\": 2080.0}, {\\\"y\\\": 1237500.0, \\\"x\\\": 5180.0}, {\\\"y\\\": 378500.0, \\\"x\\\": 2860.0}, {\\\"y\\\": 482000.0, \\\"x\\\": 2710.0}, {\\\"y\\\": 695000.0, \\\"x\\\": 1140.0}, {\\\"y\\\": 965000.0, \\\"x\\\": 4070.0}, {\\\"y\\\": 675000.0, \\\"x\\\": 1710.0}, {\\\"y\\\": 387000.0, \\\"x\\\": 1340.0}, {\\\"y\\\": 347500.0, \\\"x\\\": 2290.0}, {\\\"y\\\": 385000.0, \\\"x\\\": 1860.0}, {\\\"y\\\": 265000.0, \\\"x\\\": 1080.0}, {\\\"y\\\": 406000.0, \\\"x\\\": 960.0}, {\\\"y\\\": 134000.0, \\\"x\\\": 980.0}, {\\\"y\\\": 415000.0, \\\"x\\\": 1500.0}, {\\\"y\\\": 375000.0, \\\"x\\\": 1440.0}, {\\\"y\\\": 620000.0, \\\"x\\\": 2580.0}, {\\\"y\\\": 337500.0, \\\"x\\\": 2070.0}, {\\\"y\\\": 565000.0, \\\"x\\\": 1880.0}, {\\\"y\\\": 399500.0, \\\"x\\\": 2420.0}, {\\\"y\\\": 1065000.0, \\\"x\\\": 1890.0}, {\\\"y\\\": 352500.0, \\\"x\\\": 1920.0}, {\\\"y\\\": 259000.0, \\\"x\\\": 1870.0}, {\\\"y\\\": 320000.0, \\\"x\\\": 900.0}, {\\\"y\\\": 733000.0, \\\"x\\\": 2160.0}, {\\\"y\\\": 381500.0, \\\"x\\\": 900.0}, {\\\"y\\\": 343000.0, \\\"x\\\": 1180.0}, {\\\"y\\\": 205500.0, \\\"x\\\": 900.0}, {\\\"y\\\": 525000.0, \\\"x\\\": 1600.0}, {\\\"y\\\": 300000.0, \\\"x\\\": 1500.0}, {\\\"y\\\": 299000.0, \\\"x\\\": 1070.0}, {\\\"y\\\": 561000.0, \\\"x\\\": 2570.0}, {\\\"y\\\": 450000.0, \\\"x\\\": 1210.0}, {\\\"y\\\": 540000.0, \\\"x\\\": 1850.0}, {\\\"y\\\": 379000.0, \\\"x\\\": 1740.0}, {\\\"y\\\": 230000.0, \\\"x\\\": 1300.0}, {\\\"y\\\": 399950.0, \\\"x\\\": 2000.0}, {\\\"y\\\": 355000.0, \\\"x\\\": 3220.0}, {\\\"y\\\": 580000.0, \\\"x\\\": 2160.0}, {\\\"y\\\": 700000.0, \\\"x\\\": 2130.0}, {\\\"y\\\": 279900.0, \\\"x\\\": 1580.0}, {\\\"y\\\": 210000.0, \\\"x\\\": 1200.0}, {\\\"y\\\": 1165000.0, \\\"x\\\": 3790.0}, {\\\"y\\\": 290300.0, \\\"x\\\": 860.0}, {\\\"y\\\": 1599950.0, \\\"x\\\": 5130.0}, {\\\"y\\\": 490000.0, \\\"x\\\": 1600.0}, {\\\"y\\\": 606000.0, \\\"x\\\": 2110.0}, {\\\"y\\\": 359950.0, \\\"x\\\": 1400.0}, {\\\"y\\\": 677100.0, \\\"x\\\": 2110.0}, {\\\"y\\\": 465000.0, \\\"x\\\": 1430.0}, {\\\"y\\\": 4500000.0, \\\"x\\\": 6640.0}, {\\\"y\\\": 500000.0, \\\"x\\\": 3040.0}, {\\\"y\\\": 455000.0, \\\"x\\\": 980.0}, {\\\"y\\\": 705000.0, \\\"x\\\": 2570.0}, {\\\"y\\\": 420000.0, \\\"x\\\": 2060.0}, {\\\"y\\\": 169575.0, \\\"x\\\": 1300.0}, {\\\"y\\\": 250000.0, \\\"x\\\": 1300.0}, {\\\"y\\\": 530000.0, \\\"x\\\": 1680.0}, {\\\"y\\\": 590000.0, \\\"x\\\": 4020.0}, {\\\"y\\\": 257500.0, \\\"x\\\": 1530.0}, {\\\"y\\\": 415000.0, \\\"x\\\": 1170.0}, {\\\"y\\\": 536000.0, \\\"x\\\": 1580.0}, {\\\"y\\\": 246500.0, \\\"x\\\": 1270.0}, {\\\"y\\\": 395000.0, \\\"x\\\": 1480.0}, {\\\"y\\\": 739000.0, \\\"x\\\": 2220.0}, {\\\"y\\\": 1272000.0, \\\"x\\\": 3200.0}, {\\\"y\\\": 190000.0, \\\"x\\\": 910.0}, {\\\"y\\\": 305000.0, \\\"x\\\": 1480.0}, {\\\"y\\\": 925000.0, \\\"x\\\": 3770.0}, {\\\"y\\\": 895000.0, \\\"x\\\": 3500.0}, {\\\"y\\\": 656000.0, \\\"x\\\": 1480.0}, {\\\"y\\\": 560000.0, \\\"x\\\": 1660.0}, {\\\"y\\\": 610000.0, \\\"x\\\": 2520.0}, {\\\"y\\\": 645000.0, \\\"x\\\": 2850.0}, {\\\"y\\\": 259000.0, \\\"x\\\": 2153.0}, {\\\"y\\\": 980000.0, \\\"x\\\": 3780.0}, {\\\"y\\\": 872000.0, \\\"x\\\": 3770.0}, {\\\"y\\\": 1000000.0, \\\"x\\\": 3600.0}, {\\\"y\\\": 900000.0, \\\"x\\\": 2980.0}, {\\\"y\\\": 475000.0, \\\"x\\\": 2320.0}, {\\\"y\\\": 350000.0, \\\"x\\\": 2980.0}, {\\\"y\\\": 840000.0, \\\"x\\\": 2930.0}, {\\\"y\\\": 500000.0, \\\"x\\\": 2040.0}, {\\\"y\\\": 202500.0, \\\"x\\\": 1510.0}, {\\\"y\\\": 523000.0, \\\"x\\\": 2660.0}, {\\\"y\\\": 225000.0, \\\"x\\\": 1740.0}, {\\\"y\\\": 418200.0, \\\"x\\\": 2240.0}, {\\\"y\\\": 356500.0, \\\"x\\\": 1570.0}, {\\\"y\\\": 670000.0, \\\"x\\\": 2500.0}, {\\\"y\\\": 456150.0, \\\"x\\\": 1750.0}, {\\\"y\\\": 471000.0, \\\"x\\\": 3030.0}, {\\\"y\\\": 558000.0, \\\"x\\\": 1680.0}, {\\\"y\\\": 1380000.0, \\\"x\\\": 5740.0}, {\\\"y\\\": 161500.0, \\\"x\\\": 1220.0}, {\\\"y\\\": 311000.0, \\\"x\\\": 1310.0}, {\\\"y\\\": 470000.0, \\\"x\\\": 2490.0}, {\\\"y\\\": 569000.0, \\\"x\\\": 2220.0}, {\\\"y\\\": 689000.0, \\\"x\\\": 2240.0}, {\\\"y\\\": 271900.0, \\\"x\\\": 1890.0}, {\\\"y\\\": 278000.0, \\\"x\\\": 1850.0}, {\\\"y\\\": 820000.0, \\\"x\\\": 2210.0}, {\\\"y\\\": 399500.0, \\\"x\\\": 1410.0}, {\\\"y\\\": 462000.0, \\\"x\\\": 1890.0}, {\\\"y\\\": 347500.0, \\\"x\\\": 1830.0}, {\\\"y\\\": 562100.0, \\\"x\\\": 1440.0}, {\\\"y\\\": 230000.0, \\\"x\\\": 950.0}, {\\\"y\\\": 687000.0, \\\"x\\\": 2370.0}, {\\\"y\\\": 725786.0, \\\"x\\\": 3070.0}, {\\\"y\\\": 315500.0, \\\"x\\\": 1300.0}, {\\\"y\\\": 312000.0, \\\"x\\\": 1300.0}, {\\\"y\\\": 343000.0, \\\"x\\\": 1210.0}, {\\\"y\\\": 385195.0, \\\"x\\\": 710.0}, {\\\"y\\\": 415000.0, \\\"x\\\": 2240.0}, {\\\"y\\\": 461000.0, \\\"x\\\": 3600.0}, {\\\"y\\\": 369990.0, \\\"x\\\": 1960.0}, {\\\"y\\\": 349950.0, \\\"x\\\": 1820.0}, {\\\"y\\\": 285750.0, \\\"x\\\": 1960.0}, {\\\"y\\\": 542500.0, \\\"x\\\": 1750.0}, {\\\"y\\\": 830000.0, \\\"x\\\": 3700.0}, {\\\"y\\\": 705000.0, \\\"x\\\": 2910.0}, {\\\"y\\\": 615000.0, \\\"x\\\": 1270.0}, {\\\"y\\\": 184500.0, \\\"x\\\": 720.0}, {\\\"y\\\": 412000.0, \\\"x\\\": 1040.0}, {\\\"y\\\": 250000.0, \\\"x\\\": 2210.0}, {\\\"y\\\": 580000.0, \\\"x\\\": 2060.0}, {\\\"y\\\": 220000.0, \\\"x\\\": 780.0}, {\\\"y\\\": 675000.0, \\\"x\\\": 2240.0}, {\\\"y\\\": 373500.0, \\\"x\\\": 800.0}, {\\\"y\\\": 662700.0, \\\"x\\\": 2440.0}, {\\\"y\\\": 239950.0, \\\"x\\\": 1460.0}, {\\\"y\\\": 383000.0, \\\"x\\\": 1150.0}, {\\\"y\\\": 485000.0, \\\"x\\\": 2650.0}, {\\\"y\\\": 610000.0, \\\"x\\\": 2600.0}, {\\\"y\\\": 545000.0, \\\"x\\\": 1820.0}, {\\\"y\\\": 780000.0, \\\"x\\\": 2560.0}, {\\\"y\\\": 305000.0, \\\"x\\\": 1714.0}, {\\\"y\\\": 405000.0, \\\"x\\\": 1330.0}, {\\\"y\\\": 1110000.0, \\\"x\\\": 7350.0}, {\\\"y\\\": 273000.0, \\\"x\\\": 2050.0}, {\\\"y\\\": 326500.0, \\\"x\\\": 1810.0}, {\\\"y\\\": 365000.0, \\\"x\\\": 1380.0}, {\\\"y\\\": 1000750.0, \\\"x\\\": 3070.0}, {\\\"y\\\": 422500.0, \\\"x\\\": 800.0}, {\\\"y\\\": 354450.0, \\\"x\\\": 2140.0}, {\\\"y\\\": 320000.0, \\\"x\\\": 1330.0}, {\\\"y\\\": 223000.0, \\\"x\\\": 1030.0}, {\\\"y\\\": 410000.0, \\\"x\\\": 1740.0}, {\\\"y\\\": 438000.0, \\\"x\\\": 1200.0}, {\\\"y\\\": 390000.0, \\\"x\\\": 1490.0}, {\\\"y\\\": 298500.0, \\\"x\\\": 1890.0}, {\\\"y\\\": 749999.0, \\\"x\\\": 3060.0}, {\\\"y\\\": 779000.0, \\\"x\\\": 3250.0}, {\\\"y\\\": 570000.0, \\\"x\\\": 2730.0}, {\\\"y\\\": 385000.0, \\\"x\\\": 810.0}, {\\\"y\\\": 649000.0, \\\"x\\\": 2240.0}, {\\\"y\\\": 283000.0, \\\"x\\\": 1740.0}, {\\\"y\\\": 699900.0, \\\"x\\\": 2380.0}, {\\\"y\\\": 278500.0, \\\"x\\\": 1540.0}, {\\\"y\\\": 700000.0, \\\"x\\\": 2340.0}, {\\\"y\\\": 535000.0, \\\"x\\\": 2710.0}, {\\\"y\\\": 234500.0, \\\"x\\\": 1310.0}, {\\\"y\\\": 374150.0, \\\"x\\\": 1390.0}, {\\\"y\\\": 397000.0, \\\"x\\\": 2201.0}, {\\\"y\\\": 613000.0, \\\"x\\\": 1960.0}, {\\\"y\\\": 1150000.0, \\\"x\\\": 2850.0}, {\\\"y\\\": 595000.0, \\\"x\\\": 1880.0}, {\\\"y\\\": 340000.0, \\\"x\\\": 2440.0}, {\\\"y\\\": 388000.0, \\\"x\\\": 2560.0}, {\\\"y\\\": 404000.0, \\\"x\\\": 1410.0}, {\\\"y\\\": 810000.0, \\\"x\\\": 2870.0}, {\\\"y\\\": 405000.0, \\\"x\\\": 2620.0}, {\\\"y\\\": 726000.0, \\\"x\\\": 2970.0}, {\\\"y\\\": 266000.0, \\\"x\\\": 1780.0}, {\\\"y\\\": 722500.0, \\\"x\\\": 3700.0}, {\\\"y\\\": 352000.0, \\\"x\\\": 1252.0}, {\\\"y\\\": 265000.0, \\\"x\\\": 1240.0}, {\\\"y\\\": 856000.0, \\\"x\\\": 2160.0}, {\\\"y\\\": 346950.0, \\\"x\\\": 2040.0}, {\\\"y\\\": 866059.0, \\\"x\\\": 3130.0}, {\\\"y\\\": 410000.0, \\\"x\\\": 2350.0}, {\\\"y\\\": 370000.0, \\\"x\\\": 1570.0}, {\\\"y\\\": 230000.0, \\\"x\\\": 1530.0}, {\\\"y\\\": 400000.0, \\\"x\\\": 1520.0}, {\\\"y\\\": 172000.0, \\\"x\\\": 1350.0}, {\\\"y\\\": 615000.0, \\\"x\\\": 1950.0}, {\\\"y\\\": 860000.0, \\\"x\\\": 3950.0}, {\\\"y\\\": 555000.0, \\\"x\\\": 2040.0}, {\\\"y\\\": 579000.0, \\\"x\\\": 1990.0}, {\\\"y\\\": 385000.0, \\\"x\\\": 1300.0}, {\\\"y\\\": 420000.0, \\\"x\\\": 2030.0}, {\\\"y\\\": 645000.0, \\\"x\\\": 2340.0}, {\\\"y\\\": 549950.0, \\\"x\\\": 2160.0}, {\\\"y\\\": 678000.0, \\\"x\\\": 2770.0}, {\\\"y\\\": 199000.0, \\\"x\\\": 2030.0}, {\\\"y\\\": 604000.0, \\\"x\\\": 1440.0}, {\\\"y\\\": 268000.0, \\\"x\\\": 1730.0}, {\\\"y\\\": 960000.0, \\\"x\\\": 4510.0}, {\\\"y\\\": 509250.0, \\\"x\\\": 2100.0}, {\\\"y\\\": 416000.0, \\\"x\\\": 1800.0}, {\\\"y\\\": 190000.0, \\\"x\\\": 1090.0}, {\\\"y\\\": 212000.0, \\\"x\\\": 1010.0}, {\\\"y\\\": 325900.0, \\\"x\\\": 2040.0}, {\\\"y\\\": 560000.0, \\\"x\\\": 2270.0}, {\\\"y\\\": 275000.0, \\\"x\\\": 1730.0}, {\\\"y\\\": 665000.0, \\\"x\\\": 2480.0}, {\\\"y\\\": 1505000.0, \\\"x\\\": 3480.0}, {\\\"y\\\": 375000.0, \\\"x\\\": 1720.0}, {\\\"y\\\": 359950.0, \\\"x\\\": 1570.0}, {\\\"y\\\": 340000.0, \\\"x\\\": 3527.0}, {\\\"y\\\": 401000.0, \\\"x\\\": 840.0}, {\\\"y\\\": 669000.0, \\\"x\\\": 1950.0}, {\\\"y\\\": 638500.0, \\\"x\\\": 1980.0}, {\\\"y\\\": 545000.0, \\\"x\\\": 1620.0}, {\\\"y\\\": 524000.0, \\\"x\\\": 1980.0}, {\\\"y\\\": 1610000.0, \\\"x\\\": 3530.0}, {\\\"y\\\": 280000.0, \\\"x\\\": 1260.0}, {\\\"y\\\": 828000.0, \\\"x\\\": 2120.0}, {\\\"y\\\": 223000.0, \\\"x\\\": 1360.0}, {\\\"y\\\": 1289000.0, \\\"x\\\": 3100.0}, {\\\"y\\\": 750000.0, \\\"x\\\": 2370.0}, {\\\"y\\\": 430000.0, \\\"x\\\": 1460.0}, {\\\"y\\\": 711000.0, \\\"x\\\": 1980.0}, {\\\"y\\\": 310000.0, \\\"x\\\": 1930.0}, {\\\"y\\\": 415000.0, \\\"x\\\": 3700.0}, {\\\"y\\\": 274900.0, \\\"x\\\": 1970.0}, {\\\"y\\\": 525000.0, \\\"x\\\": 2470.0}, {\\\"y\\\": 179500.0, \\\"x\\\": 1180.0}, {\\\"y\\\": 478000.0, \\\"x\\\": 1280.0}, {\\\"y\\\": 195000.0, \\\"x\\\": 1380.0}, {\\\"y\\\": 385000.0, \\\"x\\\": 2740.0}, {\\\"y\\\": 401000.0, \\\"x\\\": 2020.0}, {\\\"y\\\": 522000.0, \\\"x\\\": 2835.0}, {\\\"y\\\": 330000.0, \\\"x\\\": 1520.0}, {\\\"y\\\": 503000.0, \\\"x\\\": 2190.0}, {\\\"y\\\": 175000.0, \\\"x\\\": 1680.0}, {\\\"y\\\": 963990.0, \\\"x\\\": 3915.0}, {\\\"y\\\": 845000.0, \\\"x\\\": 1720.0}, {\\\"y\\\": 157500.0, \\\"x\\\": 670.0}, {\\\"y\\\": 450000.0, \\\"x\\\": 1790.0}, {\\\"y\\\": 925000.0, \\\"x\\\": 2440.0}, {\\\"y\\\": 600000.0, \\\"x\\\": 920.0}, {\\\"y\\\": 709000.0, \\\"x\\\": 1680.0}, {\\\"y\\\": 1385000.0, \\\"x\\\": 3290.0}, {\\\"y\\\": 248000.0, \\\"x\\\": 2120.0}, {\\\"y\\\": 245000.0, \\\"x\\\": 910.0}, {\\\"y\\\": 332000.0, \\\"x\\\": 1000.0}, {\\\"y\\\": 459950.0, \\\"x\\\": 2340.0}, {\\\"y\\\": 425000.0, \\\"x\\\": 1180.0}, {\\\"y\\\": 460000.0, \\\"x\\\": 2080.0}, {\\\"y\\\": 838300.0, \\\"x\\\": 3760.0}, {\\\"y\\\": 256000.0, \\\"x\\\": 1480.0}, {\\\"y\\\": 864000.0, \\\"x\\\": 3060.0}, {\\\"y\\\": 900000.0, \\\"x\\\": 3070.0}, {\\\"y\\\": 145600.0, \\\"x\\\": 1170.0}, {\\\"y\\\": 865000.0, \\\"x\\\": 2900.0}, {\\\"y\\\": 250250.0, \\\"x\\\": 2210.0}, {\\\"y\\\": 162000.0, \\\"x\\\": 1440.0}, {\\\"y\\\": 450000.0, \\\"x\\\": 1980.0}, {\\\"y\\\": 675500.0, \\\"x\\\": 2060.0}, {\\\"y\\\": 697000.0, \\\"x\\\": 2420.0}, {\\\"y\\\": 1324050.0, \\\"x\\\": 3440.0}, {\\\"y\\\": 490000.0, \\\"x\\\": 1600.0}, {\\\"y\\\": 590000.0, \\\"x\\\": 2210.0}, {\\\"y\\\": 280000.0, \\\"x\\\": 2250.0}, {\\\"y\\\": 515000.0, \\\"x\\\": 1680.0}, {\\\"y\\\": 576000.0, \\\"x\\\": 1140.0}, {\\\"y\\\": 375000.0, \\\"x\\\": 1430.0}, {\\\"y\\\": 478000.0, \\\"x\\\": 1440.0}, {\\\"y\\\": 282000.0, \\\"x\\\": 1670.0}, {\\\"y\\\": 1400000.0, \\\"x\\\": 3080.0}, {\\\"y\\\": 593500.0, \\\"x\\\": 4300.0}, {\\\"y\\\": 724950.0, \\\"x\\\": 3010.0}, {\\\"y\\\": 306000.0, \\\"x\\\": 1560.0}, {\\\"y\\\": 341000.0, \\\"x\\\": 1920.0}, {\\\"y\\\": 399950.0, \\\"x\\\": 1400.0}, {\\\"y\\\": 534000.0, \\\"x\\\": 2280.0}, {\\\"y\\\": 635000.0, \\\"x\\\": 3880.0}, {\\\"y\\\": 350000.0, \\\"x\\\": 1350.0}, {\\\"y\\\": 856000.0, \\\"x\\\": 1480.0}, {\\\"y\\\": 582000.0, \\\"x\\\": 1670.0}, {\\\"y\\\": 799000.0, \\\"x\\\": 3400.0}, {\\\"y\\\": 423700.0, \\\"x\\\": 2070.0}, {\\\"y\\\": 1835000.0, \\\"x\\\": 4870.0}, {\\\"y\\\": 322000.0, \\\"x\\\": 1760.0}, {\\\"y\\\": 929000.0, \\\"x\\\": 4030.0}, {\\\"y\\\": 443000.0, \\\"x\\\": 1130.0}, {\\\"y\\\": 441500.0, \\\"x\\\": 1510.0}, {\\\"y\\\": 875000.0, \\\"x\\\": 3110.0}, {\\\"y\\\": 3600000.0, \\\"x\\\": 5020.0}, {\\\"y\\\": 450000.0, \\\"x\\\": 740.0}, {\\\"y\\\": 425000.0, \\\"x\\\": 1630.0}, {\\\"y\\\": 660000.0, \\\"x\\\": 2780.0}, {\\\"y\\\": 763101.0, \\\"x\\\": 1990.0}, {\\\"y\\\": 499000.0, \\\"x\\\": 2250.0}, {\\\"y\\\": 521000.0, \\\"x\\\": 1720.0}, {\\\"y\\\": 302000.0, \\\"x\\\": 900.0}, {\\\"y\\\": 293000.0, \\\"x\\\": 2360.0}, {\\\"y\\\": 335000.0, \\\"x\\\": 1530.0}, {\\\"y\\\": 499000.0, \\\"x\\\": 1450.0}, {\\\"y\\\": 600000.0, \\\"x\\\": 2040.0}, {\\\"y\\\": 720000.0, \\\"x\\\": 2620.0}, {\\\"y\\\": 195000.0, \\\"x\\\": 1180.0}, {\\\"y\\\": 249000.0, \\\"x\\\": 1110.0}, {\\\"y\\\": 334000.0, \\\"x\\\": 1840.0}, {\\\"y\\\": 599950.0, \\\"x\\\": 2720.0}, {\\\"y\\\": 149900.0, \\\"x\\\": 1090.0}, {\\\"y\\\": 700000.0, \\\"x\\\": 1730.0}, {\\\"y\\\": 525000.0, \\\"x\\\": 1170.0}, {\\\"y\\\": 1049000.0, \\\"x\\\": 4740.0}, {\\\"y\\\": 402000.0, \\\"x\\\": 1960.0}, {\\\"y\\\": 450000.0, \\\"x\\\": 1430.0}, {\\\"y\\\": 520000.0, \\\"x\\\": 2510.0}, {\\\"y\\\": 205000.0, \\\"x\\\": 1420.0}, {\\\"y\\\": 635000.0, \\\"x\\\": 2680.0}, {\\\"y\\\": 210500.0, \\\"x\\\": 1220.0}, {\\\"y\\\": 406650.0, \\\"x\\\": 1070.0}, {\\\"y\\\": 350000.0, \\\"x\\\": 1580.0}, {\\\"y\\\": 425000.0, \\\"x\\\": 1820.0}, {\\\"y\\\": 798000.0, \\\"x\\\": 3590.0}, {\\\"y\\\": 180000.0, \\\"x\\\": 1960.0}, {\\\"y\\\": 1250000.0, \\\"x\\\": 3160.0}, {\\\"y\\\": 435000.0, \\\"x\\\": 2030.0}, {\\\"y\\\": 355000.0, \\\"x\\\": 1240.0}, {\\\"y\\\": 3000000.0, \\\"x\\\": 5370.0}, {\\\"y\\\": 685000.0, \\\"x\\\": 2670.0}, {\\\"y\\\": 311000.0, \\\"x\\\": 1640.0}, {\\\"y\\\": 305000.0, \\\"x\\\": 2130.0}, {\\\"y\\\": 675000.0, \\\"x\\\": 2550.0}, {\\\"y\\\": 769000.0, \\\"x\\\": 3630.0}, {\\\"y\\\": 430000.0, \\\"x\\\": 1690.0}, {\\\"y\\\": 516250.0, \\\"x\\\": 2390.0}, {\\\"y\\\": 760000.0, \\\"x\\\": 2350.0}, {\\\"y\\\": 579950.0, \\\"x\\\": 1420.0}, {\\\"y\\\": 476000.0, \\\"x\\\": 1570.0}, {\\\"y\\\": 510000.0, \\\"x\\\": 1600.0}, {\\\"y\\\": 205000.0, \\\"x\\\": 720.0}, {\\\"y\\\": 240000.0, \\\"x\\\": 1470.0}, {\\\"y\\\": 738000.0, \\\"x\\\": 2790.0}, {\\\"y\\\": 420000.0, \\\"x\\\": 1720.0}, {\\\"y\\\": 455000.0, \\\"x\\\": 1300.0}, {\\\"y\\\": 765000.0, \\\"x\\\": 2520.0}, {\\\"y\\\": 372000.0, \\\"x\\\": 1780.0}, {\\\"y\\\": 160000.0, \\\"x\\\": 1200.0}, {\\\"y\\\": 772000.0, \\\"x\\\": 2990.0}, {\\\"y\\\": 1125000.0, \\\"x\\\": 1910.0}, {\\\"y\\\": 479000.0, \\\"x\\\": 1370.0}, {\\\"y\\\": 570000.0, \\\"x\\\": 1910.0}, {\\\"y\\\": 350000.0, \\\"x\\\": 1170.0}, {\\\"y\\\": 353000.0, \\\"x\\\": 1250.0}, {\\\"y\\\": 699000.0, \\\"x\\\": 3340.0}, {\\\"y\\\": 265000.0, \\\"x\\\": 1380.0}, {\\\"y\\\": 167000.0, \\\"x\\\": 780.0}, {\\\"y\\\": 500000.0, \\\"x\\\": 2080.0}, {\\\"y\\\": 700000.0, \\\"x\\\": 1410.0}, {\\\"y\\\": 295000.0, \\\"x\\\": 520.0}, {\\\"y\\\": 1010000.0, \\\"x\\\": 3500.0}, {\\\"y\\\": 209000.0, \\\"x\\\": 840.0}, {\\\"y\\\": 276000.0, \\\"x\\\": 2240.0}, {\\\"y\\\": 380000.0, \\\"x\\\": 2100.0}, {\\\"y\\\": 315000.0, \\\"x\\\": 1750.0}, {\\\"y\\\": 685530.0, \\\"x\\\": 3130.0}, {\\\"y\\\": 254600.0, \\\"x\\\": 1470.0}, {\\\"y\\\": 230000.0, \\\"x\\\": 1440.0}, {\\\"y\\\": 335000.0, \\\"x\\\": 1430.0}, {\\\"y\\\": 550000.0, \\\"x\\\": 2170.0}, {\\\"y\\\": 123300.0, \\\"x\\\": 1150.0}, {\\\"y\\\": 275436.0, \\\"x\\\": 2170.0}, {\\\"y\\\": 325000.0, \\\"x\\\": 2630.0}, {\\\"y\\\": 635000.0, \\\"x\\\": 2490.0}, {\\\"y\\\": 513000.0, \\\"x\\\": 1710.0}, {\\\"y\\\": 580000.0, \\\"x\\\": 2130.0}, {\\\"y\\\": 225000.0, \\\"x\\\": 940.0}, {\\\"y\\\": 265000.0, \\\"x\\\": 1400.0}, {\\\"y\\\": 313000.0, \\\"x\\\": 1630.0}, {\\\"y\\\": 296000.0, \\\"x\\\": 1370.0}, {\\\"y\\\": 655500.0, \\\"x\\\": 2380.0}, {\\\"y\\\": 250750.0, \\\"x\\\": 2140.0}, {\\\"y\\\": 438000.0, \\\"x\\\": 1970.0}, {\\\"y\\\": 590000.0, \\\"x\\\": 2550.0}, {\\\"y\\\": 329500.0, \\\"x\\\": 1080.0}, {\\\"y\\\": 1195000.0, \\\"x\\\": 3070.0}, {\\\"y\\\": 415000.0, \\\"x\\\": 1470.0}, {\\\"y\\\": 900000.0, \\\"x\\\": 3620.0}, {\\\"y\\\": 378000.0, \\\"x\\\": 1050.0}, {\\\"y\\\": 474000.0, \\\"x\\\": 1050.0}, {\\\"y\\\": 464000.0, \\\"x\\\": 1320.0}, {\\\"y\\\": 310000.0, \\\"x\\\": 1210.0}, {\\\"y\\\": 580000.0, \\\"x\\\": 1860.0}, {\\\"y\\\": 999000.0, \\\"x\\\": 2830.0}, {\\\"y\\\": 510000.0, \\\"x\\\": 810.0}, {\\\"y\\\": 650000.0, \\\"x\\\": 1630.0}, {\\\"y\\\": 196000.0, \\\"x\\\": 880.0}, {\\\"y\\\": 220000.0, \\\"x\\\": 1660.0}, {\\\"y\\\": 855000.0, \\\"x\\\": 3440.0}, {\\\"y\\\": 483000.0, \\\"x\\\": 2110.0}, {\\\"y\\\": 400000.0, \\\"x\\\": 1060.0}, {\\\"y\\\": 435000.0, \\\"x\\\": 1900.0}, {\\\"y\\\": 219500.0, \\\"x\\\": 820.0}, {\\\"y\\\": 2950000.0, \\\"x\\\": 4860.0}, {\\\"y\\\": 427000.0, \\\"x\\\": 2050.0}, {\\\"y\\\": 430000.0, \\\"x\\\": 1090.0}, {\\\"y\\\": 685000.0, \\\"x\\\": 1090.0}, {\\\"y\\\": 495000.0, \\\"x\\\": 1920.0}, {\\\"y\\\": 299950.0, \\\"x\\\": 1870.0}, {\\\"y\\\": 390000.0, \\\"x\\\": 2690.0}, {\\\"y\\\": 385000.0, \\\"x\\\": 2160.0}, {\\\"y\\\": 740000.0, \\\"x\\\": 3000.0}, {\\\"y\\\": 991700.0, \\\"x\\\": 2290.0}, {\\\"y\\\": 765000.0, \\\"x\\\": 2250.0}, {\\\"y\\\": 802000.0, \\\"x\\\": 2130.0}, {\\\"y\\\": 950000.0, \\\"x\\\": 2500.0}, {\\\"y\\\": 392000.0, \\\"x\\\": 2300.0}, {\\\"y\\\": 590000.0, \\\"x\\\": 3360.0}, {\\\"y\\\": 425000.0, \\\"x\\\": 1920.0}, {\\\"y\\\": 765000.0, \\\"x\\\": 2440.0}, {\\\"y\\\": 313500.0, \\\"x\\\": 1440.0}, {\\\"y\\\": 320000.0, \\\"x\\\": 1780.0}, {\\\"y\\\": 604000.0, \\\"x\\\": 1490.0}, {\\\"y\\\": 570000.0, \\\"x\\\": 1400.0}, {\\\"y\\\": 639000.0, \\\"x\\\": 2150.0}, {\\\"y\\\": 335000.0, \\\"x\\\": 1910.0}, {\\\"y\\\": 896000.0, \\\"x\\\": 2660.0}, {\\\"y\\\": 259500.0, \\\"x\\\": 1650.0}, {\\\"y\\\": 637000.0, \\\"x\\\": 1980.0}, {\\\"y\\\": 307450.0, \\\"x\\\": 2690.0}, {\\\"y\\\": 535000.0, \\\"x\\\": 1380.0}, {\\\"y\\\": 669500.0, \\\"x\\\": 2500.0}, {\\\"y\\\": 259000.0, \\\"x\\\": 1590.0}, {\\\"y\\\": 441000.0, \\\"x\\\": 1100.0}, {\\\"y\\\": 228800.0, \\\"x\\\": 1470.0}, {\\\"y\\\": 530000.0, \\\"x\\\": 1680.0}, {\\\"y\\\": 524000.0, \\\"x\\\": 1450.0}, {\\\"y\\\": 430000.0, \\\"x\\\": 2020.0}, {\\\"y\\\": 1325000.0, \\\"x\\\": 2470.0}, {\\\"y\\\": 210000.0, \\\"x\\\": 1230.0}, {\\\"y\\\": 449000.0, \\\"x\\\": 1850.0}, {\\\"y\\\": 945000.0, \\\"x\\\": 2540.0}, {\\\"y\\\": 200450.0, \\\"x\\\": 970.0}, {\\\"y\\\": 219950.0, \\\"x\\\": 1070.0}, {\\\"y\\\": 659500.0, \\\"x\\\": 2620.0}, {\\\"y\\\": 746000.0, \\\"x\\\": 2110.0}, {\\\"y\\\": 540000.0, \\\"x\\\": 2110.0}, {\\\"y\\\": 485000.0, \\\"x\\\": 1910.0}, {\\\"y\\\": 202000.0, \\\"x\\\": 670.0}, {\\\"y\\\": 2525000.0, \\\"x\\\": 6930.0}, {\\\"y\\\": 502000.0, \\\"x\\\": 2010.0}, {\\\"y\\\": 279000.0, \\\"x\\\": 1770.0}, {\\\"y\\\": 409500.0, \\\"x\\\": 1340.0}, {\\\"y\\\": 453000.0, \\\"x\\\": 1660.0}, {\\\"y\\\": 367000.0, \\\"x\\\": 1820.0}, {\\\"y\\\": 550000.0, \\\"x\\\": 2510.0}, {\\\"y\\\": 273500.0, \\\"x\\\": 1560.0}, {\\\"y\\\": 505000.0, \\\"x\\\": 2280.0}, {\\\"y\\\": 770000.0, \\\"x\\\": 2650.0}, {\\\"y\\\": 565000.0, \\\"x\\\": 2470.0}, {\\\"y\\\": 316000.0, \\\"x\\\": 1270.0}, {\\\"y\\\": 160000.0, \\\"x\\\": 1520.0}, {\\\"y\\\": 170000.0, \\\"x\\\": 1310.0}, {\\\"y\\\": 235000.0, \\\"x\\\": 1310.0}, {\\\"y\\\": 1799000.0, \\\"x\\\": 3930.0}, {\\\"y\\\": 310000.0, \\\"x\\\": 990.0}, {\\\"y\\\": 285000.0, \\\"x\\\": 2080.0}, {\\\"y\\\": 280000.0, \\\"x\\\": 960.0}, {\\\"y\\\": 2298000.0, \\\"x\\\": 4070.0}, {\\\"y\\\": 763776.0, \\\"x\\\": 2750.0}, {\\\"y\\\": 530000.0, \\\"x\\\": 3230.0}, {\\\"y\\\": 362000.0, \\\"x\\\": 890.0}, {\\\"y\\\": 430000.0, \\\"x\\\": 990.0}, {\\\"y\\\": 456500.0, \\\"x\\\": 1290.0}, {\\\"y\\\": 445000.0, \\\"x\\\": 2170.0}, {\\\"y\\\": 386900.0, \\\"x\\\": 1330.0}, {\\\"y\\\": 479000.0, \\\"x\\\": 1340.0}, {\\\"y\\\": 525000.0, \\\"x\\\": 2200.0}, {\\\"y\\\": 272000.0, \\\"x\\\": 2520.0}, {\\\"y\\\": 517000.0, \\\"x\\\": 1180.0}, {\\\"y\\\": 615000.0, \\\"x\\\": 2660.0}, {\\\"y\\\": 439000.0, \\\"x\\\": 1250.0}, {\\\"y\\\": 716000.0, \\\"x\\\": 2270.0}, {\\\"y\\\": 308000.0, \\\"x\\\": 1080.0}, {\\\"y\\\": 800000.0, \\\"x\\\": 1620.0}, {\\\"y\\\": 575000.0, \\\"x\\\": 940.0}, {\\\"y\\\": 219950.0, \\\"x\\\": 1620.0}, {\\\"y\\\": 770000.0, \\\"x\\\": 2350.0}, {\\\"y\\\": 424950.0, \\\"x\\\": 2090.0}, {\\\"y\\\": 387000.0, \\\"x\\\": 1760.0}, {\\\"y\\\": 790000.0, \\\"x\\\": 2050.0}, {\\\"y\\\": 156000.0, \\\"x\\\": 600.0}, {\\\"y\\\": 580000.0, \\\"x\\\": 2540.0}, {\\\"y\\\": 490000.0, \\\"x\\\": 2090.0}, {\\\"y\\\": 950000.0, \\\"x\\\": 2700.0}, {\\\"y\\\": 400000.0, \\\"x\\\": 1410.0}, {\\\"y\\\": 325000.0, \\\"x\\\": 1170.0}, {\\\"y\\\": 365000.0, \\\"x\\\": 2540.0}, {\\\"y\\\": 255000.0, \\\"x\\\": 2190.0}, {\\\"y\\\": 985000.0, \\\"x\\\": 3890.0}, {\\\"y\\\": 595000.0, \\\"x\\\": 2030.0}, {\\\"y\\\": 427500.0, \\\"x\\\": 1350.0}, {\\\"y\\\": 728000.0, \\\"x\\\": 1940.0}, {\\\"y\\\": 549950.0, \\\"x\\\": 1260.0}, {\\\"y\\\": 650000.0, \\\"x\\\": 2800.0}, {\\\"y\\\": 1125000.0, \\\"x\\\": 3080.0}, {\\\"y\\\": 203000.0, \\\"x\\\": 840.0}, {\\\"y\\\": 311000.0, \\\"x\\\": 860.0}, {\\\"y\\\": 387500.0, \\\"x\\\": 2400.0}, {\\\"y\\\": 370000.0, \\\"x\\\": 1640.0}, {\\\"y\\\": 228000.0, \\\"x\\\": 1060.0}, {\\\"y\\\": 740000.0, \\\"x\\\": 2080.0}, {\\\"y\\\": 200000.0, \\\"x\\\": 2090.0}, {\\\"y\\\": 660000.0, \\\"x\\\": 1240.0}, {\\\"y\\\": 275000.0, \\\"x\\\": 2030.0}, {\\\"y\\\": 708000.0, \\\"x\\\": 1120.0}, {\\\"y\\\": 280000.0, \\\"x\\\": 1270.0}, {\\\"y\\\": 325000.0, \\\"x\\\": 2260.0}, {\\\"y\\\": 495000.0, \\\"x\\\": 1780.0}, {\\\"y\\\": 691000.0, \\\"x\\\": 1780.0}, {\\\"y\\\": 2288000.0, \\\"x\\\": 4080.0}, {\\\"y\\\": 329500.0, \\\"x\\\": 2120.0}, {\\\"y\\\": 348000.0, \\\"x\\\": 2060.0}, {\\\"y\\\": 425000.0, \\\"x\\\": 1670.0}, {\\\"y\\\": 210000.0, \\\"x\\\": 1080.0}, {\\\"y\\\": 285000.0, \\\"x\\\": 1210.0}, {\\\"y\\\": 222000.0, \\\"x\\\": 990.0}, {\\\"y\\\": 200000.0, \\\"x\\\": 1720.0}, {\\\"y\\\": 247500.0, \\\"x\\\": 1530.0}, {\\\"y\\\": 1500000.0, \\\"x\\\": 6550.0}, {\\\"y\\\": 190000.0, \\\"x\\\": 1100.0}, {\\\"y\\\": 975000.0, \\\"x\\\": 3020.0}, {\\\"y\\\": 1130000.0, \\\"x\\\": 3180.0}, {\\\"y\\\": 283200.0, \\\"x\\\": 1830.0}, {\\\"y\\\": 650000.0, \\\"x\\\": 2540.0}, {\\\"y\\\": 449500.0, \\\"x\\\": 1770.0}, {\\\"y\\\": 400000.0, \\\"x\\\": 1470.0}, {\\\"y\\\": 89950.0, \\\"x\\\": 570.0}, {\\\"y\\\": 158800.0, \\\"x\\\": 960.0}, {\\\"y\\\": 870000.0, \\\"x\\\": 2940.0}, {\\\"y\\\": 196000.0, \\\"x\\\": 1000.0}, {\\\"y\\\": 850000.0, \\\"x\\\": 2450.0}, {\\\"y\\\": 775000.0, \\\"x\\\": 3310.0}, {\\\"y\\\": 483500.0, \\\"x\\\": 1670.0}, {\\\"y\\\": 387000.0, \\\"x\\\": 1620.0}, {\\\"y\\\": 900000.0, \\\"x\\\": 2990.0}, {\\\"y\\\": 336000.0, \\\"x\\\": 1240.0}, {\\\"y\\\": 415000.0, \\\"x\\\": 670.0}, {\\\"y\\\": 380000.0, \\\"x\\\": 1470.0}, {\\\"y\\\": 350000.0, \\\"x\\\": 1320.0}, {\\\"y\\\": 1320000.0, \\\"x\\\": 6110.0}, {\\\"y\\\": 765000.0, \\\"x\\\": 2440.0}, {\\\"y\\\": 527000.0, \\\"x\\\": 2900.0}, {\\\"y\\\": 524000.0, \\\"x\\\": 2310.0}, {\\\"y\\\": 448000.0, \\\"x\\\": 1110.0}, {\\\"y\\\": 775000.0, \\\"x\\\": 4100.0}, {\\\"y\\\": 176500.0, \\\"x\\\": 930.0}, {\\\"y\\\": 750000.0, \\\"x\\\": 2420.0}, {\\\"y\\\": 1265000.0, \\\"x\\\": 2870.0}, {\\\"y\\\": 250000.0, \\\"x\\\": 1480.0}, {\\\"y\\\": 759000.0, \\\"x\\\": 1960.0}, {\\\"y\\\": 640000.0, \\\"x\\\": 1470.0}, {\\\"y\\\": 990000.0, \\\"x\\\": 2460.0}, {\\\"y\\\": 395000.0, \\\"x\\\": 1960.0}, {\\\"y\\\": 275000.0, \\\"x\\\": 1160.0}, {\\\"y\\\": 390000.0, \\\"x\\\": 1910.0}, {\\\"y\\\": 752500.0, \\\"x\\\": 2720.0}, {\\\"y\\\": 450000.0, \\\"x\\\": 1020.0}, {\\\"y\\\": 473000.0, \\\"x\\\": 900.0}, {\\\"y\\\": 178500.0, \\\"x\\\": 1120.0}, {\\\"y\\\": 485000.0, \\\"x\\\": 2340.0}, {\\\"y\\\": 215000.0, \\\"x\\\": 1410.0}, {\\\"y\\\": 589000.0, \\\"x\\\": 1920.0}, {\\\"y\\\": 325000.0, \\\"x\\\": 1370.0}, {\\\"y\\\": 580000.0, \\\"x\\\": 1590.0}, {\\\"y\\\": 181100.0, \\\"x\\\": 1850.0}, {\\\"y\\\": 345000.0, \\\"x\\\": 1430.0}, {\\\"y\\\": 781000.0, \\\"x\\\": 1940.0}, {\\\"y\\\": 402500.0, \\\"x\\\": 1270.0}, {\\\"y\\\": 426000.0, \\\"x\\\": 1380.0}, {\\\"y\\\": 389000.0, \\\"x\\\": 1720.0}, {\\\"y\\\": 670000.0, \\\"x\\\": 4050.0}, {\\\"y\\\": 1506000.0, \\\"x\\\": 3660.0}, {\\\"y\\\": 288400.0, \\\"x\\\": 1870.0}, {\\\"y\\\": 700000.0, \\\"x\\\": 2230.0}, {\\\"y\\\": 830000.0, \\\"x\\\": 2020.0}, {\\\"y\\\": 1899000.0, \\\"x\\\": 3690.0}, {\\\"y\\\": 350500.0, \\\"x\\\": 1450.0}, {\\\"y\\\": 431000.0, \\\"x\\\": 1630.0}, {\\\"y\\\": 485000.0, \\\"x\\\": 1840.0}, {\\\"y\\\": 780000.0, \\\"x\\\": 1620.0}, {\\\"y\\\": 720000.0, \\\"x\\\": 1840.0}, {\\\"y\\\": 415000.0, \\\"x\\\": 1360.0}, {\\\"y\\\": 480000.0, \\\"x\\\": 2080.0}, {\\\"y\\\": 452250.0, \\\"x\\\": 2550.0}, {\\\"y\\\": 316000.0, \\\"x\\\": 2550.0}, {\\\"y\\\": 700000.0, \\\"x\\\": 1160.0}, {\\\"y\\\": 285000.0, \\\"x\\\": 1760.0}, {\\\"y\\\": 575000.0, \\\"x\\\": 1720.0}, {\\\"y\\\": 590000.0, \\\"x\\\": 2300.0}, {\\\"y\\\": 587500.0, \\\"x\\\": 2500.0}, {\\\"y\\\": 364000.0, \\\"x\\\": 1750.0}, {\\\"y\\\": 490000.0, \\\"x\\\": 1890.0}, {\\\"y\\\": 410000.0, \\\"x\\\": 1800.0}, {\\\"y\\\": 520000.0, \\\"x\\\": 2160.0}, {\\\"y\\\": 389000.0, \\\"x\\\": 1380.0}, {\\\"y\\\": 450000.0, \\\"x\\\": 1180.0}, {\\\"y\\\": 325000.0, \\\"x\\\": 2550.0}, {\\\"y\\\": 660000.0, \\\"x\\\": 1070.0}, {\\\"y\\\": 850000.0, \\\"x\\\": 2870.0}, {\\\"y\\\": 285000.0, \\\"x\\\": 1940.0}, {\\\"y\\\": 395000.0, \\\"x\\\": 870.0}, {\\\"y\\\": 440000.0, \\\"x\\\": 1550.0}, {\\\"y\\\": 249000.0, \\\"x\\\": 1400.0}, {\\\"y\\\": 635000.0, \\\"x\\\": 1210.0}, {\\\"y\\\": 515000.0, \\\"x\\\": 3430.0}, {\\\"y\\\": 1400000.0, \\\"x\\\": 3020.0}, {\\\"y\\\": 200000.0, \\\"x\\\": 950.0}, {\\\"y\\\": 1135000.0, \\\"x\\\": 3370.0}, {\\\"y\\\": 445000.0, \\\"x\\\": 1460.0}, {\\\"y\\\": 555000.0, \\\"x\\\": 1740.0}, {\\\"y\\\": 537000.0, \\\"x\\\": 1720.0}, {\\\"y\\\": 315000.0, \\\"x\\\": 1480.0}, {\\\"y\\\": 805000.0, \\\"x\\\": 3320.0}, {\\\"y\\\": 414000.0, \\\"x\\\": 3490.0}, {\\\"y\\\": 375000.0, \\\"x\\\": 1160.0}, {\\\"y\\\": 401000.0, \\\"x\\\": 3010.0}, {\\\"y\\\": 210000.0, \\\"x\\\": 1030.0}, {\\\"y\\\": 365000.0, \\\"x\\\": 980.0}, {\\\"y\\\": 178000.0, \\\"x\\\": 1990.0}, {\\\"y\\\": 710000.0, \\\"x\\\": 1790.0}, {\\\"y\\\": 255000.0, \\\"x\\\": 810.0}, {\\\"y\\\": 528000.0, \\\"x\\\": 2940.0}, {\\\"y\\\": 537000.0, \\\"x\\\": 4883.0}, {\\\"y\\\": 442000.0, \\\"x\\\": 1360.0}, {\\\"y\\\": 375000.0, \\\"x\\\": 1370.0}, {\\\"y\\\": 637250.0, \\\"x\\\": 2120.0}, {\\\"y\\\": 427500.0, \\\"x\\\": 1240.0}, {\\\"y\\\": 700000.0, \\\"x\\\": 2770.0}, {\\\"y\\\": 680000.0, \\\"x\\\": 1660.0}, {\\\"y\\\": 393820.0, \\\"x\\\": 1170.0}, {\\\"y\\\": 525000.0, \\\"x\\\": 2470.0}, {\\\"y\\\": 505000.0, \\\"x\\\": 1310.0}, {\\\"y\\\": 555565.0, \\\"x\\\": 1670.0}, {\\\"y\\\": 650000.0, \\\"x\\\": 1660.0}, {\\\"y\\\": 632500.0, \\\"x\\\": 3500.0}, {\\\"y\\\": 269000.0, \\\"x\\\": 1440.0}, {\\\"y\\\": 405000.0, \\\"x\\\": 2360.0}, {\\\"y\\\": 845000.0, \\\"x\\\": 3460.0}, {\\\"y\\\": 234000.0, \\\"x\\\": 1750.0}, {\\\"y\\\": 638000.0, \\\"x\\\": 1470.0}, {\\\"y\\\": 290000.0, \\\"x\\\": 1710.0}, {\\\"y\\\": 262000.0, \\\"x\\\": 520.0}, {\\\"y\\\": 270000.0, \\\"x\\\": 2350.0}, {\\\"y\\\": 875000.0, \\\"x\\\": 2380.0}, {\\\"y\\\": 299000.0, \\\"x\\\": 1920.0}, {\\\"y\\\": 551000.0, \\\"x\\\": 1580.0}, {\\\"y\\\": 350000.0, \\\"x\\\": 3070.0}, {\\\"y\\\": 1901000.0, \\\"x\\\": 2660.0}, {\\\"y\\\": 511718.0, \\\"x\\\": 1700.0}, {\\\"y\\\": 965000.0, \\\"x\\\": 5010.0}, {\\\"y\\\": 475000.0, \\\"x\\\": 2680.0}, {\\\"y\\\": 1062000.0, \\\"x\\\": 2720.0}, {\\\"y\\\": 252000.0, \\\"x\\\": 940.0}, {\\\"y\\\": 580000.0, \\\"x\\\": 3596.0}, {\\\"y\\\": 374950.0, \\\"x\\\": 1240.0}, {\\\"y\\\": 739000.0, \\\"x\\\": 4660.0}, {\\\"y\\\": 271000.0, \\\"x\\\": 1710.0}, {\\\"y\\\": 230000.0, \\\"x\\\": 930.0}, {\\\"y\\\": 210000.0, \\\"x\\\": 1430.0}, {\\\"y\\\": 350000.0, \\\"x\\\": 1650.0}, {\\\"y\\\": 491500.0, \\\"x\\\": 1560.0}, {\\\"y\\\": 325000.0, \\\"x\\\": 1870.0}, {\\\"y\\\": 190000.0, \\\"x\\\": 1320.0}, {\\\"y\\\": 658600.0, \\\"x\\\": 1400.0}, {\\\"y\\\": 299950.0, \\\"x\\\": 1940.0}, {\\\"y\\\": 464000.0, \\\"x\\\": 2000.0}, {\\\"y\\\": 308000.0, \\\"x\\\": 1640.0}, {\\\"y\\\": 625000.0, \\\"x\\\": 1020.0}, {\\\"y\\\": 240000.0, \\\"x\\\": 1630.0}, {\\\"y\\\": 530000.0, \\\"x\\\": 2940.0}, {\\\"y\\\": 1000000.0, \\\"x\\\": 2120.0}, {\\\"y\\\": 439000.0, \\\"x\\\": 790.0}, {\\\"y\\\": 575000.0, \\\"x\\\": 2020.0}, {\\\"y\\\": 418000.0, \\\"x\\\": 1530.0}, {\\\"y\\\": 1208000.0, \\\"x\\\": 3250.0}, {\\\"y\\\": 1100000.0, \\\"x\\\": 2930.0}, {\\\"y\\\": 1900000.0, \\\"x\\\": 3150.0}, {\\\"y\\\": 580000.0, \\\"x\\\": 2180.0}, {\\\"y\\\": 380000.0, \\\"x\\\": 1040.0}, {\\\"y\\\": 256000.0, \\\"x\\\": 880.0}, {\\\"y\\\": 349950.0, \\\"x\\\": 1400.0}, {\\\"y\\\": 691500.0, \\\"x\\\": 2600.0}, {\\\"y\\\": 556000.0, \\\"x\\\": 1590.0}, {\\\"y\\\": 218000.0, \\\"x\\\": 1610.0}, {\\\"y\\\": 425000.0, \\\"x\\\": 1390.0}, {\\\"y\\\": 935000.0, \\\"x\\\": 3710.0}, {\\\"y\\\": 732000.0, \\\"x\\\": 2360.0}, {\\\"y\\\": 805500.0, \\\"x\\\": 1440.0}, {\\\"y\\\": 507250.0, \\\"x\\\": 1400.0}, {\\\"y\\\": 800000.0, \\\"x\\\": 4600.0}, {\\\"y\\\": 600000.0, \\\"x\\\": 2100.0}, {\\\"y\\\": 627800.0, \\\"x\\\": 2010.0}, {\\\"y\\\": 660000.0, \\\"x\\\": 2550.0}, {\\\"y\\\": 153503.0, \\\"x\\\": 1240.0}, {\\\"y\\\": 456500.0, \\\"x\\\": 2090.0}, {\\\"y\\\": 1306000.0, \\\"x\\\": 2770.0}, {\\\"y\\\": 843500.0, \\\"x\\\": 3560.0}, {\\\"y\\\": 625000.0, \\\"x\\\": 1240.0}, {\\\"y\\\": 527000.0, \\\"x\\\": 1640.0}, {\\\"y\\\": 1965000.0, \\\"x\\\": 3940.0}, {\\\"y\\\": 1003000.0, \\\"x\\\": 3150.0}, {\\\"y\\\": 855000.0, \\\"x\\\": 2550.0}, {\\\"y\\\": 725000.0, \\\"x\\\": 3940.0}, {\\\"y\\\": 315000.0, \\\"x\\\": 580.0}, {\\\"y\\\": 180000.0, \\\"x\\\": 1330.0}, {\\\"y\\\": 700000.0, \\\"x\\\": 930.0}, {\\\"y\\\": 476500.0, \\\"x\\\": 1060.0}, {\\\"y\\\": 193000.0, \\\"x\\\": 1180.0}, {\\\"y\\\": 295000.0, \\\"x\\\": 1850.0}, {\\\"y\\\": 363000.0, \\\"x\\\": 820.0}, {\\\"y\\\": 875000.0, \\\"x\\\": 3600.0}, {\\\"y\\\": 257200.0, \\\"x\\\": 1850.0}, {\\\"y\\\": 555000.0, \\\"x\\\": 2240.0}, {\\\"y\\\": 380000.0, \\\"x\\\": 1860.0}, {\\\"y\\\": 282000.0, \\\"x\\\": 2390.0}, {\\\"y\\\": 545000.0, \\\"x\\\": 2040.0}, {\\\"y\\\": 550000.0, \\\"x\\\": 1900.0}, {\\\"y\\\": 921500.0, \\\"x\\\": 1900.0}, {\\\"y\\\": 885000.0, \\\"x\\\": 2200.0}, {\\\"y\\\": 820000.0, \\\"x\\\": 2280.0}, {\\\"y\\\": 289000.0, \\\"x\\\": 1090.0}, {\\\"y\\\": 334000.0, \\\"x\\\": 670.0}, {\\\"y\\\": 206000.0, \\\"x\\\": 1050.0}, {\\\"y\\\": 491950.0, \\\"x\\\": 2090.0}, {\\\"y\\\": 430000.0, \\\"x\\\": 2030.0}, {\\\"y\\\": 208000.0, \\\"x\\\": 1250.0}, {\\\"y\\\": 245000.0, \\\"x\\\": 2600.0}, {\\\"y\\\": 426000.0, \\\"x\\\": 640.0}, {\\\"y\\\": 400000.0, \\\"x\\\": 2120.0}, {\\\"y\\\": 553000.0, \\\"x\\\": 1330.0}, {\\\"y\\\": 296000.0, \\\"x\\\": 750.0}, {\\\"y\\\": 428000.0, \\\"x\\\": 2230.0}, {\\\"y\\\": 325000.0, \\\"x\\\": 1890.0}, {\\\"y\\\": 294000.0, \\\"x\\\": 820.0}, {\\\"y\\\": 410000.0, \\\"x\\\": 1880.0}, {\\\"y\\\": 590000.0, \\\"x\\\": 2360.0}, {\\\"y\\\": 445000.0, \\\"x\\\": 1850.0}, {\\\"y\\\": 921000.0, \\\"x\\\": 2310.0}, {\\\"y\\\": 496000.0, \\\"x\\\": 2520.0}, {\\\"y\\\": 95000.0, \\\"x\\\": 800.0}, {\\\"y\\\": 359000.0, \\\"x\\\": 1580.0}, {\\\"y\\\": 452500.0, \\\"x\\\": 2430.0}, {\\\"y\\\": 555000.0, \\\"x\\\": 2350.0}, {\\\"y\\\": 549900.0, \\\"x\\\": 3800.0}, {\\\"y\\\": 569000.0, \\\"x\\\": 3670.0}, {\\\"y\\\": 318500.0, \\\"x\\\": 1780.0}, {\\\"y\\\": 487028.0, \\\"x\\\": 1295.0}, {\\\"y\\\": 240000.0, \\\"x\\\": 1350.0}, {\\\"y\\\": 253000.0, \\\"x\\\": 1440.0}, {\\\"y\\\": 380000.0, \\\"x\\\": 1320.0}, {\\\"y\\\": 250000.0, \\\"x\\\": 700.0}, {\\\"y\\\": 368500.0, \\\"x\\\": 2510.0}, {\\\"y\\\": 340000.0, \\\"x\\\": 3180.0}, {\\\"y\\\": 400000.0, \\\"x\\\": 910.0}, {\\\"y\\\": 835000.0, \\\"x\\\": 1570.0}, {\\\"y\\\": 299000.0, \\\"x\\\": 2450.0}, {\\\"y\\\": 1675000.0, \\\"x\\\": 4910.0}, {\\\"y\\\": 265000.0, \\\"x\\\": 1570.0}, {\\\"y\\\": 437500.0, \\\"x\\\": 2680.0}, {\\\"y\\\": 865000.0, \\\"x\\\": 2090.0}, {\\\"y\\\": 626000.0, \\\"x\\\": 2150.0}, {\\\"y\\\": 247300.0, \\\"x\\\": 1140.0}, {\\\"y\\\": 2075000.0, \\\"x\\\": 4230.0}, {\\\"y\\\": 425000.0, \\\"x\\\": 1790.0}, {\\\"y\\\": 905000.0, \\\"x\\\": 3100.0}, {\\\"y\\\": 641250.0, \\\"x\\\": 2220.0}, {\\\"y\\\": 675000.0, \\\"x\\\": 2370.0}, {\\\"y\\\": 845000.0, \\\"x\\\": 4070.0}, {\\\"y\\\": 401500.0, \\\"x\\\": 1790.0}, {\\\"y\\\": 395000.0, \\\"x\\\": 1610.0}, {\\\"y\\\": 1100000.0, \\\"x\\\": 2830.0}, {\\\"y\\\": 145000.0, \\\"x\\\": 1010.0}, {\\\"y\\\": 900000.0, \\\"x\\\": 1560.0}, {\\\"y\\\": 374500.0, \\\"x\\\": 1330.0}, {\\\"y\\\": 850000.0, \\\"x\\\": 2330.0}, {\\\"y\\\": 490000.0, \\\"x\\\": 960.0}, {\\\"y\\\": 304000.0, \\\"x\\\": 1710.0}, {\\\"y\\\": 400000.0, \\\"x\\\": 2230.0}, {\\\"y\\\": 454000.0, \\\"x\\\": 1700.0}, {\\\"y\\\": 160000.0, \\\"x\\\": 1040.0}, {\\\"y\\\": 542000.0, \\\"x\\\": 1070.0}, {\\\"y\\\": 403500.0, \\\"x\\\": 3600.0}, {\\\"y\\\": 418000.0, \\\"x\\\": 2750.0}, {\\\"y\\\": 406000.0, \\\"x\\\": 1920.0}, {\\\"y\\\": 242500.0, \\\"x\\\": 1770.0}, {\\\"y\\\": 425000.0, \\\"x\\\": 2460.0}, {\\\"y\\\": 613000.0, \\\"x\\\": 1550.0}, {\\\"y\\\": 189000.0, \\\"x\\\": 1460.0}, {\\\"y\\\": 700000.0, \\\"x\\\": 2440.0}, {\\\"y\\\": 750000.0, \\\"x\\\": 1640.0}, {\\\"y\\\": 494000.0, \\\"x\\\": 1290.0}, {\\\"y\\\": 700000.0, \\\"x\\\": 3150.0}, {\\\"y\\\": 705000.0, \\\"x\\\": 2305.0}, {\\\"y\\\": 356000.0, \\\"x\\\": 1060.0}, {\\\"y\\\": 625000.0, \\\"x\\\": 2060.0}, {\\\"y\\\": 144975.0, \\\"x\\\": 900.0}, {\\\"y\\\": 970000.0, \\\"x\\\": 3890.0}, {\\\"y\\\": 415000.0, \\\"x\\\": 1910.0}, {\\\"y\\\": 485000.0, \\\"x\\\": 2340.0}, {\\\"y\\\": 799950.0, \\\"x\\\": 2900.0}, {\\\"y\\\": 783350.0, \\\"x\\\": 3290.0}, {\\\"y\\\": 430000.0, \\\"x\\\": 630.0}, {\\\"y\\\": 2544750.0, \\\"x\\\": 5410.0}, {\\\"y\\\": 975000.0, \\\"x\\\": 4270.0}, {\\\"y\\\": 950000.0, \\\"x\\\": 1700.0}, {\\\"y\\\": 350000.0, \\\"x\\\": 1430.0}, {\\\"y\\\": 637000.0, \\\"x\\\": 2850.0}, {\\\"y\\\": 895000.0, \\\"x\\\": 2160.0}, {\\\"y\\\": 579000.0, \\\"x\\\": 1760.0}, {\\\"y\\\": 314900.0, \\\"x\\\": 2700.0}, {\\\"y\\\": 122000.0, \\\"x\\\": 860.0}, {\\\"y\\\": 405000.0, \\\"x\\\": 880.0}, {\\\"y\\\": 553650.0, \\\"x\\\": 1360.0}, {\\\"y\\\": 369900.0, \\\"x\\\": 1770.0}, {\\\"y\\\": 225000.0, \\\"x\\\": 2030.0}, {\\\"y\\\": 160000.0, \\\"x\\\": 1180.0}, {\\\"y\\\": 449500.0, \\\"x\\\": 2430.0}, {\\\"y\\\": 650000.0, \\\"x\\\": 1300.0}, {\\\"y\\\": 542126.0, \\\"x\\\": 2360.0}, {\\\"y\\\": 309950.0, \\\"x\\\": 1200.0}, {\\\"y\\\": 115000.0, \\\"x\\\": 1000.0}, {\\\"y\\\": 221700.0, \\\"x\\\": 1556.0}, {\\\"y\\\": 726000.0, \\\"x\\\": 1890.0}, {\\\"y\\\": 515000.0, \\\"x\\\": 1810.0}, {\\\"y\\\": 756000.0, \\\"x\\\": 2730.0}, {\\\"y\\\": 1570000.0, \\\"x\\\": 3070.0}, {\\\"y\\\": 442000.0, \\\"x\\\": 2080.0}, {\\\"y\\\": 260000.0, \\\"x\\\": 1620.0}, {\\\"y\\\": 390000.0, \\\"x\\\": 1150.0}, {\\\"y\\\": 459500.0, \\\"x\\\": 1250.0}, {\\\"y\\\": 330000.0, \\\"x\\\": 1430.0}, {\\\"y\\\": 189000.0, \\\"x\\\": 790.0}, {\\\"y\\\": 280000.0, \\\"x\\\": 1200.0}, {\\\"y\\\": 400000.0, \\\"x\\\": 2110.0}, {\\\"y\\\": 368000.0, \\\"x\\\": 3160.0}, {\\\"y\\\": 390000.0, \\\"x\\\": 2700.0}, {\\\"y\\\": 245000.0, \\\"x\\\": 820.0}, {\\\"y\\\": 375000.0, \\\"x\\\": 1800.0}, {\\\"y\\\": 465000.0, \\\"x\\\": 1750.0}, {\\\"y\\\": 445000.0, \\\"x\\\": 1540.0}, {\\\"y\\\": 250000.0, \\\"x\\\": 1130.0}, {\\\"y\\\": 475500.0, \\\"x\\\": 1500.0}, {\\\"y\\\": 672324.0, \\\"x\\\": 1600.0}, {\\\"y\\\": 420000.0, \\\"x\\\": 1200.0}, {\\\"y\\\": 515000.0, \\\"x\\\": 1690.0}, {\\\"y\\\": 732350.0, \\\"x\\\": 2270.0}, {\\\"y\\\": 297500.0, \\\"x\\\": 1910.0}, {\\\"y\\\": 475000.0, \\\"x\\\": 1640.0}, {\\\"y\\\": 414000.0, \\\"x\\\": 2120.0}, {\\\"y\\\": 357250.0, \\\"x\\\": 1400.0}, {\\\"y\\\": 289950.0, \\\"x\\\": 760.0}, {\\\"y\\\": 550000.0, \\\"x\\\": 1070.0}, {\\\"y\\\": 446000.0, \\\"x\\\": 1460.0}, {\\\"y\\\": 279000.0, \\\"x\\\": 1280.0}, {\\\"y\\\": 370000.0, \\\"x\\\": 1650.0}, {\\\"y\\\": 216000.0, \\\"x\\\": 1260.0}, {\\\"y\\\": 1100000.0, \\\"x\\\": 2200.0}, {\\\"y\\\": 1280600.0, \\\"x\\\": 3560.0}, {\\\"y\\\": 355000.0, \\\"x\\\": 1140.0}, {\\\"y\\\": 699000.0, \\\"x\\\": 2550.0}, {\\\"y\\\": 412000.0, \\\"x\\\": 1553.0}, {\\\"y\\\": 276000.0, \\\"x\\\": 1140.0}, {\\\"y\\\": 100000.0, \\\"x\\\": 790.0}, {\\\"y\\\": 955500.0, \\\"x\\\": 2130.0}, {\\\"y\\\": 199000.0, \\\"x\\\": 1390.0}, {\\\"y\\\": 762000.0, \\\"x\\\": 4000.0}, {\\\"y\\\": 425000.0, \\\"x\\\": 1520.0}, {\\\"y\\\": 546000.0, \\\"x\\\": 1657.0}, {\\\"y\\\": 419600.0, \\\"x\\\": 1680.0}, {\\\"y\\\": 735000.0, \\\"x\\\": 2270.0}, {\\\"y\\\": 1234568.0, \\\"x\\\": 2470.0}, {\\\"y\\\": 445000.0, \\\"x\\\": 1240.0}, {\\\"y\\\": 665000.0, \\\"x\\\": 1740.0}, {\\\"y\\\": 1290000.0, \\\"x\\\": 4090.0}, {\\\"y\\\": 508500.0, \\\"x\\\": 2520.0}, {\\\"y\\\": 345950.0, \\\"x\\\": 1340.0}, {\\\"y\\\": 207500.0, \\\"x\\\": 1640.0}, {\\\"y\\\": 1075000.0, \\\"x\\\": 3000.0}, {\\\"y\\\": 640000.0, \\\"x\\\": 1210.0}, {\\\"y\\\": 329500.0, \\\"x\\\": 1810.0}, {\\\"y\\\": 460000.0, \\\"x\\\": 2200.0}, {\\\"y\\\": 1230000.0, \\\"x\\\": 2200.0}, {\\\"y\\\": 805000.0, \\\"x\\\": 2350.0}, {\\\"y\\\": 200000.0, \\\"x\\\": 1090.0}, {\\\"y\\\": 749700.0, \\\"x\\\": 2280.0}, {\\\"y\\\": 288000.0, \\\"x\\\": 1430.0}, {\\\"y\\\": 535000.0, \\\"x\\\": 1520.0}, {\\\"y\\\": 330000.0, \\\"x\\\": 1620.0}, {\\\"y\\\": 479200.0, \\\"x\\\": 1510.0}, {\\\"y\\\": 373000.0, \\\"x\\\": 3001.0}, {\\\"y\\\": 355000.0, \\\"x\\\": 2020.0}, {\\\"y\\\": 275000.0, \\\"x\\\": 1380.0}, {\\\"y\\\": 380000.0, \\\"x\\\": 1520.0}, {\\\"y\\\": 417000.0, \\\"x\\\": 1090.0}, {\\\"y\\\": 1165000.0, \\\"x\\\": 4220.0}, {\\\"y\\\": 598500.0, \\\"x\\\": 2520.0}, {\\\"y\\\": 629000.0, \\\"x\\\": 1760.0}, {\\\"y\\\": 226950.0, \\\"x\\\": 930.0}, {\\\"y\\\": 1225000.0, \\\"x\\\": 2600.0}, {\\\"y\\\": 415000.0, \\\"x\\\": 2180.0}, {\\\"y\\\": 595000.0, \\\"x\\\": 1910.0}, {\\\"y\\\": 209950.0, \\\"x\\\": 1100.0}, {\\\"y\\\": 568000.0, \\\"x\\\": 1760.0}, {\\\"y\\\": 119900.0, \\\"x\\\": 700.0}, {\\\"y\\\": 207000.0, \\\"x\\\": 1080.0}, {\\\"y\\\": 195000.0, \\\"x\\\": 1070.0}, {\\\"y\\\": 324950.0, \\\"x\\\": 1460.0}, {\\\"y\\\": 210000.0, \\\"x\\\": 1050.0}, {\\\"y\\\": 1078000.0, \\\"x\\\": 3160.0}, {\\\"y\\\": 325088.0, \\\"x\\\": 1400.0}, {\\\"y\\\": 790000.0, \\\"x\\\": 3120.0}, {\\\"y\\\": 150000.0, \\\"x\\\": 720.0}, {\\\"y\\\": 790000.0, \\\"x\\\": 2840.0}, {\\\"y\\\": 255000.0, \\\"x\\\": 1220.0}, {\\\"y\\\": 697000.0, \\\"x\\\": 2820.0}, {\\\"y\\\": 457500.0, \\\"x\\\": 840.0}, {\\\"y\\\": 690000.0, \\\"x\\\": 1610.0}, {\\\"y\\\": 967000.0, \\\"x\\\": 1860.0}, {\\\"y\\\": 980000.0, \\\"x\\\": 2260.0}, {\\\"y\\\": 619420.0, \\\"x\\\": 2450.0}, {\\\"y\\\": 389000.0, \\\"x\\\": 850.0}, {\\\"y\\\": 500000.0, \\\"x\\\": 1800.0}, {\\\"y\\\": 569000.0, \\\"x\\\": 1230.0}, {\\\"y\\\": 425000.0, \\\"x\\\": 2060.0}, {\\\"y\\\": 635000.0, \\\"x\\\": 2750.0}, {\\\"y\\\": 256500.0, \\\"x\\\": 1120.0}, {\\\"y\\\": 695000.0, \\\"x\\\": 3010.0}, {\\\"y\\\": 535000.0, \\\"x\\\": 1580.0}, {\\\"y\\\": 454200.0, \\\"x\\\": 2630.0}, {\\\"y\\\": 418500.0, \\\"x\\\": 790.0}, {\\\"y\\\": 749950.0, \\\"x\\\": 3110.0}, {\\\"y\\\": 338500.0, \\\"x\\\": 2130.0}, {\\\"y\\\": 1250000.0, \\\"x\\\": 4520.0}, {\\\"y\\\": 299950.0, \\\"x\\\": 1600.0}, {\\\"y\\\": 325000.0, \\\"x\\\": 1950.0}, {\\\"y\\\": 434000.0, \\\"x\\\": 2010.0}, {\\\"y\\\": 328950.0, \\\"x\\\": 2550.0}, {\\\"y\\\": 2095000.0, \\\"x\\\": 5340.0}, {\\\"y\\\": 570000.0, \\\"x\\\": 2000.0}, {\\\"y\\\": 802000.0, \\\"x\\\": 2170.0}, {\\\"y\\\": 525000.0, \\\"x\\\": 1550.0}, {\\\"y\\\": 700000.0, \\\"x\\\": 2790.0}, {\\\"y\\\": 350000.0, \\\"x\\\": 1980.0}, {\\\"y\\\": 277500.0, \\\"x\\\": 1190.0}, {\\\"y\\\": 1575000.0, \\\"x\\\": 3650.0}, {\\\"y\\\": 195000.0, \\\"x\\\": 1510.0}, {\\\"y\\\": 222000.0, \\\"x\\\": 1200.0}, {\\\"y\\\": 865000.0, \\\"x\\\": 2830.0}, {\\\"y\\\": 445000.0, \\\"x\\\": 1650.0}, {\\\"y\\\": 495800.0, \\\"x\\\": 1710.0}, {\\\"y\\\": 548500.0, \\\"x\\\": 1740.0}, {\\\"y\\\": 310000.0, \\\"x\\\": 1840.0}, {\\\"y\\\": 205000.0, \\\"x\\\": 1820.0}, {\\\"y\\\": 470000.0, \\\"x\\\": 3860.0}, {\\\"y\\\": 430000.0, \\\"x\\\": 1810.0}, {\\\"y\\\": 310000.0, \\\"x\\\": 1030.0}, {\\\"y\\\": 355000.0, \\\"x\\\": 1410.0}, {\\\"y\\\": 621500.0, \\\"x\\\": 2140.0}, {\\\"y\\\": 175000.0, \\\"x\\\": 1930.0}, {\\\"y\\\": 326000.0, \\\"x\\\": 1930.0}, {\\\"y\\\": 690000.0, \\\"x\\\": 1930.0}, {\\\"y\\\": 335000.0, \\\"x\\\": 2210.0}, {\\\"y\\\": 197000.0, \\\"x\\\": 1360.0}, {\\\"y\\\": 312500.0, \\\"x\\\": 1830.0}, {\\\"y\\\": 436000.0, \\\"x\\\": 2120.0}, {\\\"y\\\": 1015000.0, \\\"x\\\": 2700.0}, {\\\"y\\\": 805000.0, \\\"x\\\": 3160.0}, {\\\"y\\\": 652427.0, \\\"x\\\": 2770.0}, {\\\"y\\\": 1008000.0, \\\"x\\\": 2240.0}, {\\\"y\\\": 355000.0, \\\"x\\\": 2570.0}, {\\\"y\\\": 334550.0, \\\"x\\\": 880.0}, {\\\"y\\\": 557500.0, \\\"x\\\": 1820.0}, {\\\"y\\\": 277500.0, \\\"x\\\": 1660.0}, {\\\"y\\\": 300000.0, \\\"x\\\": 2200.0}, {\\\"y\\\": 325000.0, \\\"x\\\": 1640.0}, {\\\"y\\\": 402500.0, \\\"x\\\": 1650.0}, {\\\"y\\\": 461000.0, \\\"x\\\": 1420.0}, {\\\"y\\\": 540000.0, \\\"x\\\": 1270.0}, {\\\"y\\\": 385000.0, \\\"x\\\": 1070.0}, {\\\"y\\\": 480000.0, \\\"x\\\": 1060.0}, {\\\"y\\\": 539950.0, \\\"x\\\": 2190.0}, {\\\"y\\\": 529000.0, \\\"x\\\": 1940.0}, {\\\"y\\\": 417000.0, \\\"x\\\": 1300.0}, {\\\"y\\\": 405000.0, \\\"x\\\": 1330.0}, {\\\"y\\\": 299000.0, \\\"x\\\": 1940.0}, {\\\"y\\\": 299000.0, \\\"x\\\": 2100.0}, {\\\"y\\\": 372220.0, \\\"x\\\": 1290.0}, {\\\"y\\\": 494400.0, \\\"x\\\": 1560.0}, {\\\"y\\\": 280000.0, \\\"x\\\": 2630.0}, {\\\"y\\\": 277950.0, \\\"x\\\": 2100.0}, {\\\"y\\\": 770000.0, \\\"x\\\": 2070.0}, {\\\"y\\\": 760000.0, \\\"x\\\": 2960.0}, {\\\"y\\\": 230000.0, \\\"x\\\": 1300.0}, {\\\"y\\\": 525000.0, \\\"x\\\": 2520.0}, {\\\"y\\\": 307000.0, \\\"x\\\": 1150.0}, {\\\"y\\\": 253779.0, \\\"x\\\": 2030.0}, {\\\"y\\\": 405000.0, \\\"x\\\": 1880.0}, {\\\"y\\\": 360000.0, \\\"x\\\": 2320.0}, {\\\"y\\\": 521000.0, \\\"x\\\": 1050.0}, {\\\"y\\\": 680000.0, \\\"x\\\": 3030.0}, {\\\"y\\\": 355000.0, \\\"x\\\": 530.0}, {\\\"y\\\": 200000.0, \\\"x\\\": 1090.0}, {\\\"y\\\": 330000.0, \\\"x\\\": 2220.0}, {\\\"y\\\": 221000.0, \\\"x\\\": 1430.0}, {\\\"y\\\": 1598888.0, \\\"x\\\": 3780.0}, {\\\"y\\\": 310000.0, \\\"x\\\": 1560.0}, {\\\"y\\\": 862000.0, \\\"x\\\": 2220.0}, {\\\"y\\\": 200000.0, \\\"x\\\": 1140.0}, {\\\"y\\\": 630000.0, \\\"x\\\": 2540.0}, {\\\"y\\\": 432250.0, \\\"x\\\": 1440.0}, {\\\"y\\\": 478000.0, \\\"x\\\": 1570.0}, {\\\"y\\\": 249000.0, \\\"x\\\": 1860.0}, {\\\"y\\\": 495000.0, \\\"x\\\": 2440.0}, {\\\"y\\\": 630000.0, \\\"x\\\": 2100.0}, {\\\"y\\\": 550000.0, \\\"x\\\": 2150.0}, {\\\"y\\\": 350000.0, \\\"x\\\": 2440.0}, {\\\"y\\\": 270000.0, \\\"x\\\": 1930.0}, {\\\"y\\\": 488250.0, \\\"x\\\": 1830.0}, {\\\"y\\\": 248000.0, \\\"x\\\": 1850.0}, {\\\"y\\\": 889000.0, \\\"x\\\": 3210.0}, {\\\"y\\\": 375000.0, \\\"x\\\": 1090.0}, {\\\"y\\\": 933000.0, \\\"x\\\": 1870.0}, {\\\"y\\\": 625000.0, \\\"x\\\": 1920.0}, {\\\"y\\\": 328000.0, \\\"x\\\": 700.0}, {\\\"y\\\": 470000.0, \\\"x\\\": 3380.0}, {\\\"y\\\": 502500.0, \\\"x\\\": 2430.0}, {\\\"y\\\": 484000.0, \\\"x\\\": 1950.0}, {\\\"y\\\": 252500.0, \\\"x\\\": 900.0}, {\\\"y\\\": 610000.0, \\\"x\\\": 2060.0}, {\\\"y\\\": 419000.0, \\\"x\\\": 2180.0}, {\\\"y\\\": 322500.0, \\\"x\\\": 2140.0}, {\\\"y\\\": 563000.0, \\\"x\\\": 1730.0}, {\\\"y\\\": 464000.0, \\\"x\\\": 3140.0}, {\\\"y\\\": 870000.0, \\\"x\\\": 3010.0}, {\\\"y\\\": 280000.0, \\\"x\\\": 800.0}, {\\\"y\\\": 850000.0, \\\"x\\\": 3300.0}, {\\\"y\\\": 458950.0, \\\"x\\\": 1530.0}, {\\\"y\\\": 122000.0, \\\"x\\\": 760.0}, {\\\"y\\\": 525000.0, \\\"x\\\": 2450.0}, {\\\"y\\\": 286300.0, \\\"x\\\": 1000.0}, {\\\"y\\\": 218450.0, \\\"x\\\": 840.0}, {\\\"y\\\": 525000.0, \\\"x\\\": 1380.0}, {\\\"y\\\": 650000.0, \\\"x\\\": 1380.0}, {\\\"y\\\": 356000.0, \\\"x\\\": 2020.0}, {\\\"y\\\": 436500.0, \\\"x\\\": 1260.0}, {\\\"y\\\": 410000.0, \\\"x\\\": 1440.0}, {\\\"y\\\": 512500.0, \\\"x\\\": 1540.0}, {\\\"y\\\": 510000.0, \\\"x\\\": 1060.0}, {\\\"y\\\": 566000.0, \\\"x\\\": 1900.0}, {\\\"y\\\": 525000.0, \\\"x\\\": 2870.0}, {\\\"y\\\": 435000.0, \\\"x\\\": 1050.0}, {\\\"y\\\": 406500.0, \\\"x\\\": 1840.0}, {\\\"y\\\": 550000.0, \\\"x\\\": 3000.0}, {\\\"y\\\": 251000.0, \\\"x\\\": 1200.0}, {\\\"y\\\": 830000.0, \\\"x\\\": 1840.0}, {\\\"y\\\": 803000.0, \\\"x\\\": 2790.0}, {\\\"y\\\": 206000.0, \\\"x\\\": 970.0}, {\\\"y\\\": 200000.0, \\\"x\\\": 1070.0}, {\\\"y\\\": 219000.0, \\\"x\\\": 900.0}, {\\\"y\\\": 777000.0, \\\"x\\\": 2680.0}, {\\\"y\\\": 593700.0, \\\"x\\\": 2000.0}, {\\\"y\\\": 712500.0, \\\"x\\\": 1660.0}, {\\\"y\\\": 600000.0, \\\"x\\\": 1770.0}, {\\\"y\\\": 554663.0, \\\"x\\\": 1230.0}, {\\\"y\\\": 267000.0, \\\"x\\\": 1740.0}, {\\\"y\\\": 390000.0, \\\"x\\\": 1710.0}, {\\\"y\\\": 335000.0, \\\"x\\\": 2020.0}, {\\\"y\\\": 938000.0, \\\"x\\\": 2410.0}, {\\\"y\\\": 370000.0, \\\"x\\\": 2310.0}, {\\\"y\\\": 335000.0, \\\"x\\\": 2400.0}, {\\\"y\\\": 695000.0, \\\"x\\\": 3160.0}, {\\\"y\\\": 387500.0, \\\"x\\\": 1560.0}, {\\\"y\\\": 245000.0, \\\"x\\\": 1770.0}, {\\\"y\\\": 308550.0, \\\"x\\\": 1600.0}, {\\\"y\\\": 225000.0, \\\"x\\\": 1330.0}, {\\\"y\\\": 715000.0, \\\"x\\\": 2970.0}, {\\\"y\\\": 335000.0, \\\"x\\\": 1020.0}, {\\\"y\\\": 634000.0, \\\"x\\\": 2490.0}, {\\\"y\\\": 337500.0, \\\"x\\\": 1700.0}, {\\\"y\\\": 440000.0, \\\"x\\\": 850.0}, {\\\"y\\\": 350000.0, \\\"x\\\": 1250.0}, {\\\"y\\\": 400000.0, \\\"x\\\": 610.0}, {\\\"y\\\": 1288000.0, \\\"x\\\": 3700.0}, {\\\"y\\\": 435000.0, \\\"x\\\": 950.0}, {\\\"y\\\": 681000.0, \\\"x\\\": 3860.0}, {\\\"y\\\": 397000.0, \\\"x\\\": 1360.0}, {\\\"y\\\": 775000.0, \\\"x\\\": 3890.0}, {\\\"y\\\": 480000.0, \\\"x\\\": 1680.0}, {\\\"y\\\": 158000.0, \\\"x\\\": 1520.0}, {\\\"y\\\": 590000.0, \\\"x\\\": 2420.0}, {\\\"y\\\": 772500.0, \\\"x\\\": 3890.0}, {\\\"y\\\": 464500.0, \\\"x\\\": 2940.0}, {\\\"y\\\": 281000.0, \\\"x\\\": 1350.0}, {\\\"y\\\": 620000.0, \\\"x\\\": 2190.0}, {\\\"y\\\": 475000.0, \\\"x\\\": 2280.0}, {\\\"y\\\": 245000.0, \\\"x\\\": 1070.0}, {\\\"y\\\": 660000.0, \\\"x\\\": 2540.0}, {\\\"y\\\": 527500.0, \\\"x\\\": 2270.0}, {\\\"y\\\": 135000.0, \\\"x\\\": 1220.0}, {\\\"y\\\": 275000.0, \\\"x\\\": 1890.0}, {\\\"y\\\": 430000.0, \\\"x\\\": 1990.0}, {\\\"y\\\": 213500.0, \\\"x\\\": 1220.0}, {\\\"y\\\": 535000.0, \\\"x\\\": 2640.0}, {\\\"y\\\": 641000.0, \\\"x\\\": 1480.0}, {\\\"y\\\": 436300.0, \\\"x\\\": 2320.0}, {\\\"y\\\": 1440000.0, \\\"x\\\": 2410.0}, {\\\"y\\\": 830000.0, \\\"x\\\": 2090.0}, {\\\"y\\\": 380000.0, \\\"x\\\": 920.0}, {\\\"y\\\": 132500.0, \\\"x\\\": 850.0}, {\\\"y\\\": 179950.0, \\\"x\\\": 1130.0}, {\\\"y\\\": 188200.0, \\\"x\\\": 1260.0}, {\\\"y\\\": 659000.0, \\\"x\\\": 2090.0}, {\\\"y\\\": 317000.0, \\\"x\\\": 2020.0}, {\\\"y\\\": 625000.0, \\\"x\\\": 1970.0}, {\\\"y\\\": 350000.0, \\\"x\\\": 1820.0}, {\\\"y\\\": 750000.0, \\\"x\\\": 1840.0}, {\\\"y\\\": 457000.0, \\\"x\\\": 2100.0}, {\\\"y\\\": 632500.0, \\\"x\\\": 1770.0}, {\\\"y\\\": 223000.0, \\\"x\\\": 1110.0}, {\\\"y\\\": 610000.0, \\\"x\\\": 2090.0}, {\\\"y\\\": 385000.0, \\\"x\\\": 2080.0}, {\\\"y\\\": 367500.0, \\\"x\\\": 1400.0}, {\\\"y\\\": 385100.0, \\\"x\\\": 1060.0}, {\\\"y\\\": 230000.0, \\\"x\\\": 720.0}, {\\\"y\\\": 286000.0, \\\"x\\\": 1100.0}, {\\\"y\\\": 201700.0, \\\"x\\\": 1010.0}, {\\\"y\\\": 1350000.0, \\\"x\\\": 5230.0}, {\\\"y\\\": 525000.0, \\\"x\\\": 2420.0}, {\\\"y\\\": 361000.0, \\\"x\\\": 1200.0}, {\\\"y\\\": 530000.0, \\\"x\\\": 1950.0}, {\\\"y\\\": 455000.0, \\\"x\\\": 1870.0}, {\\\"y\\\": 421000.0, \\\"x\\\": 1310.0}, {\\\"y\\\": 640000.0, \\\"x\\\": 1520.0}, {\\\"y\\\": 240000.0, \\\"x\\\": 1270.0}, {\\\"y\\\": 360000.0, \\\"x\\\": 840.0}, {\\\"y\\\": 157340.0, \\\"x\\\": 900.0}, {\\\"y\\\": 1240000.0, \\\"x\\\": 3010.0}, {\\\"y\\\": 250000.0, \\\"x\\\": 1050.0}, {\\\"y\\\": 735000.0, \\\"x\\\": 3360.0}, {\\\"y\\\": 884900.0, \\\"x\\\": 5370.0}, {\\\"y\\\": 775000.0, \\\"x\\\": 2690.0}, {\\\"y\\\": 463000.0, \\\"x\\\": 1710.0}, {\\\"y\\\": 579000.0, \\\"x\\\": 1640.0}, {\\\"y\\\": 570000.0, \\\"x\\\": 4000.0}, {\\\"y\\\": 1060000.0, \\\"x\\\": 4140.0}, {\\\"y\\\": 375000.0, \\\"x\\\": 3140.0}, {\\\"y\\\": 422000.0, \\\"x\\\": 1320.0}, {\\\"y\\\": 866500.0, \\\"x\\\": 3080.0}, {\\\"y\\\": 705000.0, \\\"x\\\": 2500.0}, {\\\"y\\\": 470000.0, \\\"x\\\": 2520.0}, {\\\"y\\\": 360000.0, \\\"x\\\": 2350.0}, {\\\"y\\\": 795000.0, \\\"x\\\": 2570.0}, {\\\"y\\\": 800000.0, \\\"x\\\": 3100.0}, {\\\"y\\\": 2453500.0, \\\"x\\\": 4730.0}, {\\\"y\\\": 277284.0, \\\"x\\\": 1030.0}, {\\\"y\\\": 460000.0, \\\"x\\\": 1020.0}, {\\\"y\\\": 898888.0, \\\"x\\\": 2080.0}, {\\\"y\\\": 211000.0, \\\"x\\\": 1410.0}, {\\\"y\\\": 222000.0, \\\"x\\\": 1360.0}, {\\\"y\\\": 672000.0, \\\"x\\\": 2620.0}, {\\\"y\\\": 778000.0, \\\"x\\\": 2260.0}, {\\\"y\\\": 312500.0, \\\"x\\\": 1490.0}, {\\\"y\\\": 650000.0, \\\"x\\\": 2530.0}, {\\\"y\\\": 740000.0, \\\"x\\\": 3140.0}, {\\\"y\\\": 320000.0, \\\"x\\\": 1820.0}, {\\\"y\\\": 455000.0, \\\"x\\\": 1770.0}, {\\\"y\\\": 2450000.0, \\\"x\\\": 4430.0}, {\\\"y\\\": 500000.0, \\\"x\\\": 1490.0}, {\\\"y\\\": 325000.0, \\\"x\\\": 1790.0}, {\\\"y\\\": 416000.0, \\\"x\\\": 1710.0}, {\\\"y\\\": 495000.0, \\\"x\\\": 2070.0}, {\\\"y\\\": 549000.0, \\\"x\\\": 1140.0}, {\\\"y\\\": 589000.0, \\\"x\\\": 3930.0}, {\\\"y\\\": 194820.0, \\\"x\\\": 1100.0}, {\\\"y\\\": 405000.0, \\\"x\\\": 2260.0}, {\\\"y\\\": 625000.0, \\\"x\\\": 2260.0}, {\\\"y\\\": 205000.0, \\\"x\\\": 1130.0}, {\\\"y\\\": 345100.0, \\\"x\\\": 1950.0}, {\\\"y\\\": 200000.0, \\\"x\\\": 960.0}, {\\\"y\\\": 1905000.0, \\\"x\\\": 4210.0}, {\\\"y\\\": 524500.0, \\\"x\\\": 3430.0}, {\\\"y\\\": 598600.0, \\\"x\\\": 3470.0}, {\\\"y\\\": 367777.0, \\\"x\\\": 2140.0}, {\\\"y\\\": 750000.0, \\\"x\\\": 2520.0}, {\\\"y\\\": 575000.0, \\\"x\\\": 3550.0}, {\\\"y\\\": 84000.0, \\\"x\\\": 700.0}, {\\\"y\\\": 255000.0, \\\"x\\\": 740.0}, {\\\"y\\\": 1740000.0, \\\"x\\\": 3300.0}, {\\\"y\\\": 415000.0, \\\"x\\\": 1640.0}, {\\\"y\\\": 449900.0, \\\"x\\\": 2780.0}, {\\\"y\\\": 220000.0, \\\"x\\\": 1830.0}, {\\\"y\\\": 899000.0, \\\"x\\\": 3540.0}, {\\\"y\\\": 430000.0, \\\"x\\\": 1440.0}, {\\\"y\\\": 472500.0, \\\"x\\\": 2960.0}, {\\\"y\\\": 680000.0, \\\"x\\\": 3180.0}, {\\\"y\\\": 1650000.0, \\\"x\\\": 3310.0}, {\\\"y\\\": 810000.0, \\\"x\\\": 2390.0}, {\\\"y\\\": 605000.0, \\\"x\\\": 2460.0}, {\\\"y\\\": 522000.0, \\\"x\\\": 1630.0}, {\\\"y\\\": 759000.0, \\\"x\\\": 3490.0}, {\\\"y\\\": 411000.0, \\\"x\\\": 2500.0}, {\\\"y\\\": 286950.0, \\\"x\\\": 2080.0}, {\\\"y\\\": 440000.0, \\\"x\\\": 1290.0}, {\\\"y\\\": 149000.0, \\\"x\\\": 1700.0}, {\\\"y\\\": 284700.0, \\\"x\\\": 1700.0}, {\\\"y\\\": 374950.0, \\\"x\\\": 2540.0}, {\\\"y\\\": 816000.0, \\\"x\\\": 1180.0}, {\\\"y\\\": 533250.0, \\\"x\\\": 1520.0}, {\\\"y\\\": 689800.0, \\\"x\\\": 2390.0}, {\\\"y\\\": 775000.0, \\\"x\\\": 2740.0}, {\\\"y\\\": 702000.0, \\\"x\\\": 2190.0}, {\\\"y\\\": 160000.0, \\\"x\\\": 1350.0}, {\\\"y\\\": 255500.0, \\\"x\\\": 1350.0}, {\\\"y\\\": 949000.0, \\\"x\\\": 2980.0}, {\\\"y\\\": 169500.0, \\\"x\\\": 790.0}, {\\\"y\\\": 586000.0, \\\"x\\\": 2130.0}, {\\\"y\\\": 680000.0, \\\"x\\\": 2700.0}, {\\\"y\\\": 851500.0, \\\"x\\\": 3200.0}, {\\\"y\\\": 582500.0, \\\"x\\\": 1159.0}, {\\\"y\\\": 637000.0, \\\"x\\\": 3080.0}, {\\\"y\\\": 225000.0, \\\"x\\\": 1000.0}, {\\\"y\\\": 795000.0, \\\"x\\\": 2260.0}, {\\\"y\\\": 304999.0, \\\"x\\\": 2270.0}, {\\\"y\\\": 95000.0, \\\"x\\\": 760.0}, {\\\"y\\\": 240000.0, \\\"x\\\": 1420.0}, {\\\"y\\\": 772000.0, \\\"x\\\": 2500.0}, {\\\"y\\\": 245000.0, \\\"x\\\": 1450.0}, {\\\"y\\\": 430000.0, \\\"x\\\": 2500.0}, {\\\"y\\\": 799000.0, \\\"x\\\": 2210.0}, {\\\"y\\\": 880000.0, \\\"x\\\": 3020.0}, {\\\"y\\\": 750000.0, \\\"x\\\": 3290.0}, {\\\"y\\\": 2890000.0, \\\"x\\\": 5780.0}, {\\\"y\\\": 532000.0, \\\"x\\\": 1820.0}, {\\\"y\\\": 525000.0, \\\"x\\\": 2500.0}, {\\\"y\\\": 239000.0, \\\"x\\\": 1210.0}, {\\\"y\\\": 460000.0, \\\"x\\\": 1090.0}, {\\\"y\\\": 540000.0, \\\"x\\\": 1330.0}, {\\\"y\\\": 475000.0, \\\"x\\\": 890.0}, {\\\"y\\\": 445000.0, \\\"x\\\": 1360.0}, {\\\"y\\\": 1575000.0, \\\"x\\\": 4220.0}, {\\\"y\\\": 549950.0, \\\"x\\\": 3780.0}, {\\\"y\\\": 294950.0, \\\"x\\\": 2610.0}, {\\\"y\\\": 736000.0, \\\"x\\\": 1980.0}, {\\\"y\\\": 214946.0, \\\"x\\\": 1290.0}, {\\\"y\\\": 856000.0, \\\"x\\\": 3620.0}, {\\\"y\\\": 775000.0, \\\"x\\\": 2680.0}, {\\\"y\\\": 205000.0, \\\"x\\\": 1200.0}, {\\\"y\\\": 429592.0, \\\"x\\\": 1992.0}, {\\\"y\\\": 414250.0, \\\"x\\\": 1640.0}, {\\\"y\\\": 399950.0, \\\"x\\\": 1920.0}, {\\\"y\\\": 319990.0, \\\"x\\\": 1840.0}, {\\\"y\\\": 524000.0, \\\"x\\\": 1310.0}, {\\\"y\\\": 349950.0, \\\"x\\\": 1050.0}, {\\\"y\\\": 889000.0, \\\"x\\\": 2570.0}, {\\\"y\\\": 300000.0, \\\"x\\\": 930.0}, {\\\"y\\\": 395000.0, \\\"x\\\": 730.0}, {\\\"y\\\": 348000.0, \\\"x\\\": 1270.0}, {\\\"y\\\": 830000.0, \\\"x\\\": 1150.0}, {\\\"y\\\": 173000.0, \\\"x\\\": 820.0}, {\\\"y\\\": 585000.0, \\\"x\\\": 3000.0}, {\\\"y\\\": 576750.0, \\\"x\\\": 2220.0}, {\\\"y\\\": 495000.0, \\\"x\\\": 2500.0}, {\\\"y\\\": 216650.0, \\\"x\\\": 1540.0}, {\\\"y\\\": 615000.0, \\\"x\\\": 2750.0}, {\\\"y\\\": 675000.0, \\\"x\\\": 3130.0}, {\\\"y\\\": 510000.0, \\\"x\\\": 1430.0}, {\\\"y\\\": 630000.0, \\\"x\\\": 2680.0}, {\\\"y\\\": 359950.0, \\\"x\\\": 3010.0}, {\\\"y\\\": 265000.0, \\\"x\\\": 1530.0}, {\\\"y\\\": 210000.0, \\\"x\\\": 1240.0}, {\\\"y\\\": 367000.0, \\\"x\\\": 2260.0}, {\\\"y\\\": 1075000.0, \\\"x\\\": 2820.0}, {\\\"y\\\": 756000.0, \\\"x\\\": 3560.0}, {\\\"y\\\": 203000.0, \\\"x\\\": 1630.0}, {\\\"y\\\": 535000.0, \\\"x\\\": 2880.0}, {\\\"y\\\": 525000.0, \\\"x\\\": 2200.0}, {\\\"y\\\": 347500.0, \\\"x\\\": 1620.0}, {\\\"y\\\": 620000.0, \\\"x\\\": 1480.0}, {\\\"y\\\": 645000.0, \\\"x\\\": 2250.0}, {\\\"y\\\": 2200000.0, \\\"x\\\": 3540.0}, {\\\"y\\\": 280000.0, \\\"x\\\": 1790.0}, {\\\"y\\\": 432000.0, \\\"x\\\": 1400.0}, {\\\"y\\\": 790000.0, \\\"x\\\": 2390.0}, {\\\"y\\\": 635000.0, \\\"x\\\": 2400.0}, {\\\"y\\\": 442000.0, \\\"x\\\": 2050.0}, {\\\"y\\\": 490000.0, \\\"x\\\": 2640.0}, {\\\"y\\\": 250000.0, \\\"x\\\": 2320.0}, {\\\"y\\\": 1325000.0, \\\"x\\\": 2440.0}, {\\\"y\\\": 120000.0, \\\"x\\\": 1260.0}, {\\\"y\\\": 2950000.0, \\\"x\\\": 6240.0}, {\\\"y\\\": 325000.0, \\\"x\\\": 1930.0}, {\\\"y\\\": 210000.0, \\\"x\\\": 1200.0}, {\\\"y\\\": 215000.0, \\\"x\\\": 970.0}, {\\\"y\\\": 387000.0, \\\"x\\\": 1810.0}, {\\\"y\\\": 408000.0, \\\"x\\\": 1380.0}, {\\\"y\\\": 410000.0, \\\"x\\\": 1470.0}, {\\\"y\\\": 216000.0, \\\"x\\\": 1010.0}, {\\\"y\\\": 390000.0, \\\"x\\\": 1010.0}, {\\\"y\\\": 357000.0, \\\"x\\\": 1340.0}, {\\\"y\\\": 215000.0, \\\"x\\\": 970.0}, {\\\"y\\\": 265000.0, \\\"x\\\": 1122.0}, {\\\"y\\\": 589950.0, \\\"x\\\": 1670.0}, {\\\"y\\\": 440000.0, \\\"x\\\": 2840.0}, {\\\"y\\\": 248000.0, \\\"x\\\": 770.0}, {\\\"y\\\": 730000.0, \\\"x\\\": 2040.0}, {\\\"y\\\": 425000.0, \\\"x\\\": 3052.0}, {\\\"y\\\": 680000.0, \\\"x\\\": 2620.0}, {\\\"y\\\": 341500.0, \\\"x\\\": 3120.0}, {\\\"y\\\": 395000.0, \\\"x\\\": 1100.0}, {\\\"y\\\": 1225000.0, \\\"x\\\": 3410.0}, {\\\"y\\\": 695500.0, \\\"x\\\": 2510.0}, {\\\"y\\\": 308000.0, \\\"x\\\": 1680.0}, {\\\"y\\\": 422500.0, \\\"x\\\": 1960.0}, {\\\"y\\\": 418000.0, \\\"x\\\": 1040.0}, {\\\"y\\\": 385000.0, \\\"x\\\": 1750.0}, {\\\"y\\\": 876650.0, \\\"x\\\": 2170.0}, {\\\"y\\\": 450000.0, \\\"x\\\": 1639.0}, {\\\"y\\\": 418800.0, \\\"x\\\": 2100.0}, {\\\"y\\\": 330000.0, \\\"x\\\": 880.0}, {\\\"y\\\": 550000.0, \\\"x\\\": 1940.0}, {\\\"y\\\": 270000.0, \\\"x\\\": 2490.0}, {\\\"y\\\": 978500.0, \\\"x\\\": 2060.0}, {\\\"y\\\": 975000.0, \\\"x\\\": 2720.0}, {\\\"y\\\": 455000.0, \\\"x\\\": 2180.0}, {\\\"y\\\": 1415000.0, \\\"x\\\": 3600.0}, {\\\"y\\\": 220000.0, \\\"x\\\": 840.0}, {\\\"y\\\": 490000.0, \\\"x\\\": 2370.0}, {\\\"y\\\": 420000.0, \\\"x\\\": 2270.0}, {\\\"y\\\": 408500.0, \\\"x\\\": 2720.0}, {\\\"y\\\": 716000.0, \\\"x\\\": 1140.0}, {\\\"y\\\": 965000.0, \\\"x\\\": 2460.0}, {\\\"y\\\": 357823.0, \\\"x\\\": 1240.0}, {\\\"y\\\": 7062500.0, \\\"x\\\": 10040.0}, {\\\"y\\\": 425000.0, \\\"x\\\": 1670.0}, {\\\"y\\\": 711777.0, \\\"x\\\": 2220.0}, {\\\"y\\\": 335000.0, \\\"x\\\": 980.0}, {\\\"y\\\": 825000.0, \\\"x\\\": 1890.0}, {\\\"y\\\": 210000.0, \\\"x\\\": 1100.0}, {\\\"y\\\": 575000.0, \\\"x\\\": 2770.0}, {\\\"y\\\": 1208000.0, \\\"x\\\": 4250.0}, {\\\"y\\\": 431500.0, \\\"x\\\": 1370.0}, {\\\"y\\\": 475000.0, \\\"x\\\": 1480.0}, {\\\"y\\\": 1495000.0, \\\"x\\\": 3770.0}, {\\\"y\\\": 540000.0, \\\"x\\\": 2870.0}, {\\\"y\\\": 775000.0, \\\"x\\\": 3820.0}, {\\\"y\\\": 635000.0, \\\"x\\\": 1530.0}, {\\\"y\\\": 1300000.0, \\\"x\\\": 4120.0}, {\\\"y\\\": 405000.0, \\\"x\\\": 1590.0}, {\\\"y\\\": 210000.0, \\\"x\\\": 1520.0}, {\\\"y\\\": 880000.0, \\\"x\\\": 2350.0}, {\\\"y\\\": 239000.0, \\\"x\\\": 1370.0}, {\\\"y\\\": 515000.0, \\\"x\\\": 1540.0}, {\\\"y\\\": 1379900.0, \\\"x\\\": 3786.0}, {\\\"y\\\": 215000.0, \\\"x\\\": 1500.0}, {\\\"y\\\": 315000.0, \\\"x\\\": 1750.0}, {\\\"y\\\": 442500.0, \\\"x\\\": 1800.0}, {\\\"y\\\": 311000.0, \\\"x\\\": 1180.0}, {\\\"y\\\": 425000.0, \\\"x\\\": 830.0}, {\\\"y\\\": 433500.0, \\\"x\\\": 1540.0}, {\\\"y\\\": 450000.0, \\\"x\\\": 1610.0}, {\\\"y\\\": 675000.0, \\\"x\\\": 1990.0}, {\\\"y\\\": 535000.0, \\\"x\\\": 2070.0}, {\\\"y\\\": 577000.0, \\\"x\\\": 1760.0}, {\\\"y\\\": 480000.0, \\\"x\\\": 1740.0}, {\\\"y\\\": 400000.0, \\\"x\\\": 1950.0}, {\\\"y\\\": 304000.0, \\\"x\\\": 1280.0}, {\\\"y\\\": 355000.0, \\\"x\\\": 1460.0}, {\\\"y\\\": 998000.0, \\\"x\\\": 3770.0}, {\\\"y\\\": 550000.0, \\\"x\\\": 2410.0}, {\\\"y\\\": 550000.0, \\\"x\\\": 2410.0}, {\\\"y\\\": 210000.0, \\\"x\\\": 1400.0}, {\\\"y\\\": 317000.0, \\\"x\\\": 2100.0}, {\\\"y\\\": 700000.0, \\\"x\\\": 5360.0}, {\\\"y\\\": 265000.0, \\\"x\\\": 1000.0}, {\\\"y\\\": 700000.0, \\\"x\\\": 3150.0}, {\\\"y\\\": 1020000.0, \\\"x\\\": 4180.0}, {\\\"y\\\": 1145000.0, \\\"x\\\": 2840.0}, {\\\"y\\\": 460000.0, \\\"x\\\": 2110.0}, {\\\"y\\\": 410000.0, \\\"x\\\": 1660.0}, {\\\"y\\\": 665000.0, \\\"x\\\": 2160.0}, {\\\"y\\\": 600000.0, \\\"x\\\": 2420.0}, {\\\"y\\\": 502000.0, \\\"x\\\": 1920.0}, {\\\"y\\\": 364950.0, \\\"x\\\": 2310.0}, {\\\"y\\\": 680000.0, \\\"x\\\": 2330.0}, {\\\"y\\\": 235500.0, \\\"x\\\": 2340.0}, {\\\"y\\\": 576000.0, \\\"x\\\": 2590.0}, {\\\"y\\\": 405000.0, \\\"x\\\": 1410.0}, {\\\"y\\\": 335000.0, \\\"x\\\": 2850.0}, {\\\"y\\\": 122000.0, \\\"x\\\": 730.0}, {\\\"y\\\": 432000.0, \\\"x\\\": 1470.0}, {\\\"y\\\": 375000.0, \\\"x\\\": 2330.0}, {\\\"y\\\": 276000.0, \\\"x\\\": 2460.0}, {\\\"y\\\": 450000.0, \\\"x\\\": 2080.0}, {\\\"y\\\": 210000.0, \\\"x\\\": 990.0}, {\\\"y\\\": 279000.0, \\\"x\\\": 1450.0}, {\\\"y\\\": 635000.0, \\\"x\\\": 1340.0}, {\\\"y\\\": 350000.0, \\\"x\\\": 2730.0}, {\\\"y\\\": 218000.0, \\\"x\\\": 1140.0}, {\\\"y\\\": 750000.0, \\\"x\\\": 1950.0}, {\\\"y\\\": 310597.0, \\\"x\\\": 2000.0}, {\\\"y\\\": 355000.0, \\\"x\\\": 900.0}, {\\\"y\\\": 735000.0, \\\"x\\\": 3390.0}, {\\\"y\\\": 155000.0, \\\"x\\\": 720.0}, {\\\"y\\\": 354000.0, \\\"x\\\": 940.0}, {\\\"y\\\": 415000.0, \\\"x\\\": 1770.0}, {\\\"y\\\": 202000.0, \\\"x\\\": 590.0}, {\\\"y\\\": 580000.0, \\\"x\\\": 1980.0}, {\\\"y\\\": 1495000.0, \\\"x\\\": 3070.0}, {\\\"y\\\": 790000.0, \\\"x\\\": 3500.0}, {\\\"y\\\": 499900.0, \\\"x\\\": 2100.0}, {\\\"y\\\": 525000.0, \\\"x\\\": 2620.0}, {\\\"y\\\": 810000.0, \\\"x\\\": 2810.0}, {\\\"y\\\": 425000.0, \\\"x\\\": 2290.0}, {\\\"y\\\": 241250.0, \\\"x\\\": 1350.0}, {\\\"y\\\": 318700.0, \\\"x\\\": 2770.0}, {\\\"y\\\": 720000.0, \\\"x\\\": 2530.0}, {\\\"y\\\": 291000.0, \\\"x\\\": 1280.0}, {\\\"y\\\": 420000.0, \\\"x\\\": 1060.0}, {\\\"y\\\": 210000.0, \\\"x\\\": 1000.0}, {\\\"y\\\": 645000.0, \\\"x\\\": 3870.0}, {\\\"y\\\": 762000.0, \\\"x\\\": 3370.0}, {\\\"y\\\": 247500.0, \\\"x\\\": 2290.0}, {\\\"y\\\": 282500.0, \\\"x\\\": 1670.0}, {\\\"y\\\": 395000.0, \\\"x\\\": 1460.0}, {\\\"y\\\": 295000.0, \\\"x\\\": 1770.0}, {\\\"y\\\": 235000.0, \\\"x\\\": 820.0}, {\\\"y\\\": 770000.0, \\\"x\\\": 1900.0}, {\\\"y\\\": 559950.0, \\\"x\\\": 1870.0}, {\\\"y\\\": 639000.0, \\\"x\\\": 1840.0}, {\\\"y\\\": 314950.0, \\\"x\\\": 1590.0}, {\\\"y\\\": 525000.0, \\\"x\\\": 1640.0}, {\\\"y\\\": 2400000.0, \\\"x\\\": 3000.0}, {\\\"y\\\": 820000.0, \\\"x\\\": 2160.0}, {\\\"y\\\": 1385000.0, \\\"x\\\": 2490.0}, {\\\"y\\\": 521450.0, \\\"x\\\": 1290.0}, {\\\"y\\\": 760750.0, \\\"x\\\": 3190.0}, {\\\"y\\\": 759600.0, \\\"x\\\": 1540.0}, {\\\"y\\\": 346150.0, \\\"x\\\": 2140.0}, {\\\"y\\\": 390000.0, \\\"x\\\": 980.0}, {\\\"y\\\": 359950.0, \\\"x\\\": 2450.0}, {\\\"y\\\": 430000.0, \\\"x\\\": 1360.0}, {\\\"y\\\": 960000.0, \\\"x\\\": 4610.0}, {\\\"y\\\": 800000.0, \\\"x\\\": 7480.0}, {\\\"y\\\": 1010000.0, \\\"x\\\": 2860.0}, {\\\"y\\\": 290000.0, \\\"x\\\": 1810.0}, {\\\"y\\\": 1350000.0, \\\"x\\\": 2240.0}, {\\\"y\\\": 777000.0, \\\"x\\\": 3610.0}, {\\\"y\\\": 526000.0, \\\"x\\\": 1450.0}, {\\\"y\\\": 550000.0, \\\"x\\\": 1450.0}, {\\\"y\\\": 276000.0, \\\"x\\\": 1820.0}, {\\\"y\\\": 2500000.0, \\\"x\\\": 5620.0}, {\\\"y\\\": 325000.0, \\\"x\\\": 2080.0}, {\\\"y\\\": 365000.0, \\\"x\\\": 1780.0}, {\\\"y\\\": 2150000.0, \\\"x\\\": 4340.0}, {\\\"y\\\": 825050.0, \\\"x\\\": 2860.0}, {\\\"y\\\": 690000.0, \\\"x\\\": 2540.0}, {\\\"y\\\": 390000.0, \\\"x\\\": 1140.0}, {\\\"y\\\": 385000.0, \\\"x\\\": 1320.0}, {\\\"y\\\": 619000.0, \\\"x\\\": 2040.0}, {\\\"y\\\": 494000.0, \\\"x\\\": 1790.0}, {\\\"y\\\": 412450.0, \\\"x\\\": 1910.0}, {\\\"y\\\": 580000.0, \\\"x\\\": 1460.0}, {\\\"y\\\": 269900.0, \\\"x\\\": 1420.0}, {\\\"y\\\": 704300.0, \\\"x\\\": 1790.0}, {\\\"y\\\": 267000.0, \\\"x\\\": 1390.0}, {\\\"y\\\": 310000.0, \\\"x\\\": 1880.0}, {\\\"y\\\": 227064.0, \\\"x\\\": 1570.0}, {\\\"y\\\": 925000.0, \\\"x\\\": 2690.0}, {\\\"y\\\": 245000.0, \\\"x\\\": 1670.0}, {\\\"y\\\": 339888.0, \\\"x\\\": 1040.0}, {\\\"y\\\": 439000.0, \\\"x\\\": 1560.0}, {\\\"y\\\": 400000.0, \\\"x\\\": 1470.0}, {\\\"y\\\": 560000.0, \\\"x\\\": 2070.0}, {\\\"y\\\": 703011.0, \\\"x\\\": 1370.0}, {\\\"y\\\": 363000.0, \\\"x\\\": 1120.0}, {\\\"y\\\": 650000.0, \\\"x\\\": 2640.0}, {\\\"y\\\": 299950.0, \\\"x\\\": 1030.0}, {\\\"y\\\": 228950.0, \\\"x\\\": 1120.0}, {\\\"y\\\": 465000.0, \\\"x\\\": 1730.0}, {\\\"y\\\": 725000.0, \\\"x\\\": 2090.0}, {\\\"y\\\": 212500.0, \\\"x\\\": 920.0}, {\\\"y\\\": 526000.0, \\\"x\\\": 2970.0}, {\\\"y\\\": 383000.0, \\\"x\\\": 1720.0}, {\\\"y\\\": 244000.0, \\\"x\\\": 1460.0}, {\\\"y\\\": 565000.0, \\\"x\\\": 1540.0}, {\\\"y\\\": 373000.0, \\\"x\\\": 2850.0}, {\\\"y\\\": 300000.0, \\\"x\\\": 1310.0}, {\\\"y\\\": 405000.0, \\\"x\\\": 2430.0}, {\\\"y\\\": 979000.0, \\\"x\\\": 1700.0}, {\\\"y\\\": 324888.0, \\\"x\\\": 2160.0}, {\\\"y\\\": 445000.0, \\\"x\\\": 860.0}, {\\\"y\\\": 761000.0, \\\"x\\\": 2050.0}, {\\\"y\\\": 435000.0, \\\"x\\\": 1650.0}, {\\\"y\\\": 252000.0, \\\"x\\\": 1570.0}, {\\\"y\\\": 350000.0, \\\"x\\\": 1660.0}, {\\\"y\\\": 875000.0, \\\"x\\\": 1220.0}, {\\\"y\\\": 940000.0, \\\"x\\\": 1220.0}, {\\\"y\\\": 280000.0, \\\"x\\\": 1780.0}, {\\\"y\\\": 450000.0, \\\"x\\\": 2180.0}, {\\\"y\\\": 905000.0, \\\"x\\\": 3520.0}, {\\\"y\\\": 382450.0, \\\"x\\\": 2220.0}, {\\\"y\\\": 246700.0, \\\"x\\\": 1610.0}, {\\\"y\\\": 220000.0, \\\"x\\\": 1070.0}, {\\\"y\\\": 555750.0, \\\"x\\\": 1060.0}, {\\\"y\\\": 262500.0, \\\"x\\\": 1160.0}, {\\\"y\\\": 515000.0, \\\"x\\\": 910.0}, {\\\"y\\\": 499500.0, \\\"x\\\": 2970.0}, {\\\"y\\\": 135000.0, \\\"x\\\": 790.0}, {\\\"y\\\": 462500.0, \\\"x\\\": 1540.0}, {\\\"y\\\": 937500.0, \\\"x\\\": 3130.0}, {\\\"y\\\": 458000.0, \\\"x\\\": 1470.0}, {\\\"y\\\": 845000.0, \\\"x\\\": 3160.0}, {\\\"y\\\": 660000.0, \\\"x\\\": 2675.0}, {\\\"y\\\": 265000.0, \\\"x\\\": 1340.0}, {\\\"y\\\": 599999.0, \\\"x\\\": 3830.0}, {\\\"y\\\": 280000.0, \\\"x\\\": 1800.0}, {\\\"y\\\": 1055000.0, \\\"x\\\": 2990.0}, {\\\"y\\\": 875000.0, \\\"x\\\": 3720.0}, {\\\"y\\\": 125000.0, \\\"x\\\": 920.0}, {\\\"y\\\": 634800.0, \\\"x\\\": 3280.0}, {\\\"y\\\": 269950.0, \\\"x\\\": 1440.0}, {\\\"y\\\": 359950.0, \\\"x\\\": 1940.0}, {\\\"y\\\": 417000.0, \\\"x\\\": 1590.0}, {\\\"y\\\": 389000.0, \\\"x\\\": 1340.0}, {\\\"y\\\": 1038000.0, \\\"x\\\": 3770.0}, {\\\"y\\\": 698000.0, \\\"x\\\": 2680.0}, {\\\"y\\\": 685000.0, \\\"x\\\": 2820.0}, {\\\"y\\\": 198500.0, \\\"x\\\": 1520.0}, {\\\"y\\\": 350000.0, \\\"x\\\": 2560.0}, {\\\"y\\\": 649950.0, \\\"x\\\": 3310.0}, {\\\"y\\\": 441000.0, \\\"x\\\": 1540.0}, {\\\"y\\\": 462600.0, \\\"x\\\": 1430.0}, {\\\"y\\\": 365070.0, \\\"x\\\": 2506.0}, {\\\"y\\\": 550000.0, \\\"x\\\": 2250.0}, {\\\"y\\\": 470000.0, \\\"x\\\": 2740.0}, {\\\"y\\\": 340000.0, \\\"x\\\": 1540.0}, {\\\"y\\\": 910000.0, \\\"x\\\": 4190.0}, {\\\"y\\\": 405000.0, \\\"x\\\": 1690.0}, {\\\"y\\\": 661000.0, \\\"x\\\": 1990.0}, {\\\"y\\\": 635000.0, \\\"x\\\": 2410.0}, {\\\"y\\\": 282000.0, \\\"x\\\": 1150.0}, {\\\"y\\\": 235000.0, \\\"x\\\": 1720.0}, {\\\"y\\\": 277500.0, \\\"x\\\": 1260.0}, {\\\"y\\\": 346500.0, \\\"x\\\": 2020.0}, {\\\"y\\\": 480000.0, \\\"x\\\": 2240.0}, {\\\"y\\\": 360000.0, \\\"x\\\": 1930.0}, {\\\"y\\\": 245000.0, \\\"x\\\": 1820.0}, {\\\"y\\\": 625000.0, \\\"x\\\": 1560.0}, {\\\"y\\\": 750500.0, \\\"x\\\": 2170.0}, {\\\"y\\\": 525000.0, \\\"x\\\": 1600.0}, {\\\"y\\\": 740000.0, \\\"x\\\": 3760.0}, {\\\"y\\\": 523000.0, \\\"x\\\": 1240.0}, {\\\"y\\\": 292000.0, \\\"x\\\": 1090.0}, {\\\"y\\\": 625000.0, \\\"x\\\": 2740.0}, {\\\"y\\\": 700000.0, \\\"x\\\": 3110.0}, {\\\"y\\\": 399950.0, \\\"x\\\": 1610.0}, {\\\"y\\\": 545000.0, \\\"x\\\": 1880.0}, {\\\"y\\\": 339999.0, \\\"x\\\": 1740.0}, {\\\"y\\\": 1210000.0, \\\"x\\\": 3270.0}, {\\\"y\\\": 545000.0, \\\"x\\\": 1990.0}, {\\\"y\\\": 260000.0, \\\"x\\\": 1960.0}, {\\\"y\\\": 526000.0, \\\"x\\\": 1680.0}, {\\\"y\\\": 701000.0, \\\"x\\\": 2910.0}, {\\\"y\\\": 290000.0, \\\"x\\\": 1500.0}, {\\\"y\\\": 330600.0, \\\"x\\\": 580.0}, {\\\"y\\\": 550500.0, \\\"x\\\": 2540.0}, {\\\"y\\\": 430000.0, \\\"x\\\": 950.0}, {\\\"y\\\": 4000000.0, \\\"x\\\": 7080.0}, {\\\"y\\\": 260600.0, \\\"x\\\": 810.0}, {\\\"y\\\": 825000.0, \\\"x\\\": 4080.0}, {\\\"y\\\": 378950.0, \\\"x\\\": 1820.0}, {\\\"y\\\": 435000.0, \\\"x\\\": 2650.0}, {\\\"y\\\": 631000.0, \\\"x\\\": 1670.0}, {\\\"y\\\": 415000.0, \\\"x\\\": 2480.0}, {\\\"y\\\": 222000.0, \\\"x\\\": 1240.0}, {\\\"y\\\": 245000.0, \\\"x\\\": 1390.0}, {\\\"y\\\": 720000.0, \\\"x\\\": 2880.0}, {\\\"y\\\": 215000.0, \\\"x\\\": 1060.0}, {\\\"y\\\": 579100.0, \\\"x\\\": 1070.0}, {\\\"y\\\": 522500.0, \\\"x\\\": 1640.0}, {\\\"y\\\": 489000.0, \\\"x\\\": 1510.0}, {\\\"y\\\": 240000.0, \\\"x\\\": 1230.0}, {\\\"y\\\": 420250.0, \\\"x\\\": 1510.0}, {\\\"y\\\": 523000.0, \\\"x\\\": 3180.0}, {\\\"y\\\": 628000.0, \\\"x\\\": 2260.0}, {\\\"y\\\": 320000.0, \\\"x\\\": 1920.0}, {\\\"y\\\": 359950.0, \\\"x\\\": 1980.0}, {\\\"y\\\": 232000.0, \\\"x\\\": 1200.0}, {\\\"y\\\": 810000.0, \\\"x\\\": 2020.0}, {\\\"y\\\": 245000.0, \\\"x\\\": 2010.0}, {\\\"y\\\": 273000.0, \\\"x\\\": 1930.0}, {\\\"y\\\": 1191000.0, \\\"x\\\": 2710.0}, {\\\"y\\\": 438000.0, \\\"x\\\": 1950.0}, {\\\"y\\\": 400000.0, \\\"x\\\": 2110.0}, {\\\"y\\\": 340000.0, \\\"x\\\": 1250.0}, {\\\"y\\\": 552000.0, \\\"x\\\": 1380.0}, {\\\"y\\\": 790000.0, \\\"x\\\": 2050.0}, {\\\"y\\\": 360000.0, \\\"x\\\": 1800.0}, {\\\"y\\\": 235000.0, \\\"x\\\": 1310.0}, {\\\"y\\\": 775000.0, \\\"x\\\": 1010.0}, {\\\"y\\\": 489200.0, \\\"x\\\": 1850.0}, {\\\"y\\\": 341000.0, \\\"x\\\": 1750.0}, {\\\"y\\\": 335000.0, \\\"x\\\": 2154.0}, {\\\"y\\\": 393500.0, \\\"x\\\": 1230.0}, {\\\"y\\\": 360000.0, \\\"x\\\": 1960.0}, {\\\"y\\\": 400800.0, \\\"x\\\": 1070.0}, {\\\"y\\\": 585000.0, \\\"x\\\": 1450.0}, {\\\"y\\\": 1600000.0, \\\"x\\\": 3680.0}, {\\\"y\\\": 2880500.0, \\\"x\\\": 5760.0}, {\\\"y\\\": 300000.0, \\\"x\\\": 1220.0}, {\\\"y\\\": 1045000.0, \\\"x\\\": 2950.0}, {\\\"y\\\": 360000.0, \\\"x\\\": 1340.0}, {\\\"y\\\": 665900.0, \\\"x\\\": 2870.0}, {\\\"y\\\": 470000.0, \\\"x\\\": 2590.0}, {\\\"y\\\": 581000.0, \\\"x\\\": 2090.0}, {\\\"y\\\": 527000.0, \\\"x\\\": 3000.0}, {\\\"y\\\": 423000.0, \\\"x\\\": 1730.0}, {\\\"y\\\": 875000.0, \\\"x\\\": 2850.0}, {\\\"y\\\": 410000.0, \\\"x\\\": 1020.0}, {\\\"y\\\": 606000.0, \\\"x\\\": 2200.0}, {\\\"y\\\": 654000.0, \\\"x\\\": 3240.0}, {\\\"y\\\": 150000.0, \\\"x\\\": 490.0}, {\\\"y\\\": 373000.0, \\\"x\\\": 2990.0}, {\\\"y\\\": 550000.0, \\\"x\\\": 2450.0}, {\\\"y\\\": 512500.0, \\\"x\\\": 1900.0}, {\\\"y\\\": 360000.0, \\\"x\\\": 2640.0}, {\\\"y\\\": 369000.0, \\\"x\\\": 1340.0}, {\\\"y\\\": 825000.0, \\\"x\\\": 3220.0}, {\\\"y\\\": 255000.0, \\\"x\\\": 930.0}, {\\\"y\\\": 1285000.0, \\\"x\\\": 3240.0}, {\\\"y\\\": 270000.0, \\\"x\\\": 2630.0}, {\\\"y\\\": 480680.0, \\\"x\\\": 1730.0}, {\\\"y\\\": 525000.0, \\\"x\\\": 2120.0}, {\\\"y\\\": 291500.0, \\\"x\\\": 880.0}, {\\\"y\\\": 305000.0, \\\"x\\\": 1800.0}, {\\\"y\\\": 285000.0, \\\"x\\\": 1600.0}, {\\\"y\\\": 1875000.0, \\\"x\\\": 3280.0}, {\\\"y\\\": 329500.0, \\\"x\\\": 3290.0}, {\\\"y\\\": 1570000.0, \\\"x\\\": 2890.0}, {\\\"y\\\": 379260.0, \\\"x\\\": 1730.0}, {\\\"y\\\": 356000.0, \\\"x\\\": 1590.0}, {\\\"y\\\": 571900.0, \\\"x\\\": 1710.0}, {\\\"y\\\": 271500.0, \\\"x\\\": 1995.0}, {\\\"y\\\": 390000.0, \\\"x\\\": 1300.0}, {\\\"y\\\": 550000.0, \\\"x\\\": 2720.0}, {\\\"y\\\": 755000.0, \\\"x\\\": 1360.0}, {\\\"y\\\": 509500.0, \\\"x\\\": 1590.0}, {\\\"y\\\": 486700.0, \\\"x\\\": 1200.0}, {\\\"y\\\": 527500.0, \\\"x\\\": 1170.0}, {\\\"y\\\": 475000.0, \\\"x\\\": 2010.0}, {\\\"y\\\": 268000.0, \\\"x\\\": 1880.0}, {\\\"y\\\": 562000.0, \\\"x\\\": 3250.0}, {\\\"y\\\": 780000.0, \\\"x\\\": 2270.0}, {\\\"y\\\": 700000.0, \\\"x\\\": 3680.0}, {\\\"y\\\": 710000.0, \\\"x\\\": 1880.0}, {\\\"y\\\": 445000.0, \\\"x\\\": 1050.0}, {\\\"y\\\": 729000.0, \\\"x\\\": 2250.0}, {\\\"y\\\": 384400.0, \\\"x\\\": 1689.0}, {\\\"y\\\": 815000.0, \\\"x\\\": 2860.0}, {\\\"y\\\": 865000.0, \\\"x\\\": 2710.0}, {\\\"y\\\": 514000.0, \\\"x\\\": 1770.0}, {\\\"y\\\": 615000.0, \\\"x\\\": 2820.0}, {\\\"y\\\": 865000.0, \\\"x\\\": 3400.0}, {\\\"y\\\": 755000.0, \\\"x\\\": 3110.0}, {\\\"y\\\": 425000.0, \\\"x\\\": 1480.0}, {\\\"y\\\": 375000.0, \\\"x\\\": 940.0}, {\\\"y\\\": 750000.0, \\\"x\\\": 2680.0}, {\\\"y\\\": 722000.0, \\\"x\\\": 3190.0}, {\\\"y\\\": 1011000.0, \\\"x\\\": 1920.0}, {\\\"y\\\": 725000.0, \\\"x\\\": 2610.0}, {\\\"y\\\": 170000.0, \\\"x\\\": 1040.0}, {\\\"y\\\": 845000.0, \\\"x\\\": 2880.0}, {\\\"y\\\": 271900.0, \\\"x\\\": 1450.0}, {\\\"y\\\": 1300000.0, \\\"x\\\": 3902.0}, {\\\"y\\\": 261500.0, \\\"x\\\": 2460.0}, {\\\"y\\\": 619500.0, \\\"x\\\": 2170.0}, {\\\"y\\\": 435000.0, \\\"x\\\": 1970.0}, {\\\"y\\\": 210000.0, \\\"x\\\": 1000.0}, {\\\"y\\\": 489950.0, \\\"x\\\": 1580.0}, {\\\"y\\\": 260000.0, \\\"x\\\": 2130.0}, {\\\"y\\\": 300000.0, \\\"x\\\": 1370.0}, {\\\"y\\\": 530000.0, \\\"x\\\": 2150.0}, {\\\"y\\\": 235000.0, \\\"x\\\": 1370.0}, {\\\"y\\\": 593500.0, \\\"x\\\": 1370.0}, {\\\"y\\\": 562000.0, \\\"x\\\": 3290.0}, {\\\"y\\\": 585000.0, \\\"x\\\": 3190.0}, {\\\"y\\\": 2400000.0, \\\"x\\\": 4140.0}, {\\\"y\\\": 199500.0, \\\"x\\\": 1690.0}, {\\\"y\\\": 544500.0, \\\"x\\\": 1690.0}, {\\\"y\\\": 394900.0, \\\"x\\\": 1430.0}, {\\\"y\\\": 912000.0, \\\"x\\\": 1980.0}, {\\\"y\\\": 260000.0, \\\"x\\\": 1490.0}, {\\\"y\\\": 858000.0, \\\"x\\\": 3620.0}, {\\\"y\\\": 1275000.0, \\\"x\\\": 2720.0}, {\\\"y\\\": 242150.0, \\\"x\\\": 1490.0}, {\\\"y\\\": 220000.0, \\\"x\\\": 1230.0}, {\\\"y\\\": 235000.0, \\\"x\\\": 1900.0}, {\\\"y\\\": 370000.0, \\\"x\\\": 1530.0}, {\\\"y\\\": 450000.0, \\\"x\\\": 2290.0}, {\\\"y\\\": 534950.0, \\\"x\\\": 2240.0}, {\\\"y\\\": 730000.0, \\\"x\\\": 3470.0}, {\\\"y\\\": 465000.0, \\\"x\\\": 3050.0}, {\\\"y\\\": 178000.0, \\\"x\\\": 1100.0}, {\\\"y\\\": 215000.0, \\\"x\\\": 1610.0}, {\\\"y\\\": 300000.0, \\\"x\\\": 1910.0}, {\\\"y\\\": 430000.0, \\\"x\\\": 1510.0}, {\\\"y\\\": 183000.0, \\\"x\\\": 1280.0}, {\\\"y\\\": 585000.0, \\\"x\\\": 1910.0}, {\\\"y\\\": 192950.0, \\\"x\\\": 1170.0}, {\\\"y\\\": 599000.0, \\\"x\\\": 1550.0}, {\\\"y\\\": 326500.0, \\\"x\\\": 1060.0}, {\\\"y\\\": 358803.0, \\\"x\\\": 1040.0}, {\\\"y\\\": 537000.0, \\\"x\\\": 1550.0}, {\\\"y\\\": 1155000.0, \\\"x\\\": 2490.0}, {\\\"y\\\": 156000.0, \\\"x\\\": 920.0}, {\\\"y\\\": 219000.0, \\\"x\\\": 1250.0}, {\\\"y\\\": 1190000.0, \\\"x\\\": 2540.0}, {\\\"y\\\": 248000.0, \\\"x\\\": 2190.0}, {\\\"y\\\": 340000.0, \\\"x\\\": 1340.0}, {\\\"y\\\": 899100.0, \\\"x\\\": 2410.0}, {\\\"y\\\": 346950.0, \\\"x\\\": 1830.0}, {\\\"y\\\": 330000.0, \\\"x\\\": 1850.0}, {\\\"y\\\": 325000.0, \\\"x\\\": 1410.0}, {\\\"y\\\": 315000.0, \\\"x\\\": 1460.0}, {\\\"y\\\": 649950.0, \\\"x\\\": 1500.0}, {\\\"y\\\": 316000.0, \\\"x\\\": 1130.0}, {\\\"y\\\": 386000.0, \\\"x\\\": 1620.0}, {\\\"y\\\": 535000.0, \\\"x\\\": 2330.0}, {\\\"y\\\": 600000.0, \\\"x\\\": 1520.0}, {\\\"y\\\": 339000.0, \\\"x\\\": 2840.0}, {\\\"y\\\": 167000.0, \\\"x\\\": 1520.0}, {\\\"y\\\": 430000.0, \\\"x\\\": 1740.0}, {\\\"y\\\": 688000.0, \\\"x\\\": 4000.0}, {\\\"y\\\": 834500.0, \\\"x\\\": 2780.0}, {\\\"y\\\": 1075000.0, \\\"x\\\": 3500.0}, {\\\"y\\\": 250000.0, \\\"x\\\": 1060.0}, {\\\"y\\\": 402500.0, \\\"x\\\": 1290.0}, {\\\"y\\\": 432500.0, \\\"x\\\": 2390.0}, {\\\"y\\\": 485000.0, \\\"x\\\": 2460.0}, {\\\"y\\\": 560000.0, \\\"x\\\": 2930.0}, {\\\"y\\\": 410000.0, \\\"x\\\": 2200.0}, {\\\"y\\\": 455000.0, \\\"x\\\": 1870.0}, {\\\"y\\\": 459500.0, \\\"x\\\": 2060.0}, {\\\"y\\\": 371000.0, \\\"x\\\": 1610.0}, {\\\"y\\\": 289500.0, \\\"x\\\": 2120.0}, {\\\"y\\\": 395000.0, \\\"x\\\": 1450.0}, {\\\"y\\\": 496752.0, \\\"x\\\": 1980.0}, {\\\"y\\\": 227000.0, \\\"x\\\": 860.0}, {\\\"y\\\": 330000.0, \\\"x\\\": 1460.0}, {\\\"y\\\": 480000.0, \\\"x\\\": 2590.0}, {\\\"y\\\": 290000.0, \\\"x\\\": 1120.0}, {\\\"y\\\": 281000.0, \\\"x\\\": 1340.0}, {\\\"y\\\": 705000.0, \\\"x\\\": 1780.0}, {\\\"y\\\": 1400000.0, \\\"x\\\": 2920.0}, {\\\"y\\\": 485000.0, \\\"x\\\": 2820.0}, {\\\"y\\\": 622000.0, \\\"x\\\": 1550.0}, {\\\"y\\\": 380000.0, \\\"x\\\": 1600.0}, {\\\"y\\\": 2125000.0, \\\"x\\\": 3190.0}, {\\\"y\\\": 561500.0, \\\"x\\\": 1960.0}, {\\\"y\\\": 242000.0, \\\"x\\\": 970.0}, {\\\"y\\\": 348500.0, \\\"x\\\": 1360.0}, {\\\"y\\\": 370000.0, \\\"x\\\": 1360.0}, {\\\"y\\\": 752000.0, \\\"x\\\": 3810.0}, {\\\"y\\\": 230000.0, \\\"x\\\": 1340.0}, {\\\"y\\\": 715000.0, \\\"x\\\": 1990.0}, {\\\"y\\\": 240415.0, \\\"x\\\": 1120.0}, {\\\"y\\\": 562000.0, \\\"x\\\": 2060.0}, {\\\"y\\\": 360000.0, \\\"x\\\": 1170.0}, {\\\"y\\\": 659950.0, \\\"x\\\": 1610.0}, {\\\"y\\\": 458500.0, \\\"x\\\": 1890.0}, {\\\"y\\\": 259950.0, \\\"x\\\": 1070.0}, {\\\"y\\\": 366000.0, \\\"x\\\": 1680.0}, {\\\"y\\\": 978000.0, \\\"x\\\": 2890.0}, {\\\"y\\\": 525000.0, \\\"x\\\": 1360.0}, {\\\"y\\\": 926300.0, \\\"x\\\": 1660.0}, {\\\"y\\\": 750000.0, \\\"x\\\": 1620.0}, {\\\"y\\\": 660000.0, \\\"x\\\": 960.0}, {\\\"y\\\": 305000.0, \\\"x\\\": 1000.0}, {\\\"y\\\": 800000.0, \\\"x\\\": 2395.0}, {\\\"y\\\": 600000.0, \\\"x\\\": 3050.0}, {\\\"y\\\": 435000.0, \\\"x\\\": 1120.0}, {\\\"y\\\": 1135000.0, \\\"x\\\": 2960.0}, {\\\"y\\\": 318000.0, \\\"x\\\": 1250.0}, {\\\"y\\\": 639000.0, \\\"x\\\": 1940.0}, {\\\"y\\\": 453000.0, \\\"x\\\": 1750.0}, {\\\"y\\\": 800000.0, \\\"x\\\": 2150.0}, {\\\"y\\\": 437000.0, \\\"x\\\": 1500.0}, {\\\"y\\\": 1150000.0, \\\"x\\\": 3230.0}, {\\\"y\\\": 490000.0, \\\"x\\\": 3000.0}, {\\\"y\\\": 499950.0, \\\"x\\\": 1520.0}, {\\\"y\\\": 160134.0, \\\"x\\\": 1190.0}, {\\\"y\\\": 191000.0, \\\"x\\\": 990.0}, {\\\"y\\\": 221000.0, \\\"x\\\": 1250.0}, {\\\"y\\\": 352800.0, \\\"x\\\": 2080.0}, {\\\"y\\\": 350000.0, \\\"x\\\": 1640.0}, {\\\"y\\\": 458000.0, \\\"x\\\": 1550.0}, {\\\"y\\\": 359950.0, \\\"x\\\": 1290.0}, {\\\"y\\\": 1050000.0, \\\"x\\\": 3250.0}, {\\\"y\\\": 353000.0, \\\"x\\\": 1260.0}, {\\\"y\\\": 717550.0, \\\"x\\\": 2840.0}, {\\\"y\\\": 450000.0, \\\"x\\\": 1960.0}, {\\\"y\\\": 167500.0, \\\"x\\\": 760.0}, {\\\"y\\\": 550000.0, \\\"x\\\": 2240.0}, {\\\"y\\\": 939000.0, \\\"x\\\": 2240.0}, {\\\"y\\\": 700000.0, \\\"x\\\": 1820.0}, {\\\"y\\\": 480000.0, \\\"x\\\": 3370.0}, {\\\"y\\\": 501000.0, \\\"x\\\": 1160.0}, {\\\"y\\\": 580000.0, \\\"x\\\": 1640.0}, {\\\"y\\\": 527550.0, \\\"x\\\": 820.0}, {\\\"y\\\": 399000.0, \\\"x\\\": 2800.0}, {\\\"y\\\": 240000.0, \\\"x\\\": 1780.0}, {\\\"y\\\": 353000.0, \\\"x\\\": 2200.0}, {\\\"y\\\": 335000.0, \\\"x\\\": 1480.0}, {\\\"y\\\": 475000.0, \\\"x\\\": 2010.0}, {\\\"y\\\": 660000.0, \\\"x\\\": 2880.0}, {\\\"y\\\": 551000.0, \\\"x\\\": 940.0}, {\\\"y\\\": 249950.0, \\\"x\\\": 1620.0}, {\\\"y\\\": 1150000.0, \\\"x\\\": 4400.0}, {\\\"y\\\": 575000.0, \\\"x\\\": 1530.0}, {\\\"y\\\": 1088889.0, \\\"x\\\": 3460.0}, {\\\"y\\\": 515000.0, \\\"x\\\": 2890.0}, {\\\"y\\\": 235000.0, \\\"x\\\": 1980.0}, {\\\"y\\\": 796000.0, \\\"x\\\": 1980.0}, {\\\"y\\\": 450000.0, \\\"x\\\": 1450.0}, {\\\"y\\\": 2050000.0, \\\"x\\\": 4280.0}, {\\\"y\\\": 270000.0, \\\"x\\\": 1810.0}, {\\\"y\\\": 1705000.0, \\\"x\\\": 2490.0}, {\\\"y\\\": 565000.0, \\\"x\\\": 1610.0}, {\\\"y\\\": 680000.0, \\\"x\\\": 1820.0}, {\\\"y\\\": 5570000.0, \\\"x\\\": 9200.0}, {\\\"y\\\": 864500.0, \\\"x\\\": 3520.0}, {\\\"y\\\": 1150000.0, \\\"x\\\": 3740.0}, {\\\"y\\\": 335000.0, \\\"x\\\": 2150.0}, {\\\"y\\\": 911000.0, \\\"x\\\": 3526.0}, {\\\"y\\\": 425000.0, \\\"x\\\": 1070.0}, {\\\"y\\\": 299950.0, \\\"x\\\": 1410.0}, {\\\"y\\\": 864000.0, \\\"x\\\": 3190.0}, {\\\"y\\\": 425000.0, \\\"x\\\": 1270.0}, {\\\"y\\\": 374950.0, \\\"x\\\": 1970.0}, {\\\"y\\\": 247000.0, \\\"x\\\": 1640.0}, {\\\"y\\\": 475000.0, \\\"x\\\": 1600.0}, {\\\"y\\\": 275000.0, \\\"x\\\": 3020.0}, {\\\"y\\\": 355000.0, \\\"x\\\": 1350.0}, {\\\"y\\\": 285000.0, \\\"x\\\": 1870.0}, {\\\"y\\\": 1338750.0, \\\"x\\\": 2730.0}, {\\\"y\\\": 325000.0, \\\"x\\\": 1100.0}, {\\\"y\\\": 1670000.0, \\\"x\\\": 4320.0}, {\\\"y\\\": 402000.0, \\\"x\\\": 2700.0}, {\\\"y\\\": 1100000.0, \\\"x\\\": 3700.0}, {\\\"y\\\": 375000.0, \\\"x\\\": 2190.0}, {\\\"y\\\": 396000.0, \\\"x\\\": 2840.0}, {\\\"y\\\": 320000.0, \\\"x\\\": 2610.0}, {\\\"y\\\": 610000.0, \\\"x\\\": 2630.0}, {\\\"y\\\": 249950.0, \\\"x\\\": 1090.0}, {\\\"y\\\": 675000.0, \\\"x\\\": 3090.0}, {\\\"y\\\": 448000.0, \\\"x\\\": 1670.0}, {\\\"y\\\": 819000.0, \\\"x\\\": 1300.0}, {\\\"y\\\": 1250000.0, \\\"x\\\": 3670.0}, {\\\"y\\\": 225000.0, \\\"x\\\": 1700.0}, {\\\"y\\\": 790000.0, \\\"x\\\": 2560.0}, {\\\"y\\\": 685000.0, \\\"x\\\": 2770.0}, {\\\"y\\\": 812000.0, \\\"x\\\": 3240.0}, {\\\"y\\\": 705000.0, \\\"x\\\": 2300.0}, {\\\"y\\\": 360000.0, \\\"x\\\": 2483.0}, {\\\"y\\\": 344000.0, \\\"x\\\": 760.0}, {\\\"y\\\": 825000.0, \\\"x\\\": 2040.0}, {\\\"y\\\": 476500.0, \\\"x\\\": 1200.0}, {\\\"y\\\": 379500.0, \\\"x\\\": 960.0}, {\\\"y\\\": 620000.0, \\\"x\\\": 2410.0}, {\\\"y\\\": 477590.0, \\\"x\\\": 2260.0}, {\\\"y\\\": 490000.0, \\\"x\\\": 1910.0}, {\\\"y\\\": 470000.0, \\\"x\\\": 1500.0}, {\\\"y\\\": 500000.0, \\\"x\\\": 1360.0}, {\\\"y\\\": 370000.0, \\\"x\\\": 1320.0}, {\\\"y\\\": 790000.0, \\\"x\\\": 1940.0}, {\\\"y\\\": 725000.0, \\\"x\\\": 2650.0}, {\\\"y\\\": 840000.0, \\\"x\\\": 3040.0}, {\\\"y\\\": 390000.0, \\\"x\\\": 1240.0}, {\\\"y\\\": 507000.0, \\\"x\\\": 2210.0}, {\\\"y\\\": 263500.0, \\\"x\\\": 1540.0}, {\\\"y\\\": 369000.0, \\\"x\\\": 1320.0}, {\\\"y\\\": 500000.0, \\\"x\\\": 3040.0}, {\\\"y\\\": 570000.0, \\\"x\\\": 910.0}, {\\\"y\\\": 284000.0, \\\"x\\\": 2040.0}, {\\\"y\\\": 415000.0, \\\"x\\\": 980.0}, {\\\"y\\\": 197500.0, \\\"x\\\": 980.0}, {\\\"y\\\": 925000.0, \\\"x\\\": 4420.0}, {\\\"y\\\": 468000.0, \\\"x\\\": 1570.0}, {\\\"y\\\": 355000.0, \\\"x\\\": 1600.0}, {\\\"y\\\": 639000.0, \\\"x\\\": 1830.0}, {\\\"y\\\": 720000.0, \\\"x\\\": 2820.0}, {\\\"y\\\": 381000.0, \\\"x\\\": 1800.0}, {\\\"y\\\": 1050000.0, \\\"x\\\": 4380.0}, {\\\"y\\\": 670000.0, \\\"x\\\": 2980.0}, {\\\"y\\\": 400000.0, \\\"x\\\": 1690.0}, {\\\"y\\\": 910000.0, \\\"x\\\": 4040.0}, {\\\"y\\\": 294000.0, \\\"x\\\": 1250.0}, {\\\"y\\\": 315001.0, \\\"x\\\": 1500.0}, {\\\"y\\\": 360000.0, \\\"x\\\": 1630.0}, {\\\"y\\\": 520000.0, \\\"x\\\": 1410.0}, {\\\"y\\\": 474000.0, \\\"x\\\": 1140.0}, {\\\"y\\\": 702000.0, \\\"x\\\": 3280.0}, {\\\"y\\\": 728000.0, \\\"x\\\": 3490.0}, {\\\"y\\\": 308000.0, \\\"x\\\": 2020.0}, {\\\"y\\\": 2000000.0, \\\"x\\\": 4580.0}, {\\\"y\\\": 340000.0, \\\"x\\\": 2270.0}, {\\\"y\\\": 306500.0, \\\"x\\\": 1310.0}, {\\\"y\\\": 716000.0, \\\"x\\\": 1420.0}, {\\\"y\\\": 950000.0, \\\"x\\\": 2980.0}, {\\\"y\\\": 673200.0, \\\"x\\\": 4180.0}, {\\\"y\\\": 564500.0, \\\"x\\\": 1950.0}, {\\\"y\\\": 393000.0, \\\"x\\\": 1790.0}, {\\\"y\\\": 425000.0, \\\"x\\\": 1400.0}, {\\\"y\\\": 150000.0, \\\"x\\\": 1320.0}, {\\\"y\\\": 327000.0, \\\"x\\\": 1620.0}, {\\\"y\\\": 444900.0, \\\"x\\\": 3120.0}, {\\\"y\\\": 305000.0, \\\"x\\\": 2100.0}, {\\\"y\\\": 469000.0, \\\"x\\\": 1370.0}, {\\\"y\\\": 525000.0, \\\"x\\\": 1520.0}, {\\\"y\\\": 330000.0, \\\"x\\\": 2410.0}, {\\\"y\\\": 618000.0, \\\"x\\\": 1260.0}, {\\\"y\\\": 295500.0, \\\"x\\\": 2830.0}, {\\\"y\\\": 567035.0, \\\"x\\\": 2064.0}, {\\\"y\\\": 518000.0, \\\"x\\\": 2640.0}, {\\\"y\\\": 303000.0, \\\"x\\\": 1020.0}, {\\\"y\\\": 300000.0, \\\"x\\\": 2200.0}, {\\\"y\\\": 413107.0, \\\"x\\\": 1420.0}, {\\\"y\\\": 400000.0, \\\"x\\\": 1350.0}, {\\\"y\\\": 535000.0, \\\"x\\\": 1290.0}, {\\\"y\\\": 555000.0, \\\"x\\\": 1680.0}, {\\\"y\\\": 312000.0, \\\"x\\\": 2280.0}, {\\\"y\\\": 785200.0, \\\"x\\\": 1840.0}, {\\\"y\\\": 749000.0, \\\"x\\\": 2040.0}, {\\\"y\\\": 285000.0, \\\"x\\\": 1490.0}, {\\\"y\\\": 425000.0, \\\"x\\\": 2440.0}, {\\\"y\\\": 360000.0, \\\"x\\\": 1930.0}, {\\\"y\\\": 260000.0, \\\"x\\\": 1200.0}, {\\\"y\\\": 369000.0, \\\"x\\\": 1550.0}, {\\\"y\\\": 275000.0, \\\"x\\\": 2180.0}, {\\\"y\\\": 407000.0, \\\"x\\\": 1430.0}, {\\\"y\\\": 575000.0, \\\"x\\\": 1230.0}, {\\\"y\\\": 1236000.0, \\\"x\\\": 1670.0}, {\\\"y\\\": 875000.0, \\\"x\\\": 2720.0}, {\\\"y\\\": 320000.0, \\\"x\\\": 2220.0}, {\\\"y\\\": 810000.0, \\\"x\\\": 1520.0}, {\\\"y\\\": 274000.0, \\\"x\\\": 1590.0}, {\\\"y\\\": 239900.0, \\\"x\\\": 1480.0}, {\\\"y\\\": 450000.0, \\\"x\\\": 1860.0}, {\\\"y\\\": 263400.0, \\\"x\\\": 1360.0}, {\\\"y\\\": 265000.0, \\\"x\\\": 1360.0}, {\\\"y\\\": 418000.0, \\\"x\\\": 2360.0}, {\\\"y\\\": 390000.0, \\\"x\\\": 2360.0}, {\\\"y\\\": 430000.0, \\\"x\\\": 1860.0}, {\\\"y\\\": 1442500.0, \\\"x\\\": 2630.0}, {\\\"y\\\": 297000.0, \\\"x\\\": 1280.0}, {\\\"y\\\": 650000.0, \\\"x\\\": 2330.0}, {\\\"y\\\": 195000.0, \\\"x\\\": 720.0}, {\\\"y\\\": 554000.0, \\\"x\\\": 3380.0}, {\\\"y\\\": 550000.0, \\\"x\\\": 3650.0}, {\\\"y\\\": 700000.0, \\\"x\\\": 1640.0}, {\\\"y\\\": 300000.0, \\\"x\\\": 1730.0}, {\\\"y\\\": 315000.0, \\\"x\\\": 1030.0}, {\\\"y\\\": 603000.0, \\\"x\\\": 1790.0}, {\\\"y\\\": 530000.0, \\\"x\\\": 840.0}, {\\\"y\\\": 397500.0, \\\"x\\\": 1300.0}, {\\\"y\\\": 221000.0, \\\"x\\\": 1240.0}, {\\\"y\\\": 466000.0, \\\"x\\\": 2170.0}, {\\\"y\\\": 197500.0, \\\"x\\\": 1330.0}, {\\\"y\\\": 280000.0, \\\"x\\\": 1390.0}, {\\\"y\\\": 412000.0, \\\"x\\\": 1240.0}, {\\\"y\\\": 454000.0, \\\"x\\\": 880.0}, {\\\"y\\\": 540000.0, \\\"x\\\": 2540.0}, {\\\"y\\\": 250000.0, \\\"x\\\": 2520.0}, {\\\"y\\\": 900000.0, \\\"x\\\": 2510.0}, {\\\"y\\\": 245000.0, \\\"x\\\": 2020.0}, {\\\"y\\\": 290000.0, \\\"x\\\": 2060.0}, {\\\"y\\\": 160000.0, \\\"x\\\": 930.0}, {\\\"y\\\": 1260000.0, \\\"x\\\": 2700.0}, {\\\"y\\\": 325000.0, \\\"x\\\": 1060.0}, {\\\"y\\\": 185000.0, \\\"x\\\": 670.0}, {\\\"y\\\": 477000.0, \\\"x\\\": 1750.0}, {\\\"y\\\": 100000.0, \\\"x\\\": 930.0}, {\\\"y\\\": 345000.0, \\\"x\\\": 2420.0}, {\\\"y\\\": 530000.0, \\\"x\\\": 2410.0}, {\\\"y\\\": 203000.0, \\\"x\\\": 1150.0}, {\\\"y\\\": 599000.0, \\\"x\\\": 2480.0}, {\\\"y\\\": 370000.0, \\\"x\\\": 1310.0}, {\\\"y\\\": 140000.0, \\\"x\\\": 1240.0}, {\\\"y\\\": 500000.0, \\\"x\\\": 1150.0}, {\\\"y\\\": 527200.0, \\\"x\\\": 1460.0}, {\\\"y\\\": 549900.0, \\\"x\\\": 3060.0}, {\\\"y\\\": 760000.0, \\\"x\\\": 3520.0}, {\\\"y\\\": 319000.0, \\\"x\\\": 960.0}, {\\\"y\\\": 362300.0, \\\"x\\\": 2430.0}, {\\\"y\\\": 421000.0, \\\"x\\\": 1930.0}, {\\\"y\\\": 690000.0, \\\"x\\\": 1090.0}, {\\\"y\\\": 640000.0, \\\"x\\\": 2790.0}, {\\\"y\\\": 238000.0, \\\"x\\\": 1650.0}, {\\\"y\\\": 789000.0, \\\"x\\\": 3740.0}, {\\\"y\\\": 1050000.0, \\\"x\\\": 5310.0}, {\\\"y\\\": 302500.0, \\\"x\\\": 1690.0}, {\\\"y\\\": 259950.0, \\\"x\\\": 1400.0}, {\\\"y\\\": 456000.0, \\\"x\\\": 1440.0}, {\\\"y\\\": 369950.0, \\\"x\\\": 1360.0}, {\\\"y\\\": 363750.0, \\\"x\\\": 1726.0}, {\\\"y\\\": 585000.0, \\\"x\\\": 2220.0}, {\\\"y\\\": 268000.0, \\\"x\\\": 1850.0}, {\\\"y\\\": 1200000.0, \\\"x\\\": 2860.0}, {\\\"y\\\": 345000.0, \\\"x\\\": 1120.0}, {\\\"y\\\": 539000.0, \\\"x\\\": 2340.0}, {\\\"y\\\": 851000.0, \\\"x\\\": 3760.0}, {\\\"y\\\": 900000.0, \\\"x\\\": 1920.0}, {\\\"y\\\": 850000.0, \\\"x\\\": 3230.0}, {\\\"y\\\": 390000.0, \\\"x\\\": 1260.0}, {\\\"y\\\": 345000.0, \\\"x\\\": 1540.0}, {\\\"y\\\": 534500.0, \\\"x\\\": 1700.0}, {\\\"y\\\": 643500.0, \\\"x\\\": 3600.0}, {\\\"y\\\": 1206505.0, \\\"x\\\": 3150.0}, {\\\"y\\\": 495000.0, \\\"x\\\": 1280.0}, {\\\"y\\\": 535000.0, \\\"x\\\": 980.0}, {\\\"y\\\": 435000.0, \\\"x\\\": 2190.0}, {\\\"y\\\": 305000.0, \\\"x\\\": 2470.0}, {\\\"y\\\": 799000.0, \\\"x\\\": 2590.0}, {\\\"y\\\": 700000.0, \\\"x\\\": 2580.0}, {\\\"y\\\": 467000.0, \\\"x\\\": 1270.0}, {\\\"y\\\": 263000.0, \\\"x\\\": 1250.0}, {\\\"y\\\": 760000.0, \\\"x\\\": 4660.0}, {\\\"y\\\": 293000.0, \\\"x\\\": 2019.0}, {\\\"y\\\": 245000.0, \\\"x\\\": 1490.0}, {\\\"y\\\": 181000.0, \\\"x\\\": 1560.0}, {\\\"y\\\": 240000.0, \\\"x\\\": 1030.0}, {\\\"y\\\": 880000.0, \\\"x\\\": 2560.0}, {\\\"y\\\": 285000.0, \\\"x\\\": 1460.0}, {\\\"y\\\": 407500.0, \\\"x\\\": 770.0}, {\\\"y\\\": 325000.0, \\\"x\\\": 1960.0}, {\\\"y\\\": 405000.0, \\\"x\\\": 1900.0}, {\\\"y\\\": 291700.0, \\\"x\\\": 1970.0}, {\\\"y\\\": 370000.0, \\\"x\\\": 2490.0}, {\\\"y\\\": 270000.0, \\\"x\\\": 1430.0}, {\\\"y\\\": 800000.0, \\\"x\\\": 2680.0}, {\\\"y\\\": 626500.0, \\\"x\\\": 1610.0}, {\\\"y\\\": 1130000.0, \\\"x\\\": 4300.0}, {\\\"y\\\": 399950.0, \\\"x\\\": 3200.0}, {\\\"y\\\": 419000.0, \\\"x\\\": 2140.0}, {\\\"y\\\": 1160000.0, \\\"x\\\": 4240.0}, {\\\"y\\\": 1405000.0, \\\"x\\\": 3410.0}, {\\\"y\\\": 710000.0, \\\"x\\\": 2090.0}, {\\\"y\\\": 650000.0, \\\"x\\\": 1410.0}, {\\\"y\\\": 369900.0, \\\"x\\\": 2820.0}, {\\\"y\\\": 641000.0, \\\"x\\\": 2770.0}, {\\\"y\\\": 403000.0, \\\"x\\\": 1400.0}, {\\\"y\\\": 1015000.0, \\\"x\\\": 3620.0}, {\\\"y\\\": 865000.0, \\\"x\\\": 2260.0}, {\\\"y\\\": 2485000.0, \\\"x\\\": 3440.0}, {\\\"y\\\": 810000.0, \\\"x\\\": 2150.0}, {\\\"y\\\": 316750.0, \\\"x\\\": 1256.0}, {\\\"y\\\": 652500.0, \\\"x\\\": 2220.0}, {\\\"y\\\": 360000.0, \\\"x\\\": 2850.0}, {\\\"y\\\": 208000.0, \\\"x\\\": 700.0}, {\\\"y\\\": 898000.0, \\\"x\\\": 3700.0}, {\\\"y\\\": 295000.0, \\\"x\\\": 1400.0}, {\\\"y\\\": 652500.0, \\\"x\\\": 3130.0}, {\\\"y\\\": 560000.0, \\\"x\\\": 2170.0}, {\\\"y\\\": 280000.0, \\\"x\\\": 1020.0}, {\\\"y\\\": 289950.0, \\\"x\\\": 1760.0}, {\\\"y\\\": 397500.0, \\\"x\\\": 1860.0}, {\\\"y\\\": 380000.0, \\\"x\\\": 1140.0}, {\\\"y\\\": 415900.0, \\\"x\\\": 1670.0}, {\\\"y\\\": 475000.0, \\\"x\\\": 1710.0}, {\\\"y\\\": 125000.0, \\\"x\\\": 500.0}, {\\\"y\\\": 238000.0, \\\"x\\\": 1470.0}, {\\\"y\\\": 296000.0, \\\"x\\\": 1370.0}, {\\\"y\\\": 475000.0, \\\"x\\\": 3470.0}, {\\\"y\\\": 390000.0, \\\"x\\\": 1650.0}, {\\\"y\\\": 425000.0, \\\"x\\\": 1180.0}, {\\\"y\\\": 725000.0, \\\"x\\\": 3110.0}, {\\\"y\\\": 605000.0, \\\"x\\\": 2080.0}, {\\\"y\\\": 302000.0, \\\"x\\\": 1600.0}, {\\\"y\\\": 886000.0, \\\"x\\\": 2380.0}, {\\\"y\\\": 540000.0, \\\"x\\\": 1630.0}, {\\\"y\\\": 435000.0, \\\"x\\\": 1910.0}, {\\\"y\\\": 409000.0, \\\"x\\\": 3140.0}, {\\\"y\\\": 405000.0, \\\"x\\\": 1250.0}, {\\\"y\\\": 560200.0, \\\"x\\\": 1990.0}, {\\\"y\\\": 324000.0, \\\"x\\\": 2110.0}, {\\\"y\\\": 390000.0, \\\"x\\\": 2490.0}, {\\\"y\\\": 414000.0, \\\"x\\\": 800.0}, {\\\"y\\\": 441500.0, \\\"x\\\": 2360.0}, {\\\"y\\\": 375000.0, \\\"x\\\": 1770.0}, {\\\"y\\\": 668500.0, \\\"x\\\": 2710.0}, {\\\"y\\\": 540000.0, \\\"x\\\": 1940.0}, {\\\"y\\\": 1035000.0, \\\"x\\\": 3450.0}, {\\\"y\\\": 1345000.0, \\\"x\\\": 3440.0}, {\\\"y\\\": 758000.0, \\\"x\\\": 2410.0}, {\\\"y\\\": 949880.0, \\\"x\\\": 2290.0}, {\\\"y\\\": 570000.0, \\\"x\\\": 1030.0}, {\\\"y\\\": 736000.0, \\\"x\\\": 2290.0}, {\\\"y\\\": 670000.0, \\\"x\\\": 1490.0}, {\\\"y\\\": 1130000.0, \\\"x\\\": 2370.0}, {\\\"y\\\": 650000.0, \\\"x\\\": 1930.0}, {\\\"y\\\": 690000.0, \\\"x\\\": 1600.0}, {\\\"y\\\": 610000.0, \\\"x\\\": 2240.0}, {\\\"y\\\": 413500.0, \\\"x\\\": 770.0}, {\\\"y\\\": 765000.0, \\\"x\\\": 2300.0}, {\\\"y\\\": 828200.0, \\\"x\\\": 3400.0}, {\\\"y\\\": 205000.0, \\\"x\\\": 900.0}, {\\\"y\\\": 465000.0, \\\"x\\\": 1450.0}, {\\\"y\\\": 556000.0, \\\"x\\\": 2240.0}, {\\\"y\\\": 540000.0, \\\"x\\\": 1780.0}, {\\\"y\\\": 423000.0, \\\"x\\\": 2320.0}, {\\\"y\\\": 375000.0, \\\"x\\\": 1590.0}, {\\\"y\\\": 173250.0, \\\"x\\\": 990.0}, {\\\"y\\\": 599900.0, \\\"x\\\": 2605.0}, {\\\"y\\\": 646000.0, \\\"x\\\": 2870.0}, {\\\"y\\\": 1075000.0, \\\"x\\\": 5180.0}, {\\\"y\\\": 558000.0, \\\"x\\\": 2180.0}, {\\\"y\\\": 354000.0, \\\"x\\\": 850.0}, {\\\"y\\\": 1195000.0, \\\"x\\\": 4050.0}, {\\\"y\\\": 670000.0, \\\"x\\\": 2250.0}, {\\\"y\\\": 1125000.0, \\\"x\\\": 3100.0}, {\\\"y\\\": 267500.0, \\\"x\\\": 1747.0}, {\\\"y\\\": 299800.0, \\\"x\\\": 2410.0}, {\\\"y\\\": 430000.0, \\\"x\\\": 2070.0}, {\\\"y\\\": 775000.0, \\\"x\\\": 1860.0}, {\\\"y\\\": 333000.0, \\\"x\\\": 950.0}, {\\\"y\\\": 336000.0, \\\"x\\\": 1060.0}, {\\\"y\\\": 323000.0, \\\"x\\\": 880.0}, {\\\"y\\\": 575000.0, \\\"x\\\": 2550.0}, {\\\"y\\\": 328000.0, \\\"x\\\": 1550.0}, {\\\"y\\\": 572500.0, \\\"x\\\": 1590.0}, {\\\"y\\\": 600000.0, \\\"x\\\": 1650.0}, {\\\"y\\\": 412000.0, \\\"x\\\": 2430.0}, {\\\"y\\\": 827500.0, \\\"x\\\": 1810.0}, {\\\"y\\\": 300000.0, \\\"x\\\": 2890.0}, {\\\"y\\\": 415000.0, \\\"x\\\": 1280.0}, {\\\"y\\\": 750000.0, \\\"x\\\": 3410.0}, {\\\"y\\\": 800000.0, \\\"x\\\": 2220.0}, {\\\"y\\\": 420000.0, \\\"x\\\": 1060.0}, {\\\"y\\\": 266000.0, \\\"x\\\": 1120.0}, {\\\"y\\\": 499000.0, \\\"x\\\": 2680.0}, {\\\"y\\\": 440000.0, \\\"x\\\": 1770.0}, {\\\"y\\\": 495000.0, \\\"x\\\": 2950.0}, {\\\"y\\\": 630000.0, \\\"x\\\": 1260.0}, {\\\"y\\\": 424000.0, \\\"x\\\": 1430.0}, {\\\"y\\\": 760000.0, \\\"x\\\": 2730.0}, {\\\"y\\\": 650000.0, \\\"x\\\": 3270.0}, {\\\"y\\\": 248500.0, \\\"x\\\": 1720.0}, {\\\"y\\\": 379600.0, \\\"x\\\": 1270.0}, {\\\"y\\\": 538000.0, \\\"x\\\": 3260.0}, {\\\"y\\\": 530000.0, \\\"x\\\": 2050.0}, {\\\"y\\\": 545000.0, \\\"x\\\": 2050.0}, {\\\"y\\\": 925000.0, \\\"x\\\": 3580.0}, {\\\"y\\\": 565000.0, \\\"x\\\": 1960.0}, {\\\"y\\\": 405100.0, \\\"x\\\": 840.0}, {\\\"y\\\": 502000.0, \\\"x\\\": 1300.0}, {\\\"y\\\": 425000.0, \\\"x\\\": 1260.0}, {\\\"y\\\": 233500.0, \\\"x\\\": 1650.0}, {\\\"y\\\": 287000.0, \\\"x\\\": 1710.0}, {\\\"y\\\": 190000.0, \\\"x\\\": 1180.0}, {\\\"y\\\": 666000.0, \\\"x\\\": 2780.0}, {\\\"y\\\": 330000.0, \\\"x\\\": 950.0}, {\\\"y\\\": 1490000.0, \\\"x\\\": 3620.0}, {\\\"y\\\": 393000.0, \\\"x\\\": 2140.0}, {\\\"y\\\": 353000.0, \\\"x\\\": 1920.0}, {\\\"y\\\": 260000.0, \\\"x\\\": 750.0}, {\\\"y\\\": 680000.0, \\\"x\\\": 2060.0}, {\\\"y\\\": 921000.0, \\\"x\\\": 2380.0}, {\\\"y\\\": 319000.0, \\\"x\\\": 750.0}, {\\\"y\\\": 280000.0, \\\"x\\\": 1160.0}, {\\\"y\\\": 220000.0, \\\"x\\\": 1050.0}, {\\\"y\\\": 219000.0, \\\"x\\\": 1740.0}, {\\\"y\\\": 528000.0, \\\"x\\\": 2050.0}, {\\\"y\\\": 405000.0, \\\"x\\\": 1980.0}, {\\\"y\\\": 372977.0, \\\"x\\\": 1690.0}, {\\\"y\\\": 934550.0, \\\"x\\\": 2320.0}, {\\\"y\\\": 1465000.0, \\\"x\\\": 2480.0}, {\\\"y\\\": 975000.0, \\\"x\\\": 2290.0}, {\\\"y\\\": 800866.0, \\\"x\\\": 3180.0}, {\\\"y\\\": 950000.0, \\\"x\\\": 3470.0}, {\\\"y\\\": 624000.0, \\\"x\\\": 1540.0}, {\\\"y\\\": 1850000.0, \\\"x\\\": 2800.0}, {\\\"y\\\": 310000.0, \\\"x\\\": 1050.0}, {\\\"y\\\": 315000.0, \\\"x\\\": 1480.0}, {\\\"y\\\": 675000.0, \\\"x\\\": 1010.0}, {\\\"y\\\": 490000.0, \\\"x\\\": 1660.0}, {\\\"y\\\": 600000.0, \\\"x\\\": 2760.0}, {\\\"y\\\": 154000.0, \\\"x\\\": 1040.0}, {\\\"y\\\": 480000.0, \\\"x\\\": 2220.0}, {\\\"y\\\": 196900.0, \\\"x\\\": 1270.0}, {\\\"y\\\": 735000.0, \\\"x\\\": 2960.0}, {\\\"y\\\": 205500.0, \\\"x\\\": 1330.0}, {\\\"y\\\": 357186.0, \\\"x\\\": 1210.0}, {\\\"y\\\": 275000.0, \\\"x\\\": 2120.0}, {\\\"y\\\": 248500.0, \\\"x\\\": 2090.0}, {\\\"y\\\": 350000.0, \\\"x\\\": 2680.0}, {\\\"y\\\": 390000.0, \\\"x\\\": 1790.0}, {\\\"y\\\": 390000.0, \\\"x\\\": 1950.0}, {\\\"y\\\": 660000.0, \\\"x\\\": 3740.0}, {\\\"y\\\": 310000.0, \\\"x\\\": 1140.0}, {\\\"y\\\": 717000.0, \\\"x\\\": 2480.0}, {\\\"y\\\": 260000.0, \\\"x\\\": 2580.0}, {\\\"y\\\": 745000.0, \\\"x\\\": 2290.0}, {\\\"y\\\": 470000.0, \\\"x\\\": 2320.0}, {\\\"y\\\": 429000.0, \\\"x\\\": 2530.0}, {\\\"y\\\": 220000.0, \\\"x\\\": 1400.0}, {\\\"y\\\": 497000.0, \\\"x\\\": 2060.0}, {\\\"y\\\": 716100.0, \\\"x\\\": 1640.0}, {\\\"y\\\": 371000.0, \\\"x\\\": 1960.0}, {\\\"y\\\": 379000.0, \\\"x\\\": 3000.0}, {\\\"y\\\": 937500.0, \\\"x\\\": 1320.0}, {\\\"y\\\": 720000.0, \\\"x\\\": 1760.0}, {\\\"y\\\": 616000.0, \\\"x\\\": 2130.0}, {\\\"y\\\": 259000.0, \\\"x\\\": 1390.0}, {\\\"y\\\": 538000.0, \\\"x\\\": 1400.0}, {\\\"y\\\": 605000.0, \\\"x\\\": 3230.0}, {\\\"y\\\": 369950.0, \\\"x\\\": 1110.0}, {\\\"y\\\": 310000.0, \\\"x\\\": 1670.0}, {\\\"y\\\": 227500.0, \\\"x\\\": 1540.0}, {\\\"y\\\": 274000.0, \\\"x\\\": 2090.0}, {\\\"y\\\": 410000.0, \\\"x\\\": 1410.0}, {\\\"y\\\": 354800.0, \\\"x\\\": 1370.0}, {\\\"y\\\": 650000.0, \\\"x\\\": 1910.0}, {\\\"y\\\": 353000.0, \\\"x\\\": 1678.0}, {\\\"y\\\": 224975.0, \\\"x\\\": 960.0}, {\\\"y\\\": 600000.0, \\\"x\\\": 2080.0}, {\\\"y\\\": 437500.0, \\\"x\\\": 1790.0}, {\\\"y\\\": 567000.0, \\\"x\\\": 2540.0}, {\\\"y\\\": 225000.0, \\\"x\\\": 1790.0}, {\\\"y\\\": 255000.0, \\\"x\\\": 940.0}, {\\\"y\\\": 2479000.0, \\\"x\\\": 6810.0}, {\\\"y\\\": 370000.0, \\\"x\\\": 900.0}, {\\\"y\\\": 675000.0, \\\"x\\\": 1900.0}, {\\\"y\\\": 285000.0, \\\"x\\\": 1440.0}, {\\\"y\\\": 310000.0, \\\"x\\\": 2070.0}, {\\\"y\\\": 475000.0, \\\"x\\\": 2240.0}, {\\\"y\\\": 410000.0, \\\"x\\\": 3320.0}, {\\\"y\\\": 895000.0, \\\"x\\\": 1950.0}, {\\\"y\\\": 375000.0, \\\"x\\\": 1240.0}, {\\\"y\\\": 349000.0, \\\"x\\\": 1830.0}, {\\\"y\\\": 650500.0, \\\"x\\\": 1740.0}, {\\\"y\\\": 760000.0, \\\"x\\\": 1410.0}, {\\\"y\\\": 480000.0, \\\"x\\\": 2050.0}, {\\\"y\\\": 689000.0, \\\"x\\\": 3220.0}, {\\\"y\\\": 415000.0, \\\"x\\\": 1960.0}, {\\\"y\\\": 195000.0, \\\"x\\\": 1070.0}, {\\\"y\\\": 318000.0, \\\"x\\\": 2820.0}, {\\\"y\\\": 404000.0, \\\"x\\\": 4060.0}, {\\\"y\\\": 339950.0, \\\"x\\\": 800.0}, {\\\"y\\\": 215000.0, \\\"x\\\": 1260.0}, {\\\"y\\\": 339900.0, \\\"x\\\": 2420.0}, {\\\"y\\\": 285000.0, \\\"x\\\": 810.0}, {\\\"y\\\": 550000.0, \\\"x\\\": 1600.0}, {\\\"y\\\": 430000.0, \\\"x\\\": 1350.0}, {\\\"y\\\": 219000.0, \\\"x\\\": 970.0}, {\\\"y\\\": 555000.0, \\\"x\\\": 1780.0}, {\\\"y\\\": 233000.0, \\\"x\\\": 1350.0}, {\\\"y\\\": 248000.0, \\\"x\\\": 1840.0}, {\\\"y\\\": 454000.0, \\\"x\\\": 2550.0}, {\\\"y\\\": 950000.0, \\\"x\\\": 1700.0}, {\\\"y\\\": 359000.0, \\\"x\\\": 2430.0}, {\\\"y\\\": 407500.0, \\\"x\\\": 2740.0}, {\\\"y\\\": 224000.0, \\\"x\\\": 1560.0}, {\\\"y\\\": 210000.0, \\\"x\\\": 1040.0}, {\\\"y\\\": 261000.0, \\\"x\\\": 1820.0}, {\\\"y\\\": 719000.0, \\\"x\\\": 1833.0}, {\\\"y\\\": 440000.0, \\\"x\\\": 2160.0}, {\\\"y\\\": 525000.0, \\\"x\\\": 2100.0}, {\\\"y\\\": 375000.0, \\\"x\\\": 1370.0}, {\\\"y\\\": 428000.0, \\\"x\\\": 1414.0}, {\\\"y\\\": 988830.0, \\\"x\\\": 4115.0}, {\\\"y\\\": 199950.0, \\\"x\\\": 1550.0}, {\\\"y\\\": 840000.0, \\\"x\\\": 2100.0}, {\\\"y\\\": 285000.0, \\\"x\\\": 1160.0}, {\\\"y\\\": 330000.0, \\\"x\\\": 3597.0}, {\\\"y\\\": 147500.0, \\\"x\\\": 1230.0}, {\\\"y\\\": 320000.0, \\\"x\\\": 2190.0}, {\\\"y\\\": 382500.0, \\\"x\\\": 1040.0}, {\\\"y\\\": 2048000.0, \\\"x\\\": 4690.0}, {\\\"y\\\": 596000.0, \\\"x\\\": 2270.0}, {\\\"y\\\": 220000.0, \\\"x\\\": 1950.0}, {\\\"y\\\": 325000.0, \\\"x\\\": 1880.0}, {\\\"y\\\": 679950.0, \\\"x\\\": 2850.0}, {\\\"y\\\": 175000.0, \\\"x\\\": 1160.0}, {\\\"y\\\": 268000.0, \\\"x\\\": 1370.0}, {\\\"y\\\": 715000.0, \\\"x\\\": 3260.0}, {\\\"y\\\": 600000.0, \\\"x\\\": 3170.0}, {\\\"y\\\": 228000.0, \\\"x\\\": 390.0}, {\\\"y\\\": 950000.0, \\\"x\\\": 3450.0}, {\\\"y\\\": 475000.0, \\\"x\\\": 1490.0}, {\\\"y\\\": 700000.0, \\\"x\\\": 1460.0}, {\\\"y\\\": 275000.0, \\\"x\\\": 1300.0}, {\\\"y\\\": 369500.0, \\\"x\\\": 1300.0}, {\\\"y\\\": 215000.0, \\\"x\\\": 1540.0}, {\\\"y\\\": 593450.0, \\\"x\\\": 2130.0}, {\\\"y\\\": 498800.0, \\\"x\\\": 1350.0}, {\\\"y\\\": 849000.0, \\\"x\\\": 2450.0}, {\\\"y\\\": 1151250.0, \\\"x\\\": 1940.0}, {\\\"y\\\": 825000.0, \\\"x\\\": 2890.0}, {\\\"y\\\": 265000.0, \\\"x\\\": 1680.0}, {\\\"y\\\": 285000.0, \\\"x\\\": 1960.0}, {\\\"y\\\": 240000.0, \\\"x\\\": 1590.0}, {\\\"y\\\": 261000.0, \\\"x\\\": 1390.0}, {\\\"y\\\": 330000.0, \\\"x\\\": 2440.0}, {\\\"y\\\": 250000.0, \\\"x\\\": 1850.0}, {\\\"y\\\": 350000.0, \\\"x\\\": 2800.0}, {\\\"y\\\": 930000.0, \\\"x\\\": 3780.0}, {\\\"y\\\": 275000.0, \\\"x\\\": 1910.0}, {\\\"y\\\": 325000.0, \\\"x\\\": 2460.0}, {\\\"y\\\": 255000.0, \\\"x\\\": 810.0}, {\\\"y\\\": 562200.0, \\\"x\\\": 1900.0}, {\\\"y\\\": 952000.0, \\\"x\\\": 3490.0}, {\\\"y\\\": 365000.0, \\\"x\\\": 2200.0}, {\\\"y\\\": 332900.0, \\\"x\\\": 1190.0}, {\\\"y\\\": 721000.0, \\\"x\\\": 2040.0}, {\\\"y\\\": 487275.0, \\\"x\\\": 2400.0}, {\\\"y\\\": 310000.0, \\\"x\\\": 1670.0}, {\\\"y\\\": 245000.0, \\\"x\\\": 990.0}, {\\\"y\\\": 325000.0, \\\"x\\\": 2920.0}, {\\\"y\\\": 550000.0, \\\"x\\\": 1840.0}, {\\\"y\\\": 350000.0, \\\"x\\\": 910.0}, {\\\"y\\\": 599000.0, \\\"x\\\": 2950.0}, {\\\"y\\\": 259950.0, \\\"x\\\": 1240.0}, {\\\"y\\\": 240000.0, \\\"x\\\": 1980.0}, {\\\"y\\\": 186000.0, \\\"x\\\": 1200.0}, {\\\"y\\\": 395000.0, \\\"x\\\": 1280.0}, {\\\"y\\\": 475000.0, \\\"x\\\": 3150.0}, {\\\"y\\\": 815000.0, \\\"x\\\": 3500.0}, {\\\"y\\\": 572000.0, \\\"x\\\": 1680.0}, {\\\"y\\\": 419500.0, \\\"x\\\": 1360.0}, {\\\"y\\\": 298700.0, \\\"x\\\": 2110.0}, {\\\"y\\\": 549000.0, \\\"x\\\": 2034.0}, {\\\"y\\\": 278000.0, \\\"x\\\": 1900.0}, {\\\"y\\\": 455000.0, \\\"x\\\": 2380.0}, {\\\"y\\\": 925000.0, \\\"x\\\": 4050.0}, {\\\"y\\\": 465000.0, \\\"x\\\": 1120.0}, {\\\"y\\\": 620000.0, \\\"x\\\": 2850.0}, {\\\"y\\\": 499900.0, \\\"x\\\": 2360.0}, {\\\"y\\\": 620000.0, \\\"x\\\": 2540.0}, {\\\"y\\\": 450000.0, \\\"x\\\": 1160.0}, {\\\"y\\\": 690000.0, \\\"x\\\": 2710.0}, {\\\"y\\\": 1895000.0, \\\"x\\\": 3120.0}, {\\\"y\\\": 1939999.0, \\\"x\\\": 3120.0}, {\\\"y\\\": 832500.0, \\\"x\\\": 1870.0}, {\\\"y\\\": 245000.0, \\\"x\\\": 1010.0}, {\\\"y\\\": 820000.0, \\\"x\\\": 2980.0}, {\\\"y\\\": 369000.0, \\\"x\\\": 2420.0}, {\\\"y\\\": 1050000.0, \\\"x\\\": 3830.0}, {\\\"y\\\": 653000.0, \\\"x\\\": 3040.0}, {\\\"y\\\": 220650.0, \\\"x\\\": 1460.0}, {\\\"y\\\": 300000.0, \\\"x\\\": 1940.0}, {\\\"y\\\": 970000.0, \\\"x\\\": 3780.0}, {\\\"y\\\": 360000.0, \\\"x\\\": 1950.0}, {\\\"y\\\": 672500.0, \\\"x\\\": 2450.0}, {\\\"y\\\": 268000.0, \\\"x\\\": 1730.0}, {\\\"y\\\": 440000.0, \\\"x\\\": 1690.0}, {\\\"y\\\": 1400000.0, \\\"x\\\": 2550.0}, {\\\"y\\\": 590000.0, \\\"x\\\": 2290.0}, {\\\"y\\\": 359000.0, \\\"x\\\": 2710.0}, {\\\"y\\\": 266500.0, \\\"x\\\": 1880.0}, {\\\"y\\\": 635000.0, \\\"x\\\": 2930.0}, {\\\"y\\\": 559000.0, \\\"x\\\": 3110.0}, {\\\"y\\\": 895000.0, \\\"x\\\": 3480.0}, {\\\"y\\\": 625000.0, \\\"x\\\": 1110.0}, {\\\"y\\\": 650000.0, \\\"x\\\": 2440.0}, {\\\"y\\\": 312500.0, \\\"x\\\": 2280.0}, {\\\"y\\\": 225000.0, \\\"x\\\": 900.0}, {\\\"y\\\": 425000.0, \\\"x\\\": 1980.0}, {\\\"y\\\": 329999.0, \\\"x\\\": 3360.0}, {\\\"y\\\": 572000.0, \\\"x\\\": 2340.0}, {\\\"y\\\": 386500.0, \\\"x\\\": 3110.0}, {\\\"y\\\": 452000.0, \\\"x\\\": 980.0}, {\\\"y\\\": 278000.0, \\\"x\\\": 1480.0}, {\\\"y\\\": 474900.0, \\\"x\\\": 1800.0}, {\\\"y\\\": 450000.0, \\\"x\\\": 2130.0}, {\\\"y\\\": 611000.0, \\\"x\\\": 1270.0}, {\\\"y\\\": 214100.0, \\\"x\\\": 1150.0}, {\\\"y\\\": 317000.0, \\\"x\\\": 1840.0}, {\\\"y\\\": 1000000.0, \\\"x\\\": 3180.0}, {\\\"y\\\": 1000000.0, \\\"x\\\": 1510.0}, {\\\"y\\\": 525000.0, \\\"x\\\": 3070.0}, {\\\"y\\\": 436000.0, \\\"x\\\": 1800.0}, {\\\"y\\\": 450000.0, \\\"x\\\": 1540.0}, {\\\"y\\\": 588500.0, \\\"x\\\": 2330.0}, {\\\"y\\\": 340000.0, \\\"x\\\": 1400.0}, {\\\"y\\\": 482000.0, \\\"x\\\": 2846.0}, {\\\"y\\\": 1575000.0, \\\"x\\\": 5830.0}, {\\\"y\\\": 749000.0, \\\"x\\\": 3380.0}, {\\\"y\\\": 330000.0, \\\"x\\\": 1440.0}, {\\\"y\\\": 568000.0, \\\"x\\\": 1740.0}, {\\\"y\\\": 239000.0, \\\"x\\\": 1470.0}, {\\\"y\\\": 528000.0, \\\"x\\\": 2810.0}, {\\\"y\\\": 385000.0, \\\"x\\\": 2090.0}, {\\\"y\\\": 825000.0, \\\"x\\\": 4110.0}, {\\\"y\\\": 815000.0, \\\"x\\\": 3230.0}, {\\\"y\\\": 625000.0, \\\"x\\\": 2601.0}, {\\\"y\\\": 690000.0, \\\"x\\\": 2070.0}, {\\\"y\\\": 210000.0, \\\"x\\\": 1660.0}, {\\\"y\\\": 599000.0, \\\"x\\\": 1590.0}, {\\\"y\\\": 860000.0, \\\"x\\\": 1860.0}, {\\\"y\\\": 147200.0, \\\"x\\\": 1420.0}, {\\\"y\\\": 476900.0, \\\"x\\\": 1240.0}, {\\\"y\\\": 450000.0, \\\"x\\\": 2500.0}, {\\\"y\\\": 570000.0, \\\"x\\\": 2640.0}, {\\\"y\\\": 567500.0, \\\"x\\\": 1440.0}, {\\\"y\\\": 790000.0, \\\"x\\\": 3030.0}, {\\\"y\\\": 875000.0, \\\"x\\\": 1820.0}, {\\\"y\\\": 490000.0, \\\"x\\\": 2220.0}, {\\\"y\\\": 335000.0, \\\"x\\\": 2430.0}, {\\\"y\\\": 550000.0, \\\"x\\\": 1670.0}, {\\\"y\\\": 385000.0, \\\"x\\\": 1180.0}, {\\\"y\\\": 395000.0, \\\"x\\\": 1620.0}, {\\\"y\\\": 650000.0, \\\"x\\\": 1030.0}, {\\\"y\\\": 637000.0, \\\"x\\\": 2900.0}, {\\\"y\\\": 692500.0, \\\"x\\\": 3420.0}, {\\\"y\\\": 322400.0, \\\"x\\\": 1710.0}, {\\\"y\\\": 233500.0, \\\"x\\\": 1580.0}, {\\\"y\\\": 400000.0, \\\"x\\\": 1230.0}, {\\\"y\\\": 547000.0, \\\"x\\\": 2200.0}]}], \\\"axes\\\": [{\\\"orient\\\": \\\"bottom\\\", \\\"zindex\\\": 1, \\\"scale\\\": \\\"x\\\", \\\"labelOverlap\\\": true, \\\"tickCount\\\": {\\\"signal\\\": \\\"ceil(width/40)\\\"}, \\\"title\\\": \\\"X\\\"}, {\\\"labels\\\": false, \\\"maxExtent\\\": 0, \\\"orient\\\": \\\"bottom\\\", \\\"domain\\\": false, \\\"zindex\\\": 0, \\\"scale\\\": \\\"x\\\", \\\"minExtent\\\": 0, \\\"tickCount\\\": {\\\"signal\\\": \\\"ceil(width/40)\\\"}, \\\"gridScale\\\": \\\"y\\\", \\\"grid\\\": true, \\\"ticks\\\": false}, {\\\"orient\\\": \\\"left\\\", \\\"zindex\\\": 1, \\\"scale\\\": \\\"y\\\", \\\"labelOverlap\\\": true, \\\"tickCount\\\": {\\\"signal\\\": \\\"ceil(height/40)\\\"}, \\\"title\\\": \\\"Y\\\"}, {\\\"labels\\\": false, \\\"maxExtent\\\": 0, \\\"orient\\\": \\\"left\\\", \\\"domain\\\": false, \\\"zindex\\\": 0, \\\"scale\\\": \\\"y\\\", \\\"minExtent\\\": 0, \\\"tickCount\\\": {\\\"signal\\\": \\\"ceil(height/40)\\\"}, \\\"gridScale\\\": \\\"x\\\", \\\"grid\\\": true, \\\"ticks\\\": false}], \\\"width\\\": 720, \\\"padding\\\": 8, \\\"height\\\": 550, \\\"scales\\\": [{\\\"nice\\\": true, \\\"name\\\": \\\"x\\\", \\\"domain\\\": {\\\"field\\\": \\\"x\\\", \\\"data\\\": \\\"source_2\\\"}, \\\"type\\\": \\\"linear\\\", \\\"zero\\\": false, \\\"padding\\\": 5, \\\"range\\\": [0, {\\\"signal\\\": \\\"width\\\"}]}, {\\\"nice\\\": true, \\\"name\\\": \\\"y\\\", \\\"domain\\\": {\\\"field\\\": \\\"y\\\", \\\"data\\\": \\\"source_2\\\"}, \\\"type\\\": \\\"linear\\\", \\\"zero\\\": false, \\\"padding\\\": 5, \\\"range\\\": [{\\\"signal\\\": \\\"height\\\"}, 0]}], \\\"autosize\\\": {\\\"resize\\\": false, \\\"contains\\\": \\\"padding\\\", \\\"type\\\": \\\"fit\\\"}, \\\"title\\\": \\\"X vs. Y\\\", \\\"style\\\": \\\"cell\\\"}\";                                 var vega_json_parsed = JSON.parse(vega_json);                                 var toolTipOpts = {                                     showAllFields: true                                 };                                 if(vega_json_parsed[\"metadata\"] != null){                                     if(vega_json_parsed[\"metadata\"][\"bubbleOpts\"] != null){                                         toolTipOpts = vega_json_parsed[\"metadata\"][\"bubbleOpts\"];                                     };                                 };                                 vegaEmbed(\"#vis\", vega_json_parsed).then(function (result) {                                     vegaTooltip.vega(result.view, toolTipOpts);                                  });                             </script>                         </body>                     </html>' src=\"demo_iframe_srcdoc.htm\">                         <p>Your browser does not support iframes.</p>                     </iframe>                 </body>             </html>"
      ],
      "text/plain": [
       "<IPython.core.display.HTML object>"
      ]
     },
     "metadata": {},
     "output_type": "display_data"
    }
   ],
   "source": [
    "#turicreate.show(sales[1:5000]['sqft_living'],sales[1:5000]['price'])"
   ]
  },
  {
   "cell_type": "markdown",
   "metadata": {},
   "source": [
    "# Simple regression model that predicts price from square feet"
   ]
  },
  {
   "cell_type": "code",
   "execution_count": 6,
   "metadata": {},
   "outputs": [],
   "source": [
    "training_set, test_set = sales.random_split(.8,seed=0)"
   ]
  },
  {
   "cell_type": "markdown",
   "metadata": {},
   "source": [
    "## train simple regression model"
   ]
  },
  {
   "cell_type": "code",
   "execution_count": 7,
   "metadata": {},
   "outputs": [
    {
     "name": "stdout",
     "output_type": "stream",
     "text": [
      "PROGRESS: Creating a validation set from 5 percent of training data. This may take a while.\n",
      "          You can set ``validation_set=None`` to disable validation tracking.\n",
      "\n"
     ]
    },
    {
     "data": {
      "text/html": [
       "<pre>Linear regression:</pre>"
      ],
      "text/plain": [
       "Linear regression:"
      ]
     },
     "metadata": {},
     "output_type": "display_data"
    },
    {
     "data": {
      "text/html": [
       "<pre>--------------------------------------------------------</pre>"
      ],
      "text/plain": [
       "--------------------------------------------------------"
      ]
     },
     "metadata": {},
     "output_type": "display_data"
    },
    {
     "data": {
      "text/html": [
       "<pre>Number of examples          : 16514</pre>"
      ],
      "text/plain": [
       "Number of examples          : 16514"
      ]
     },
     "metadata": {},
     "output_type": "display_data"
    },
    {
     "data": {
      "text/html": [
       "<pre>Number of features          : 1</pre>"
      ],
      "text/plain": [
       "Number of features          : 1"
      ]
     },
     "metadata": {},
     "output_type": "display_data"
    },
    {
     "data": {
      "text/html": [
       "<pre>Number of unpacked features : 1</pre>"
      ],
      "text/plain": [
       "Number of unpacked features : 1"
      ]
     },
     "metadata": {},
     "output_type": "display_data"
    },
    {
     "data": {
      "text/html": [
       "<pre>Number of coefficients    : 2</pre>"
      ],
      "text/plain": [
       "Number of coefficients    : 2"
      ]
     },
     "metadata": {},
     "output_type": "display_data"
    },
    {
     "data": {
      "text/html": [
       "<pre>Starting Newton Method</pre>"
      ],
      "text/plain": [
       "Starting Newton Method"
      ]
     },
     "metadata": {},
     "output_type": "display_data"
    },
    {
     "data": {
      "text/html": [
       "<pre>--------------------------------------------------------</pre>"
      ],
      "text/plain": [
       "--------------------------------------------------------"
      ]
     },
     "metadata": {},
     "output_type": "display_data"
    },
    {
     "data": {
      "text/html": [
       "<pre>+-----------+----------+--------------+--------------------+----------------------+---------------------------------+-----------------------------------+</pre>"
      ],
      "text/plain": [
       "+-----------+----------+--------------+--------------------+----------------------+---------------------------------+-----------------------------------+"
      ]
     },
     "metadata": {},
     "output_type": "display_data"
    },
    {
     "data": {
      "text/html": [
       "<pre>| Iteration | Passes   | Elapsed Time | Training Max Error | Validation Max Error | Training Root-Mean-Square Error | Validation Root-Mean-Square Error |</pre>"
      ],
      "text/plain": [
       "| Iteration | Passes   | Elapsed Time | Training Max Error | Validation Max Error | Training Root-Mean-Square Error | Validation Root-Mean-Square Error |"
      ]
     },
     "metadata": {},
     "output_type": "display_data"
    },
    {
     "data": {
      "text/html": [
       "<pre>+-----------+----------+--------------+--------------------+----------------------+---------------------------------+-----------------------------------+</pre>"
      ],
      "text/plain": [
       "+-----------+----------+--------------+--------------------+----------------------+---------------------------------+-----------------------------------+"
      ]
     },
     "metadata": {},
     "output_type": "display_data"
    },
    {
     "data": {
      "text/html": [
       "<pre>| 1         | 2        | 1.011769     | 4332453.679356     | 1956569.829730       | 263884.839475                   | 244507.521152                     |</pre>"
      ],
      "text/plain": [
       "| 1         | 2        | 1.011769     | 4332453.679356     | 1956569.829730       | 263884.839475                   | 244507.521152                     |"
      ]
     },
     "metadata": {},
     "output_type": "display_data"
    },
    {
     "data": {
      "text/html": [
       "<pre>+-----------+----------+--------------+--------------------+----------------------+---------------------------------+-----------------------------------+</pre>"
      ],
      "text/plain": [
       "+-----------+----------+--------------+--------------------+----------------------+---------------------------------+-----------------------------------+"
      ]
     },
     "metadata": {},
     "output_type": "display_data"
    },
    {
     "data": {
      "text/html": [
       "<pre>SUCCESS: Optimal solution found.</pre>"
      ],
      "text/plain": [
       "SUCCESS: Optimal solution found."
      ]
     },
     "metadata": {},
     "output_type": "display_data"
    },
    {
     "data": {
      "text/html": [
       "<pre></pre>"
      ],
      "text/plain": []
     },
     "metadata": {},
     "output_type": "display_data"
    }
   ],
   "source": [
    "sqft_model = turicreate.linear_regression.create(training_set,target='price',features=['sqft_living'])"
   ]
  },
  {
   "cell_type": "markdown",
   "metadata": {},
   "source": [
    "# Evaluate the quality of our model"
   ]
  },
  {
   "cell_type": "code",
   "execution_count": 8,
   "metadata": {},
   "outputs": [
    {
     "name": "stdout",
     "output_type": "stream",
     "text": [
      "543054.042563254\n"
     ]
    }
   ],
   "source": [
    "print (test_set['price'].mean())"
   ]
  },
  {
   "cell_type": "code",
   "execution_count": 9,
   "metadata": {},
   "outputs": [
    {
     "name": "stdout",
     "output_type": "stream",
     "text": [
      "{'rmse': 255221.8099076499, 'max_error': 4130015.880265085}\n"
     ]
    }
   ],
   "source": [
    "print (sqft_model.evaluate(test_set))"
   ]
  },
  {
   "cell_type": "markdown",
   "metadata": {},
   "source": [
    "# Explore model a little further"
   ]
  },
  {
   "cell_type": "code",
   "execution_count": 10,
   "metadata": {},
   "outputs": [
    {
     "data": {
      "text/html": [
       "<div style=\"max-height:1000px;max-width:1500px;overflow:auto;\"><table frame=\"box\" rules=\"cols\">\n",
       "    <tr>\n",
       "        <th style=\"padding-left: 1em; padding-right: 1em; text-align: center\">name</th>\n",
       "        <th style=\"padding-left: 1em; padding-right: 1em; text-align: center\">index</th>\n",
       "        <th style=\"padding-left: 1em; padding-right: 1em; text-align: center\">value</th>\n",
       "        <th style=\"padding-left: 1em; padding-right: 1em; text-align: center\">stderr</th>\n",
       "    </tr>\n",
       "    <tr>\n",
       "        <td style=\"padding-left: 1em; padding-right: 1em; text-align: center; vertical-align: top\">(intercept)</td>\n",
       "        <td style=\"padding-left: 1em; padding-right: 1em; text-align: center; vertical-align: top\">None</td>\n",
       "        <td style=\"padding-left: 1em; padding-right: 1em; text-align: center; vertical-align: top\">-49756.698315632646</td>\n",
       "        <td style=\"padding-left: 1em; padding-right: 1em; text-align: center; vertical-align: top\">5063.333250257462</td>\n",
       "    </tr>\n",
       "    <tr>\n",
       "        <td style=\"padding-left: 1em; padding-right: 1em; text-align: center; vertical-align: top\">sqft_living</td>\n",
       "        <td style=\"padding-left: 1em; padding-right: 1em; text-align: center; vertical-align: top\">None</td>\n",
       "        <td style=\"padding-left: 1em; padding-right: 1em; text-align: center; vertical-align: top\">283.5936115319057</td>\n",
       "        <td style=\"padding-left: 1em; padding-right: 1em; text-align: center; vertical-align: top\">2.2260063204132514</td>\n",
       "    </tr>\n",
       "</table>\n",
       "[2 rows x 4 columns]<br/>\n",
       "</div>"
      ],
      "text/plain": [
       "Columns:\n",
       "\tname\tstr\n",
       "\tindex\tstr\n",
       "\tvalue\tfloat\n",
       "\tstderr\tfloat\n",
       "\n",
       "Rows: 2\n",
       "\n",
       "Data:\n",
       "+-------------+-------+---------------------+--------------------+\n",
       "|     name    | index |        value        |       stderr       |\n",
       "+-------------+-------+---------------------+--------------------+\n",
       "| (intercept) |  None | -49756.698315632646 | 5063.333250257462  |\n",
       "| sqft_living |  None |  283.5936115319057  | 2.2260063204132514 |\n",
       "+-------------+-------+---------------------+--------------------+\n",
       "[2 rows x 4 columns]"
      ]
     },
     "execution_count": 10,
     "metadata": {},
     "output_type": "execute_result"
    }
   ],
   "source": [
    "sqft_model.coefficients"
   ]
  },
  {
   "cell_type": "code",
   "execution_count": 11,
   "metadata": {},
   "outputs": [
    {
     "data": {
      "text/plain": [
       "[<matplotlib.lines.Line2D at 0x7f1ab4234b00>,\n",
       " <matplotlib.lines.Line2D at 0x7f1ab4234d30>]"
      ]
     },
     "execution_count": 11,
     "metadata": {},
     "output_type": "execute_result"
    },
    {
     "data": {
      "image/png": "[encoded data removed]",
      "text/plain": [
       "<Figure size 432x288 with 1 Axes>"
      ]
     },
     "metadata": {},
     "output_type": "display_data"
    }
   ],
   "source": [
    "import matplotlib.pyplot as plt\n",
    "%matplotlib inline\n",
    "plt.plot(test_set['sqft_living'],test_set['price'],'.',\n",
    "        test_set['sqft_living'],sqft_model.predict(test_set),'-')"
   ]
  },
  {
   "cell_type": "markdown",
   "metadata": {},
   "source": [
    "# Explore other features of the data"
   ]
  },
  {
   "cell_type": "code",
   "execution_count": 12,
   "metadata": {},
   "outputs": [],
   "source": [
    "my_features = ['bedrooms','bathrooms','sqft_living','sqft_lot','floors','zipcode']"
   ]
  },
  {
   "cell_type": "code",
   "execution_count": 13,
   "metadata": {},
   "outputs": [],
   "source": [
    "#sales[my_features].show()"
   ]
  },
  {
   "cell_type": "code",
   "execution_count": 14,
   "metadata": {},
   "outputs": [
    {
     "data": {
      "text/html": [
       "<pre>Materializing X axis SArray</pre>"
      ],
      "text/plain": [
       "Materializing X axis SArray"
      ]
     },
     "metadata": {},
     "output_type": "display_data"
    },
    {
     "data": {
      "text/html": [
       "<pre>Materializing Y axis SArray</pre>"
      ],
      "text/plain": [
       "Materializing Y axis SArray"
      ]
     },
     "metadata": {},
     "output_type": "display_data"
    },
    {
     "data": {
      "text/html": [
       "<html>                 <body>                     <iframe style=\"border:0;margin:0\" width=\"800\" height=\"770\" srcdoc='<html lang=\"en\">                         <head>                             <script src=\"https://cdnjs.cloudflare.com/ajax/libs/vega/5.4.0/vega.js\"></script>                             <script src=\"https://cdnjs.cloudflare.com/ajax/libs/vega-embed/4.0.0/vega-embed.js\"></script>                             <script src=\"https://cdnjs.cloudflare.com/ajax/libs/vega-tooltip/0.5.1/vega-tooltip.min.js\"></script>                             <link rel=\"stylesheet\" type=\"text/css\" href=\"https://cdnjs.cloudflare.com/ajax/libs/vega-tooltip/0.5.1/vega-tooltip.min.css\">                             <style>                             .vega-actions > a{                                 color:white;                                 text-decoration: none;                                 font-family: \"Arial\";                                 cursor:pointer;                                 padding:5px;                                 background:#AAAAAA;                                 border-radius:4px;                                 padding-left:10px;                                 padding-right:10px;                                 margin-right:5px;                             }                             .vega-actions{                                 margin-top:20px;                                 text-align:center                             }                            .vega-actions > a{                                 background:#999999;                            }                             </style>                         </head>                         <body>                             <div id=\"vis\">                             </div>                             <script>                                 var vega_json = \"{\\\"$schema\\\": \\\"https://vega.github.io/schema/vega/v4.json\\\", \\\"marks\\\": [{\\\"from\\\": {\\\"data\\\": \\\"source_2\\\"}, \\\"name\\\": \\\"layer_0_marks\\\", \\\"encode\\\": {\\\"update\\\": {\\\"stroke\\\": {\\\"value\\\": \\\"black\\\"}, \\\"y\\\": {\\\"scale\\\": \\\"y\\\", \\\"field\\\": \\\"min\\\"}, \\\"y2\\\": {\\\"scale\\\": \\\"y\\\", \\\"field\\\": \\\"lower quartile\\\"}, \\\"x\\\": {\\\"scale\\\": \\\"x\\\", \\\"field\\\": \\\"x\\\", \\\"band\\\": 0.5}}}, \\\"type\\\": \\\"rule\\\", \\\"style\\\": [\\\"boxWhisker\\\"]}, {\\\"from\\\": {\\\"data\\\": \\\"source_2\\\"}, \\\"name\\\": \\\"layer_1_marks\\\", \\\"encode\\\": {\\\"update\\\": {\\\"stroke\\\": {\\\"value\\\": \\\"black\\\"}, \\\"y\\\": {\\\"scale\\\": \\\"y\\\", \\\"field\\\": \\\"upper quartile\\\"}, \\\"y2\\\": {\\\"scale\\\": \\\"y\\\", \\\"field\\\": \\\"max\\\"}, \\\"x\\\": {\\\"scale\\\": \\\"x\\\", \\\"field\\\": \\\"x\\\", \\\"band\\\": 0.5}}}, \\\"type\\\": \\\"rule\\\", \\\"style\\\": [\\\"boxWhisker\\\"]}, {\\\"from\\\": {\\\"data\\\": \\\"source_2\\\"}, \\\"name\\\": \\\"layer_2_marks\\\", \\\"encode\\\": {\\\"update\\\": {\\\"fill\\\": {\\\"value\\\": \\\"#108EE9\\\"}, \\\"y\\\": {\\\"scale\\\": \\\"y\\\", \\\"field\\\": \\\"lower quartile\\\"}, \\\"y2\\\": {\\\"scale\\\": \\\"y\\\", \\\"field\\\": \\\"upper quartile\\\"}, \\\"xc\\\": {\\\"scale\\\": \\\"x\\\", \\\"field\\\": \\\"x\\\", \\\"band\\\": 0.5}, \\\"width\\\": {\\\"value\\\": 20}}, \\\"hover\\\": {\\\"fill\\\": {\\\"value\\\": \\\"#7EC2F3\\\"}}}, \\\"type\\\": \\\"rect\\\", \\\"style\\\": [\\\"box\\\"]}, {\\\"from\\\": {\\\"data\\\": \\\"source_2\\\"}, \\\"name\\\": \\\"layer_3_marks\\\", \\\"encode\\\": {\\\"update\\\": {\\\"fill\\\": {\\\"value\\\": \\\"black\\\"}, \\\"xc\\\": {\\\"scale\\\": \\\"x\\\", \\\"field\\\": \\\"x\\\", \\\"band\\\": 0.5}, \\\"yc\\\": {\\\"scale\\\": \\\"y\\\", \\\"field\\\": \\\"median\\\"}, \\\"height\\\": {\\\"value\\\": 1}, \\\"opacity\\\": {\\\"value\\\": 0.7}, \\\"width\\\": {\\\"value\\\": 20}}}, \\\"type\\\": \\\"rect\\\", \\\"style\\\": [\\\"boxMid\\\"]}], \\\"metadata\\\": {\\\"bubbleOpts\\\": {\\\"showAllFields\\\": false, \\\"fields\\\": [{\\\"field\\\": \\\"x\\\"}, {\\\"field\\\": \\\"min\\\"}, {\\\"field\\\": \\\"lower quartile\\\"}, {\\\"field\\\": \\\"median\\\"}, {\\\"field\\\": \\\"upper quartile\\\"}, {\\\"field\\\": \\\"max\\\"}]}}, \\\"data\\\": [{\\\"values\\\": [{\\\"median\\\": 678700, \\\"min\\\": 130000, \\\"lower quartile\\\": 535000, \\\"max\\\": 5110800.0, \\\"upper quartile\\\": 902000, \\\"x\\\": \\\"98033\\\"}, {\\\"median\\\": 450000, \\\"min\\\": 181000, \\\"lower quartile\\\": 374950, \\\"max\\\": 3600000.0, \\\"upper quartile\\\": 666000, \\\"x\\\": \\\"98144\\\"}, {\\\"median\\\": 739999, \\\"min\\\": 406430, \\\"lower quartile\\\": 641000, \\\"max\\\": 3200000.0, \\\"upper quartile\\\": 870000, \\\"x\\\": \\\"98075\\\"}, {\\\"median\\\": 642000, \\\"min\\\": 280000, \\\"lower quartile\\\": 532000, \\\"max\\\": 3075000.0, \\\"upper quartile\\\": 798000, \\\"x\\\": \\\"98074\\\"}, {\\\"median\\\": 994000, \\\"min\\\": 500000, \\\"lower quartile\\\": 821000, \\\"max\\\": 5300000.0, \\\"upper quartile\\\": 1387000.0, \\\"x\\\": \\\"98040\\\"}, {\\\"median\\\": 554000, \\\"min\\\": 245560, \\\"lower quartile\\\": 427000, \\\"max\\\": 3800000.0, \\\"upper quartile\\\": 749950, \\\"x\\\": \\\"98177\\\"}, {\\\"median\\\": 425000, \\\"min\\\": 175000, \\\"lower quartile\\\": 357250, \\\"max\\\": 2050000.0, \\\"upper quartile\\\": 518000, \\\"x\\\": \\\"98125\\\"}, {\\\"median\\\": 396500, \\\"min\\\": 110000, \\\"lower quartile\\\": 320000, \\\"max\\\": 1085000.0, \\\"upper quartile\\\": 485000, \\\"x\\\": \\\"98126\\\"}, {\\\"median\\\": 268450, \\\"min\\\": 86500, \\\"lower quartile\\\": 224097, \\\"max\\\": 1275000.0, \\\"upper quartile\\\": 316500, \\\"x\\\": \\\"98023\\\"}, {\\\"median\\\": 1150000.0, \\\"min\\\": 425000, \\\"lower quartile\\\": 845000, \\\"max\\\": 7062500.0, \\\"upper quartile\\\": 1691000.0, \\\"x\\\": \\\"98004\\\"}, {\\\"median\\\": 235000, \\\"min\\\": 95000, \\\"lower quartile\\\": 199950, \\\"max\\\": 389000, \\\"upper quartile\\\": 269000, \\\"x\\\": \\\"98002\\\"}, {\\\"median\\\": 567000, \\\"min\\\": 200000, \\\"lower quartile\\\": 455000, \\\"max\\\": 2300000.0, \\\"upper quartile\\\": 719000, \\\"x\\\": \\\"98115\\\"}, {\\\"median\\\": 307000, \\\"min\\\": 82000, \\\"lower quartile\\\": 229500, \\\"max\\\": 1410000.0, \\\"upper quartile\\\": 409000, \\\"x\\\": \\\"98146\\\"}, {\\\"median\\\": 402500, \\\"min\\\": 119500, \\\"lower quartile\\\": 330000, \\\"max\\\": 1015000.0, \\\"upper quartile\\\": 500000, \\\"x\\\": \\\"98019\\\"}, {\\\"median\\\": 689800, \\\"min\\\": 323000, \\\"lower quartile\\\": 535000, \\\"max\\\": 3200000.0, \\\"upper quartile\\\": 950000, \\\"x\\\": \\\"98199\\\"}, {\\\"median\\\": 749950, \\\"min\\\": 300523, \\\"lower quartile\\\": 600000, \\\"max\\\": 3065000.0, \\\"upper quartile\\\": 940000, \\\"x\\\": \\\"98119\\\"}, {\\\"median\\\": 435000, \\\"min\\\": 172500, \\\"lower quartile\\\": 340000, \\\"max\\\": 1780000.0, \\\"upper quartile\\\": 552500, \\\"x\\\": \\\"98059\\\"}, {\\\"median\\\": 279000, \\\"min\\\": 90000, \\\"lower quartile\\\": 223000, \\\"max\\\": 1700000.0, \\\"upper quartile\\\": 350000, \\\"x\\\": \\\"98178\\\"}, {\\\"median\\\": 555000, \\\"min\\\": 295000, \\\"lower quartile\\\": 465000, \\\"max\\\": 1315000.0, \\\"upper quartile\\\": 730000, \\\"x\\\": \\\"98007\\\"}, {\\\"median\\\": 529950, \\\"min\\\": 290000, \\\"lower quartile\\\": 470000, \\\"max\\\": 2945000.0, \\\"upper quartile\\\": 630000, \\\"x\\\": \\\"98107\\\"}, {\\\"median\\\": 736000, \\\"min\\\": 216650, \\\"lower quartile\\\": 620000, \\\"max\\\": 3200000.0, \\\"upper quartile\\\": 1000000.0, \\\"x\\\": \\\"98109\\\"}, {\\\"median\\\": 282510, \\\"min\\\": 120000, \\\"lower quartile\\\": 249950, \\\"max\\\": 565000, \\\"upper quartile\\\": 339950, \\\"x\\\": \\\"98030\\\"}, {\\\"median\\\": 280000, \\\"min\\\": 75000, \\\"lower quartile\\\": 235000, \\\"max\\\": 858000, \\\"upper quartile\\\": 350000, \\\"x\\\": \\\"98022\\\"}, {\\\"median\\\": 375000, \\\"min\\\": 153000, \\\"lower quartile\\\": 315000, \\\"max\\\": 4500000.0, \\\"upper quartile\\\": 460000, \\\"x\\\": \\\"98155\\\"}, {\\\"median\\\": 654950, \\\"min\\\": 250000, \\\"lower quartile\\\": 510000, \\\"max\\\": 1920000.0, \\\"upper quartile\\\": 835000, \\\"x\\\": \\\"98077\\\"}, {\\\"median\\\": 380000, \\\"min\\\": 139000, \\\"lower quartile\\\": 289000, \\\"max\\\": 3000000.0, \\\"upper quartile\\\": 510000, \\\"x\\\": \\\"98056\\\"}, {\\\"median\\\": 544000, \\\"min\\\": 125000, \\\"lower quartile\\\": 450000, \\\"max\\\": 1370000.0, \\\"upper quartile\\\": 657500, \\\"x\\\": \\\"98117\\\"}, {\\\"median\\\": 249000, \\\"min\\\": 85000, \\\"lower quartile\\\": 221700, \\\"max\\\": 545000, \\\"upper quartile\\\": 285000, \\\"x\\\": \\\"98032\\\"}, {\\\"median\\\": 360000, \\\"min\\\": 135000, \\\"lower quartile\\\": 257000, \\\"max\\\": 935000, \\\"upper quartile\\\": 600000, \\\"x\\\": \\\"98010\\\"}, {\\\"median\\\": 309780, \\\"min\\\": 90000, \\\"lower quartile\\\": 263950, \\\"max\\\": 930000, \\\"upper quartile\\\": 379500, \\\"x\\\": \\\"98092\\\"}, {\\\"median\\\": 278000, \\\"min\\\": 105500, \\\"lower quartile\\\": 240000, \\\"max\\\": 600600, \\\"upper quartile\\\": 319990, \\\"x\\\": \\\"98148\\\"}, {\\\"median\\\": 399500, \\\"min\\\": 175000, \\\"lower quartile\\\": 305000, \\\"max\\\": 1950000.0, \\\"upper quartile\\\": 495000, \\\"x\\\": \\\"98045\\\"}, {\\\"median\\\": 295000, \\\"min\\\": 100000, \\\"lower quartile\\\": 240000, \\\"max\\\": 631000, \\\"upper quartile\\\": 350000, \\\"x\\\": \\\"98055\\\"}, {\\\"median\\\": 760369, \\\"min\\\": 247500, \\\"lower quartile\\\": 575000, \\\"max\\\": 4208000.0, \\\"upper quartile\\\": 978000, \\\"x\\\": \\\"98006\\\"}, {\\\"median\\\": 260000, \\\"min\\\": 100000, \\\"lower quartile\\\": 215000, \\\"max\\\": 850000, \\\"upper quartile\\\": 320000, \\\"x\\\": \\\"98001\\\"}, {\\\"median\\\": 390000, \\\"min\\\": 100000, \\\"lower quartile\\\": 292000, \\\"max\\\": 2510000.0, \\\"upper quartile\\\": 540500, \\\"x\\\": \\\"98166\\\"}, {\\\"median\\\": 571000, \\\"min\\\": 130000, \\\"lower quartile\\\": 450000, \\\"max\\\": 2700000.0, \\\"upper quartile\\\": 716500, \\\"x\\\": \\\"98027\\\"}, {\\\"median\\\": 565500, \\\"min\\\": 130000, \\\"lower quartile\\\": 460000, \\\"max\\\": 2050000.0, \\\"upper quartile\\\": 703000, \\\"x\\\": \\\"98116\\\"}, {\\\"median\\\": 367500, \\\"min\\\": 109000, \\\"lower quartile\\\": 289000, \\\"max\\\": 2903000.0, \\\"upper quartile\\\": 476500, \\\"x\\\": \\\"98118\\\"}, {\\\"median\\\": 445950, \\\"min\\\": 90000, \\\"lower quartile\\\": 387000, \\\"max\\\": 3120000.0, \\\"upper quartile\\\": 525000, \\\"x\\\": \\\"98034\\\"}, {\\\"median\\\": 550000, \\\"min\\\": 238000, \\\"lower quartile\\\": 432000, \\\"max\\\": 1695000.0, \\\"upper quartile\\\": 695000, \\\"x\\\": \\\"98103\\\"}, {\\\"median\\\": 489950, \\\"min\\\": 200000, \\\"lower quartile\\\": 398000, \\\"max\\\": 2230000.0, \\\"upper quartile\\\": 660000, \\\"x\\\": \\\"98136\\\"}, {\\\"median\\\": 342000, \\\"min\\\": 110000, \\\"lower quartile\\\": 285000, \\\"max\\\": 1350000.0, \\\"upper quartile\\\": 410000, \\\"x\\\": \\\"98038\\\"}, {\\\"median\\\": 768500, \\\"min\\\": 400000, \\\"lower quartile\\\": 638700, \\\"max\\\": 1960000.0, \\\"upper quartile\\\": 915000, \\\"x\\\": \\\"98005\\\"}, {\\\"median\\\": 915000, \\\"min\\\": 169317, \\\"lower quartile\\\": 680000, \\\"max\\\": 3400000.0, \\\"upper quartile\\\": 1328000.0, \\\"x\\\": \\\"98112\\\"}, {\\\"median\\\": 445000, \\\"min\\\": 160000, \\\"lower quartile\\\": 379950, \\\"max\\\": 1600000.0, \\\"upper quartile\\\": 526750, \\\"x\\\": \\\"98028\\\"}, {\\\"median\\\": 615000, \\\"min\\\": 225000, \\\"lower quartile\\\": 509250, \\\"max\\\": 2200000.0, \\\"upper quartile\\\": 751000, \\\"x\\\": \\\"98052\\\"}, {\\\"median\\\": 415000, \\\"min\\\": 80000, \\\"lower quartile\\\": 309000, \\\"max\\\": 1680000.0, \\\"upper quartile\\\": 539000, \\\"x\\\": \\\"98014\\\"}, {\\\"median\\\": 288400, \\\"min\\\": 147500, \\\"lower quartile\\\": 252000, \\\"max\\\": 800000, \\\"upper quartile\\\": 327500, \\\"x\\\": \\\"98031\\\"}, {\\\"median\\\": 1905000.0, \\\"min\\\": 787500, \\\"lower quartile\\\": 1398000.0, \\\"max\\\": 6885000.0, \\\"upper quartile\\\": 2575000.0, \\\"x\\\": \\\"98039\\\"}, {\\\"median\\\": 470000, \\\"min\\\": 245500, \\\"lower quartile\\\": 411800, \\\"max\\\": 1075000.0, \\\"upper quartile\\\": 550000, \\\"x\\\": \\\"98011\\\"}, {\\\"median\\\": 574000, \\\"min\\\": 202000, \\\"lower quartile\\\": 450000, \\\"max\\\": 2050000.0, \\\"upper quartile\\\": 720000, \\\"x\\\": \\\"98122\\\"}, {\\\"median\\\": 465000, \\\"min\\\": 160000, \\\"lower quartile\\\": 340000, \\\"max\\\": 1379900.0, \\\"upper quartile\\\": 575000, \\\"x\\\": \\\"98070\\\"}, {\\\"median\\\": 292500, \\\"min\\\": 105000, \\\"lower quartile\\\": 240000, \\\"max\\\": 859000, \\\"upper quartile\\\": 359950, \\\"x\\\": \\\"98042\\\"}, {\\\"median\\\": 335000, \\\"min\\\": 95000, \\\"lower quartile\\\": 285000, \\\"max\\\": 1500000.0, \\\"upper quartile\\\": 392000, \\\"x\\\": \\\"98058\\\"}, {\\\"median\\\": 235000, \\\"min\\\": 78000, \\\"lower quartile\\\": 199950, \\\"max\\\": 600000, \\\"upper quartile\\\": 285000, \\\"x\\\": \\\"98168\\\"}, {\\\"median\\\": 375000, \\\"min\\\": 130000, \\\"lower quartile\\\": 318000, \\\"max\\\": 808100, \\\"upper quartile\\\": 435000, \\\"x\\\": \\\"98133\\\"}, {\\\"median\\\": 500000, \\\"min\\\": 170000, \\\"lower quartile\\\": 424950, \\\"max\\\": 1998000.0, \\\"upper quartile\\\": 619000, \\\"x\\\": \\\"98065\\\"}, {\\\"median\\\": 720000, \\\"min\\\": 330000, \\\"lower quartile\\\": 575000, \\\"max\\\": 7700000.0, \\\"upper quartile\\\": 979700, \\\"x\\\": \\\"98102\\\"}, {\\\"median\\\": 345000, \\\"min\\\": 90000, \\\"lower quartile\\\": 284000, \\\"max\\\": 640000, \\\"upper quartile\\\": 425000, \\\"x\\\": \\\"98108\\\"}, {\\\"median\\\": 575000, \\\"min\\\": 285000, \\\"lower quartile\\\": 485000, \\\"max\\\": 2200000.0, \\\"upper quartile\\\": 690000, \\\"x\\\": \\\"98029\\\"}, {\\\"median\\\": 515000, \\\"min\\\": 200000, \\\"lower quartile\\\": 422800, \\\"max\\\": 1565000.0, \\\"upper quartile\\\": 642860, \\\"x\\\": \\\"98072\\\"}, {\\\"median\\\": 267950, \\\"min\\\": 128000, \\\"lower quartile\\\": 229000, \\\"max\\\": 950000, \\\"upper quartile\\\": 333000, \\\"x\\\": \\\"98003\\\"}, {\\\"median\\\": 675000, \\\"min\\\": 380000, \\\"lower quartile\\\": 550000, \\\"max\\\": 3650000.0, \\\"upper quartile\\\": 1005000.0, \\\"x\\\": \\\"98105\\\"}, {\\\"median\\\": 545000, \\\"min\\\": 250000, \\\"lower quartile\\\": 465000, \\\"max\\\": 3567000.0, \\\"upper quartile\\\": 660000, \\\"x\\\": \\\"98008\\\"}, {\\\"median\\\": 265000, \\\"min\\\": 110000, \\\"lower quartile\\\": 230000, \\\"max\\\": 707000, \\\"upper quartile\\\": 335000, \\\"x\\\": \\\"98188\\\"}, {\\\"median\\\": 635000, \\\"min\\\": 170000, \\\"lower quartile\\\": 485000, \\\"max\\\": 2280000.0, \\\"upper quartile\\\": 790500, \\\"x\\\": \\\"98053\\\"}, {\\\"median\\\": 315000, \\\"min\\\": 90000, \\\"lower quartile\\\": 260000, \\\"max\\\": 795000, \\\"upper quartile\\\": 366000, \\\"x\\\": \\\"98106\\\"}, {\\\"median\\\": 265000, \\\"min\\\": 95000, \\\"lower quartile\\\": 216500, \\\"max\\\": 1350000.0, \\\"upper quartile\\\": 340000, \\\"x\\\": \\\"98198\\\"}, {\\\"median\\\": 460000, \\\"min\\\": 142000, \\\"lower quartile\\\": 340000, \\\"max\\\": 1862000.0, \\\"upper quartile\\\": 700000, \\\"x\\\": \\\"98024\\\"}], \\\"name\\\": \\\"source_2\\\", \\\"transform\\\": [{\\\"sort\\\": {\\\"field\\\": \\\"median\\\"}, \\\"type\\\": \\\"collect\\\"}]}], \\\"axes\\\": [{\\\"orient\\\": \\\"bottom\\\", \\\"zindex\\\": 1, \\\"scale\\\": \\\"x\\\", \\\"labelOverlap\\\": true, \\\"title\\\": \\\"X\\\", \\\"encode\\\": {\\\"labels\\\": {\\\"update\\\": {\\\"baseline\\\": {\\\"value\\\": \\\"middle\\\"}, \\\"align\\\": {\\\"value\\\": \\\"right\\\"}, \\\"angle\\\": {\\\"value\\\": 270}}}}}, {\\\"orient\\\": \\\"left\\\", \\\"zindex\\\": 1, \\\"scale\\\": \\\"y\\\", \\\"labelOverlap\\\": true, \\\"tickCount\\\": {\\\"signal\\\": \\\"ceil(height/40)\\\"}, \\\"title\\\": \\\"Y\\\"}, {\\\"labels\\\": false, \\\"maxExtent\\\": 0, \\\"orient\\\": \\\"left\\\", \\\"domain\\\": false, \\\"zindex\\\": 0, \\\"scale\\\": \\\"y\\\", \\\"minExtent\\\": 0, \\\"tickCount\\\": {\\\"signal\\\": \\\"ceil(height/40)\\\"}, \\\"gridScale\\\": \\\"x\\\", \\\"grid\\\": true, \\\"ticks\\\": false}], \\\"signals\\\": [{\\\"name\\\": \\\"x_step\\\", \\\"value\\\": 42}, {\\\"update\\\": \\\"max(720, 100 + bandspace(domain(&apos;x&apos;).length, 0.1, 0.1) * x_step)\\\", \\\"name\\\": \\\"width\\\"}], \\\"config\\\": {\\\"axisY\\\": {\\\"minExtent\\\": 30}, \\\"axis\\\": {\\\"titleFontWeight\\\": \\\"normal\\\", \\\"tickColor\\\": \\\"rgb(136,136,136)\\\", \\\"labelFont\\\": \\\"\\\\\\\"San Francisco\\\\\\\", HelveticaNeue, Arial\\\", \\\"titlePadding\\\": 20, \\\"labelPadding\\\": 10, \\\"labelColor\\\": \\\"rgba(0,0,0,0.847)\\\", \\\"titleFontSize\\\": 14, \\\"titleColor\\\": \\\"rgba(0,0,0,0.847)\\\", \\\"titleFont\\\": \\\"\\\\\\\"San Francisco\\\\\\\", HelveticaNeue, Arial\\\", \\\"gridColor\\\": \\\"rgba(204,204,204,1.0)\\\", \\\"labelFontSize\\\": 12}, \\\"legend\\\": {\\\"labelFont\\\": \\\"\\\\\\\"San Francisco\\\\\\\", HelveticaNeue, Arial\\\", \\\"gradientLength\\\": 608, \\\"titleFont\\\": \\\"\\\\\\\"San Francisco\\\\\\\", HelveticaNeue, Arial\\\", \\\"labelColor\\\": \\\"rgba(0,0,0,0.847)\\\", \\\"titleColor\\\": \\\"rgba(0,0,0,0.847)\\\", \\\"cornerRadius\\\": 30}, \\\"title\\\": {\\\"fontSize\\\": 18, \\\"color\\\": \\\"rgba(0,0,0,0.847)\\\", \\\"font\\\": \\\"\\\\\\\"San Francisco\\\\\\\", HelveticaNeue, Arial\\\", \\\"offset\\\": 30, \\\"fontWeight\\\": \\\"normal\\\"}, \\\"range\\\": {\\\"heatmap\\\": {\\\"scheme\\\": \\\"greenblue\\\"}}, \\\"style\\\": {\\\"cell\\\": {\\\"stroke\\\": \\\"transparent\\\"}, \\\"group-title\\\": {\\\"font\\\": \\\"HelveticaNeue, Arial\\\", \\\"fill\\\": \\\"rgba(0,0,0,0.65)\\\", \\\"fontSize\\\": 29, \\\"fontWeight\\\": \\\"normal\\\"}, \\\"rect\\\": {\\\"stroke\\\": \\\"rgba(200, 200, 200, 0.5)\\\"}}}, \\\"padding\\\": 8, \\\"height\\\": 550, \\\"scales\\\": [{\\\"name\\\": \\\"x\\\", \\\"domain\\\": {\\\"fields\\\": [{\\\"field\\\": \\\"x\\\", \\\"data\\\": \\\"source_2\\\"}]}, \\\"type\\\": \\\"band\\\", \\\"paddingOuter\\\": 0.05, \\\"paddingInner\\\": 0.1, \\\"range\\\": {\\\"step\\\": {\\\"signal\\\": \\\"x_step\\\"}}}, {\\\"nice\\\": true, \\\"name\\\": \\\"y\\\", \\\"domain\\\": {\\\"sort\\\": true, \\\"fields\\\": [{\\\"field\\\": \\\"min\\\", \\\"data\\\": \\\"source_2\\\"}, {\\\"field\\\": \\\"lower quartile\\\", \\\"data\\\": \\\"source_2\\\"}, {\\\"field\\\": \\\"upper quartile\\\", \\\"data\\\": \\\"source_2\\\"}, {\\\"field\\\": \\\"max\\\", \\\"data\\\": \\\"source_2\\\"}, {\\\"field\\\": \\\"lower quartile\\\", \\\"data\\\": \\\"source_2\\\"}, {\\\"field\\\": \\\"upper quartile\\\", \\\"data\\\": \\\"source_2\\\"}, {\\\"field\\\": \\\"median\\\", \\\"data\\\": \\\"source_2\\\"}]}, \\\"type\\\": \\\"linear\\\", \\\"zero\\\": true, \\\"range\\\": [{\\\"signal\\\": \\\"height\\\"}, 0]}], \\\"autosize\\\": {\\\"resize\\\": false, \\\"contains\\\": \\\"padding\\\", \\\"type\\\": \\\"fit\\\"}, \\\"title\\\": \\\"X vs. Y\\\", \\\"style\\\": \\\"cell\\\"}\";                                 var vega_json_parsed = JSON.parse(vega_json);                                 var toolTipOpts = {                                     showAllFields: true                                 };                                 if(vega_json_parsed[\"metadata\"] != null){                                     if(vega_json_parsed[\"metadata\"][\"bubbleOpts\"] != null){                                         toolTipOpts = vega_json_parsed[\"metadata\"][\"bubbleOpts\"];                                     };                                 };                                 vegaEmbed(\"#vis\", vega_json_parsed).then(function (result) {                                     vegaTooltip.vega(result.view, toolTipOpts);                                  });                             </script>                         </body>                     </html>' src=\"demo_iframe_srcdoc.htm\">                         <p>Your browser does not support iframes.</p>                     </iframe>                 </body>             </html>"
      ],
      "text/plain": [
       "<IPython.core.display.HTML object>"
      ]
     },
     "metadata": {},
     "output_type": "display_data"
    }
   ],
   "source": [
    "turicreate.show(sales['zipcode'],sales['price'])"
   ]
  },
  {
   "cell_type": "markdown",
   "metadata": {},
   "source": [
    "# Question 1\n",
    "Selection and summary statistics: We found the zip code with the highest average house price. What is the average house price of that zip code?"
   ]
  },
  {
   "cell_type": "code",
   "execution_count": 15,
   "metadata": {},
   "outputs": [
    {
     "data": {
      "text/plain": [
       "2160606.6000000006"
      ]
     },
     "execution_count": 15,
     "metadata": {},
     "output_type": "execute_result"
    }
   ],
   "source": [
    "highest_zip = sales[sales['zipcode'] == '98039']\n",
    "highest_zip['price'].mean()"
   ]
  },
  {
   "cell_type": "markdown",
   "metadata": {},
   "source": [
    "# Question 2\n",
    "Filtering data: What fraction of the houses have living space between 2000 sq.ft. and 4000 sq.ft.?"
   ]
  },
  {
   "cell_type": "code",
   "execution_count": 16,
   "metadata": {},
   "outputs": [],
   "source": [
    "house_living_low = sales[sales['sqft_living'] < 2000].num_rows()\n",
    "house_living_high = sales[sales['sqft_living'] < 4000].num_rows()\n",
    "total_rows = sales.num_rows()"
   ]
  },
  {
   "cell_type": "code",
   "execution_count": 17,
   "metadata": {},
   "outputs": [
    {
     "data": {
      "text/plain": [
       "0.4263174941007727"
      ]
     },
     "execution_count": 17,
     "metadata": {},
     "output_type": "execute_result"
    }
   ],
   "source": [
    "fraction_house_living = (house_living_high - house_living_low)/total_rows\n",
    "fraction_house_living"
   ]
  },
  {
   "cell_type": "markdown",
   "metadata": {},
   "source": [
    "# Question 3\n",
    "Building a regression model with several more features: What is the difference in RMSE between the model trained with my_features and the one trained with advanced_features?"
   ]
  },
  {
   "cell_type": "code",
   "execution_count": 18,
   "metadata": {},
   "outputs": [],
   "source": [
    "advanced_features = [\n",
    "'bedrooms', 'bathrooms', 'sqft_living', 'sqft_lot', 'floors', 'zipcode',\n",
    "'condition', # condition of house\n",
    "'grade', # measure of quality of construction\n",
    "'waterfront', # waterfront property\n",
    "'view', # type of view\n",
    "'sqft_above', # square feet above ground\n",
    "'sqft_basement', # square feet in basement\n",
    "'yr_built', # the year built\n",
    "'yr_renovated', # the year renovated\n",
    "'lat', 'long', # the lat-long of the parcel\n",
    "'sqft_living15', # average sq.ft. of 15 nearest neighbors\n",
    "'sqft_lot15', # average lot size of 15 nearest neighbors \n",
    "]"
   ]
  },
  {
   "cell_type": "code",
   "execution_count": 19,
   "metadata": {},
   "outputs": [
    {
     "name": "stdout",
     "output_type": "stream",
     "text": [
      "PROGRESS: Creating a validation set from 5 percent of training data. This may take a while.\n",
      "          You can set ``validation_set=None`` to disable validation tracking.\n",
      "\n"
     ]
    },
    {
     "data": {
      "text/html": [
       "<pre>Linear regression:</pre>"
      ],
      "text/plain": [
       "Linear regression:"
      ]
     },
     "metadata": {},
     "output_type": "display_data"
    },
    {
     "data": {
      "text/html": [
       "<pre>--------------------------------------------------------</pre>"
      ],
      "text/plain": [
       "--------------------------------------------------------"
      ]
     },
     "metadata": {},
     "output_type": "display_data"
    },
    {
     "data": {
      "text/html": [
       "<pre>Number of examples          : 16514</pre>"
      ],
      "text/plain": [
       "Number of examples          : 16514"
      ]
     },
     "metadata": {},
     "output_type": "display_data"
    },
    {
     "data": {
      "text/html": [
       "<pre>Number of features          : 18</pre>"
      ],
      "text/plain": [
       "Number of features          : 18"
      ]
     },
     "metadata": {},
     "output_type": "display_data"
    },
    {
     "data": {
      "text/html": [
       "<pre>Number of unpacked features : 18</pre>"
      ],
      "text/plain": [
       "Number of unpacked features : 18"
      ]
     },
     "metadata": {},
     "output_type": "display_data"
    },
    {
     "data": {
      "text/html": [
       "<pre>Number of coefficients    : 87</pre>"
      ],
      "text/plain": [
       "Number of coefficients    : 87"
      ]
     },
     "metadata": {},
     "output_type": "display_data"
    },
    {
     "data": {
      "text/html": [
       "<pre>Starting Newton Method</pre>"
      ],
      "text/plain": [
       "Starting Newton Method"
      ]
     },
     "metadata": {},
     "output_type": "display_data"
    },
    {
     "data": {
      "text/html": [
       "<pre>--------------------------------------------------------</pre>"
      ],
      "text/plain": [
       "--------------------------------------------------------"
      ]
     },
     "metadata": {},
     "output_type": "display_data"
    },
    {
     "data": {
      "text/html": [
       "<pre>+-----------+----------+--------------+--------------------+----------------------+---------------------------------+-----------------------------------+</pre>"
      ],
      "text/plain": [
       "+-----------+----------+--------------+--------------------+----------------------+---------------------------------+-----------------------------------+"
      ]
     },
     "metadata": {},
     "output_type": "display_data"
    },
    {
     "data": {
      "text/html": [
       "<pre>| Iteration | Passes   | Elapsed Time | Training Max Error | Validation Max Error | Training Root-Mean-Square Error | Validation Root-Mean-Square Error |</pre>"
      ],
      "text/plain": [
       "| Iteration | Passes   | Elapsed Time | Training Max Error | Validation Max Error | Training Root-Mean-Square Error | Validation Root-Mean-Square Error |"
      ]
     },
     "metadata": {},
     "output_type": "display_data"
    },
    {
     "data": {
      "text/html": [
       "<pre>+-----------+----------+--------------+--------------------+----------------------+---------------------------------+-----------------------------------+</pre>"
      ],
      "text/plain": [
       "+-----------+----------+--------------+--------------------+----------------------+---------------------------------+-----------------------------------+"
      ]
     },
     "metadata": {},
     "output_type": "display_data"
    },
    {
     "data": {
      "text/html": [
       "<pre>| 1         | 2        | 0.023360     | 4314050.980783     | 1275173.409930       | 163003.540928                   | 150855.423633                     |</pre>"
      ],
      "text/plain": [
       "| 1         | 2        | 0.023360     | 4314050.980783     | 1275173.409930       | 163003.540928                   | 150855.423633                     |"
      ]
     },
     "metadata": {},
     "output_type": "display_data"
    },
    {
     "data": {
      "text/html": [
       "<pre>+-----------+----------+--------------+--------------------+----------------------+---------------------------------+-----------------------------------+</pre>"
      ],
      "text/plain": [
       "+-----------+----------+--------------+--------------------+----------------------+---------------------------------+-----------------------------------+"
      ]
     },
     "metadata": {},
     "output_type": "display_data"
    },
    {
     "data": {
      "text/html": [
       "<pre>SUCCESS: Optimal solution found.</pre>"
      ],
      "text/plain": [
       "SUCCESS: Optimal solution found."
      ]
     },
     "metadata": {},
     "output_type": "display_data"
    },
    {
     "data": {
      "text/html": [
       "<pre></pre>"
      ],
      "text/plain": []
     },
     "metadata": {},
     "output_type": "display_data"
    }
   ],
   "source": [
    "advanced_features_model = turicreate.linear_regression.create(training_set,target='price',features=advanced_features)"
   ]
  },
  {
   "cell_type": "code",
   "execution_count": 20,
   "metadata": {},
   "outputs": [
    {
     "name": "stdout",
     "output_type": "stream",
     "text": [
      "{'rmse': 155462.46134536754, 'max_error': 3159963.5834507737}\n"
     ]
    }
   ],
   "source": [
    "print (advanced_features_model.evaluate(test_set))"
   ]
  },
  {
   "cell_type": "markdown",
   "metadata": {},
   "source": [
    "# Build a model with these additional features"
   ]
  },
  {
   "cell_type": "code",
   "execution_count": 21,
   "metadata": {},
   "outputs": [
    {
     "name": "stdout",
     "output_type": "stream",
     "text": [
      "PROGRESS: Creating a validation set from 5 percent of training data. This may take a while.\n",
      "          You can set ``validation_set=None`` to disable validation tracking.\n",
      "\n"
     ]
    },
    {
     "data": {
      "text/html": [
       "<pre>Linear regression:</pre>"
      ],
      "text/plain": [
       "Linear regression:"
      ]
     },
     "metadata": {},
     "output_type": "display_data"
    },
    {
     "data": {
      "text/html": [
       "<pre>--------------------------------------------------------</pre>"
      ],
      "text/plain": [
       "--------------------------------------------------------"
      ]
     },
     "metadata": {},
     "output_type": "display_data"
    },
    {
     "data": {
      "text/html": [
       "<pre>Number of examples          : 16514</pre>"
      ],
      "text/plain": [
       "Number of examples          : 16514"
      ]
     },
     "metadata": {},
     "output_type": "display_data"
    },
    {
     "data": {
      "text/html": [
       "<pre>Number of features          : 6</pre>"
      ],
      "text/plain": [
       "Number of features          : 6"
      ]
     },
     "metadata": {},
     "output_type": "display_data"
    },
    {
     "data": {
      "text/html": [
       "<pre>Number of unpacked features : 6</pre>"
      ],
      "text/plain": [
       "Number of unpacked features : 6"
      ]
     },
     "metadata": {},
     "output_type": "display_data"
    },
    {
     "data": {
      "text/html": [
       "<pre>Number of coefficients    : 75</pre>"
      ],
      "text/plain": [
       "Number of coefficients    : 75"
      ]
     },
     "metadata": {},
     "output_type": "display_data"
    },
    {
     "data": {
      "text/html": [
       "<pre>Starting Newton Method</pre>"
      ],
      "text/plain": [
       "Starting Newton Method"
      ]
     },
     "metadata": {},
     "output_type": "display_data"
    },
    {
     "data": {
      "text/html": [
       "<pre>--------------------------------------------------------</pre>"
      ],
      "text/plain": [
       "--------------------------------------------------------"
      ]
     },
     "metadata": {},
     "output_type": "display_data"
    },
    {
     "data": {
      "text/html": [
       "<pre>+-----------+----------+--------------+--------------------+----------------------+---------------------------------+-----------------------------------+</pre>"
      ],
      "text/plain": [
       "+-----------+----------+--------------+--------------------+----------------------+---------------------------------+-----------------------------------+"
      ]
     },
     "metadata": {},
     "output_type": "display_data"
    },
    {
     "data": {
      "text/html": [
       "<pre>| Iteration | Passes   | Elapsed Time | Training Max Error | Validation Max Error | Training Root-Mean-Square Error | Validation Root-Mean-Square Error |</pre>"
      ],
      "text/plain": [
       "| Iteration | Passes   | Elapsed Time | Training Max Error | Validation Max Error | Training Root-Mean-Square Error | Validation Root-Mean-Square Error |"
      ]
     },
     "metadata": {},
     "output_type": "display_data"
    },
    {
     "data": {
      "text/html": [
       "<pre>+-----------+----------+--------------+--------------------+----------------------+---------------------------------+-----------------------------------+</pre>"
      ],
      "text/plain": [
       "+-----------+----------+--------------+--------------------+----------------------+---------------------------------+-----------------------------------+"
      ]
     },
     "metadata": {},
     "output_type": "display_data"
    },
    {
     "data": {
      "text/html": [
       "<pre>| 1         | 2        | 0.023486     | 4101630.676062     | 1217265.848871       | 189411.369453                   | 185935.769548                     |</pre>"
      ],
      "text/plain": [
       "| 1         | 2        | 0.023486     | 4101630.676062     | 1217265.848871       | 189411.369453                   | 185935.769548                     |"
      ]
     },
     "metadata": {},
     "output_type": "display_data"
    },
    {
     "data": {
      "text/html": [
       "<pre>+-----------+----------+--------------+--------------------+----------------------+---------------------------------+-----------------------------------+</pre>"
      ],
      "text/plain": [
       "+-----------+----------+--------------+--------------------+----------------------+---------------------------------+-----------------------------------+"
      ]
     },
     "metadata": {},
     "output_type": "display_data"
    },
    {
     "data": {
      "text/html": [
       "<pre>SUCCESS: Optimal solution found.</pre>"
      ],
      "text/plain": [
       "SUCCESS: Optimal solution found."
      ]
     },
     "metadata": {},
     "output_type": "display_data"
    },
    {
     "data": {
      "text/html": [
       "<pre></pre>"
      ],
      "text/plain": []
     },
     "metadata": {},
     "output_type": "display_data"
    }
   ],
   "source": [
    "my_features_model = turicreate.linear_regression.create(training_set,target='price',features=my_features)"
   ]
  },
  {
   "cell_type": "markdown",
   "metadata": {},
   "source": [
    "# Compare simple model with more complex one"
   ]
  },
  {
   "cell_type": "code",
   "execution_count": 22,
   "metadata": {},
   "outputs": [
    {
     "name": "stdout",
     "output_type": "stream",
     "text": [
      "['bedrooms', 'bathrooms', 'sqft_living', 'sqft_lot', 'floors', 'zipcode']\n"
     ]
    }
   ],
   "source": [
    "print (my_features)"
   ]
  },
  {
   "cell_type": "code",
   "execution_count": 23,
   "metadata": {},
   "outputs": [
    {
     "name": "stdout",
     "output_type": "stream",
     "text": [
      "{'rmse': 255221.8099076499, 'max_error': 4130015.880265085}\n",
      "{'rmse': 180472.49309316953, 'max_error': 3162790.93958496}\n"
     ]
    }
   ],
   "source": [
    "print (sqft_model.evaluate(test_set))\n",
    "print (my_features_model.evaluate(test_set))"
   ]
  },
  {
   "cell_type": "markdown",
   "metadata": {},
   "source": [
    "# Apply learned models to make predictions"
   ]
  },
  {
   "cell_type": "code",
   "execution_count": 24,
   "metadata": {},
   "outputs": [],
   "source": [
    "house1 = sales[sales['id']=='5309101200']"
   ]
  },
  {
   "cell_type": "code",
   "execution_count": 25,
   "metadata": {},
   "outputs": [
    {
     "data": {
      "text/html": [
       "<div style=\"max-height:1000px;max-width:1500px;overflow:auto;\"><table frame=\"box\" rules=\"cols\">\n",
       "    <tr>\n",
       "        <th style=\"padding-left: 1em; padding-right: 1em; text-align: center\">id</th>\n",
       "        <th style=\"padding-left: 1em; padding-right: 1em; text-align: center\">date</th>\n",
       "        <th style=\"padding-left: 1em; padding-right: 1em; text-align: center\">price</th>\n",
       "        <th style=\"padding-left: 1em; padding-right: 1em; text-align: center\">bedrooms</th>\n",
       "        <th style=\"padding-left: 1em; padding-right: 1em; text-align: center\">bathrooms</th>\n",
       "        <th style=\"padding-left: 1em; padding-right: 1em; text-align: center\">sqft_living</th>\n",
       "        <th style=\"padding-left: 1em; padding-right: 1em; text-align: center\">sqft_lot</th>\n",
       "        <th style=\"padding-left: 1em; padding-right: 1em; text-align: center\">floors</th>\n",
       "        <th style=\"padding-left: 1em; padding-right: 1em; text-align: center\">waterfront</th>\n",
       "    </tr>\n",
       "    <tr>\n",
       "        <td style=\"padding-left: 1em; padding-right: 1em; text-align: center; vertical-align: top\">5309101200</td>\n",
       "        <td style=\"padding-left: 1em; padding-right: 1em; text-align: center; vertical-align: top\">2014-06-05 00:00:00+00:00</td>\n",
       "        <td style=\"padding-left: 1em; padding-right: 1em; text-align: center; vertical-align: top\">620000.0</td>\n",
       "        <td style=\"padding-left: 1em; padding-right: 1em; text-align: center; vertical-align: top\">4.0</td>\n",
       "        <td style=\"padding-left: 1em; padding-right: 1em; text-align: center; vertical-align: top\">2.25</td>\n",
       "        <td style=\"padding-left: 1em; padding-right: 1em; text-align: center; vertical-align: top\">2400.0</td>\n",
       "        <td style=\"padding-left: 1em; padding-right: 1em; text-align: center; vertical-align: top\">5350.0</td>\n",
       "        <td style=\"padding-left: 1em; padding-right: 1em; text-align: center; vertical-align: top\">1.5</td>\n",
       "        <td style=\"padding-left: 1em; padding-right: 1em; text-align: center; vertical-align: top\">0</td>\n",
       "    </tr>\n",
       "</table>\n",
       "<table frame=\"box\" rules=\"cols\">\n",
       "    <tr>\n",
       "        <th style=\"padding-left: 1em; padding-right: 1em; text-align: center\">view</th>\n",
       "        <th style=\"padding-left: 1em; padding-right: 1em; text-align: center\">condition</th>\n",
       "        <th style=\"padding-left: 1em; padding-right: 1em; text-align: center\">grade</th>\n",
       "        <th style=\"padding-left: 1em; padding-right: 1em; text-align: center\">sqft_above</th>\n",
       "        <th style=\"padding-left: 1em; padding-right: 1em; text-align: center\">sqft_basement</th>\n",
       "        <th style=\"padding-left: 1em; padding-right: 1em; text-align: center\">yr_built</th>\n",
       "        <th style=\"padding-left: 1em; padding-right: 1em; text-align: center\">yr_renovated</th>\n",
       "        <th style=\"padding-left: 1em; padding-right: 1em; text-align: center\">zipcode</th>\n",
       "        <th style=\"padding-left: 1em; padding-right: 1em; text-align: center\">lat</th>\n",
       "    </tr>\n",
       "    <tr>\n",
       "        <td style=\"padding-left: 1em; padding-right: 1em; text-align: center; vertical-align: top\">0</td>\n",
       "        <td style=\"padding-left: 1em; padding-right: 1em; text-align: center; vertical-align: top\">4</td>\n",
       "        <td style=\"padding-left: 1em; padding-right: 1em; text-align: center; vertical-align: top\">7.0</td>\n",
       "        <td style=\"padding-left: 1em; padding-right: 1em; text-align: center; vertical-align: top\">1460.0</td>\n",
       "        <td style=\"padding-left: 1em; padding-right: 1em; text-align: center; vertical-align: top\">940.0</td>\n",
       "        <td style=\"padding-left: 1em; padding-right: 1em; text-align: center; vertical-align: top\">1929.0</td>\n",
       "        <td style=\"padding-left: 1em; padding-right: 1em; text-align: center; vertical-align: top\">0.0</td>\n",
       "        <td style=\"padding-left: 1em; padding-right: 1em; text-align: center; vertical-align: top\">98117</td>\n",
       "        <td style=\"padding-left: 1em; padding-right: 1em; text-align: center; vertical-align: top\">47.67632376</td>\n",
       "    </tr>\n",
       "</table>\n",
       "<table frame=\"box\" rules=\"cols\">\n",
       "    <tr>\n",
       "        <th style=\"padding-left: 1em; padding-right: 1em; text-align: center\">long</th>\n",
       "        <th style=\"padding-left: 1em; padding-right: 1em; text-align: center\">sqft_living15</th>\n",
       "        <th style=\"padding-left: 1em; padding-right: 1em; text-align: center\">sqft_lot15</th>\n",
       "    </tr>\n",
       "    <tr>\n",
       "        <td style=\"padding-left: 1em; padding-right: 1em; text-align: center; vertical-align: top\">-122.37010126</td>\n",
       "        <td style=\"padding-left: 1em; padding-right: 1em; text-align: center; vertical-align: top\">1250.0</td>\n",
       "        <td style=\"padding-left: 1em; padding-right: 1em; text-align: center; vertical-align: top\">4880.0</td>\n",
       "    </tr>\n",
       "</table>\n",
       "[? rows x 21 columns]<br/>Note: Only the head of the SFrame is printed. This SFrame is lazily evaluated.<br/>You can use sf.materialize() to force materialization.\n",
       "</div>"
      ],
      "text/plain": [
       "Columns:\n",
       "\tid\tstr\n",
       "\tdate\tdatetime\n",
       "\tprice\tfloat\n",
       "\tbedrooms\tfloat\n",
       "\tbathrooms\tfloat\n",
       "\tsqft_living\tfloat\n",
       "\tsqft_lot\tfloat\n",
       "\tfloors\tfloat\n",
       "\twaterfront\tint\n",
       "\tview\tint\n",
       "\tcondition\tint\n",
       "\tgrade\tfloat\n",
       "\tsqft_above\tfloat\n",
       "\tsqft_basement\tfloat\n",
       "\tyr_built\tfloat\n",
       "\tyr_renovated\tfloat\n",
       "\tzipcode\tstr\n",
       "\tlat\tfloat\n",
       "\tlong\tfloat\n",
       "\tsqft_living15\tfloat\n",
       "\tsqft_lot15\tfloat\n",
       "\n",
       "Rows: Unknown\n",
       "\n",
       "Data:\n",
       "+------------+---------------------------+----------+----------+-----------+\n",
       "|     id     |            date           |  price   | bedrooms | bathrooms |\n",
       "+------------+---------------------------+----------+----------+-----------+\n",
       "| 5309101200 | 2014-06-05 00:00:00+00:00 | 620000.0 |   4.0    |    2.25   |\n",
       "+------------+---------------------------+----------+----------+-----------+\n",
       "+-------------+----------+--------+------------+------+-----------+-------+\n",
       "| sqft_living | sqft_lot | floors | waterfront | view | condition | grade |\n",
       "+-------------+----------+--------+------------+------+-----------+-------+\n",
       "|    2400.0   |  5350.0  |  1.5   |     0      |  0   |     4     |  7.0  |\n",
       "+-------------+----------+--------+------------+------+-----------+-------+\n",
       "+------------+---------------+----------+--------------+---------+-------------+\n",
       "| sqft_above | sqft_basement | yr_built | yr_renovated | zipcode |     lat     |\n",
       "+------------+---------------+----------+--------------+---------+-------------+\n",
       "|   1460.0   |     940.0     |  1929.0  |     0.0      |  98117  | 47.67632376 |\n",
       "+------------+---------------+----------+--------------+---------+-------------+\n",
       "+---------------+---------------+-----+\n",
       "|      long     | sqft_living15 | ... |\n",
       "+---------------+---------------+-----+\n",
       "| -122.37010126 |     1250.0    | ... |\n",
       "+---------------+---------------+-----+\n",
       "[? rows x 21 columns]\n",
       "Note: Only the head of the SFrame is printed. This SFrame is lazily evaluated.\n",
       "You can use sf.materialize() to force materialization."
      ]
     },
     "execution_count": 25,
     "metadata": {},
     "output_type": "execute_result"
    }
   ],
   "source": [
    "house1"
   ]
  },
  {
   "cell_type": "markdown",
   "metadata": {},
   "source": [
    "<img src=\"http://blue.kingcounty.com/Assessor/eRealProperty/MediaHandler.aspx?Media=2916871\">"
   ]
  },
  {
   "cell_type": "code",
   "execution_count": 26,
   "metadata": {},
   "outputs": [
    {
     "name": "stdout",
     "output_type": "stream",
     "text": [
      "[620000.0, ... ]\n"
     ]
    }
   ],
   "source": [
    "print (house1['price'])"
   ]
  },
  {
   "cell_type": "code",
   "execution_count": 27,
   "metadata": {},
   "outputs": [
    {
     "name": "stdout",
     "output_type": "stream",
     "text": [
      "[630867.9693609411]\n"
     ]
    }
   ],
   "source": [
    "print (sqft_model.predict(house1))"
   ]
  },
  {
   "cell_type": "code",
   "execution_count": 28,
   "metadata": {},
   "outputs": [
    {
     "name": "stdout",
     "output_type": "stream",
     "text": [
      "[727705.6311895757]\n"
     ]
    }
   ],
   "source": [
    "print (my_features_model.predict(house1))"
   ]
  },
  {
   "cell_type": "markdown",
   "metadata": {},
   "source": [
    "## Prediction for a second house, a fancier one"
   ]
  },
  {
   "cell_type": "code",
   "execution_count": 29,
   "metadata": {},
   "outputs": [],
   "source": [
    "house2 = sales[sales['id']=='1925069082']"
   ]
  },
  {
   "cell_type": "code",
   "execution_count": 30,
   "metadata": {},
   "outputs": [
    {
     "data": {
      "text/html": [
       "<div style=\"max-height:1000px;max-width:1500px;overflow:auto;\"><table frame=\"box\" rules=\"cols\">\n",
       "    <tr>\n",
       "        <th style=\"padding-left: 1em; padding-right: 1em; text-align: center\">id</th>\n",
       "        <th style=\"padding-left: 1em; padding-right: 1em; text-align: center\">date</th>\n",
       "        <th style=\"padding-left: 1em; padding-right: 1em; text-align: center\">price</th>\n",
       "        <th style=\"padding-left: 1em; padding-right: 1em; text-align: center\">bedrooms</th>\n",
       "        <th style=\"padding-left: 1em; padding-right: 1em; text-align: center\">bathrooms</th>\n",
       "        <th style=\"padding-left: 1em; padding-right: 1em; text-align: center\">sqft_living</th>\n",
       "        <th style=\"padding-left: 1em; padding-right: 1em; text-align: center\">sqft_lot</th>\n",
       "        <th style=\"padding-left: 1em; padding-right: 1em; text-align: center\">floors</th>\n",
       "        <th style=\"padding-left: 1em; padding-right: 1em; text-align: center\">waterfront</th>\n",
       "    </tr>\n",
       "    <tr>\n",
       "        <td style=\"padding-left: 1em; padding-right: 1em; text-align: center; vertical-align: top\">1925069082</td>\n",
       "        <td style=\"padding-left: 1em; padding-right: 1em; text-align: center; vertical-align: top\">2015-05-11 00:00:00+00:00</td>\n",
       "        <td style=\"padding-left: 1em; padding-right: 1em; text-align: center; vertical-align: top\">2200000.0</td>\n",
       "        <td style=\"padding-left: 1em; padding-right: 1em; text-align: center; vertical-align: top\">5.0</td>\n",
       "        <td style=\"padding-left: 1em; padding-right: 1em; text-align: center; vertical-align: top\">4.25</td>\n",
       "        <td style=\"padding-left: 1em; padding-right: 1em; text-align: center; vertical-align: top\">4640.0</td>\n",
       "        <td style=\"padding-left: 1em; padding-right: 1em; text-align: center; vertical-align: top\">22703.0</td>\n",
       "        <td style=\"padding-left: 1em; padding-right: 1em; text-align: center; vertical-align: top\">2.0</td>\n",
       "        <td style=\"padding-left: 1em; padding-right: 1em; text-align: center; vertical-align: top\">1</td>\n",
       "    </tr>\n",
       "</table>\n",
       "<table frame=\"box\" rules=\"cols\">\n",
       "    <tr>\n",
       "        <th style=\"padding-left: 1em; padding-right: 1em; text-align: center\">view</th>\n",
       "        <th style=\"padding-left: 1em; padding-right: 1em; text-align: center\">condition</th>\n",
       "        <th style=\"padding-left: 1em; padding-right: 1em; text-align: center\">grade</th>\n",
       "        <th style=\"padding-left: 1em; padding-right: 1em; text-align: center\">sqft_above</th>\n",
       "        <th style=\"padding-left: 1em; padding-right: 1em; text-align: center\">sqft_basement</th>\n",
       "        <th style=\"padding-left: 1em; padding-right: 1em; text-align: center\">yr_built</th>\n",
       "        <th style=\"padding-left: 1em; padding-right: 1em; text-align: center\">yr_renovated</th>\n",
       "        <th style=\"padding-left: 1em; padding-right: 1em; text-align: center\">zipcode</th>\n",
       "        <th style=\"padding-left: 1em; padding-right: 1em; text-align: center\">lat</th>\n",
       "    </tr>\n",
       "    <tr>\n",
       "        <td style=\"padding-left: 1em; padding-right: 1em; text-align: center; vertical-align: top\">4</td>\n",
       "        <td style=\"padding-left: 1em; padding-right: 1em; text-align: center; vertical-align: top\">5</td>\n",
       "        <td style=\"padding-left: 1em; padding-right: 1em; text-align: center; vertical-align: top\">8.0</td>\n",
       "        <td style=\"padding-left: 1em; padding-right: 1em; text-align: center; vertical-align: top\">2860.0</td>\n",
       "        <td style=\"padding-left: 1em; padding-right: 1em; text-align: center; vertical-align: top\">1780.0</td>\n",
       "        <td style=\"padding-left: 1em; padding-right: 1em; text-align: center; vertical-align: top\">1952.0</td>\n",
       "        <td style=\"padding-left: 1em; padding-right: 1em; text-align: center; vertical-align: top\">0.0</td>\n",
       "        <td style=\"padding-left: 1em; padding-right: 1em; text-align: center; vertical-align: top\">98052</td>\n",
       "        <td style=\"padding-left: 1em; padding-right: 1em; text-align: center; vertical-align: top\">47.63925783</td>\n",
       "    </tr>\n",
       "</table>\n",
       "<table frame=\"box\" rules=\"cols\">\n",
       "    <tr>\n",
       "        <th style=\"padding-left: 1em; padding-right: 1em; text-align: center\">long</th>\n",
       "        <th style=\"padding-left: 1em; padding-right: 1em; text-align: center\">sqft_living15</th>\n",
       "        <th style=\"padding-left: 1em; padding-right: 1em; text-align: center\">sqft_lot15</th>\n",
       "    </tr>\n",
       "    <tr>\n",
       "        <td style=\"padding-left: 1em; padding-right: 1em; text-align: center; vertical-align: top\">-122.09722322</td>\n",
       "        <td style=\"padding-left: 1em; padding-right: 1em; text-align: center; vertical-align: top\">3140.0</td>\n",
       "        <td style=\"padding-left: 1em; padding-right: 1em; text-align: center; vertical-align: top\">14200.0</td>\n",
       "    </tr>\n",
       "</table>\n",
       "[? rows x 21 columns]<br/>Note: Only the head of the SFrame is printed. This SFrame is lazily evaluated.<br/>You can use sf.materialize() to force materialization.\n",
       "</div>"
      ],
      "text/plain": [
       "Columns:\n",
       "\tid\tstr\n",
       "\tdate\tdatetime\n",
       "\tprice\tfloat\n",
       "\tbedrooms\tfloat\n",
       "\tbathrooms\tfloat\n",
       "\tsqft_living\tfloat\n",
       "\tsqft_lot\tfloat\n",
       "\tfloors\tfloat\n",
       "\twaterfront\tint\n",
       "\tview\tint\n",
       "\tcondition\tint\n",
       "\tgrade\tfloat\n",
       "\tsqft_above\tfloat\n",
       "\tsqft_basement\tfloat\n",
       "\tyr_built\tfloat\n",
       "\tyr_renovated\tfloat\n",
       "\tzipcode\tstr\n",
       "\tlat\tfloat\n",
       "\tlong\tfloat\n",
       "\tsqft_living15\tfloat\n",
       "\tsqft_lot15\tfloat\n",
       "\n",
       "Rows: Unknown\n",
       "\n",
       "Data:\n",
       "+------------+---------------------------+-----------+----------+-----------+\n",
       "|     id     |            date           |   price   | bedrooms | bathrooms |\n",
       "+------------+---------------------------+-----------+----------+-----------+\n",
       "| 1925069082 | 2015-05-11 00:00:00+00:00 | 2200000.0 |   5.0    |    4.25   |\n",
       "+------------+---------------------------+-----------+----------+-----------+\n",
       "+-------------+----------+--------+------------+------+-----------+-------+\n",
       "| sqft_living | sqft_lot | floors | waterfront | view | condition | grade |\n",
       "+-------------+----------+--------+------------+------+-----------+-------+\n",
       "|    4640.0   | 22703.0  |  2.0   |     1      |  4   |     5     |  8.0  |\n",
       "+-------------+----------+--------+------------+------+-----------+-------+\n",
       "+------------+---------------+----------+--------------+---------+-------------+\n",
       "| sqft_above | sqft_basement | yr_built | yr_renovated | zipcode |     lat     |\n",
       "+------------+---------------+----------+--------------+---------+-------------+\n",
       "|   2860.0   |     1780.0    |  1952.0  |     0.0      |  98052  | 47.63925783 |\n",
       "+------------+---------------+----------+--------------+---------+-------------+\n",
       "+---------------+---------------+-----+\n",
       "|      long     | sqft_living15 | ... |\n",
       "+---------------+---------------+-----+\n",
       "| -122.09722322 |     3140.0    | ... |\n",
       "+---------------+---------------+-----+\n",
       "[? rows x 21 columns]\n",
       "Note: Only the head of the SFrame is printed. This SFrame is lazily evaluated.\n",
       "You can use sf.materialize() to force materialization."
      ]
     },
     "execution_count": 30,
     "metadata": {},
     "output_type": "execute_result"
    }
   ],
   "source": [
    "house2"
   ]
  },
  {
   "cell_type": "markdown",
   "metadata": {},
   "source": [
    "<img src=\"https://ssl.cdn-redfin.com/photo/1/bigphoto/302/734302_0.jpg\">"
   ]
  },
  {
   "cell_type": "code",
   "execution_count": 31,
   "metadata": {},
   "outputs": [
    {
     "name": "stdout",
     "output_type": "stream",
     "text": [
      "[1266117.6591924098]\n"
     ]
    }
   ],
   "source": [
    "print (sqft_model.predict(house2))"
   ]
  },
  {
   "cell_type": "code",
   "execution_count": 32,
   "metadata": {},
   "outputs": [
    {
     "name": "stdout",
     "output_type": "stream",
     "text": [
      "[1230078.4909582236]\n"
     ]
    }
   ],
   "source": [
    "print (my_features_model.predict(house2))"
   ]
  },
  {
   "cell_type": "markdown",
   "metadata": {},
   "source": [
    "## Prediction for a super fancy home"
   ]
  },
  {
   "cell_type": "code",
   "execution_count": 33,
   "metadata": {},
   "outputs": [],
   "source": [
    "bill_gates = {'bedrooms':[8], \n",
    "              'bathrooms':[25], \n",
    "              'sqft_living':[50000], \n",
    "              'sqft_lot':[225000],\n",
    "              'floors':[4], \n",
    "              'zipcode':['98039'], \n",
    "              'condition':[10], \n",
    "              'grade':[10],\n",
    "              'waterfront':[1],\n",
    "              'view':[4],\n",
    "              'sqft_above':[37500],\n",
    "              'sqft_basement':[12500],\n",
    "              'yr_built':[1994],\n",
    "              'yr_renovated':[2010],\n",
    "              'lat':[47.627606],\n",
    "              'long':[-122.242054],\n",
    "              'sqft_living15':[5000],\n",
    "              'sqft_lot15':[40000]}"
   ]
  },
  {
   "cell_type": "markdown",
   "metadata": {},
   "source": [
    "<img src=\"https://upload.wikimedia.org/wikipedia/commons/2/26/Residence_of_Bill_Gates.jpg\">"
   ]
  },
  {
   "cell_type": "code",
   "execution_count": 34,
   "metadata": {},
   "outputs": [
    {
     "name": "stdout",
     "output_type": "stream",
     "text": [
      "[15003117.748996707]\n"
     ]
    }
   ],
   "source": [
    "print (my_features_model.predict(turicreate.SFrame(bill_gates)))"
   ]
  },
  {
   "cell_type": "code",
   "execution_count": null,
   "metadata": {},
   "outputs": [],
   "source": []
  }
 ],
 "metadata": {
  "kernelspec": {
   "display_name": "Python 3",
   "language": "python",
   "name": "python3"
  },
  "language_info": {
   "codemirror_mode": {
    "name": "ipython",
    "version": 3
   },
   "file_extension": ".py",
   "mimetype": "text/x-python",
   "name": "python",
   "nbconvert_exporter": "python",
   "pygments_lexer": "ipython3",
   "version": "3.5.2"
  }
 },
 "nbformat": 4,
 "nbformat_minor": 2
}
