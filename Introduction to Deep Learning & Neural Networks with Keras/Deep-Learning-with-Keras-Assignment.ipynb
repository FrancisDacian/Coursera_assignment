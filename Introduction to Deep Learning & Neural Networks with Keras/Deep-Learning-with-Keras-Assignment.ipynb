{
 "cells": [
  {
   "cell_type": "markdown",
   "metadata": {},
   "source": [
    "# Prepare the environment\n",
    "\n",
    "First, let's do some imports and download the data set"
   ]
  },
  {
   "cell_type": "code",
   "execution_count": 1,
   "metadata": {},
   "outputs": [
    {
     "name": "stderr",
     "output_type": "stream",
     "text": [
      "Using TensorFlow backend.\n"
     ]
    },
    {
     "data": {
      "text/html": [
       "<div>\n",
       "<style scoped>\n",
       "    .dataframe tbody tr th:only-of-type {\n",
       "        vertical-align: middle;\n",
       "    }\n",
       "\n",
       "    .dataframe tbody tr th {\n",
       "        vertical-align: top;\n",
       "    }\n",
       "\n",
       "    .dataframe thead th {\n",
       "        text-align: right;\n",
       "    }\n",
       "</style>\n",
       "<table border=\"1\" class=\"dataframe\">\n",
       "  <thead>\n",
       "    <tr style=\"text-align: right;\">\n",
       "      <th></th>\n",
       "      <th>Cement</th>\n",
       "      <th>Blast Furnace Slag</th>\n",
       "      <th>Fly Ash</th>\n",
       "      <th>Water</th>\n",
       "      <th>Superplasticizer</th>\n",
       "      <th>Coarse Aggregate</th>\n",
       "      <th>Fine Aggregate</th>\n",
       "      <th>Age</th>\n",
       "      <th>Strength</th>\n",
       "    </tr>\n",
       "  </thead>\n",
       "  <tbody>\n",
       "    <tr>\n",
       "      <td>0</td>\n",
       "      <td>540.0</td>\n",
       "      <td>0.0</td>\n",
       "      <td>0.0</td>\n",
       "      <td>162.0</td>\n",
       "      <td>2.5</td>\n",
       "      <td>1040.0</td>\n",
       "      <td>676.0</td>\n",
       "      <td>28</td>\n",
       "      <td>79.99</td>\n",
       "    </tr>\n",
       "    <tr>\n",
       "      <td>1</td>\n",
       "      <td>540.0</td>\n",
       "      <td>0.0</td>\n",
       "      <td>0.0</td>\n",
       "      <td>162.0</td>\n",
       "      <td>2.5</td>\n",
       "      <td>1055.0</td>\n",
       "      <td>676.0</td>\n",
       "      <td>28</td>\n",
       "      <td>61.89</td>\n",
       "    </tr>\n",
       "    <tr>\n",
       "      <td>2</td>\n",
       "      <td>332.5</td>\n",
       "      <td>142.5</td>\n",
       "      <td>0.0</td>\n",
       "      <td>228.0</td>\n",
       "      <td>0.0</td>\n",
       "      <td>932.0</td>\n",
       "      <td>594.0</td>\n",
       "      <td>270</td>\n",
       "      <td>40.27</td>\n",
       "    </tr>\n",
       "    <tr>\n",
       "      <td>3</td>\n",
       "      <td>332.5</td>\n",
       "      <td>142.5</td>\n",
       "      <td>0.0</td>\n",
       "      <td>228.0</td>\n",
       "      <td>0.0</td>\n",
       "      <td>932.0</td>\n",
       "      <td>594.0</td>\n",
       "      <td>365</td>\n",
       "      <td>41.05</td>\n",
       "    </tr>\n",
       "    <tr>\n",
       "      <td>4</td>\n",
       "      <td>198.6</td>\n",
       "      <td>132.4</td>\n",
       "      <td>0.0</td>\n",
       "      <td>192.0</td>\n",
       "      <td>0.0</td>\n",
       "      <td>978.4</td>\n",
       "      <td>825.5</td>\n",
       "      <td>360</td>\n",
       "      <td>44.30</td>\n",
       "    </tr>\n",
       "  </tbody>\n",
       "</table>\n",
       "</div>"
      ],
      "text/plain": [
       "   Cement  Blast Furnace Slag  Fly Ash  Water  Superplasticizer  \\\n",
       "0   540.0                 0.0      0.0  162.0               2.5   \n",
       "1   540.0                 0.0      0.0  162.0               2.5   \n",
       "2   332.5               142.5      0.0  228.0               0.0   \n",
       "3   332.5               142.5      0.0  228.0               0.0   \n",
       "4   198.6               132.4      0.0  192.0               0.0   \n",
       "\n",
       "   Coarse Aggregate  Fine Aggregate  Age  Strength  \n",
       "0            1040.0           676.0   28     79.99  \n",
       "1            1055.0           676.0   28     61.89  \n",
       "2             932.0           594.0  270     40.27  \n",
       "3             932.0           594.0  365     41.05  \n",
       "4             978.4           825.5  360     44.30  "
      ]
     },
     "execution_count": 1,
     "metadata": {},
     "output_type": "execute_result"
    }
   ],
   "source": [
    "import pandas as pd\n",
    "import numpy as np\n",
    "import keras\n",
    "\n",
    "from keras.models import Sequential\n",
    "from keras.layers import Dense\n",
    "\n",
    "# load the concrete_data dataset\n",
    "concrete_data = pd.read_csv('https://cocl.us/concrete_data')\n",
    "\n",
    "# verify that the data was loaded correctly\n",
    "concrete_data.head()"
   ]
  },
  {
   "cell_type": "code",
   "execution_count": 2,
   "metadata": {},
   "outputs": [],
   "source": [
    "# split the concrete_data set into predictors (inputs) and target (output)\n",
    "predictors = concrete_data.drop(columns=['Strength'])\n",
    "target = concrete_data['Strength']\n",
    "\n",
    "n_cols = predictors.shape[1]"
   ]
  },
  {
   "cell_type": "markdown",
   "metadata": {},
   "source": [
    "# Part A\n",
    "\n",
    "Use the Keras library to build a neural network with the following:\n",
    "\n",
    "- One hidden layer of 10 nodes, and a ReLU activation function\n",
    "- Use the adam optimizer and the mean squared error as the loss function.\n"
   ]
  },
  {
   "cell_type": "code",
   "execution_count": 3,
   "metadata": {},
   "outputs": [],
   "source": [
    "# Create the neural network in a function so we can use it multiple times in the\n",
    "# subsequent sections\n",
    "def regression_model():\n",
    "    model = Sequential()\n",
    "    model.add(Dense(10, activation='relu', input_shape=(n_cols,)))\n",
    "    model.add(Dense(1))\n",
    "    model.compile(optimizer='adam', loss='mean_squared_error')\n",
    "    return model\n",
    "\n",
    "model = regression_model()"
   ]
  },
  {
   "cell_type": "markdown",
   "metadata": {},
   "source": [
    "1. Randomly split the data into a training and test sets by holding 30% of the data for testing. You can use the train_test_split helper function from Scikit-learn."
   ]
  },
  {
   "cell_type": "code",
   "execution_count": 4,
   "metadata": {},
   "outputs": [
    {
     "data": {
      "text/plain": [
       "(721, 8)"
      ]
     },
     "execution_count": 4,
     "metadata": {},
     "output_type": "execute_result"
    }
   ],
   "source": [
    "from sklearn.model_selection import train_test_split\n",
    "\n",
    "predictors_train, predictors_test, target_train, target_test = train_test_split(predictors, target, \n",
    "                                                                                test_size=0.3, random_state=71)\n",
    "# let's have a look at the shape of the predictors set\n",
    "predictors_train.shape"
   ]
  },
  {
   "cell_type": "markdown",
   "metadata": {},
   "source": [
    "2. Train the model on the training data using 50 epochs."
   ]
  },
  {
   "cell_type": "code",
   "execution_count": 5,
   "metadata": {},
   "outputs": [
    {
     "name": "stdout",
     "output_type": "stream",
     "text": [
      "Epoch 1/50\n",
      "721/721 [==============================] - 0s 183us/step - loss: 45323.9777\n",
      "Epoch 2/50\n",
      "721/721 [==============================] - 0s 54us/step - loss: 9234.4499\n",
      "Epoch 3/50\n",
      "721/721 [==============================] - 0s 56us/step - loss: 1616.2058\n",
      "Epoch 4/50\n",
      "721/721 [==============================] - 0s 42us/step - loss: 1375.9216\n",
      "Epoch 5/50\n",
      "721/721 [==============================] - 0s 39us/step - loss: 1272.8245\n",
      "Epoch 6/50\n",
      "721/721 [==============================] - 0s 64us/step - loss: 1218.3697\n",
      "Epoch 7/50\n",
      "721/721 [==============================] - 0s 38us/step - loss: 1155.3482\n",
      "Epoch 8/50\n",
      "721/721 [==============================] - 0s 54us/step - loss: 1095.8140\n",
      "Epoch 9/50\n",
      "721/721 [==============================] - 0s 43us/step - loss: 1041.5060\n",
      "Epoch 10/50\n",
      "721/721 [==============================] - 0s 61us/step - loss: 982.3402\n",
      "Epoch 11/50\n",
      "721/721 [==============================] - 0s 41us/step - loss: 931.7262\n",
      "Epoch 12/50\n",
      "721/721 [==============================] - 0s 46us/step - loss: 880.6702\n",
      "Epoch 13/50\n",
      "721/721 [==============================] - 0s 58us/step - loss: 827.1332\n",
      "Epoch 14/50\n",
      "721/721 [==============================] - 0s 36us/step - loss: 784.5859\n",
      "Epoch 15/50\n",
      "721/721 [==============================] - 0s 38us/step - loss: 741.4622\n",
      "Epoch 16/50\n",
      "721/721 [==============================] - 0s 60us/step - loss: 700.7786\n",
      "Epoch 17/50\n",
      "721/721 [==============================] - 0s 62us/step - loss: 664.3667\n",
      "Epoch 18/50\n",
      "721/721 [==============================] - 0s 39us/step - loss: 628.4614\n",
      "Epoch 19/50\n",
      "721/721 [==============================] - 0s 41us/step - loss: 597.7383\n",
      "Epoch 20/50\n",
      "721/721 [==============================] - 0s 63us/step - loss: 567.6836\n",
      "Epoch 21/50\n",
      "721/721 [==============================] - 0s 38us/step - loss: 539.6706\n",
      "Epoch 22/50\n",
      "721/721 [==============================] - 0s 57us/step - loss: 514.2671\n",
      "Epoch 23/50\n",
      "721/721 [==============================] - 0s 37us/step - loss: 488.8236\n",
      "Epoch 24/50\n",
      "721/721 [==============================] - 0s 59us/step - loss: 466.6988\n",
      "Epoch 25/50\n",
      "721/721 [==============================] - 0s 90us/step - loss: 445.4572\n",
      "Epoch 26/50\n",
      "721/721 [==============================] - 0s 38us/step - loss: 424.5314\n",
      "Epoch 27/50\n",
      "721/721 [==============================] - 0s 91us/step - loss: 405.7028\n",
      "Epoch 28/50\n",
      "721/721 [==============================] - 0s 45us/step - loss: 387.4182\n",
      "Epoch 29/50\n",
      "721/721 [==============================] - 0s 70us/step - loss: 370.3049\n",
      "Epoch 30/50\n",
      "721/721 [==============================] - 0s 64us/step - loss: 354.5693\n",
      "Epoch 31/50\n",
      "721/721 [==============================] - 0s 39us/step - loss: 341.4141\n",
      "Epoch 32/50\n",
      "721/721 [==============================] - 0s 61us/step - loss: 329.0157\n",
      "Epoch 33/50\n",
      "721/721 [==============================] - 0s 55us/step - loss: 313.8009\n",
      "Epoch 34/50\n",
      "721/721 [==============================] - 0s 54us/step - loss: 298.7347\n",
      "Epoch 35/50\n",
      "721/721 [==============================] - 0s 57us/step - loss: 287.4924\n",
      "Epoch 36/50\n",
      "721/721 [==============================] - 0s 40us/step - loss: 276.6656\n",
      "Epoch 37/50\n",
      "721/721 [==============================] - 0s 76us/step - loss: 264.9239\n",
      "Epoch 38/50\n",
      "721/721 [==============================] - 0s 44us/step - loss: 255.4127\n",
      "Epoch 39/50\n",
      "721/721 [==============================] - 0s 38us/step - loss: 246.3752\n",
      "Epoch 40/50\n",
      "721/721 [==============================] - 0s 42us/step - loss: 236.7414\n",
      "Epoch 41/50\n",
      "721/721 [==============================] - 0s 56us/step - loss: 228.4155\n",
      "Epoch 42/50\n",
      "721/721 [==============================] - 0s 37us/step - loss: 220.7324\n",
      "Epoch 43/50\n",
      "721/721 [==============================] - 0s 56us/step - loss: 215.9893\n",
      "Epoch 44/50\n",
      "721/721 [==============================] - 0s 39us/step - loss: 210.2085\n",
      "Epoch 45/50\n",
      "721/721 [==============================] - 0s 59us/step - loss: 202.5082\n",
      "Epoch 46/50\n",
      "721/721 [==============================] - 0s 84us/step - loss: 195.7657\n",
      "Epoch 47/50\n",
      "721/721 [==============================] - 0s 48us/step - loss: 190.8937\n",
      "Epoch 48/50\n",
      "721/721 [==============================] - 0s 85us/step - loss: 185.6489\n",
      "Epoch 49/50\n",
      "721/721 [==============================] - 0s 52us/step - loss: 181.6582\n",
      "Epoch 50/50\n",
      "721/721 [==============================] - 0s 86us/step - loss: 177.0947\n"
     ]
    },
    {
     "data": {
      "text/plain": [
       "<keras.callbacks.callbacks.History at 0x1a33d10590>"
      ]
     },
     "execution_count": 5,
     "metadata": {},
     "output_type": "execute_result"
    }
   ],
   "source": [
    "model.fit(predictors_train, target_train, epochs=50)"
   ]
  },
  {
   "cell_type": "markdown",
   "metadata": {},
   "source": [
    "3. Evaluate the model on the test data and compute the mean squared error between the predicted concrete strength and the actual concrete strength. You can use the mean_squared_error function from Scikit-learn."
   ]
  },
  {
   "cell_type": "code",
   "execution_count": 6,
   "metadata": {},
   "outputs": [
    {
     "name": "stdout",
     "output_type": "stream",
     "text": [
      "Mean squared error on test data is 162.264\n"
     ]
    }
   ],
   "source": [
    "predictions_test = model.predict(predictors_test)\n",
    "from sklearn.metrics import mean_squared_error\n",
    "print('Mean squared error on test data is %.3f' % (mean_squared_error(target_test, predictions_test)))"
   ]
  },
  {
   "cell_type": "markdown",
   "metadata": {},
   "source": [
    "4. Repeat steps 1 - 3, 50 times, i.e., create a list of 50 mean squared errors.\n",
    "5. Report the mean and the standard deviation of the mean squared errors."
   ]
  },
  {
   "cell_type": "code",
   "execution_count": 7,
   "metadata": {},
   "outputs": [],
   "source": [
    "# Create a function that evaluates the model so we can use it to evaluate the models created in part A, B, C and D\n",
    "# the 'create_model_func' parameter is the function that is used to build the model. For part A, this is the\n",
    "# regression_model function defined above\n",
    "def evaluate_model(create_model_func, predictors, targets, epochs=50):\n",
    "    mean_squared_errors = []\n",
    "    for i in range(50):\n",
    "        # create the model. I wasn't 100% clear whether this should be inside the loop, but I _think_ that was the\n",
    "        # intent of the question. Otherwise, the average and stddev of the mean squared error is not that meaningful\n",
    "        model = create_model_func()\n",
    "        # 1. split the data in a train and test set\n",
    "        predictors_train, predictors_test, target_train, target_test = train_test_split(predictors, target, \n",
    "                                                                                    test_size=0.3, random_state=71)\n",
    "        # 2. train 50 epochs (suppress logging this time)\n",
    "        model.fit(predictors_train, target_train, epochs=epochs, verbose=0)\n",
    "        # 3. measure the mse and add this to the list\n",
    "        predictions_test = model.predict(predictors_test)\n",
    "        mse = mean_squared_error(target_test, predictions_test)\n",
    "        mean_squared_errors.append(mse)\n",
    "        print('.', end='') # output a dot so we can see that the function is still running\n",
    "    print(' Done!')\n",
    "    # return the mean and stddev of the mse list\n",
    "    return np.mean(mean_squared_errors), np.std(mean_squared_errors)"
   ]
  },
  {
   "cell_type": "code",
   "execution_count": 8,
   "metadata": {},
   "outputs": [
    {
     "name": "stdout",
     "output_type": "stream",
     "text": [
      ".................................................. Done!\n",
      "Mean squared errors for 50 regression models: mean = 363.231, std dev = 495.367\n"
     ]
    }
   ],
   "source": [
    "# Evaluate the model and print the mean and std dev of the mean squared errors. Note that we pass in \n",
    "# the regression_model _function_ here. This is used in the evaluate_model function to create a fresh\n",
    "# neural network in each loop\n",
    "mean_mse, std_mse = evaluate_model(regression_model, predictors, target)\n",
    "# Report the mean and stddev of the mean squared errors\n",
    "print(\"Mean squared errors for 50 regression models: mean = %.3f, std dev = %.3f\" % \n",
    "      (mean_mse, std_mse))"
   ]
  },
  {
   "cell_type": "markdown",
   "metadata": {},
   "source": [
    "# Part B - normalize the data\n",
    "\n",
    "Repeat Part A but use a normalized version of the data. Recall that one way to normalize the data is by subtracting the mean from the individual predictors and dividing by the standard deviation."
   ]
  },
  {
   "cell_type": "code",
   "execution_count": 9,
   "metadata": {},
   "outputs": [
    {
     "data": {
      "text/html": [
       "<div>\n",
       "<style scoped>\n",
       "    .dataframe tbody tr th:only-of-type {\n",
       "        vertical-align: middle;\n",
       "    }\n",
       "\n",
       "    .dataframe tbody tr th {\n",
       "        vertical-align: top;\n",
       "    }\n",
       "\n",
       "    .dataframe thead th {\n",
       "        text-align: right;\n",
       "    }\n",
       "</style>\n",
       "<table border=\"1\" class=\"dataframe\">\n",
       "  <thead>\n",
       "    <tr style=\"text-align: right;\">\n",
       "      <th></th>\n",
       "      <th>Cement</th>\n",
       "      <th>Blast Furnace Slag</th>\n",
       "      <th>Fly Ash</th>\n",
       "      <th>Water</th>\n",
       "      <th>Superplasticizer</th>\n",
       "      <th>Coarse Aggregate</th>\n",
       "      <th>Fine Aggregate</th>\n",
       "      <th>Age</th>\n",
       "    </tr>\n",
       "  </thead>\n",
       "  <tbody>\n",
       "    <tr>\n",
       "      <td>0</td>\n",
       "      <td>2.476712</td>\n",
       "      <td>-0.856472</td>\n",
       "      <td>-0.846733</td>\n",
       "      <td>-0.916319</td>\n",
       "      <td>-0.620147</td>\n",
       "      <td>0.862735</td>\n",
       "      <td>-1.217079</td>\n",
       "      <td>-0.279597</td>\n",
       "    </tr>\n",
       "    <tr>\n",
       "      <td>1</td>\n",
       "      <td>2.476712</td>\n",
       "      <td>-0.856472</td>\n",
       "      <td>-0.846733</td>\n",
       "      <td>-0.916319</td>\n",
       "      <td>-0.620147</td>\n",
       "      <td>1.055651</td>\n",
       "      <td>-1.217079</td>\n",
       "      <td>-0.279597</td>\n",
       "    </tr>\n",
       "    <tr>\n",
       "      <td>2</td>\n",
       "      <td>0.491187</td>\n",
       "      <td>0.795140</td>\n",
       "      <td>-0.846733</td>\n",
       "      <td>2.174405</td>\n",
       "      <td>-1.038638</td>\n",
       "      <td>-0.526262</td>\n",
       "      <td>-2.239829</td>\n",
       "      <td>3.551340</td>\n",
       "    </tr>\n",
       "    <tr>\n",
       "      <td>3</td>\n",
       "      <td>0.491187</td>\n",
       "      <td>0.795140</td>\n",
       "      <td>-0.846733</td>\n",
       "      <td>2.174405</td>\n",
       "      <td>-1.038638</td>\n",
       "      <td>-0.526262</td>\n",
       "      <td>-2.239829</td>\n",
       "      <td>5.055221</td>\n",
       "    </tr>\n",
       "    <tr>\n",
       "      <td>4</td>\n",
       "      <td>-0.790075</td>\n",
       "      <td>0.678079</td>\n",
       "      <td>-0.846733</td>\n",
       "      <td>0.488555</td>\n",
       "      <td>-1.038638</td>\n",
       "      <td>0.070492</td>\n",
       "      <td>0.647569</td>\n",
       "      <td>4.976069</td>\n",
       "    </tr>\n",
       "  </tbody>\n",
       "</table>\n",
       "</div>"
      ],
      "text/plain": [
       "     Cement  Blast Furnace Slag   Fly Ash     Water  Superplasticizer  \\\n",
       "0  2.476712           -0.856472 -0.846733 -0.916319         -0.620147   \n",
       "1  2.476712           -0.856472 -0.846733 -0.916319         -0.620147   \n",
       "2  0.491187            0.795140 -0.846733  2.174405         -1.038638   \n",
       "3  0.491187            0.795140 -0.846733  2.174405         -1.038638   \n",
       "4 -0.790075            0.678079 -0.846733  0.488555         -1.038638   \n",
       "\n",
       "   Coarse Aggregate  Fine Aggregate       Age  \n",
       "0          0.862735       -1.217079 -0.279597  \n",
       "1          1.055651       -1.217079 -0.279597  \n",
       "2         -0.526262       -2.239829  3.551340  \n",
       "3         -0.526262       -2.239829  5.055221  \n",
       "4          0.070492        0.647569  4.976069  "
      ]
     },
     "execution_count": 9,
     "metadata": {},
     "output_type": "execute_result"
    }
   ],
   "source": [
    "# Normalize the data\n",
    "predictors_norm = (predictors - predictors.mean()) / predictors.std()\n",
    "predictors_norm.head()"
   ]
  },
  {
   "cell_type": "code",
   "execution_count": 10,
   "metadata": {},
   "outputs": [
    {
     "name": "stdout",
     "output_type": "stream",
     "text": [
      ".................................................. Done!\n",
      "Mean squared errors for 50 regression models on normalized data: mean = 321.302, std dev = 89.120\n"
     ]
    }
   ],
   "source": [
    "mean_mse, std_mse = evaluate_model(regression_model, predictors_norm, target)\n",
    "# Report the mean and stddev of the mean squared errors\n",
    "print(\"Mean squared errors for 50 regression models on normalized data: mean = %.3f, std dev = %.3f\" % \n",
    "      (mean_mse, std_mse))"
   ]
  },
  {
   "cell_type": "markdown",
   "metadata": {},
   "source": [
    "**How does the mean of the mean squared errors compare to that from Step A?**\n",
    "\n",
    "The mean of the mean squared error has gone down a bit (~10%), but the std deviation has gone down significantly. This implies that when using normalized data, the performance on the test set is much less dependent on how the data happened to be (randomly) split into a training and a test data set."
   ]
  },
  {
   "cell_type": "markdown",
   "metadata": {},
   "source": [
    "# Part C - 100 epochs\n",
    "\n",
    "Repeat Part B **but use 100 epochs this time for training.**"
   ]
  },
  {
   "cell_type": "code",
   "execution_count": 11,
   "metadata": {},
   "outputs": [
    {
     "name": "stdout",
     "output_type": "stream",
     "text": [
      ".................................................. Done!\n",
      "Mean squared errors for 50 regression models on normalized data, trained 100 epochs: mean = 149.404, std dev = 8.126\n"
     ]
    }
   ],
   "source": [
    "mean_mse, std_mse = evaluate_model(regression_model, predictors_norm, target, epochs=100)\n",
    "# Report the mean and stddev of the mean squared errors\n",
    "print(\"Mean squared errors for 50 regression models on normalized data, trained 100 epochs: mean = %.3f, std dev = %.3f\" % \n",
    "      (mean_mse, std_mse))"
   ]
  },
  {
   "cell_type": "markdown",
   "metadata": {},
   "source": [
    "**How does the mean of the mean squared errors compare to that from Step B?**\n",
    "\n",
    "The mean squared error on the test set more than halved. Clearly, there was plenty of improvement to be gained with additional training. The standard deviation has gone down a lot as well."
   ]
  },
  {
   "cell_type": "markdown",
   "metadata": {},
   "source": [
    "# Part D - increate the number of hidden layers\n",
    "\n",
    "Repeat part B but use a neural network with the following instead:\n",
    "\n",
    "- Three hidden layers, each of 10 nodes and ReLU activation function."
   ]
  },
  {
   "cell_type": "code",
   "execution_count": 12,
   "metadata": {},
   "outputs": [
    {
     "name": "stdout",
     "output_type": "stream",
     "text": [
      ".................................................. Done!\n",
      "Mean squared errors for 50 regression models with 3 hidden layers: mean = 123.672, std dev = 12.717\n"
     ]
    }
   ],
   "source": [
    "def regression_model_D():\n",
    "    model = Sequential()\n",
    "    model.add(Dense(10, activation='relu', input_shape=(n_cols,)))\n",
    "    model.add(Dense(10, activation='relu'))\n",
    "    model.add(Dense(10, activation='relu'))\n",
    "    model.add(Dense(1))\n",
    "    model.compile(optimizer='adam', loss='mean_squared_error')\n",
    "    return model\n",
    "\n",
    "# Evaluate model D\n",
    "mean_mse, std_mse = evaluate_model(regression_model_D, predictors_norm, target)\n",
    "# Report the mean and stddev of the mean squared errors\n",
    "print(\"Mean squared errors for 50 regression models with 3 hidden layers: mean = %.3f, std dev = %.3f\" % \n",
    "      (mean_mse, std_mse))"
   ]
  },
  {
   "cell_type": "markdown",
   "metadata": {},
   "source": [
    "**How does the mean of the mean squared errors compare to that from Step B?**\n",
    "\n",
    "The mean of the mean squared errors is a lot better than in part B (123 vs 321). This shows that the network with multiple hidden layers was significantly better at learning to predict the 'Strength' feature than the single layer network."
   ]
  },
  {
   "cell_type": "code",
   "execution_count": null,
   "metadata": {},
   "outputs": [],
   "source": []
  }
 ],
 "metadata": {
  "kernelspec": {
   "display_name": "Python 3",
   "language": "python",
   "name": "python3"
  },
  "language_info": {
   "codemirror_mode": {
    "name": "ipython",
    "version": 3
   },
   "file_extension": ".py",
   "mimetype": "text/x-python",
   "name": "python",
   "nbconvert_exporter": "python",
   "pygments_lexer": "ipython3",
   "version": "3.7.4"
  }
 },
 "nbformat": 4,
 "nbformat_minor": 2
}
